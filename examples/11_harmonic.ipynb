{
 "cells": [
  {
   "cell_type": "code",
   "execution_count": 1,
   "metadata": {
    "collapsed": true
   },
   "outputs": [],
   "source": [
    "using Plots;\n",
    "gadfly();"
   ]
  },
  {
   "cell_type": "code",
   "execution_count": 2,
   "metadata": {
    "collapsed": false
   },
   "outputs": [
    {
     "name": "stderr",
     "output_type": "stream",
     "text": [
      "WARNING: replacing module globals\n"
     ]
    }
   ],
   "source": [
    "include(\"../fdtd/update.jl\");\n",
    "include(\"../fdtd/sources.jl\");\n",
    "include(\"../fdtd/boundaries.jl\");\n",
    "using update;\n",
    "using sources;"
   ]
  },
  {
   "cell_type": "code",
   "execution_count": 31,
   "metadata": {
    "collapsed": false
   },
   "outputs": [],
   "source": [
    "#Global parameters\n",
    "size = 200;\n",
    "endTime = 1200;\n",
    "num_snaps = 300;\n",
    "snap_step = div(endTime, num_snaps);\n",
    "\n",
    "n1 = 4\n",
    "n2 = sqrt(n1)\n",
    "\n",
    "eps1 = n1^2;\n",
    "eps2 = n2^2;\n",
    "\n",
    "wavelength = 80\n",
    "#Grid\n",
    "\n",
    "# Magnetic\n",
    "hy = zeros(size-1);\n",
    "mu = ones(size-1);\n",
    "\n",
    "chyh = ones(size);\n",
    "chye = ones(size);\n",
    "\n",
    "\n",
    "# Electric\n",
    "ez = zeros(size);\n",
    "eps = ones(size) * eps1;\n",
    "\n",
    "cezh = ones(size);\n",
    "ceze = ones(size);\n",
    "\n",
    "\n",
    "#for i in 110:170\n",
    "#    eps[i] = eps1;\n",
    "#end\n",
    "for i in 100:100+(div(wavelength, 2))\n",
    "    eps[i] = eps2;\n",
    "end\n",
    "\n",
    "boundaries.setup_first_order_abc!(eps, mu, size, true)\n",
    "boundaries.setup_first_order_abc!(eps, mu, 1, false)\n",
    "\n",
    "# output params\n",
    "ez_snapshot = Array{Any}(num_snaps);\n",
    "hy_snapshot = Array{Any}(num_snaps);"
   ]
  },
  {
   "cell_type": "code",
   "execution_count": 32,
   "metadata": {
    "collapsed": false
   },
   "outputs": [],
   "source": [
    "# Time steps\n",
    "\n",
    "for time in 1:endTime\n",
    "    # Incident\n",
    "    delay = 30.\n",
    "    width = 100.\n",
    " \n",
    "    ez_inc = sin(2*pi/wavelength * time);\n",
    "    hy_inc = sin(2*pi/wavelength * (time - 0.5 - 0.5));\n",
    "    \n",
    "    #\n",
    "    # Magnetic\n",
    "    #\n",
    "        \n",
    "    # Interior update\n",
    "    update.update_magnetic_field!(ez, hy, mu, chyh, chye);    \n",
    "    \n",
    "    # TFSF\n",
    "    hy[49] -= hy_inc / globals.imp0;\n",
    "    \n",
    "    #\n",
    "    # Electric\n",
    "    #\n",
    "       \n",
    "    # Interior update\n",
    "    update.update_electric_field!(ez, hy, eps, cezh, ceze);\n",
    "    \n",
    "    # ABC\n",
    "    boundaries.first_order_diff_abc!(ez, 1, false)\n",
    "    boundaries.first_order_diff_abc!(ez, size, true)\n",
    "    \n",
    "    # TFSF\n",
    "    ez[50] += ez_inc / sqrt( eps[50] * mu[50])\n",
    " \n",
    "    # Snapshots for animation\n",
    "    if mod(time, snap_step) == 0\n",
    "        ez_snapshot[div(time,snap_step)] = (time, copy(ez))\n",
    "        hy_snapshot[div(time,snap_step)] = (time, copy(hy).*globals.imp0)        \n",
    "    end\n",
    "    \n",
    "end"
   ]
  },
  {
   "cell_type": "code",
   "execution_count": 35,
   "metadata": {
    "collapsed": false
   },
   "outputs": [
    {
     "name": "stderr",
     "output_type": "stream",
     "text": [
      "INFO: Saved animation to /media/storage/Documents/Github/1d-fdtd/examples/11_harmonic.gif\n"
     ]
    },
    {
     "data": {
      "text/html": [
       "<img src=\"11_harmonic.gif?0.7955171922538211>\" />"
      ],
      "text/plain": [
       "Plots.AnimatedGif(\"/media/storage/Documents/Github/1d-fdtd/examples/11_harmonic.gif\")"
      ]
     },
     "execution_count": 35,
     "metadata": {},
     "output_type": "execute_result"
    }
   ],
   "source": [
    "anim = Animation()\n",
    "\n",
    "for i = 1:num_snaps\n",
    "    p = plot(1:size, ez_snapshot[i][2], lab=\"Ez\")\n",
    "    # plot!(1:size-1, hy_snapshot[i][2], lab=\"Hy*imp0\")\n",
    "    \n",
    "    time = ez_snapshot[i][1]\n",
    "    plot!(ann=[(150, 1.5, \"time =$time\")])\n",
    "    plot!(ann=[(0, 1.1, \"Mur ABC\")])\n",
    "    \n",
    "    plot!(ann=[(75, 1.3, \"Eps = $eps1\")])\n",
    "    plot!(ann=[(102, 1.1, \"Eps =\\n= $eps2\")])\n",
    "    plot!(ann=[(125, 1.3, \"Eps = $eps1\")])\n",
    "    plot!([100, 100], [-2, 2])\n",
    "    plot!([120, 120], [-2, 2])\n",
    "    \n",
    "    plot!(ann=[(175, 1.1, \"Mur ABC\")])\n",
    "    \n",
    "    plot!(xlims=(1, 200), ylims=(-2, 2))\n",
    "    frame(anim, p)\n",
    "end\n",
    "gif(anim, \"./11_harmonic.gif\", fps=15)"
   ]
  },
  {
   "cell_type": "code",
   "execution_count": null,
   "metadata": {
    "collapsed": true
   },
   "outputs": [],
   "source": []
  }
 ],
 "metadata": {
  "kernelspec": {
   "display_name": "Julia 0.4.2",
   "language": "julia",
   "name": "julia-0.4"
  },
  "language_info": {
   "file_extension": ".jl",
   "mimetype": "application/julia",
   "name": "julia",
   "version": "0.4.2"
  }
 },
 "nbformat": 4,
 "nbformat_minor": 0
}
