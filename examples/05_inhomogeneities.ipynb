{
 "cells": [
  {
   "cell_type": "code",
   "execution_count": 1,
   "metadata": {
    "collapsed": true
   },
   "outputs": [],
   "source": [
    "using Plots;\n",
    "gadfly();"
   ]
  },
  {
   "cell_type": "code",
   "execution_count": 2,
   "metadata": {
    "collapsed": false
   },
   "outputs": [
    {
     "name": "stderr",
     "output_type": "stream",
     "text": [
      "WARNING: replacing module globals\n"
     ]
    }
   ],
   "source": [
    "include(\"../fdtd/update.jl\");\n",
    "include(\"../fdtd/sources.jl\");\n",
    "include(\"../fdtd/boundaries.jl\");\n",
    "using update;\n",
    "using sources;"
   ]
  },
  {
   "cell_type": "code",
   "execution_count": 9,
   "metadata": {
    "collapsed": true
   },
   "outputs": [],
   "source": [
    "#Global parameters\n",
    "size = 200;\n",
    "endTime = 800;\n",
    "num_snaps = 200;\n",
    "snap_step = div(endTime, num_snaps);\n",
    "#Grid\n",
    "hy = zeros(size-1);\n",
    "mu = ones(size-1);\n",
    "\n",
    "ez = zeros(size);\n",
    "eps = ones(size);\n",
    "\n",
    "for i in 100:size\n",
    "    eps[i] = 9\n",
    "end\n",
    "\n",
    "# output params\n",
    "ez_snapshot = Array{Any}(num_snaps);\n",
    "hy_snapshot = Array{Any}(num_snaps);"
   ]
  },
  {
   "cell_type": "code",
   "execution_count": 10,
   "metadata": {
    "collapsed": false
   },
   "outputs": [],
   "source": [
    "# Time steps\n",
    "\n",
    "for time in 1:endTime\n",
    "    # Incident\n",
    "    # ez_inc, hy_inc = sources.gaussian_source(50, time);\n",
    "    delay = 150.\n",
    "    width = 250.\n",
    "    \n",
    "    ez_inc = exp(-(time + 0.5 - (-0.5) - delay) * (time + 0.5 - (-0.5) - delay) / width);\n",
    "    hy_inc = exp(-(time - delay) * (time - delay) / width) / globals.imp0;\n",
    "    \n",
    "    #\n",
    "    # Magnetic\n",
    "    #\n",
    "        \n",
    "    # Interior update\n",
    "    update.update_magnetic_field!(ez, hy, mu);    \n",
    "    \n",
    "    # TFSF\n",
    "    hy[49] -= hy_inc \n",
    "    \n",
    "    #\n",
    "    # Electric\n",
    "    #\n",
    "    \n",
    "    # ABC\n",
    "    boundaries.trivial_abc!(ez, size);\n",
    "    boundaries.trivial_abc!(ez, 1, false);    \n",
    "    \n",
    "    # Interior update\n",
    "    update.update_electric_field!(ez, hy, eps);\n",
    "    \n",
    "    # TFSF\n",
    "    ez[50] += ez_inc \n",
    " \n",
    "    # Snapshots for animation\n",
    "    if mod(time, snap_step) == 0\n",
    "        ez_snapshot[div(time,snap_step)] = (time, copy(ez))\n",
    "        hy_snapshot[div(time,snap_step)] = (time, copy(hy).*globals.imp0)        \n",
    "    end\n",
    "    \n",
    "end"
   ]
  },
  {
   "cell_type": "code",
   "execution_count": 11,
   "metadata": {
    "collapsed": false
   },
   "outputs": [
    {
     "name": "stderr",
     "output_type": "stream",
     "text": [
      "INFO: Saved animation to /media/storage/Documents/Github/1d-fdtd/examples/05_inhomogeneity.gif\n"
     ]
    },
    {
     "data": {
      "text/html": [
       "<img src=\"05_inhomogeneity.gif?0.23346014012222405>\" />"
      ],
      "text/plain": [
       "Plots.AnimatedGif(\"/media/storage/Documents/Github/1d-fdtd/examples/05_inhomogeneity.gif\")"
      ]
     },
     "execution_count": 11,
     "metadata": {},
     "output_type": "execute_result"
    }
   ],
   "source": [
    "anim = Animation()\n",
    "\n",
    "for i = 1:num_snaps\n",
    "    p = plot(1:size, ez_snapshot[i][2], lab=\"Ez\")\n",
    "    plot!(1:size-1, hy_snapshot[i][2], lab=\"Hy*imp0\")\n",
    "    \n",
    "    time = ez_snapshot[i][1]\n",
    "    plot!(ann=[(150, 1.5, \"time =$time\")])\n",
    "    plot!(ann=[(0, 1.1, \"ABC\")])\n",
    "    plot!(ann=[(180, 1.1, \"ABC\")])\n",
    "    \n",
    "    plot!(ann=[(80, 1.2, \"Eps = 1\")])\n",
    "    plot!(ann=[(100, 1.1, \"Eps = 9\")])    \n",
    "    plot!([100, 100], [-2, 2])\n",
    "    \n",
    "    plot!(xlims=(1, 200), ylims=(-2, 2))\n",
    "    frame(anim, p)\n",
    "end\n",
    "gif(anim, \"./05_inhomogeneity.gif\", fps=15)"
   ]
  },
  {
   "cell_type": "code",
   "execution_count": null,
   "metadata": {
    "collapsed": true
   },
   "outputs": [],
   "source": []
  }
 ],
 "metadata": {
  "kernelspec": {
   "display_name": "Julia 0.4.5",
   "language": "julia",
   "name": "julia-0.4"
  },
  "language_info": {
   "file_extension": ".jl",
   "mimetype": "application/julia",
   "name": "julia",
   "version": "0.4.5"
  }
 },
 "nbformat": 4,
 "nbformat_minor": 0
}
