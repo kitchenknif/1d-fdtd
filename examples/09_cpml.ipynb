{
 "cells": [
  {
   "cell_type": "code",
   "execution_count": 1,
   "metadata": {
    "collapsed": true
   },
   "outputs": [],
   "source": [
    "using Plots;\n",
    "gadfly();"
   ]
  },
  {
   "cell_type": "code",
   "execution_count": 2,
   "metadata": {
    "collapsed": false
   },
   "outputs": [
    {
     "name": "stderr",
     "output_type": "stream",
     "text": [
      "WARNING: replacing module globals\n"
     ]
    }
   ],
   "source": [
    "include(\"../fdtd/update.jl\");\n",
    "include(\"../fdtd/sources.jl\");\n",
    "include(\"../fdtd/boundaries.jl\");\n",
    "using update;\n",
    "using sources;"
   ]
  },
  {
   "cell_type": "code",
   "execution_count": 31,
   "metadata": {
    "collapsed": false
   },
   "outputs": [],
   "source": [
    "#Global parameters\n",
    "size = 200;\n",
    "endTime = 500;\n",
    "num_snaps = 250;\n",
    "snap_step = div(endTime, num_snaps);\n",
    "\n",
    "eps1 = 9;\n",
    "eps0 = 1;\n",
    "\n",
    "#Grid\n",
    "\n",
    "# Magnetic\n",
    "hy = zeros(size);\n",
    "mu = ones(size);\n",
    "\n",
    "chyh = ones(size);\n",
    "chye = ones(size);\n",
    "\n",
    "# Electric\n",
    "ez = zeros(size);\n",
    "eps = ones(size);\n",
    "\n",
    "cezh = ones(size);\n",
    "ceze = ones(size);\n",
    "\n",
    "\n",
    "for i in 1:99\n",
    "    eps[i] = eps0;\n",
    "end\n",
    "for i in 100:size\n",
    "    eps[i] = eps1;\n",
    "end\n",
    "\n",
    "# output params\n",
    "ez_snapshot = Array{Any}(num_snaps);\n",
    "hy_snapshot = Array{Any}(num_snaps);"
   ]
  },
  {
   "cell_type": "code",
   "execution_count": 32,
   "metadata": {
    "collapsed": false
   },
   "outputs": [],
   "source": [
    "#\n",
    "# setup CPML\n",
    "#\n",
    "\n",
    "# constants\n",
    "dx = 1.0;\n",
    "R0 = 1e-5;\n",
    "#m = 2.85;\n",
    "m = 4;\n",
    "pml_width = 40.0;\n",
    "\n",
    "# coeffs\n",
    "sigma_max = -(m+1)*log(R0)/2/globals.imp0/(pml_width*dx)\n",
    "sigma_x = zeros(size);\n",
    "sigma_m_x = zeros(size);\n",
    "\n",
    "for i in 1:int(pml_width)\n",
    "    sigma_x[i] = sigma_max * real(Complex(((pml_width-i-0.5)/pml_width))^m)\n",
    "    sigma_m_x[i] = sigma_max * real(Complex(((pml_width-i)/pml_width))^m)\n",
    "    \n",
    "    sigma_x[size-(i-1)] = sigma_max * real(Complex(((pml_width-i-0.5)/pml_width))^m)  \n",
    "    sigma_m_x[size-(i-1)] = sigma_max * real(Complex(((pml_width-i)/pml_width))^m)\n",
    "end\n",
    "\n",
    "aex = exp(-sigma_x .* globals.imp0)-1\n",
    "bex = exp(-sigma_x .* globals.imp0)\n",
    "\n",
    "ahx = exp(-sigma_m_x .* globals.imp0)-1\n",
    "bhx = exp(-sigma_m_x .* globals.imp0)\n",
    "\n",
    "# arrays\n",
    "p_hy = zeros(size);\n",
    "p_ez = zeros(size);"
   ]
  },
  {
   "cell_type": "code",
   "execution_count": 33,
   "metadata": {
    "collapsed": false
   },
   "outputs": [],
   "source": [
    "# Time steps\n",
    "\n",
    "for time in 1:endTime\n",
    "    # Incident\n",
    "    # ez_inc, hy_inc = sources.gaussian_source(50, time);\n",
    "    delay = 30.\n",
    "    width = 100.\n",
    "    \n",
    "    ez_inc = exp(-(time + 0.5 - (-0.5) - delay) * (time + 0.5 - (-0.5) - delay) / width);\n",
    "    hy_inc = exp(-(time - delay) * (time - delay) / width);\n",
    "    \n",
    "    #\n",
    "    # CPML\n",
    "    #\n",
    "    for i in 1:size-1\n",
    "        p_hy[i] = bhx[i]*p_hy[i] + ahx[i]*(ez[i+1] - ez[i])\n",
    "    end\n",
    "    for i in 2:size\n",
    "        p_ez[i] = bex[i]*p_ez[i] + aex[i]*(hy[i] - hy[i-1])\n",
    "    end\n",
    "    \n",
    "    #\n",
    "    # Magnetic\n",
    "    #\n",
    "        \n",
    "    # Interior update\n",
    "    for i = 1:size-1\n",
    "        hy[i] = chyh[i] * hy[i] + chye[i] * (ez[i+1] - ez[i]) / globals.imp0 / mu[i]\n",
    "    end\n",
    "    \n",
    "    # TFSF\n",
    "    hy[49] -= hy_inc / globals.imp0 / mu[49]\n",
    "    \n",
    "    # CPML\n",
    "    for i in 1:size-1\n",
    "        hy[i] += p_hy[i]/globals.imp0/mu[i]\n",
    "    end\n",
    "\n",
    "    #\n",
    "    # Electric\n",
    "    #\n",
    "       \n",
    "    # Interior update\n",
    "    for i = 2:size\n",
    "        ez[i] = ceze[i] * ez[i] + cezh[i] * (hy[i] - hy[i-1]) * globals.imp0 / eps[i]\n",
    "    end\n",
    "    \n",
    "    # TFSF\n",
    "    ez[50] += ez_inc / eps[50]\n",
    " \n",
    "    # CPML\n",
    "    for i in 2:size\n",
    "        ez[i] += p_ez[i]*globals.imp0/eps[i]\n",
    "    end    \n",
    "\n",
    "    #\n",
    "    # Snapshots for animation\n",
    "    #\n",
    "    if mod(time, snap_step) == 0\n",
    "        ez_snapshot[div(time,snap_step)] = (time, copy(ez))\n",
    "        hy_snapshot[div(time,snap_step)] = (time, copy(hy) .* globals.imp0)        \n",
    "    end\n",
    "    \n",
    "end"
   ]
  },
  {
   "cell_type": "code",
   "execution_count": 34,
   "metadata": {
    "collapsed": false
   },
   "outputs": [
    {
     "name": "stderr",
     "output_type": "stream",
     "text": [
      "INFO: Saved animation to /media/storage/Documents/Github/1d-fdtd/examples/09_pml.gif\n"
     ]
    },
    {
     "data": {
      "text/html": [
       "<img src=\"09_pml.gif?0.06710953998929492>\" />"
      ],
      "text/plain": [
       "Plots.AnimatedGif(\"/media/storage/Documents/Github/1d-fdtd/examples/09_pml.gif\")"
      ]
     },
     "execution_count": 34,
     "metadata": {},
     "output_type": "execute_result"
    }
   ],
   "source": [
    "anim = Animation()\n",
    "\n",
    "for i = 1:num_snaps\n",
    "    p = plot(1:size, ez_snapshot[i][2], lab=\"Ez\")\n",
    "    plot!(1:size, hy_snapshot[i][2], lab=\"Hy*imp0\")\n",
    "    \n",
    "    time = ez_snapshot[i][1]\n",
    "    plot!(ann=[(150, 1.5, \"time =$time\")])\n",
    "    plot!(ann=[(0, 1.1, \"CPML\")])\n",
    "    \n",
    "    plot!(ann=[(80, 1.2, \"Eps = 1\")])\n",
    "    plot!(ann=[(101, 1.1, \"Eps = 9\")])    \n",
    "    plot!([100, 100], [-2, 2])\n",
    "    \n",
    "    plot!(ann=[(180, 1.1, \"CPML\")])\n",
    "    \n",
    "    plot!(xlims=(1, 200), ylims=(-2, 2))\n",
    "    frame(anim, p)\n",
    "end\n",
    "gif(anim, \"./09_pml.gif\", fps=15)"
   ]
  },
  {
   "cell_type": "code",
   "execution_count": null,
   "metadata": {
    "collapsed": true
   },
   "outputs": [],
   "source": []
  }
 ],
 "metadata": {
  "kernelspec": {
   "display_name": "Julia 0.4.2",
   "language": "julia",
   "name": "julia-0.4"
  },
  "language_info": {
   "file_extension": ".jl",
   "mimetype": "application/julia",
   "name": "julia",
   "version": "0.4.2"
  }
 },
 "nbformat": 4,
 "nbformat_minor": 0
}
