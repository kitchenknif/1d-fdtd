{
 "cells": [
  {
   "cell_type": "code",
   "execution_count": 7,
   "metadata": {
    "collapsed": true
   },
   "outputs": [],
   "source": [
    "using Plots;\n",
    "gadfly();"
   ]
  },
  {
   "cell_type": "code",
   "execution_count": 8,
   "metadata": {
    "collapsed": false
   },
   "outputs": [
    {
     "name": "stderr",
     "output_type": "stream",
     "text": [
      "WARNING: replacing module globals\n",
      "WARNING: replacing module update\n",
      "WARNING: replacing module sources\n",
      "WARNING: replacing module boundaries\n"
     ]
    }
   ],
   "source": [
    "include(\"../fdtd/update.jl\");\n",
    "include(\"../fdtd/sources.jl\");\n",
    "include(\"../fdtd/boundaries.jl\");\n",
    "using update;\n",
    "using sources;"
   ]
  },
  {
   "cell_type": "code",
   "execution_count": 9,
   "metadata": {
    "collapsed": true
   },
   "outputs": [],
   "source": [
    "#Global parameters\n",
    "size = 200\n",
    "endTime = 700\n",
    "num_snaps = 350\n",
    "snap_step = div(endTime, num_snaps)\n",
    "#Grid\n",
    "hy = zeros(size);\n",
    "ez = zeros(size);\n",
    "# output params\n",
    "ez_snapshot = Array{Any}(num_snaps);\n",
    "hy_snapshot = Array{Any}(num_snaps);\n",
    "\n",
    "fieldsum = 1;\n",
    "minsumtime = 1;\n",
    "minfieldsnap = zeros(size);"
   ]
  },
  {
   "cell_type": "code",
   "execution_count": 10,
   "metadata": {
    "collapsed": false
   },
   "outputs": [
    {
     "name": "stdout",
     "output_type": "stream",
     "text": [
      "400\n",
      "1.2182481907510104e-62"
     ]
    }
   ],
   "source": [
    "#Time steps\n",
    "\n",
    "for time in 1:endTime\n",
    "    #Field update equations\n",
    "    \n",
    "    update.update_magnetic_field!(ez, hy)\n",
    "    update.update_electric_field!(ez, hy)\n",
    "    # Source at center\n",
    "    sources.additive_gaussian_source!(ez, div(length(ez),2), time)\n",
    "\n",
    "    #Boundaries\n",
    "    boundaries.trivial_abc!(ez, hy, 200)\n",
    "    boundaries.pec_boundary!(ez, 1)\n",
    "    \n",
    "    #Catch minimum E-Field\n",
    "    if time > 50\n",
    "        if fieldsum > sum(ez.^2)\n",
    "            minsumtime = time\n",
    "            fieldsum = sum(ez.^2)\n",
    "            minfieldsnap = copy(ez)\n",
    "        end\n",
    "    end\n",
    "    \n",
    "    #Snapshots for animation\n",
    "    if mod(time, snap_step) == 0\n",
    "        ez_snapshot[div(time,snap_step)] = (time, copy(ez))\n",
    "        hy_snapshot[div(time,snap_step)] = (time, copy(hy).*globals.imp0)        \n",
    "    end\n",
    "    \n",
    "end\n",
    "print(minsumtime, '\\n')\n",
    "print(fieldsum)"
   ]
  },
  {
   "cell_type": "code",
   "execution_count": 13,
   "metadata": {
    "collapsed": false
   },
   "outputs": [
    {
     "name": "stderr",
     "output_type": "stream",
     "text": [
      "INFO: Saved animation to /media/storage/Documents/Github/1d-fdtd/examples/PEC-ABC.gif\n"
     ]
    },
    {
     "data": {
      "text/html": [
       "<img src=\"PEC-ABC.gif?0.22846329795182196>\" />"
      ],
      "text/plain": [
       "Plots.AnimatedGif(\"/media/storage/Documents/Github/1d-fdtd/examples/PEC-ABC.gif\")"
      ]
     },
     "execution_count": 13,
     "metadata": {},
     "output_type": "execute_result"
    }
   ],
   "source": [
    "anim = Animation()\n",
    "\n",
    "for i = 1:num_snaps\n",
    "    p = plot(1:size, ez_snapshot[i][2], lab=\"Ez\")\n",
    "    plot!(1:size, hy_snapshot[i][2], lab=\"Hy*imp0\")\n",
    "    \n",
    "    time = ez_snapshot[i][1]\n",
    "    plot!(ann=[(150, 1.5, \"time =$time\")])\n",
    "    plot!(ann=[(0, 1.1, \"PEC\")])\n",
    "    plot!(ann=[(180, 1.1, \"ABC\")])    \n",
    "    plot!(xlims=(1, 200), ylims=(-2, 2))\n",
    "    frame(anim, p)\n",
    "end\n",
    "gif(anim, \"./PEC-ABC.gif\", fps=15)"
   ]
  },
  {
   "cell_type": "code",
   "execution_count": null,
   "metadata": {
    "collapsed": true
   },
   "outputs": [],
   "source": []
  }
 ],
 "metadata": {
  "kernelspec": {
   "display_name": "Julia 0.4.2",
   "language": "julia",
   "name": "julia-0.4"
  },
  "language_info": {
   "file_extension": ".jl",
   "mimetype": "application/julia",
   "name": "julia",
   "version": "0.4.2"
  }
 },
 "nbformat": 4,
 "nbformat_minor": 0
}
