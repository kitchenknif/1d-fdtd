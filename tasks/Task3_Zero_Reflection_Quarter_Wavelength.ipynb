{
 "cells": [
  {
   "cell_type": "code",
   "execution_count": 1,
   "metadata": {
    "collapsed": false
   },
   "outputs": [],
   "source": [
    "using Plots;\n",
    "gadfly();"
   ]
  },
  {
   "cell_type": "code",
   "execution_count": 2,
   "metadata": {
    "collapsed": false
   },
   "outputs": [
    {
     "name": "stderr",
     "output_type": "stream",
     "text": [
      "WARNING: replacing module globals\n"
     ]
    }
   ],
   "source": [
    "include(\"../fdtd/update.jl\");\n",
    "include(\"../fdtd/sources.jl\");\n",
    "include(\"../fdtd/boundaries.jl\");\n",
    "using update;\n",
    "using sources;"
   ]
  },
  {
   "cell_type": "code",
   "execution_count": 3,
   "metadata": {
    "collapsed": false
   },
   "outputs": [
    {
     "name": "stderr",
     "output_type": "stream",
     "text": [
      "WARNING: Indexing with non-Integer Reals is deprecated.  It may be that your index arose from an integer division of the form i/j, in which case you should consider using i÷j or div(i,j) instead.\n",
      " in depwarn at deprecated.jl:73\n",
      " in to_index at deprecated.jl:447\n",
      " in setindex! at array.jl:313\n",
      " [inlined code] from In[3]:46\n",
      " in anonymous at no file:0\n",
      " in include_string at loading.jl:282\n",
      " in execute_request_0x535c5df2 at /home/pdmitriev/.julia/v0.4/IJulia/src/execute_request.jl:182\n",
      " in eventloop at /home/pdmitriev/.julia/v0.4/IJulia/src/IJulia.jl:142\n",
      " in anonymous at task.jl:447\n",
      "while loading In[3], in expression starting on line 45\n",
      "WARNING: Indexing with non-Integer Reals is deprecated.  It may be that your index arose from an integer division of the form i/j, in which case you should consider using i÷j or div(i,j) instead.\n",
      " in depwarn at deprecated.jl:73\n",
      " in to_index at deprecated.jl:447\n",
      " in setindex! at array.jl:313\n",
      " [inlined code] from In[3]:49\n",
      " in anonymous at no file:0\n",
      " in include_string at loading.jl:282\n",
      " in execute_request_0x535c5df2 at /home/pdmitriev/.julia/v0.4/IJulia/src/execute_request.jl:182\n",
      " in eventloop at /home/pdmitriev/.julia/v0.4/IJulia/src/IJulia.jl:142\n",
      " in anonymous at task.jl:447\n",
      "while loading In[3], in expression starting on line 48\n"
     ]
    }
   ],
   "source": [
    "#Global parameters\n",
    "size = 1000;\n",
    "endTime = 10000;\n",
    "num_snaps = 200;\n",
    "snap_step = div(endTime, num_snaps);\n",
    "\n",
    "# Incident\n",
    "inc_pos = 200;\n",
    "\n",
    "# Material\n",
    "n1 = 1;\n",
    "n3 = 4;\n",
    "n2 = sqrt(n3*n1);\n",
    "\n",
    "eps1 = n1^2;\n",
    "eps2 = n2^2;\n",
    "eps3 = n3^2;\n",
    "\n",
    "wavelength = 800\n",
    "q_wavelength = div(wavelength / n2, 4)\n",
    "#Grid\n",
    "\n",
    "# Magnetic\n",
    "hy = zeros(size-1);\n",
    "hy_0 = zeros(size-1);\n",
    "mu = ones(size-1);\n",
    "\n",
    "chyh = ones(size);\n",
    "chye = ones(size);\n",
    "\n",
    "\n",
    "# Electric\n",
    "ez = zeros(size);\n",
    "ez_0 = zeros(size);\n",
    "eps = ones(size) * eps1;\n",
    "eps_0 = ones(size) * eps1;\n",
    "\n",
    "cezh = ones(size);\n",
    "ceze = ones(size);\n",
    "\n",
    "\n",
    "#for i in 110:170\n",
    "#    eps[i] = eps1;\n",
    "#end\n",
    "for i in div(size, 2):div(size, 2)+(q_wavelength)\n",
    "    eps[i] = eps2;\n",
    "end\n",
    "for i in div(size, 2)+(q_wavelength):size\n",
    "    eps[i] = eps3;\n",
    "end\n",
    "\n",
    "\n",
    "rightBound = boundaries.setup_first_order_abc(eps, mu, size, true)\n",
    "leftBound = boundaries.setup_first_order_abc(eps, mu, 1, false)\n",
    "\n",
    "rightBound_0 = boundaries.setup_first_order_abc(eps_0, mu, size, true)\n",
    "leftBound_0 = boundaries.setup_first_order_abc(eps_0, mu, 1, false)\n",
    "\n",
    "# output params\n",
    "ez_snapshot = Array{Any}(num_snaps);\n",
    "hy_snapshot = Array{Any}(num_snaps);\n",
    "ez_0_snapshot = Array{Any}(num_snaps);\n",
    "hy_0_snapshot = Array{Any}(num_snaps);"
   ]
  },
  {
   "cell_type": "code",
   "execution_count": 4,
   "metadata": {
    "collapsed": true
   },
   "outputs": [],
   "source": [
    "# Time steps\n",
    "\n",
    "for time in 1:endTime\n",
    "    # Incident\n",
    "    ez_inc = sin(2*pi/(wavelength) * (time-1))*exp(-1000/time)\n",
    "    \n",
    "    #\n",
    "    # Magnetic\n",
    "    #\n",
    "        \n",
    "    # Interior update\n",
    "    update.update_magnetic_field!(ez, hy, mu, chyh, chye);    \n",
    "    update.update_magnetic_field!(ez_0, hy_0, mu, chyh, chye);          \n",
    "    #\n",
    "    # Electric\n",
    "    #\n",
    "       \n",
    "    # Interior update\n",
    "    update.update_electric_field!(ez, hy, eps, cezh, ceze);\n",
    "    update.update_electric_field!(ez_0, hy_0, eps_0, cezh, ceze);    \n",
    "    \n",
    "    # ABC\n",
    "    boundaries.first_order_diff_abc!(ez, leftBound)\n",
    "    boundaries.first_order_diff_abc!(ez, rightBound)\n",
    "\n",
    "    boundaries.first_order_diff_abc!(ez_0, leftBound_0)\n",
    "    boundaries.first_order_diff_abc!(ez_0, rightBound_0)\n",
    "\n",
    "    \n",
    "    # Incident\n",
    "    ez[inc_pos] += ez_inc / sqrt( eps[inc_pos] * mu[inc_pos])\n",
    "    ez_0[inc_pos] += ez_inc / sqrt( eps[inc_pos] * mu[inc_pos])\n",
    " \n",
    "    # Snapshots for animation\n",
    "    if mod(time, snap_step) == 0\n",
    "        ez_snapshot[div(time,snap_step)] = (time, copy(ez))\n",
    "        hy_snapshot[div(time,snap_step)] = (time, copy(hy).*globals.imp0)        \n",
    "        ez_0_snapshot[div(time,snap_step)] = (time, copy(ez_0))\n",
    "        hy_0_snapshot[div(time,snap_step)] = (time, copy(hy_0).*globals.imp0)                \n",
    "    end\n",
    "    \n",
    "end"
   ]
  },
  {
   "cell_type": "code",
   "execution_count": 5,
   "metadata": {
    "collapsed": false
   },
   "outputs": [
    {
     "name": "stdout",
     "output_type": "stream",
     "text": [
      "[Plots.jl] Initializing backend: gadfly\n"
     ]
    },
    {
     "name": "stderr",
     "output_type": "stream",
     "text": [
      "INFO: Saved animation to /home/pdmitriev/Documents/Github/1d-fdtd/tasks/Task3/Quarter_Wavelength_Reflection.gif\n"
     ]
    },
    {
     "data": {
      "text/html": [
       "<img src=\"Task3/Quarter_Wavelength_Reflection.gif?0.61144037399175>\" />"
      ],
      "text/plain": [
       "Plots.AnimatedGif(\"/home/pdmitriev/Documents/Github/1d-fdtd/tasks/Task3/Quarter_Wavelength_Reflection.gif\")"
      ]
     },
     "execution_count": 5,
     "metadata": {},
     "output_type": "execute_result"
    }
   ],
   "source": [
    "anim = Animation()\n",
    "\n",
    "for i = 1:num_snaps\n",
    "    p = plot(1:size, ez_snapshot[i][2], lab=\"Ez\")\n",
    "    plot!(1:size, ez_0_snapshot[i][2], lab=\"Ez_0\")\n",
    "    # plot!(1:size-1, hy_snapshot[i][2], lab=\"Hy*imp0\")\n",
    "    \n",
    "    time = ez_snapshot[i][1]\n",
    "    plot!(ann=[(0.8*size, 1.5, \"time =$time\")])\n",
    "\n",
    "    plot!([size/2, size/2], [-2, 2])\n",
    "    plot!([size/2+q_wavelength, size/2+q_wavelength], [-2, 2])\n",
    "       \n",
    "    plot!(xlims=(1, size), ylims=(-2, 2))\n",
    "    frame(anim, p)\n",
    "end\n",
    "gif(anim, \"./Task3/Quarter_Wavelength_Reflection.gif\", fps=15)"
   ]
  },
  {
   "cell_type": "code",
   "execution_count": 6,
   "metadata": {
    "collapsed": false
   },
   "outputs": [
    {
     "data": {
      "image/svg+xml": [
       "<?xml version=\"1.0\" encoding=\"UTF-8\"?>\n",
       "<svg xmlns=\"http://www.w3.org/2000/svg\"\n",
       "     xmlns:xlink=\"http://www.w3.org/1999/xlink\"\n",
       "     xmlns:gadfly=\"http://www.gadflyjl.org/ns\"\n",
       "     version=\"1.2\"\n",
       "     width=\"158.73mm\" height=\"105.82mm\" viewBox=\"0 0 158.73 105.82\"\n",
       "     stroke=\"none\"\n",
       "     fill=\"#000000\"\n",
       "     stroke-width=\"0.3\"\n",
       "     font-size=\"3.88\"\n",
       ">\n",
       "<g stroke=\"#000000\" stroke-opacity=\"0.000\" fill=\"#FFFFFF\" id=\"img-f3a44d2d-1\">\n",
       "  <rect x=\"0\" y=\"0\" width=\"158.73\" height=\"105.82\"/>\n",
       "</g>\n",
       "<g class=\"plotroot xscalable yscalable\" id=\"img-f3a44d2d-2\">\n",
       "  <g class=\"guide xlabels\" font-size=\"2.82\" font-family=\"Helvetica\" fill=\"#000000\" id=\"img-f3a44d2d-3\">\n",
       "    <text x=\"14.17\" y=\"102.06\" text-anchor=\"middle\" dy=\"0.6em\">0</text>\n",
       "    <text x=\"41.24\" y=\"102.06\" text-anchor=\"middle\" dy=\"0.6em\">100</text>\n",
       "    <text x=\"68.31\" y=\"102.06\" text-anchor=\"middle\" dy=\"0.6em\">200</text>\n",
       "    <text x=\"95.38\" y=\"102.06\" text-anchor=\"middle\" dy=\"0.6em\">300</text>\n",
       "    <text x=\"122.46\" y=\"102.06\" text-anchor=\"middle\" dy=\"0.6em\">400</text>\n",
       "    <text x=\"149.53\" y=\"102.06\" text-anchor=\"middle\" dy=\"0.6em\">500</text>\n",
       "  </g>\n",
       "  <g class=\"guide colorkey\" id=\"img-f3a44d2d-4\">\n",
       "    <g fill=\"#000000\" font-size=\"2.82\" font-family=\"Helvetica\" id=\"img-f3a44d2d-5\">\n",
       "      <text x=\"155.26\" y=\"52.76\" dy=\"0.35em\">y1</text>\n",
       "    </g>\n",
       "    <g fill=\"#009AFA\" stroke=\"#000000\" stroke-opacity=\"0.000\" id=\"img-f3a44d2d-6\">\n",
       "      <rect x=\"152.53\" y=\"51.9\" width=\"1.73\" height=\"1.73\"/>\n",
       "    </g>\n",
       "    <g fill=\"#000000\" font-size=\"3.88\" font-family=\"Helvetica\" stroke=\"#000000\" stroke-opacity=\"0.000\" id=\"img-f3a44d2d-7\">\n",
       "      <text x=\"152.53\" y=\"47.29\"></text>\n",
       "    </g>\n",
       "  </g>\n",
       "<g clip-path=\"url(#img-f3a44d2d-8)\">\n",
       "  <g id=\"img-f3a44d2d-9\">\n",
       "    <g pointer-events=\"visible\" opacity=\"1\" fill=\"#000000\" fill-opacity=\"0.000\" stroke=\"#000000\" stroke-opacity=\"0.000\" class=\"guide background\" id=\"img-f3a44d2d-10\">\n",
       "      <rect x=\"12.17\" y=\"1\" width=\"139.35\" height=\"100.06\"/>\n",
       "    </g>\n",
       "    <g class=\"guide ygridlines xfixed\" stroke-dasharray=\"0.5,0.5\" stroke-width=\"0.2\" stroke=\"#D0D0E0\" id=\"img-f3a44d2d-11\">\n",
       "      <path fill=\"none\" d=\"M12.17,99.06 L 151.53 99.06\"/>\n",
       "      <path fill=\"none\" d=\"M12.17,75.04 L 151.53 75.04\"/>\n",
       "      <path fill=\"none\" d=\"M12.17,51.03 L 151.53 51.03\"/>\n",
       "      <path fill=\"none\" d=\"M12.17,27.01 L 151.53 27.01\"/>\n",
       "      <path fill=\"none\" d=\"M12.17,3 L 151.53 3\"/>\n",
       "    </g>\n",
       "    <g class=\"guide xgridlines yfixed\" stroke-dasharray=\"0.5,0.5\" stroke-width=\"0.2\" stroke=\"#D0D0E0\" id=\"img-f3a44d2d-12\">\n",
       "      <path fill=\"none\" d=\"M14.17,1 L 14.17 101.06\"/>\n",
       "      <path fill=\"none\" d=\"M41.24,1 L 41.24 101.06\"/>\n",
       "      <path fill=\"none\" d=\"M68.31,1 L 68.31 101.06\"/>\n",
       "      <path fill=\"none\" d=\"M95.38,1 L 95.38 101.06\"/>\n",
       "      <path fill=\"none\" d=\"M122.46,1 L 122.46 101.06\"/>\n",
       "      <path fill=\"none\" d=\"M149.53,1 L 149.53 101.06\"/>\n",
       "    </g>\n",
       "    <g class=\"plotpanel\" id=\"img-f3a44d2d-13\">\n",
       "      <g stroke-width=\"0.26\" fill=\"#000000\" fill-opacity=\"0.000\" class=\"geometry\" stroke-dasharray=\"none\" stroke=\"#009AFA\" id=\"img-f3a44d2d-14\">\n",
       "        <path fill=\"none\" d=\"M14.44,50.36 L 14.71 50.04 14.98 49.72 15.26 49.41 15.53 49.09 15.8 48.77 16.07 48.45 16.34 48.13 16.61 47.82 16.88 47.5 17.15 47.18 17.42 46.87 17.69 46.55 17.96 46.23 18.23 45.92 18.5 45.61 18.77 45.29 19.04 44.98 19.32 44.66 19.59 44.35 19.86 44.04 20.13 43.73 20.4 43.42 20.67 43.11 20.94 42.8 21.21 42.49 21.48 42.18 21.75 41.87 22.02 41.56 22.29 41.26 22.56 40.95 22.83 40.65 23.11 40.34 23.38 40.04 23.65 39.74 23.92 39.44 24.19 39.13 24.46 38.83 24.73 38.54 25 38.24 25.27 37.94 25.54 37.64 25.81 37.35 26.08 37.05 26.35 36.76 26.62 36.47 26.9 36.18 27.17 35.88 27.44 35.6 27.71 35.31 27.98 35.02 28.25 34.73 28.52 34.45 28.79 34.16 29.06 33.88 29.33 33.6 29.6 33.32 29.87 33.04 30.14 32.76 30.41 32.49 30.69 32.21 30.96 31.94 31.23 31.66 31.5 31.39 31.77 31.12 32.04 30.85 32.31 30.59 32.58 30.32 32.85 30.06 33.12 29.79 33.39 29.53 33.66 29.27 33.93 29.01 34.2 28.75 34.48 28.5 34.75 28.24 35.02 27.99 35.29 27.74 35.56 27.49 35.83 27.24 36.1 26.99 36.37 26.75 36.64 26.5 36.91 26.26 37.18 26.02 37.45 25.78 37.72 25.54 37.99 25.31 38.27 25.07 38.54 24.84 38.81 24.61 39.08 24.38 39.35 24.16 39.62 23.93 39.89 23.71 40.16 23.49 40.43 23.27 40.7 23.05 40.97 22.83 41.24 22.62 41.51 22.41 41.78 22.19 42.06 21.99 42.33 21.78 42.6 21.57 42.87 21.37 43.14 21.17 43.41 20.97 43.68 20.77 43.95 20.58 44.22 20.38 44.49 20.19 44.76 20 45.03 19.81 45.3 19.63 45.57 19.45 45.85 19.26 46.12 19.08 46.39 18.91 46.66 18.73 46.93 18.56 47.2 18.39 47.47 18.22 47.74 18.05 48.01 17.89 48.28 17.72 48.55 17.56 48.82 17.4 49.09 17.25 49.36 17.09 49.63 16.94 49.91 16.79 50.18 16.64 50.45 16.5 50.72 16.35 50.99 16.21 51.26 16.07 51.53 15.94 51.8 15.8 52.07 15.67 52.34 15.54 52.61 15.41 52.88 15.29 53.15 15.16 53.42 15.04 53.7 14.92 53.97 14.81 54.24 14.69 54.51 14.58 54.78 14.47 55.05 14.36 55.32 14.26 55.59 14.16 55.86 14.06 56.13 13.96 56.4 13.86 56.67 13.77 56.94 13.68 57.21 13.59 57.49 13.5 57.76 13.42 58.03 13.34 58.3 13.26 58.57 13.18 58.84 13.1 59.11 13.03 59.38 12.96 59.65 12.89 59.92 12.83 60.19 12.77 60.46 12.71 60.73 12.65 61 12.59 61.28 12.54 61.55 12.49 61.82 12.44 62.09 12.39 62.36 12.35 62.63 12.31 62.9 12.27 63.17 12.23 63.44 12.2 63.71 12.17 63.98 12.14 64.25 12.11 64.52 12.09 64.79 12.07 65.07 12.05 65.34 12.03 65.61 12.02 65.88 12 66.15 11.99 66.42 11.99 66.69 11.98 66.96 11.98 67.23 11.98 67.5 11.98 67.77 11.98 68.04 11.99 68.31 12 68.58 12.01 68.86 12.03 69.13 12.04 69.4 12.06 69.67 12.08 69.94 12.11 70.21 12.13 70.48 12.16 70.75 12.19 71.02 12.23 71.29 12.26 71.56 12.3 71.83 12.34 72.1 12.38 72.37 12.43 72.65 12.48 72.92 12.53 73.19 12.58 73.46 12.63 73.73 12.69 74 12.75 74.27 12.81 74.54 12.88 74.81 12.94 75.08 13.01 75.35 13.08 75.62 13.16 75.89 13.23 76.16 13.31 76.43 13.39 76.71 13.47 76.98 13.56 77.25 13.64 77.52 13.73 77.79 13.83 78.06 13.92 78.33 14.02 78.6 14.11 78.87 14.21 79.14 14.32 79.41 14.42 79.68 14.53 79.95 14.64 80.22 14.75 80.5 14.86 80.77 14.98 81.04 15.1 81.31 15.22 81.58 15.34 81.85 15.47 82.12 15.59 82.39 15.72 82.66 15.85 82.93 15.99 83.2 16.12 83.47 16.26 83.74 16.4 84.01 16.54 84.29 16.68 84.56 16.83 84.83 16.98 85.1 17.13 85.37 17.28 85.64 17.43 85.91 17.59 86.18 17.75 86.45 17.91 86.72 18.07 86.99 18.23 87.26 18.4 87.53 18.57 87.8 18.74 88.08 18.91 88.35 19.08 88.62 19.26 88.89 19.43 89.16 19.61 89.43 19.79 89.7 19.98 89.97 20.16 90.24 20.35 90.51 20.54 90.78 20.73 91.05 20.92 91.32 21.11 91.59 21.31 91.87 21.51 92.14 21.71 92.41 21.91 92.68 22.11 92.95 22.31 93.22 22.52 93.49 22.73 93.76 22.94 94.03 23.15 94.3 23.36 94.57 23.57 94.84 23.79 95.11 24.01 95.38 24.23 95.66 24.45 95.93 24.67 96.2 24.89 96.47 25.12 96.74 25.34 97.01 25.57 97.28 25.8 97.55 26.03 97.82 26.26 98.09 26.5 98.36 26.73 98.63 26.97 98.9 27.21 99.17 27.45 99.45 27.69 99.72 27.93 99.99 28.17 100.26 28.42 100.53 28.67 100.8 28.91 101.07 29.16 101.34 29.41 101.61 29.66 101.88 29.92 102.15 30.17 102.42 30.42 102.69 30.68 102.96 30.94 103.24 31.19 103.51 31.45 103.78 31.71 104.05 31.98 104.32 32.24 104.59 32.5 104.86 32.77 105.13 33.03 105.4 33.3 105.67 33.57 105.94 33.84 106.21 34.11 106.48 34.38 106.75 34.65 107.02 34.92 107.3 35.19 107.57 35.47 107.84 35.74 108.11 36.02 108.38 36.29 108.65 36.57 108.92 36.85 109.19 37.13 109.46 37.41 109.73 37.69 110 37.97 110.27 38.25 110.54 38.54 110.81 38.82 111.09 39.1 111.36 39.39 111.63 39.67 111.9 39.96 112.17 40.24 112.44 40.53 112.71 40.82 112.98 41.11 113.25 41.39 113.52 41.68 113.79 41.97 114.06 42.26 114.33 42.55 114.6 42.84 114.88 43.13 115.15 43.42 115.42 43.72 115.69 44.01 115.96 44.3 116.23 44.59 116.5 44.89 116.77 45.18 117.04 45.47 117.31 45.77 117.58 46.06 117.85 46.35 118.12 46.65 118.39 46.94 118.67 47.24 118.94 47.53 119.21 47.83 119.48 48.12 119.75 48.42 120.02 48.71 120.29 49.01 120.56 49.3 120.83 49.6 121.1 49.89 121.37 50.19 121.64 50.48 121.91 50.77 122.18 51.07 122.46 51.36 122.73 51.66 123 51.95 123.27 52.25 123.54 52.54 123.81 52.83 124.08 53.13 124.35 53.42 124.62 53.71 124.89 54 125.16 54.3 125.43 54.59 125.7 54.88 125.97 55.17 126.25 55.46 126.52 55.75 126.79 56.04 127.06 56.33 127.33 56.62 127.6 56.91 127.87 57.2 128.14 57.49 128.41 57.77 128.68 58.06 128.95 58.35 129.22 58.63 129.49 58.92 129.76 59.2 130.04 59.49 130.31 59.77 130.58 60.05 130.85 60.33 131.12 60.61 131.39 60.89 131.66 61.17 131.93 61.45 132.2 61.73 132.47 62.01 132.74 62.29 133.01 62.56 133.28 62.84 133.55 63.11 133.82 63.38 134.1 63.66 134.37 63.93 134.64 64.2 134.91 64.47 135.18 64.74 135.45 65.01 135.72 65.27 135.99 65.54 136.26 65.8 136.53 66.07 136.8 66.33 137.07 66.59 137.34 66.85 137.61 67.11 137.89 67.37 138.16 67.63 138.43 67.89 138.7 68.14 138.97 68.39 139.24 68.65 139.51 68.9 139.78 69.15 140.05 69.4 140.32 69.65 140.59 69.89 140.86 70.14 141.13 70.38 141.4 70.63 141.68 70.87 141.95 71.11 142.22 71.35 142.49 71.59 142.76 71.82 143.03 72.06 143.3 72.29 143.57 72.52 143.84 72.75 144.11 72.98 144.38 73.21 144.65 73.44 144.92 73.66 145.19 73.88 145.47 74.11 145.74 74.33 146.01 74.55 146.28 74.76 146.55 74.98 146.82 75.19 147.09 75.41 147.36 75.62 147.63 75.83 147.9 76.03 148.17 76.24 148.44 76.44 148.71 76.65 148.98 76.85 149.26 77.05 149.53 77.25\"/>\n",
       "      </g>\n",
       "    </g>\n",
       "  </g>\n",
       "</g>\n",
       "  <g class=\"guide ylabels\" font-size=\"2.82\" font-family=\"Helvetica\" fill=\"#000000\" id=\"img-f3a44d2d-15\">\n",
       "    <text x=\"11.17\" y=\"99.06\" text-anchor=\"end\" dy=\"0.35em\">-0.0010</text>\n",
       "    <text x=\"11.17\" y=\"75.04\" text-anchor=\"end\" dy=\"0.35em\">-0.0005</text>\n",
       "    <text x=\"11.17\" y=\"51.03\" text-anchor=\"end\" dy=\"0.35em\">0.0000</text>\n",
       "    <text x=\"11.17\" y=\"27.01\" text-anchor=\"end\" dy=\"0.35em\">0.0005</text>\n",
       "    <text x=\"11.17\" y=\"3\" text-anchor=\"end\" dy=\"0.35em\">0.0010</text>\n",
       "  </g>\n",
       "</g>\n",
       "<defs>\n",
       "  <clipPath id=\"img-f3a44d2d-8\">\n",
       "  <path d=\"M12.17,1 L 151.53 1 151.53 101.06 12.17 101.06\" />\n",
       "</clipPath>\n",
       "</defs>\n",
       "</svg>\n"
      ],
      "text/html": [
       "<?xml version=\"1.0\" encoding=\"UTF-8\"?>\n",
       "<svg xmlns=\"http://www.w3.org/2000/svg\"\n",
       "     xmlns:xlink=\"http://www.w3.org/1999/xlink\"\n",
       "     xmlns:gadfly=\"http://www.gadflyjl.org/ns\"\n",
       "     version=\"1.2\"\n",
       "     width=\"158.73mm\" height=\"105.82mm\" viewBox=\"0 0 158.73 105.82\"\n",
       "     stroke=\"none\"\n",
       "     fill=\"#000000\"\n",
       "     stroke-width=\"0.3\"\n",
       "     font-size=\"3.88\"\n",
       ">\n",
       "<g stroke=\"#000000\" stroke-opacity=\"0.000\" fill=\"#FFFFFF\" id=\"img-f3a44d2d-1\">\n",
       "  <rect x=\"0\" y=\"0\" width=\"158.73\" height=\"105.82\"/>\n",
       "</g>\n",
       "<g class=\"plotroot xscalable yscalable\" id=\"img-f3a44d2d-2\">\n",
       "  <g class=\"guide xlabels\" font-size=\"2.82\" font-family=\"Helvetica\" fill=\"#000000\" id=\"img-f3a44d2d-3\">\n",
       "    <text x=\"14.17\" y=\"102.06\" text-anchor=\"middle\" dy=\"0.6em\">0</text>\n",
       "    <text x=\"41.24\" y=\"102.06\" text-anchor=\"middle\" dy=\"0.6em\">100</text>\n",
       "    <text x=\"68.31\" y=\"102.06\" text-anchor=\"middle\" dy=\"0.6em\">200</text>\n",
       "    <text x=\"95.38\" y=\"102.06\" text-anchor=\"middle\" dy=\"0.6em\">300</text>\n",
       "    <text x=\"122.46\" y=\"102.06\" text-anchor=\"middle\" dy=\"0.6em\">400</text>\n",
       "    <text x=\"149.53\" y=\"102.06\" text-anchor=\"middle\" dy=\"0.6em\">500</text>\n",
       "  </g>\n",
       "  <g class=\"guide colorkey\" id=\"img-f3a44d2d-4\">\n",
       "    <g fill=\"#000000\" font-size=\"2.82\" font-family=\"Helvetica\" id=\"img-f3a44d2d-5\">\n",
       "      <text x=\"155.26\" y=\"52.76\" dy=\"0.35em\">y1</text>\n",
       "    </g>\n",
       "    <g fill=\"#009AFA\" stroke=\"#000000\" stroke-opacity=\"0.000\" id=\"img-f3a44d2d-6\">\n",
       "      <rect x=\"152.53\" y=\"51.9\" width=\"1.73\" height=\"1.73\"/>\n",
       "    </g>\n",
       "    <g fill=\"#000000\" font-size=\"3.88\" font-family=\"Helvetica\" stroke=\"#000000\" stroke-opacity=\"0.000\" id=\"img-f3a44d2d-7\">\n",
       "      <text x=\"152.53\" y=\"47.29\"></text>\n",
       "    </g>\n",
       "  </g>\n",
       "<g clip-path=\"url(#img-f3a44d2d-8)\">\n",
       "  <g id=\"img-f3a44d2d-9\">\n",
       "    <g pointer-events=\"visible\" opacity=\"1\" fill=\"#000000\" fill-opacity=\"0.000\" stroke=\"#000000\" stroke-opacity=\"0.000\" class=\"guide background\" id=\"img-f3a44d2d-10\">\n",
       "      <rect x=\"12.17\" y=\"1\" width=\"139.35\" height=\"100.06\"/>\n",
       "    </g>\n",
       "    <g class=\"guide ygridlines xfixed\" stroke-dasharray=\"0.5,0.5\" stroke-width=\"0.2\" stroke=\"#D0D0E0\" id=\"img-f3a44d2d-11\">\n",
       "      <path fill=\"none\" d=\"M12.17,99.06 L 151.53 99.06\"/>\n",
       "      <path fill=\"none\" d=\"M12.17,75.04 L 151.53 75.04\"/>\n",
       "      <path fill=\"none\" d=\"M12.17,51.03 L 151.53 51.03\"/>\n",
       "      <path fill=\"none\" d=\"M12.17,27.01 L 151.53 27.01\"/>\n",
       "      <path fill=\"none\" d=\"M12.17,3 L 151.53 3\"/>\n",
       "    </g>\n",
       "    <g class=\"guide xgridlines yfixed\" stroke-dasharray=\"0.5,0.5\" stroke-width=\"0.2\" stroke=\"#D0D0E0\" id=\"img-f3a44d2d-12\">\n",
       "      <path fill=\"none\" d=\"M14.17,1 L 14.17 101.06\"/>\n",
       "      <path fill=\"none\" d=\"M41.24,1 L 41.24 101.06\"/>\n",
       "      <path fill=\"none\" d=\"M68.31,1 L 68.31 101.06\"/>\n",
       "      <path fill=\"none\" d=\"M95.38,1 L 95.38 101.06\"/>\n",
       "      <path fill=\"none\" d=\"M122.46,1 L 122.46 101.06\"/>\n",
       "      <path fill=\"none\" d=\"M149.53,1 L 149.53 101.06\"/>\n",
       "    </g>\n",
       "    <g class=\"plotpanel\" id=\"img-f3a44d2d-13\">\n",
       "      <g stroke-width=\"0.26\" fill=\"#000000\" fill-opacity=\"0.000\" class=\"geometry\" stroke-dasharray=\"none\" stroke=\"#009AFA\" id=\"img-f3a44d2d-14\">\n",
       "        <path fill=\"none\" d=\"M14.44,50.36 L 14.71 50.04 14.98 49.72 15.26 49.41 15.53 49.09 15.8 48.77 16.07 48.45 16.34 48.13 16.61 47.82 16.88 47.5 17.15 47.18 17.42 46.87 17.69 46.55 17.96 46.23 18.23 45.92 18.5 45.61 18.77 45.29 19.04 44.98 19.32 44.66 19.59 44.35 19.86 44.04 20.13 43.73 20.4 43.42 20.67 43.11 20.94 42.8 21.21 42.49 21.48 42.18 21.75 41.87 22.02 41.56 22.29 41.26 22.56 40.95 22.83 40.65 23.11 40.34 23.38 40.04 23.65 39.74 23.92 39.44 24.19 39.13 24.46 38.83 24.73 38.54 25 38.24 25.27 37.94 25.54 37.64 25.81 37.35 26.08 37.05 26.35 36.76 26.62 36.47 26.9 36.18 27.17 35.88 27.44 35.6 27.71 35.31 27.98 35.02 28.25 34.73 28.52 34.45 28.79 34.16 29.06 33.88 29.33 33.6 29.6 33.32 29.87 33.04 30.14 32.76 30.41 32.49 30.69 32.21 30.96 31.94 31.23 31.66 31.5 31.39 31.77 31.12 32.04 30.85 32.31 30.59 32.58 30.32 32.85 30.06 33.12 29.79 33.39 29.53 33.66 29.27 33.93 29.01 34.2 28.75 34.48 28.5 34.75 28.24 35.02 27.99 35.29 27.74 35.56 27.49 35.83 27.24 36.1 26.99 36.37 26.75 36.64 26.5 36.91 26.26 37.18 26.02 37.45 25.78 37.72 25.54 37.99 25.31 38.27 25.07 38.54 24.84 38.81 24.61 39.08 24.38 39.35 24.16 39.62 23.93 39.89 23.71 40.16 23.49 40.43 23.27 40.7 23.05 40.97 22.83 41.24 22.62 41.51 22.41 41.78 22.19 42.06 21.99 42.33 21.78 42.6 21.57 42.87 21.37 43.14 21.17 43.41 20.97 43.68 20.77 43.95 20.58 44.22 20.38 44.49 20.19 44.76 20 45.03 19.81 45.3 19.63 45.57 19.45 45.85 19.26 46.12 19.08 46.39 18.91 46.66 18.73 46.93 18.56 47.2 18.39 47.47 18.22 47.74 18.05 48.01 17.89 48.28 17.72 48.55 17.56 48.82 17.4 49.09 17.25 49.36 17.09 49.63 16.94 49.91 16.79 50.18 16.64 50.45 16.5 50.72 16.35 50.99 16.21 51.26 16.07 51.53 15.94 51.8 15.8 52.07 15.67 52.34 15.54 52.61 15.41 52.88 15.29 53.15 15.16 53.42 15.04 53.7 14.92 53.97 14.81 54.24 14.69 54.51 14.58 54.78 14.47 55.05 14.36 55.32 14.26 55.59 14.16 55.86 14.06 56.13 13.96 56.4 13.86 56.67 13.77 56.94 13.68 57.21 13.59 57.49 13.5 57.76 13.42 58.03 13.34 58.3 13.26 58.57 13.18 58.84 13.1 59.11 13.03 59.38 12.96 59.65 12.89 59.92 12.83 60.19 12.77 60.46 12.71 60.73 12.65 61 12.59 61.28 12.54 61.55 12.49 61.82 12.44 62.09 12.39 62.36 12.35 62.63 12.31 62.9 12.27 63.17 12.23 63.44 12.2 63.71 12.17 63.98 12.14 64.25 12.11 64.52 12.09 64.79 12.07 65.07 12.05 65.34 12.03 65.61 12.02 65.88 12 66.15 11.99 66.42 11.99 66.69 11.98 66.96 11.98 67.23 11.98 67.5 11.98 67.77 11.98 68.04 11.99 68.31 12 68.58 12.01 68.86 12.03 69.13 12.04 69.4 12.06 69.67 12.08 69.94 12.11 70.21 12.13 70.48 12.16 70.75 12.19 71.02 12.23 71.29 12.26 71.56 12.3 71.83 12.34 72.1 12.38 72.37 12.43 72.65 12.48 72.92 12.53 73.19 12.58 73.46 12.63 73.73 12.69 74 12.75 74.27 12.81 74.54 12.88 74.81 12.94 75.08 13.01 75.35 13.08 75.62 13.16 75.89 13.23 76.16 13.31 76.43 13.39 76.71 13.47 76.98 13.56 77.25 13.64 77.52 13.73 77.79 13.83 78.06 13.92 78.33 14.02 78.6 14.11 78.87 14.21 79.14 14.32 79.41 14.42 79.68 14.53 79.95 14.64 80.22 14.75 80.5 14.86 80.77 14.98 81.04 15.1 81.31 15.22 81.58 15.34 81.85 15.47 82.12 15.59 82.39 15.72 82.66 15.85 82.93 15.99 83.2 16.12 83.47 16.26 83.74 16.4 84.01 16.54 84.29 16.68 84.56 16.83 84.83 16.98 85.1 17.13 85.37 17.28 85.64 17.43 85.91 17.59 86.18 17.75 86.45 17.91 86.72 18.07 86.99 18.23 87.26 18.4 87.53 18.57 87.8 18.74 88.08 18.91 88.35 19.08 88.62 19.26 88.89 19.43 89.16 19.61 89.43 19.79 89.7 19.98 89.97 20.16 90.24 20.35 90.51 20.54 90.78 20.73 91.05 20.92 91.32 21.11 91.59 21.31 91.87 21.51 92.14 21.71 92.41 21.91 92.68 22.11 92.95 22.31 93.22 22.52 93.49 22.73 93.76 22.94 94.03 23.15 94.3 23.36 94.57 23.57 94.84 23.79 95.11 24.01 95.38 24.23 95.66 24.45 95.93 24.67 96.2 24.89 96.47 25.12 96.74 25.34 97.01 25.57 97.28 25.8 97.55 26.03 97.82 26.26 98.09 26.5 98.36 26.73 98.63 26.97 98.9 27.21 99.17 27.45 99.45 27.69 99.72 27.93 99.99 28.17 100.26 28.42 100.53 28.67 100.8 28.91 101.07 29.16 101.34 29.41 101.61 29.66 101.88 29.92 102.15 30.17 102.42 30.42 102.69 30.68 102.96 30.94 103.24 31.19 103.51 31.45 103.78 31.71 104.05 31.98 104.32 32.24 104.59 32.5 104.86 32.77 105.13 33.03 105.4 33.3 105.67 33.57 105.94 33.84 106.21 34.11 106.48 34.38 106.75 34.65 107.02 34.92 107.3 35.19 107.57 35.47 107.84 35.74 108.11 36.02 108.38 36.29 108.65 36.57 108.92 36.85 109.19 37.13 109.46 37.41 109.73 37.69 110 37.97 110.27 38.25 110.54 38.54 110.81 38.82 111.09 39.1 111.36 39.39 111.63 39.67 111.9 39.96 112.17 40.24 112.44 40.53 112.71 40.82 112.98 41.11 113.25 41.39 113.52 41.68 113.79 41.97 114.06 42.26 114.33 42.55 114.6 42.84 114.88 43.13 115.15 43.42 115.42 43.72 115.69 44.01 115.96 44.3 116.23 44.59 116.5 44.89 116.77 45.18 117.04 45.47 117.31 45.77 117.58 46.06 117.85 46.35 118.12 46.65 118.39 46.94 118.67 47.24 118.94 47.53 119.21 47.83 119.48 48.12 119.75 48.42 120.02 48.71 120.29 49.01 120.56 49.3 120.83 49.6 121.1 49.89 121.37 50.19 121.64 50.48 121.91 50.77 122.18 51.07 122.46 51.36 122.73 51.66 123 51.95 123.27 52.25 123.54 52.54 123.81 52.83 124.08 53.13 124.35 53.42 124.62 53.71 124.89 54 125.16 54.3 125.43 54.59 125.7 54.88 125.97 55.17 126.25 55.46 126.52 55.75 126.79 56.04 127.06 56.33 127.33 56.62 127.6 56.91 127.87 57.2 128.14 57.49 128.41 57.77 128.68 58.06 128.95 58.35 129.22 58.63 129.49 58.92 129.76 59.2 130.04 59.49 130.31 59.77 130.58 60.05 130.85 60.33 131.12 60.61 131.39 60.89 131.66 61.17 131.93 61.45 132.2 61.73 132.47 62.01 132.74 62.29 133.01 62.56 133.28 62.84 133.55 63.11 133.82 63.38 134.1 63.66 134.37 63.93 134.64 64.2 134.91 64.47 135.18 64.74 135.45 65.01 135.72 65.27 135.99 65.54 136.26 65.8 136.53 66.07 136.8 66.33 137.07 66.59 137.34 66.85 137.61 67.11 137.89 67.37 138.16 67.63 138.43 67.89 138.7 68.14 138.97 68.39 139.24 68.65 139.51 68.9 139.78 69.15 140.05 69.4 140.32 69.65 140.59 69.89 140.86 70.14 141.13 70.38 141.4 70.63 141.68 70.87 141.95 71.11 142.22 71.35 142.49 71.59 142.76 71.82 143.03 72.06 143.3 72.29 143.57 72.52 143.84 72.75 144.11 72.98 144.38 73.21 144.65 73.44 144.92 73.66 145.19 73.88 145.47 74.11 145.74 74.33 146.01 74.55 146.28 74.76 146.55 74.98 146.82 75.19 147.09 75.41 147.36 75.62 147.63 75.83 147.9 76.03 148.17 76.24 148.44 76.44 148.71 76.65 148.98 76.85 149.26 77.05 149.53 77.25\"/>\n",
       "      </g>\n",
       "    </g>\n",
       "  </g>\n",
       "</g>\n",
       "  <g class=\"guide ylabels\" font-size=\"2.82\" font-family=\"Helvetica\" fill=\"#000000\" id=\"img-f3a44d2d-15\">\n",
       "    <text x=\"11.17\" y=\"99.06\" text-anchor=\"end\" dy=\"0.35em\">-0.0010</text>\n",
       "    <text x=\"11.17\" y=\"75.04\" text-anchor=\"end\" dy=\"0.35em\">-0.0005</text>\n",
       "    <text x=\"11.17\" y=\"51.03\" text-anchor=\"end\" dy=\"0.35em\">0.0000</text>\n",
       "    <text x=\"11.17\" y=\"27.01\" text-anchor=\"end\" dy=\"0.35em\">0.0005</text>\n",
       "    <text x=\"11.17\" y=\"3\" text-anchor=\"end\" dy=\"0.35em\">0.0010</text>\n",
       "  </g>\n",
       "</g>\n",
       "<defs>\n",
       "  <clipPath id=\"img-f3a44d2d-8\">\n",
       "  <path d=\"M12.17,1 L 151.53 1 151.53 101.06 12.17 101.06\" />\n",
       "</clipPath>\n",
       "</defs>\n",
       "</svg>\n"
      ],
      "text/plain": [
       "Compose.SVG(158.73015873015876mm,105.82010582010584mm,IOBuffer(data=UInt8[...], readable=true, writable=true, seekable=true, append=false, size=9761, maxsize=Inf, ptr=9762, mark=-1),nothing,\"img-f3a44d2d\",0,Compose.SVGPropertyFrame[],Dict{Type{T},Union{Compose.Property{P<:Compose.PropertyPrimitive},Void}}(),Dict{Compose.ClipPrimitive{P<:NTuple{N,Measures.Measure}},ASCIIString}(Compose.ClipPrimitive{Tuple{Measures.Length{:mm,Float64},Measures.Length{:mm,Float64}}}([(12.172222222222217mm,1.0mm),(151.52599206349208mm,1.0mm),(151.52599206349208mm,101.05621693121695mm),(12.172222222222217mm,101.05621693121695mm)])=>\"img-f3a44d2d-8\"),Tuple{Compose.FormPrimitive,ASCIIString}[],Set{AbstractString}(),true,false,nothing,true,\"img-f3a44d2d-15\",false,15,AbstractString[\"/home/pdmitriev/.julia/v0.4/Gadfly/src/gadfly.js\"],Tuple{AbstractString,AbstractString}[(\"Snap.svg\",\"Snap\"),(\"Gadfly\",\"Gadfly\")],AbstractString[\"fig.select(\\\"#img-f3a44d2d-4\\\")\\n   .drag(function() {}, function() {}, function() {});\",\"fig.select(\\\"#img-f3a44d2d-9\\\")\\n   .init_gadfly();\"],false,:none)"
      ]
     },
     "metadata": {},
     "output_type": "display_data"
    },
    {
     "data": {
      "text/html": []
     },
     "execution_count": 6,
     "metadata": {},
     "output_type": "execute_result"
    }
   ],
   "source": [
    "plot( (ez-ez_0)[1:div(size, 2)])"
   ]
  },
  {
   "cell_type": "code",
   "execution_count": null,
   "metadata": {
    "collapsed": true
   },
   "outputs": [],
   "source": []
  },
  {
   "cell_type": "code",
   "execution_count": null,
   "metadata": {
    "collapsed": true
   },
   "outputs": [],
   "source": []
  }
 ],
 "metadata": {
  "kernelspec": {
   "display_name": "Julia 0.4.5",
   "language": "julia",
   "name": "julia-0.4"
  },
  "language_info": {
   "file_extension": ".jl",
   "mimetype": "application/julia",
   "name": "julia",
   "version": "0.4.5"
  }
 },
 "nbformat": 4,
 "nbformat_minor": 0
}
