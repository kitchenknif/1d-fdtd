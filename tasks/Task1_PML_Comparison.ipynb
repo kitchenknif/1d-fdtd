{
 "cells": [
  {
   "cell_type": "code",
   "execution_count": 1,
   "metadata": {
    "collapsed": true
   },
   "outputs": [],
   "source": [
    "using Plots;\n",
    "gadfly();"
   ]
  },
  {
   "cell_type": "markdown",
   "metadata": {},
   "source": [
    "### Load FDTD Libraries"
   ]
  },
  {
   "cell_type": "code",
   "execution_count": 2,
   "metadata": {
    "collapsed": false
   },
   "outputs": [
    {
     "name": "stderr",
     "output_type": "stream",
     "text": [
      "WARNING: replacing module globals\n"
     ]
    }
   ],
   "source": [
    "include(\"../fdtd/update.jl\");\n",
    "include(\"../fdtd/sources.jl\");\n",
    "include(\"../fdtd/boundaries.jl\");\n",
    "using update;\n",
    "using sources;"
   ]
  },
  {
   "cell_type": "markdown",
   "metadata": {},
   "source": [
    "# 1. Dielectric eps=9 with 5 Cell CPML, Pulse width = 200\n",
    "### Setup Grid"
   ]
  },
  {
   "cell_type": "code",
   "execution_count": 3,
   "metadata": {
    "collapsed": true
   },
   "outputs": [],
   "source": [
    "#Global parameters\n",
    "size = 200;\n",
    "endTime = 800;\n",
    "num_snaps = 200;\n",
    "snap_step = div(endTime, num_snaps);\n",
    "\n",
    "eps1 = 9;\n",
    "eps0 = 1;\n",
    "\n",
    "#Grid\n",
    "\n",
    "# Magnetic\n",
    "hy = zeros(size);\n",
    "mu = ones(size);\n",
    "\n",
    "chyh = ones(size);\n",
    "chye = ones(size);\n",
    "\n",
    "# Electric\n",
    "ez = zeros(size);\n",
    "eps = ones(size);\n",
    "\n",
    "cezh = ones(size);\n",
    "ceze = ones(size);\n",
    "\n",
    "\n",
    "for i in 1:99\n",
    "    eps[i] = eps0;\n",
    "end\n",
    "for i in 100:size\n",
    "    eps[i] = eps1;\n",
    "end\n",
    "\n",
    "# output params\n",
    "ez_snapshot = Array{Any}(num_snaps);\n",
    "hy_snapshot = Array{Any}(num_snaps);\n",
    "\n",
    "# \n",
    "fieldsum = 1;\n",
    "sumtime = 700;\n",
    "fieldsnap = zeros(size);\n"
   ]
  },
  {
   "cell_type": "markdown",
   "metadata": {},
   "source": [
    "### Setup CPML"
   ]
  },
  {
   "cell_type": "code",
   "execution_count": 4,
   "metadata": {
    "collapsed": false
   },
   "outputs": [],
   "source": [
    "#\n",
    "# setup CPML\n",
    "#\n",
    "\n",
    "# constants\n",
    "dx = 1.0;\n",
    "R0 = 1e-5;\n",
    "m = 2.85;\n",
    "pml_width = 5.0;\n",
    "\n",
    "# coeffs\n",
    "sigma_max = -(m+1)*log(R0)/2/globals.imp0/(pml_width*dx)\n",
    "sigma_x = zeros(size);\n",
    "sigma_m_x = zeros(size);\n",
    "\n",
    "for i in 1:round(Int,pml_width)\n",
    "    sigma_x[i+1] = sigma_max * real(Complex(((pml_width-(i-1)-0.5)/pml_width))^m)\n",
    "    sigma_m_x[i] = sigma_max * real(Complex(((pml_width-(i-1))/pml_width))^m)\n",
    "    \n",
    "    sigma_x[size-(i-1)] = sigma_max * real(Complex(((pml_width-i-0.5)/pml_width))^m)  \n",
    "    sigma_m_x[size-(i-1)] = sigma_max * real(Complex(((pml_width-i)/pml_width))^m)\n",
    "end\n",
    "\n",
    "aex = exp(-sigma_x .* globals.imp0)-1\n",
    "bex = exp(-sigma_x .* globals.imp0)\n",
    "\n",
    "ahx = exp(-sigma_m_x .* globals.imp0)-1\n",
    "bhx = exp(-sigma_m_x .* globals.imp0)\n",
    "\n",
    "# arrays\n",
    "p_hy = zeros(size);\n",
    "p_ez = zeros(size);"
   ]
  },
  {
   "cell_type": "markdown",
   "metadata": {},
   "source": [
    "### Run Simulation"
   ]
  },
  {
   "cell_type": "code",
   "execution_count": 5,
   "metadata": {
    "collapsed": false
   },
   "outputs": [
    {
     "name": "stdout",
     "output_type": "stream",
     "text": [
      "0.00027295405799045684"
     ]
    }
   ],
   "source": [
    "for time in 1:endTime\n",
    "    # Incident\n",
    "    # ez_inc, hy_inc = sources.gaussian_source(50, time);\n",
    "    delay = 200.\n",
    "    width = 200.\n",
    "    \n",
    "    ez_inc = exp(-(time + 0.5 - (-0.5) - delay) * (time + 0.5 - (-0.5) - delay) / width);\n",
    "    hy_inc = exp(-(time - delay) * (time - delay) / width);\n",
    "\n",
    "\n",
    "    #\n",
    "    # Magnetic\n",
    "    #\n",
    "\n",
    "    # CPML\n",
    "    for i in 1:size-1\n",
    "        p_hy[i] = bhx[i]*p_hy[i] + ahx[i]*(ez[i+1] - ez[i])\n",
    "    end\n",
    "           \n",
    "    # Interior update\n",
    "    for i = 1:size-1\n",
    "        hy[i] = chyh[i] * hy[i] + chye[i] * (ez[i+1] - ez[i]) / globals.imp0 / mu[i]\n",
    "    end\n",
    "       \n",
    "    # CPML\n",
    "    for i in 1:size-1\n",
    "        hy[i] += p_hy[i]/globals.imp0/mu[i]\n",
    "    end\n",
    "\n",
    "    # TFSF\n",
    "    hy[49] -= hy_inc / globals.imp0 / mu[49]\n",
    "    \n",
    "    #\n",
    "    # Electric\n",
    "    #\n",
    "    \n",
    "    # CPML\n",
    "    for i in 2:size\n",
    "        p_ez[i] = bex[i]*p_ez[i] + aex[i]*(hy[i] - hy[i-1])\n",
    "    end\n",
    "\n",
    "    # Interior update\n",
    "    for i = 2:size\n",
    "        ez[i] = ceze[i] * ez[i] + cezh[i] * (hy[i] - hy[i-1]) * globals.imp0 / eps[i]\n",
    "    end  \n",
    " \n",
    "    # CPML\n",
    "    for i in 2:size\n",
    "        ez[i] += p_ez[i]*globals.imp0/eps[i]\n",
    "    end\n",
    "    # TFSF\n",
    "    ez[50] += ez_inc / eps[50]\n",
    "\n",
    "\n",
    "    #Catch minimum E-Field\n",
    "    if time == sumtime\n",
    "            fieldsum = sum(ez.^2)\n",
    "            fieldsnap = copy(ez)\n",
    "    end\n",
    "    \n",
    "    #Snapshots for animation\n",
    "    if mod(time, snap_step) == 0\n",
    "        ez_snapshot[div(time,snap_step)] = (time, copy(ez))\n",
    "        hy_snapshot[div(time,snap_step)] = (time, copy(hy).*globals.imp0)        \n",
    "    end\n",
    "    \n",
    "end\n",
    "print(fieldsum)"
   ]
  },
  {
   "cell_type": "markdown",
   "metadata": {},
   "source": [
    "### Plot animation"
   ]
  },
  {
   "cell_type": "code",
   "execution_count": 6,
   "metadata": {
    "collapsed": false
   },
   "outputs": [
    {
     "name": "stdout",
     "output_type": "stream",
     "text": [
      "[Plots.jl] Initializing backend: gadfly\n"
     ]
    },
    {
     "name": "stderr",
     "output_type": "stream",
     "text": [
      "INFO: Saved animation to /media/storage/Documents/Github/1d-fdtd/tasks/Task1/CPML_Pulse_200.gif\n"
     ]
    },
    {
     "data": {
      "text/html": [
       "<img src=\"Task1/CPML_Pulse_200.gif?0.9999339585180387>\" />"
      ],
      "text/plain": [
       "Plots.AnimatedGif(\"/media/storage/Documents/Github/1d-fdtd/tasks/Task1/CPML_Pulse_200.gif\")"
      ]
     },
     "execution_count": 6,
     "metadata": {},
     "output_type": "execute_result"
    }
   ],
   "source": [
    "anim = Animation()\n",
    "\n",
    "for i = 1:num_snaps\n",
    "    p = plot(1:size, ez_snapshot[i][2], lab=\"Ez\")\n",
    "    plot!(1:size, hy_snapshot[i][2], lab=\"Hy*imp0\")\n",
    "    \n",
    "    time = ez_snapshot[i][1]\n",
    "    plot!(ann=[(150, 1.5, \"time =$time\")])\n",
    "    plot!(ann=[(0, 1.1, \"CPML\")])\n",
    "    \n",
    "    plot!(ann=[(80, 1.2, \"Eps = 1\")])\n",
    "    plot!(ann=[(101, 1.1, \"Eps = 9\")])    \n",
    "    plot!([100, 100], [-2, 2])\n",
    "    \n",
    "    plot!(ann=[(180, 1.1, \"CPML\")])\n",
    "    \n",
    "    plot!(xlims=(1, 200), ylims=(-2, 2))\n",
    "    frame(anim, p)\n",
    "end\n",
    "gif(anim, \"./Task1/CPML_Pulse_200.gif\", fps=15)"
   ]
  },
  {
   "cell_type": "markdown",
   "metadata": {},
   "source": [
    "### Field after reflection"
   ]
  },
  {
   "cell_type": "code",
   "execution_count": 7,
   "metadata": {
    "collapsed": false
   },
   "outputs": [
    {
     "data": {
      "image/svg+xml": [
       "<?xml version=\"1.0\" encoding=\"UTF-8\"?>\n",
       "<svg xmlns=\"http://www.w3.org/2000/svg\"\n",
       "     xmlns:xlink=\"http://www.w3.org/1999/xlink\"\n",
       "     xmlns:gadfly=\"http://www.gadflyjl.org/ns\"\n",
       "     version=\"1.2\"\n",
       "     width=\"158.73mm\" height=\"105.82mm\" viewBox=\"0 0 158.73 105.82\"\n",
       "     stroke=\"none\"\n",
       "     fill=\"#000000\"\n",
       "     stroke-width=\"0.3\"\n",
       "     font-size=\"3.88\"\n",
       ">\n",
       "<g stroke=\"#000000\" stroke-opacity=\"0.000\" fill=\"#FFFFFF\" id=\"img-61df6c72-1\">\n",
       "  <rect x=\"0\" y=\"0\" width=\"158.73\" height=\"105.82\"/>\n",
       "</g>\n",
       "<g class=\"plotroot xscalable yscalable\" id=\"img-61df6c72-2\">\n",
       "  <g class=\"guide xlabels\" font-size=\"2.82\" font-family=\"Helvetica\" fill=\"#000000\" id=\"img-61df6c72-3\">\n",
       "    <text x=\"12.99\" y=\"101.19\" text-anchor=\"middle\" dy=\"0.6em\">0</text>\n",
       "    <text x=\"46.98\" y=\"101.19\" text-anchor=\"middle\" dy=\"0.6em\">50</text>\n",
       "    <text x=\"80.96\" y=\"101.19\" text-anchor=\"middle\" dy=\"0.6em\">100</text>\n",
       "    <text x=\"114.95\" y=\"101.19\" text-anchor=\"middle\" dy=\"0.6em\">150</text>\n",
       "    <text x=\"148.93\" y=\"101.19\" text-anchor=\"middle\" dy=\"0.6em\">200</text>\n",
       "  </g>\n",
       "  <g class=\"guide colorkey\" id=\"img-61df6c72-4\">\n",
       "    <g fill=\"#000000\" font-size=\"2.82\" font-family=\"Helvetica\" id=\"img-61df6c72-5\">\n",
       "      <text x=\"154.75\" y=\"50.59\" dy=\"0.35em\">y1</text>\n",
       "      <text x=\"154.75\" y=\"54.23\" dy=\"0.35em\">y2</text>\n",
       "    </g>\n",
       "    <g stroke=\"#000000\" stroke-opacity=\"0.000\" id=\"img-61df6c72-6\">\n",
       "      <rect x=\"151.93\" y=\"49.69\" width=\"1.82\" height=\"1.82\" fill=\"#009AFA\"/>\n",
       "      <rect x=\"151.93\" y=\"53.32\" width=\"1.82\" height=\"1.82\" fill=\"#E36F47\"/>\n",
       "    </g>\n",
       "    <g fill=\"#000000\" font-size=\"3.88\" font-family=\"Helvetica\" stroke=\"#000000\" stroke-opacity=\"0.000\" id=\"img-61df6c72-7\">\n",
       "      <text x=\"151.93\" y=\"46.77\"></text>\n",
       "    </g>\n",
       "  </g>\n",
       "<g clip-path=\"url(#img-61df6c72-8)\">\n",
       "  <g id=\"img-61df6c72-9\">\n",
       "    <g pointer-events=\"visible\" opacity=\"1\" fill=\"#000000\" fill-opacity=\"0.000\" stroke=\"#000000\" stroke-opacity=\"0.000\" class=\"guide background\" id=\"img-61df6c72-10\">\n",
       "      <rect x=\"10.99\" y=\"1\" width=\"139.94\" height=\"99.19\"/>\n",
       "    </g>\n",
       "    <g class=\"guide ygridlines xfixed\" stroke-dasharray=\"0.5,0.5\" stroke-width=\"0.2\" stroke=\"#D0D0E0\" id=\"img-61df6c72-11\">\n",
       "      <path fill=\"none\" d=\"M10.99,98.19 L 150.93 98.19\"/>\n",
       "      <path fill=\"none\" d=\"M10.99,82.32 L 150.93 82.32\"/>\n",
       "      <path fill=\"none\" d=\"M10.99,66.46 L 150.93 66.46\"/>\n",
       "      <path fill=\"none\" d=\"M10.99,50.59 L 150.93 50.59\"/>\n",
       "      <path fill=\"none\" d=\"M10.99,34.73 L 150.93 34.73\"/>\n",
       "      <path fill=\"none\" d=\"M10.99,18.86 L 150.93 18.86\"/>\n",
       "      <path fill=\"none\" d=\"M10.99,3 L 150.93 3\"/>\n",
       "    </g>\n",
       "    <g class=\"guide xgridlines yfixed\" stroke-dasharray=\"0.5,0.5\" stroke-width=\"0.2\" stroke=\"#D0D0E0\" id=\"img-61df6c72-12\">\n",
       "      <path fill=\"none\" d=\"M12.99,1 L 12.99 100.19\"/>\n",
       "      <path fill=\"none\" d=\"M46.98,1 L 46.98 100.19\"/>\n",
       "      <path fill=\"none\" d=\"M80.96,1 L 80.96 100.19\"/>\n",
       "      <path fill=\"none\" d=\"M114.95,1 L 114.95 100.19\"/>\n",
       "      <path fill=\"none\" d=\"M148.93,1 L 148.93 100.19\"/>\n",
       "    </g>\n",
       "    <g class=\"plotpanel\" id=\"img-61df6c72-13\">\n",
       "      <g stroke-width=\"0.26\" fill=\"#000000\" fill-opacity=\"0.000\" class=\"geometry\" stroke-dasharray=\"none\" stroke=\"#009AFA\" id=\"img-61df6c72-14\">\n",
       "        <path fill=\"none\" d=\"M13.67,50.59 L 14.35 50.59 15.03 50.59 15.71 50.59 16.39 50.59 17.07 50.59 17.75 50.59 18.43 50.59 19.11 50.59 19.79 50.59 20.47 50.59 21.15 50.59 21.83 50.59 22.51 50.59 23.19 50.59 23.87 50.59 24.55 50.59 25.23 50.59 25.91 50.59 26.59 50.59 27.27 50.59 27.95 50.59 28.63 50.59 29.31 50.59 29.99 50.59 30.67 50.59 31.35 50.6 32.02 50.6 32.7 50.6 33.38 50.6 34.06 50.6 34.74 50.6 35.42 50.6 36.1 50.6 36.78 50.6 37.46 50.6 38.14 50.6 38.82 50.6 39.5 50.6 40.18 50.6 40.86 50.6 41.54 50.6 42.22 50.6 42.9 50.6 43.58 50.6 44.26 50.6 44.94 50.6 45.62 50.6 46.3 50.6 46.98 50.6 47.66 50.6 48.34 50.6 49.02 50.6 49.7 50.59 50.38 50.59 51.06 50.59 51.74 50.59 52.42 50.59 53.1 50.59 53.78 50.59 54.46 50.59 55.13 50.59 55.81 50.59 56.49 50.59 57.17 50.59 57.85 50.59 58.53 50.59 59.21 50.59 59.89 50.59 60.57 50.59 61.25 50.59 61.93 50.59 62.61 50.59 63.29 50.59 63.97 50.59 64.65 50.59 65.33 50.59 66.01 50.59 66.69 50.59 67.37 50.59 68.05 50.59 68.73 50.59 69.41 50.59 70.09 50.59 70.77 50.59 71.45 50.59 72.13 50.59 72.81 50.59 73.49 50.59 74.17 50.59 74.85 50.59 75.53 50.59 76.21 50.59 76.89 50.59 77.56 50.59 78.24 50.59 78.92 50.59 79.6 50.59 80.28 50.59 80.96 50.59 81.64 50.59 82.32 50.59 83 50.59 83.68 50.59 84.36 50.59 85.04 50.59 85.72 50.59 86.4 50.59 87.08 50.59 87.76 50.59 88.44 50.59 89.12 50.59 89.8 50.59 90.48 50.59 91.16 50.59 91.84 50.59 92.52 50.59 93.2 50.59 93.88 50.59 94.56 50.59 95.24 50.59 95.92 50.59 96.6 50.59 97.28 50.58 97.96 50.58 98.64 50.56 99.32 50.53 100 50.47 100.67 50.36 101.35 50.17 102.03 49.84 102.71 49.31 103.39 48.46 104.07 47.16 104.75 45.26 105.43 42.61 106.11 39.08 106.79 34.63 107.47 29.34 108.15 23.48 108.83 17.51 109.51 12.05 110.19 7.77 110.87 5.26 111.55 4.89 112.23 6.68 112.91 10.31 113.59 15.31 114.27 21.2 114.95 27.69 115.63 34.67 116.31 42 116.99 49.22 117.67 55.41 118.35 59.37 119.03 60.16 119.71 57.83 120.39 53.59 121.07 49.48 121.75 47.28 122.43 47.58 123.1 49.51 123.78 51.42 124.46 52.08 125.14 51.44 125.82 50.39 126.5 49.9 127.18 50.18 127.86 50.72 128.54 50.94 129.22 50.74 129.9 50.48 130.58 50.46 131.26 50.59 131.94 50.61 132.62 50.47 133.3 50.43 133.98 50.79 134.66 51.59 135.34 52.67 136.02 53.8 136.7 54.76 137.38 55.39 138.06 55.53 138.74 55.21 139.42 54.56 140.1 53.77 140.78 52.99 141.46 52.29 142.14 51.72 142.82 51.31 143.5 51.03 144.18 50.85 144.86 50.74 145.53 50.67 146.21 50.63 146.89 50.62 147.57 50.6 148.25 50.59 148.93 50.59\"/>\n",
       "      </g>\n",
       "      <g stroke-width=\"0.26\" fill=\"#000000\" fill-opacity=\"0.000\" class=\"geometry\" stroke-dasharray=\"none\" stroke=\"#E36F47\" id=\"img-61df6c72-15\">\n",
       "        <path fill=\"none\" d=\"M80.96,96.3 L 80.96 4.89\"/>\n",
       "      </g>\n",
       "    </g>\n",
       "    <g class=\"geometry\" id=\"img-61df6c72-16\">\n",
       "      <text x=\"125.14\" y=\"9.46\">5 Cell CPML</text>\n",
       "    </g>\n",
       "    <g class=\"geometry\" id=\"img-61df6c72-17\">\n",
       "      <text x=\"12.99\" y=\"9.46\">5 Cell CPML</text>\n",
       "    </g>\n",
       "    <g class=\"geometry\" id=\"img-61df6c72-18\">\n",
       "      <text x=\"80.96\" y=\"9.46\">Eps = 9</text>\n",
       "    </g>\n",
       "    <g class=\"geometry\" id=\"img-61df6c72-19\">\n",
       "      <text x=\"67.37\" y=\"14.03\">Eps = 1</text>\n",
       "    </g>\n",
       "  </g>\n",
       "</g>\n",
       "  <g class=\"guide ylabels\" font-size=\"2.82\" font-family=\"Helvetica\" fill=\"#000000\" id=\"img-61df6c72-20\">\n",
       "    <text x=\"9.99\" y=\"98.19\" text-anchor=\"end\" dy=\"0.35em\">-0.006</text>\n",
       "    <text x=\"9.99\" y=\"82.32\" text-anchor=\"end\" dy=\"0.35em\">-0.004</text>\n",
       "    <text x=\"9.99\" y=\"66.46\" text-anchor=\"end\" dy=\"0.35em\">-0.002</text>\n",
       "    <text x=\"9.99\" y=\"50.59\" text-anchor=\"end\" dy=\"0.35em\">0.000</text>\n",
       "    <text x=\"9.99\" y=\"34.73\" text-anchor=\"end\" dy=\"0.35em\">0.002</text>\n",
       "    <text x=\"9.99\" y=\"18.86\" text-anchor=\"end\" dy=\"0.35em\">0.004</text>\n",
       "    <text x=\"9.99\" y=\"3\" text-anchor=\"end\" dy=\"0.35em\">0.006</text>\n",
       "  </g>\n",
       "</g>\n",
       "<defs>\n",
       "  <clipPath id=\"img-61df6c72-8\">\n",
       "  <path d=\"M10.99,1 L 150.93 1 150.93 100.19 10.99 100.19\" />\n",
       "</clipPath>\n",
       "</defs>\n",
       "</svg>\n"
      ],
      "text/html": [
       "<?xml version=\"1.0\" encoding=\"UTF-8\"?>\n",
       "<svg xmlns=\"http://www.w3.org/2000/svg\"\n",
       "     xmlns:xlink=\"http://www.w3.org/1999/xlink\"\n",
       "     xmlns:gadfly=\"http://www.gadflyjl.org/ns\"\n",
       "     version=\"1.2\"\n",
       "     width=\"158.73mm\" height=\"105.82mm\" viewBox=\"0 0 158.73 105.82\"\n",
       "     stroke=\"none\"\n",
       "     fill=\"#000000\"\n",
       "     stroke-width=\"0.3\"\n",
       "     font-size=\"3.88\"\n",
       ">\n",
       "<g stroke=\"#000000\" stroke-opacity=\"0.000\" fill=\"#FFFFFF\" id=\"img-61df6c72-1\">\n",
       "  <rect x=\"0\" y=\"0\" width=\"158.73\" height=\"105.82\"/>\n",
       "</g>\n",
       "<g class=\"plotroot xscalable yscalable\" id=\"img-61df6c72-2\">\n",
       "  <g class=\"guide xlabels\" font-size=\"2.82\" font-family=\"Helvetica\" fill=\"#000000\" id=\"img-61df6c72-3\">\n",
       "    <text x=\"12.99\" y=\"101.19\" text-anchor=\"middle\" dy=\"0.6em\">0</text>\n",
       "    <text x=\"46.98\" y=\"101.19\" text-anchor=\"middle\" dy=\"0.6em\">50</text>\n",
       "    <text x=\"80.96\" y=\"101.19\" text-anchor=\"middle\" dy=\"0.6em\">100</text>\n",
       "    <text x=\"114.95\" y=\"101.19\" text-anchor=\"middle\" dy=\"0.6em\">150</text>\n",
       "    <text x=\"148.93\" y=\"101.19\" text-anchor=\"middle\" dy=\"0.6em\">200</text>\n",
       "  </g>\n",
       "  <g class=\"guide colorkey\" id=\"img-61df6c72-4\">\n",
       "    <g fill=\"#000000\" font-size=\"2.82\" font-family=\"Helvetica\" id=\"img-61df6c72-5\">\n",
       "      <text x=\"154.75\" y=\"50.59\" dy=\"0.35em\">y1</text>\n",
       "      <text x=\"154.75\" y=\"54.23\" dy=\"0.35em\">y2</text>\n",
       "    </g>\n",
       "    <g stroke=\"#000000\" stroke-opacity=\"0.000\" id=\"img-61df6c72-6\">\n",
       "      <rect x=\"151.93\" y=\"49.69\" width=\"1.82\" height=\"1.82\" fill=\"#009AFA\"/>\n",
       "      <rect x=\"151.93\" y=\"53.32\" width=\"1.82\" height=\"1.82\" fill=\"#E36F47\"/>\n",
       "    </g>\n",
       "    <g fill=\"#000000\" font-size=\"3.88\" font-family=\"Helvetica\" stroke=\"#000000\" stroke-opacity=\"0.000\" id=\"img-61df6c72-7\">\n",
       "      <text x=\"151.93\" y=\"46.77\"></text>\n",
       "    </g>\n",
       "  </g>\n",
       "<g clip-path=\"url(#img-61df6c72-8)\">\n",
       "  <g id=\"img-61df6c72-9\">\n",
       "    <g pointer-events=\"visible\" opacity=\"1\" fill=\"#000000\" fill-opacity=\"0.000\" stroke=\"#000000\" stroke-opacity=\"0.000\" class=\"guide background\" id=\"img-61df6c72-10\">\n",
       "      <rect x=\"10.99\" y=\"1\" width=\"139.94\" height=\"99.19\"/>\n",
       "    </g>\n",
       "    <g class=\"guide ygridlines xfixed\" stroke-dasharray=\"0.5,0.5\" stroke-width=\"0.2\" stroke=\"#D0D0E0\" id=\"img-61df6c72-11\">\n",
       "      <path fill=\"none\" d=\"M10.99,98.19 L 150.93 98.19\"/>\n",
       "      <path fill=\"none\" d=\"M10.99,82.32 L 150.93 82.32\"/>\n",
       "      <path fill=\"none\" d=\"M10.99,66.46 L 150.93 66.46\"/>\n",
       "      <path fill=\"none\" d=\"M10.99,50.59 L 150.93 50.59\"/>\n",
       "      <path fill=\"none\" d=\"M10.99,34.73 L 150.93 34.73\"/>\n",
       "      <path fill=\"none\" d=\"M10.99,18.86 L 150.93 18.86\"/>\n",
       "      <path fill=\"none\" d=\"M10.99,3 L 150.93 3\"/>\n",
       "    </g>\n",
       "    <g class=\"guide xgridlines yfixed\" stroke-dasharray=\"0.5,0.5\" stroke-width=\"0.2\" stroke=\"#D0D0E0\" id=\"img-61df6c72-12\">\n",
       "      <path fill=\"none\" d=\"M12.99,1 L 12.99 100.19\"/>\n",
       "      <path fill=\"none\" d=\"M46.98,1 L 46.98 100.19\"/>\n",
       "      <path fill=\"none\" d=\"M80.96,1 L 80.96 100.19\"/>\n",
       "      <path fill=\"none\" d=\"M114.95,1 L 114.95 100.19\"/>\n",
       "      <path fill=\"none\" d=\"M148.93,1 L 148.93 100.19\"/>\n",
       "    </g>\n",
       "    <g class=\"plotpanel\" id=\"img-61df6c72-13\">\n",
       "      <g stroke-width=\"0.26\" fill=\"#000000\" fill-opacity=\"0.000\" class=\"geometry\" stroke-dasharray=\"none\" stroke=\"#009AFA\" id=\"img-61df6c72-14\">\n",
       "        <path fill=\"none\" d=\"M13.67,50.59 L 14.35 50.59 15.03 50.59 15.71 50.59 16.39 50.59 17.07 50.59 17.75 50.59 18.43 50.59 19.11 50.59 19.79 50.59 20.47 50.59 21.15 50.59 21.83 50.59 22.51 50.59 23.19 50.59 23.87 50.59 24.55 50.59 25.23 50.59 25.91 50.59 26.59 50.59 27.27 50.59 27.95 50.59 28.63 50.59 29.31 50.59 29.99 50.59 30.67 50.59 31.35 50.6 32.02 50.6 32.7 50.6 33.38 50.6 34.06 50.6 34.74 50.6 35.42 50.6 36.1 50.6 36.78 50.6 37.46 50.6 38.14 50.6 38.82 50.6 39.5 50.6 40.18 50.6 40.86 50.6 41.54 50.6 42.22 50.6 42.9 50.6 43.58 50.6 44.26 50.6 44.94 50.6 45.62 50.6 46.3 50.6 46.98 50.6 47.66 50.6 48.34 50.6 49.02 50.6 49.7 50.59 50.38 50.59 51.06 50.59 51.74 50.59 52.42 50.59 53.1 50.59 53.78 50.59 54.46 50.59 55.13 50.59 55.81 50.59 56.49 50.59 57.17 50.59 57.85 50.59 58.53 50.59 59.21 50.59 59.89 50.59 60.57 50.59 61.25 50.59 61.93 50.59 62.61 50.59 63.29 50.59 63.97 50.59 64.65 50.59 65.33 50.59 66.01 50.59 66.69 50.59 67.37 50.59 68.05 50.59 68.73 50.59 69.41 50.59 70.09 50.59 70.77 50.59 71.45 50.59 72.13 50.59 72.81 50.59 73.49 50.59 74.17 50.59 74.85 50.59 75.53 50.59 76.21 50.59 76.89 50.59 77.56 50.59 78.24 50.59 78.92 50.59 79.6 50.59 80.28 50.59 80.96 50.59 81.64 50.59 82.32 50.59 83 50.59 83.68 50.59 84.36 50.59 85.04 50.59 85.72 50.59 86.4 50.59 87.08 50.59 87.76 50.59 88.44 50.59 89.12 50.59 89.8 50.59 90.48 50.59 91.16 50.59 91.84 50.59 92.52 50.59 93.2 50.59 93.88 50.59 94.56 50.59 95.24 50.59 95.92 50.59 96.6 50.59 97.28 50.58 97.96 50.58 98.64 50.56 99.32 50.53 100 50.47 100.67 50.36 101.35 50.17 102.03 49.84 102.71 49.31 103.39 48.46 104.07 47.16 104.75 45.26 105.43 42.61 106.11 39.08 106.79 34.63 107.47 29.34 108.15 23.48 108.83 17.51 109.51 12.05 110.19 7.77 110.87 5.26 111.55 4.89 112.23 6.68 112.91 10.31 113.59 15.31 114.27 21.2 114.95 27.69 115.63 34.67 116.31 42 116.99 49.22 117.67 55.41 118.35 59.37 119.03 60.16 119.71 57.83 120.39 53.59 121.07 49.48 121.75 47.28 122.43 47.58 123.1 49.51 123.78 51.42 124.46 52.08 125.14 51.44 125.82 50.39 126.5 49.9 127.18 50.18 127.86 50.72 128.54 50.94 129.22 50.74 129.9 50.48 130.58 50.46 131.26 50.59 131.94 50.61 132.62 50.47 133.3 50.43 133.98 50.79 134.66 51.59 135.34 52.67 136.02 53.8 136.7 54.76 137.38 55.39 138.06 55.53 138.74 55.21 139.42 54.56 140.1 53.77 140.78 52.99 141.46 52.29 142.14 51.72 142.82 51.31 143.5 51.03 144.18 50.85 144.86 50.74 145.53 50.67 146.21 50.63 146.89 50.62 147.57 50.6 148.25 50.59 148.93 50.59\"/>\n",
       "      </g>\n",
       "      <g stroke-width=\"0.26\" fill=\"#000000\" fill-opacity=\"0.000\" class=\"geometry\" stroke-dasharray=\"none\" stroke=\"#E36F47\" id=\"img-61df6c72-15\">\n",
       "        <path fill=\"none\" d=\"M80.96,96.3 L 80.96 4.89\"/>\n",
       "      </g>\n",
       "    </g>\n",
       "    <g class=\"geometry\" id=\"img-61df6c72-16\">\n",
       "      <text x=\"125.14\" y=\"9.46\">5 Cell CPML</text>\n",
       "    </g>\n",
       "    <g class=\"geometry\" id=\"img-61df6c72-17\">\n",
       "      <text x=\"12.99\" y=\"9.46\">5 Cell CPML</text>\n",
       "    </g>\n",
       "    <g class=\"geometry\" id=\"img-61df6c72-18\">\n",
       "      <text x=\"80.96\" y=\"9.46\">Eps = 9</text>\n",
       "    </g>\n",
       "    <g class=\"geometry\" id=\"img-61df6c72-19\">\n",
       "      <text x=\"67.37\" y=\"14.03\">Eps = 1</text>\n",
       "    </g>\n",
       "  </g>\n",
       "</g>\n",
       "  <g class=\"guide ylabels\" font-size=\"2.82\" font-family=\"Helvetica\" fill=\"#000000\" id=\"img-61df6c72-20\">\n",
       "    <text x=\"9.99\" y=\"98.19\" text-anchor=\"end\" dy=\"0.35em\">-0.006</text>\n",
       "    <text x=\"9.99\" y=\"82.32\" text-anchor=\"end\" dy=\"0.35em\">-0.004</text>\n",
       "    <text x=\"9.99\" y=\"66.46\" text-anchor=\"end\" dy=\"0.35em\">-0.002</text>\n",
       "    <text x=\"9.99\" y=\"50.59\" text-anchor=\"end\" dy=\"0.35em\">0.000</text>\n",
       "    <text x=\"9.99\" y=\"34.73\" text-anchor=\"end\" dy=\"0.35em\">0.002</text>\n",
       "    <text x=\"9.99\" y=\"18.86\" text-anchor=\"end\" dy=\"0.35em\">0.004</text>\n",
       "    <text x=\"9.99\" y=\"3\" text-anchor=\"end\" dy=\"0.35em\">0.006</text>\n",
       "  </g>\n",
       "</g>\n",
       "<defs>\n",
       "  <clipPath id=\"img-61df6c72-8\">\n",
       "  <path d=\"M10.99,1 L 150.93 1 150.93 100.19 10.99 100.19\" />\n",
       "</clipPath>\n",
       "</defs>\n",
       "</svg>\n"
      ],
      "text/plain": [
       "Compose.SVG(158.73015873015876mm,105.82010582010584mm,IOBuffer(data=UInt8[...], readable=true, writable=true, seekable=true, append=false, size=6972, maxsize=Inf, ptr=6973, mark=-1),nothing,\"img-61df6c72\",0,Compose.SVGPropertyFrame[],Dict{Type{T},Union{Compose.Property{P<:Compose.PropertyPrimitive},Void}}(Compose.Property{Compose.FillPrimitive}=>nothing),Dict{Compose.ClipPrimitive{P<:NTuple{N,Measures.Measure}},ASCIIString}(Compose.ClipPrimitive{Tuple{Measures.Length{:mm,Float64},Measures.Length{:mm,Float64}}}([(10.99333333333334mm,1.0mm),(150.9334920634921mm,1.0mm),(150.9334920634921mm,100.18677248677251mm),(10.99333333333334mm,100.18677248677251mm)])=>\"img-61df6c72-8\"),Tuple{Compose.FormPrimitive,ASCIIString}[],Set{AbstractString}(),true,false,nothing,true,\"img-61df6c72-20\",false,20,AbstractString[\"/home/kryosugarra/.julia/v0.4/Gadfly/src/gadfly.js\"],Tuple{AbstractString,AbstractString}[(\"Snap.svg\",\"Snap\"),(\"Gadfly\",\"Gadfly\")],AbstractString[\"fig.select(\\\"#img-61df6c72-4\\\")\\n   .drag(function() {}, function() {}, function() {});\",\"fig.select(\\\"#img-61df6c72-9\\\")\\n   .init_gadfly();\"],false,:none)"
      ]
     },
     "metadata": {},
     "output_type": "display_data"
    },
    {
     "data": {
      "text/html": []
     },
     "execution_count": 7,
     "metadata": {},
     "output_type": "execute_result"
    }
   ],
   "source": [
    "plot(1:size, fieldsnap)\n",
    "plot!([100, 100], [-maximum(abs(fieldsnap)), maximum(abs(fieldsnap))])\n",
    "plot!(ann=[(80, 0.8*maximum(abs(fieldsnap)), \"Eps = 1\")])\n",
    "plot!(ann=[(100, 0.9*maximum(abs(fieldsnap)), \"Eps = 9\")])\n",
    "plot!(ann=[(0, 0.9*maximum(abs(fieldsnap)), \"5 Cell CPML\")])\n",
    "plot!(ann=[(165, 0.9*maximum(abs(fieldsnap)), \"5 Cell CPML\")])"
   ]
  },
  {
   "cell_type": "code",
   "execution_count": 8,
   "metadata": {
    "collapsed": false
   },
   "outputs": [
    {
     "name": "stdout",
     "output_type": "stream",
     "text": [
      "0.00027295405799045684"
     ]
    }
   ],
   "source": [
    "print(fieldsum)"
   ]
  },
  {
   "cell_type": "markdown",
   "metadata": {},
   "source": [
    "# 2. Dielectric eps=9 with 10 Cell CPML, Pulse width = 400\n",
    "### Setup Grid"
   ]
  },
  {
   "cell_type": "code",
   "execution_count": 9,
   "metadata": {
    "collapsed": true
   },
   "outputs": [],
   "source": [
    "#Global parameters\n",
    "size = 200;\n",
    "endTime = 1000;\n",
    "num_snaps = 200;\n",
    "snap_step = div(endTime, num_snaps);\n",
    "\n",
    "eps1 = 9;\n",
    "eps0 = 1;\n",
    "\n",
    "#Grid\n",
    "\n",
    "# Magnetic\n",
    "hy = zeros(size);\n",
    "mu = ones(size);\n",
    "\n",
    "chyh = ones(size);\n",
    "chye = ones(size);\n",
    "\n",
    "# Electric\n",
    "ez = zeros(size);\n",
    "eps = ones(size);\n",
    "\n",
    "cezh = ones(size);\n",
    "ceze = ones(size);\n",
    "\n",
    "\n",
    "for i in 1:99\n",
    "    eps[i] = eps0;\n",
    "end\n",
    "for i in 100:size\n",
    "    eps[i] = eps1;\n",
    "end\n",
    "\n",
    "# output params\n",
    "ez_snapshot = Array{Any}(num_snaps);\n",
    "hy_snapshot = Array{Any}(num_snaps);\n",
    "\n",
    "# \n",
    "fieldsum = 1;\n",
    "sumtime = 900;\n",
    "fieldsnap = zeros(size);\n"
   ]
  },
  {
   "cell_type": "markdown",
   "metadata": {},
   "source": [
    "### Setup CPML"
   ]
  },
  {
   "cell_type": "code",
   "execution_count": 10,
   "metadata": {
    "collapsed": false
   },
   "outputs": [],
   "source": [
    "#\n",
    "# setup CPML\n",
    "#\n",
    "\n",
    "# constants\n",
    "dx = 1.0;\n",
    "R0 = 1e-5;\n",
    "m = 2.85;\n",
    "pml_width = 10.0;\n",
    "\n",
    "# coeffs\n",
    "sigma_max = -(m+1)*log(R0)/2/globals.imp0/(pml_width*dx)\n",
    "sigma_x = zeros(size);\n",
    "sigma_m_x = zeros(size);\n",
    "\n",
    "for i in 1:round(Int,pml_width)\n",
    "    sigma_x[i+1] = sigma_max * real(Complex(((pml_width-(i-1)-0.5)/pml_width))^m)\n",
    "    sigma_m_x[i] = sigma_max * real(Complex(((pml_width-(i-1))/pml_width))^m)\n",
    "    \n",
    "    sigma_x[size-(i-1)] = sigma_max * real(Complex(((pml_width-(i)-0.5)/pml_width))^m)  \n",
    "    sigma_m_x[size-(i-1)] = sigma_max * real(Complex(((pml_width-(i))/pml_width))^m)\n",
    "end\n",
    "\n",
    "aex = exp(-sigma_x .* globals.imp0)-1\n",
    "bex = exp(-sigma_x .* globals.imp0)\n",
    "\n",
    "ahx = exp(-sigma_m_x .* globals.imp0)-1\n",
    "bhx = exp(-sigma_m_x .* globals.imp0)\n",
    "\n",
    "# arrays\n",
    "p_hy = zeros(size);\n",
    "p_ez = zeros(size);"
   ]
  },
  {
   "cell_type": "markdown",
   "metadata": {},
   "source": [
    "### Run Simulation"
   ]
  },
  {
   "cell_type": "code",
   "execution_count": 11,
   "metadata": {
    "collapsed": false
   },
   "outputs": [
    {
     "name": "stdout",
     "output_type": "stream",
     "text": [
      "9.117804315480013e-7"
     ]
    }
   ],
   "source": [
    "for time in 1:endTime\n",
    "    # Incident\n",
    "    # ez_inc, hy_inc = sources.gaussian_source(50, time);\n",
    "    delay = 400.\n",
    "    width = 400.\n",
    "    \n",
    "    ez_inc = exp(-(time + 0.5 - (-0.5) - delay) * (time + 0.5 - (-0.5) - delay) / width);\n",
    "    hy_inc = exp(-(time - delay) * (time - delay) / width);\n",
    "\n",
    "\n",
    "    #\n",
    "    # Magnetic\n",
    "    #\n",
    "\n",
    "    # CPML\n",
    "    for i in 1:size-1\n",
    "        p_hy[i] = bhx[i]*p_hy[i] + ahx[i]*(ez[i+1] - ez[i])\n",
    "    end\n",
    "           \n",
    "    # Interior update\n",
    "    for i = 1:size-1\n",
    "        hy[i] = chyh[i] * hy[i] + chye[i] * (ez[i+1] - ez[i]) / globals.imp0 / mu[i]\n",
    "    end\n",
    "       \n",
    "    # CPML\n",
    "    for i in 1:size-1\n",
    "        hy[i] += p_hy[i]/globals.imp0/mu[i]\n",
    "    end\n",
    "\n",
    "    # TFSF\n",
    "    hy[49] -= hy_inc / globals.imp0 / mu[49]\n",
    "    \n",
    "    #\n",
    "    # Electric\n",
    "    #\n",
    "    \n",
    "    # CPML\n",
    "    for i in 2:size\n",
    "        p_ez[i] = bex[i]*p_ez[i] + aex[i]*(hy[i] - hy[i-1])\n",
    "    end\n",
    "\n",
    "    # Interior update\n",
    "    for i = 2:size\n",
    "        ez[i] = ceze[i] * ez[i] + cezh[i] * (hy[i] - hy[i-1]) * globals.imp0 / eps[i]\n",
    "    end  \n",
    " \n",
    "    # CPML\n",
    "    for i in 2:size\n",
    "        ez[i] += p_ez[i]*globals.imp0/eps[i]\n",
    "    end\n",
    "    # TFSF\n",
    "    ez[50] += ez_inc / eps[50]\n",
    "\n",
    "\n",
    "    #Catch minimum E-Field\n",
    "    if time == sumtime\n",
    "            fieldsum = sum(ez.^2)\n",
    "            fieldsnap = copy(ez)\n",
    "    end\n",
    "    \n",
    "    #Snapshots for animation\n",
    "    if mod(time, snap_step) == 0\n",
    "        ez_snapshot[div(time,snap_step)] = (time, copy(ez))\n",
    "        hy_snapshot[div(time,snap_step)] = (time, copy(hy).*globals.imp0)        \n",
    "    end\n",
    "    \n",
    "end\n",
    "print(fieldsum)"
   ]
  },
  {
   "cell_type": "markdown",
   "metadata": {},
   "source": [
    "### Plot animation"
   ]
  },
  {
   "cell_type": "code",
   "execution_count": 12,
   "metadata": {
    "collapsed": false
   },
   "outputs": [
    {
     "name": "stderr",
     "output_type": "stream",
     "text": [
      "INFO: Saved animation to /media/storage/Documents/Github/1d-fdtd/tasks/Task1/CPML_Pulse_400.gif\n"
     ]
    },
    {
     "data": {
      "text/html": [
       "<img src=\"Task1/CPML_Pulse_400.gif?0.2969435133103939>\" />"
      ],
      "text/plain": [
       "Plots.AnimatedGif(\"/media/storage/Documents/Github/1d-fdtd/tasks/Task1/CPML_Pulse_400.gif\")"
      ]
     },
     "execution_count": 12,
     "metadata": {},
     "output_type": "execute_result"
    }
   ],
   "source": [
    "anim = Animation()\n",
    "\n",
    "for i = 1:num_snaps\n",
    "    p = plot(1:size, ez_snapshot[i][2], lab=\"Ez\")\n",
    "    plot!(1:size, hy_snapshot[i][2], lab=\"Hy*imp0\")\n",
    "    \n",
    "    time = ez_snapshot[i][1]\n",
    "    plot!(ann=[(150, 1.5, \"time =$time\")])\n",
    "    plot!(ann=[(0, 1.1, \"CPML\")])\n",
    "    \n",
    "    plot!(ann=[(80, 1.2, \"Eps = 1\")])\n",
    "    plot!(ann=[(101, 1.1, \"Eps = 9\")])    \n",
    "    plot!([100, 100], [-2, 2])\n",
    "    \n",
    "    plot!(ann=[(180, 1.1, \"CPML\")])\n",
    "    \n",
    "    plot!(xlims=(1, 200), ylims=(-2, 2))\n",
    "    frame(anim, p)\n",
    "end\n",
    "gif(anim, \"./Task1/CPML_Pulse_400.gif\", fps=15)"
   ]
  },
  {
   "cell_type": "markdown",
   "metadata": {},
   "source": [
    "### Field after reflection"
   ]
  },
  {
   "cell_type": "code",
   "execution_count": 13,
   "metadata": {
    "collapsed": false
   },
   "outputs": [
    {
     "data": {
      "image/svg+xml": [
       "<?xml version=\"1.0\" encoding=\"UTF-8\"?>\n",
       "<svg xmlns=\"http://www.w3.org/2000/svg\"\n",
       "     xmlns:xlink=\"http://www.w3.org/1999/xlink\"\n",
       "     xmlns:gadfly=\"http://www.gadflyjl.org/ns\"\n",
       "     version=\"1.2\"\n",
       "     width=\"158.73mm\" height=\"105.82mm\" viewBox=\"0 0 158.73 105.82\"\n",
       "     stroke=\"none\"\n",
       "     fill=\"#000000\"\n",
       "     stroke-width=\"0.3\"\n",
       "     font-size=\"3.88\"\n",
       ">\n",
       "<g stroke=\"#000000\" stroke-opacity=\"0.000\" fill=\"#FFFFFF\" id=\"img-f8251f62-1\">\n",
       "  <rect x=\"0\" y=\"0\" width=\"158.73\" height=\"105.82\"/>\n",
       "</g>\n",
       "<g class=\"plotroot xscalable yscalable\" id=\"img-f8251f62-2\">\n",
       "  <g class=\"guide xlabels\" font-size=\"2.82\" font-family=\"Helvetica\" fill=\"#000000\" id=\"img-f8251f62-3\">\n",
       "    <text x=\"14.56\" y=\"101.19\" text-anchor=\"middle\" dy=\"0.6em\">0</text>\n",
       "    <text x=\"48.15\" y=\"101.19\" text-anchor=\"middle\" dy=\"0.6em\">50</text>\n",
       "    <text x=\"81.75\" y=\"101.19\" text-anchor=\"middle\" dy=\"0.6em\">100</text>\n",
       "    <text x=\"115.34\" y=\"101.19\" text-anchor=\"middle\" dy=\"0.6em\">150</text>\n",
       "    <text x=\"148.93\" y=\"101.19\" text-anchor=\"middle\" dy=\"0.6em\">200</text>\n",
       "  </g>\n",
       "  <g class=\"guide colorkey\" id=\"img-f8251f62-4\">\n",
       "    <g fill=\"#000000\" font-size=\"2.82\" font-family=\"Helvetica\" id=\"img-f8251f62-5\">\n",
       "      <text x=\"154.75\" y=\"50.59\" dy=\"0.35em\">y1</text>\n",
       "      <text x=\"154.75\" y=\"54.23\" dy=\"0.35em\">y2</text>\n",
       "    </g>\n",
       "    <g stroke=\"#000000\" stroke-opacity=\"0.000\" id=\"img-f8251f62-6\">\n",
       "      <rect x=\"151.93\" y=\"49.69\" width=\"1.82\" height=\"1.82\" fill=\"#009AFA\"/>\n",
       "      <rect x=\"151.93\" y=\"53.32\" width=\"1.82\" height=\"1.82\" fill=\"#E36F47\"/>\n",
       "    </g>\n",
       "    <g fill=\"#000000\" font-size=\"3.88\" font-family=\"Helvetica\" stroke=\"#000000\" stroke-opacity=\"0.000\" id=\"img-f8251f62-7\">\n",
       "      <text x=\"151.93\" y=\"46.77\"></text>\n",
       "    </g>\n",
       "  </g>\n",
       "<g clip-path=\"url(#img-f8251f62-8)\">\n",
       "  <g id=\"img-f8251f62-9\">\n",
       "    <g pointer-events=\"visible\" opacity=\"1\" fill=\"#000000\" fill-opacity=\"0.000\" stroke=\"#000000\" stroke-opacity=\"0.000\" class=\"guide background\" id=\"img-f8251f62-10\">\n",
       "      <rect x=\"12.56\" y=\"1\" width=\"138.37\" height=\"99.19\"/>\n",
       "    </g>\n",
       "    <g class=\"guide ygridlines xfixed\" stroke-dasharray=\"0.5,0.5\" stroke-width=\"0.2\" stroke=\"#D0D0E0\" id=\"img-f8251f62-11\">\n",
       "      <path fill=\"none\" d=\"M12.56,98.19 L 150.93 98.19\"/>\n",
       "      <path fill=\"none\" d=\"M12.56,74.39 L 150.93 74.39\"/>\n",
       "      <path fill=\"none\" d=\"M12.56,50.59 L 150.93 50.59\"/>\n",
       "      <path fill=\"none\" d=\"M12.56,26.8 L 150.93 26.8\"/>\n",
       "      <path fill=\"none\" d=\"M12.56,3 L 150.93 3\"/>\n",
       "    </g>\n",
       "    <g class=\"guide xgridlines yfixed\" stroke-dasharray=\"0.5,0.5\" stroke-width=\"0.2\" stroke=\"#D0D0E0\" id=\"img-f8251f62-12\">\n",
       "      <path fill=\"none\" d=\"M14.56,1 L 14.56 100.19\"/>\n",
       "      <path fill=\"none\" d=\"M48.15,1 L 48.15 100.19\"/>\n",
       "      <path fill=\"none\" d=\"M81.75,1 L 81.75 100.19\"/>\n",
       "      <path fill=\"none\" d=\"M115.34,1 L 115.34 100.19\"/>\n",
       "      <path fill=\"none\" d=\"M148.93,1 L 148.93 100.19\"/>\n",
       "    </g>\n",
       "    <g class=\"plotpanel\" id=\"img-f8251f62-13\">\n",
       "      <g stroke-width=\"0.26\" fill=\"#000000\" fill-opacity=\"0.000\" class=\"geometry\" stroke-dasharray=\"none\" stroke=\"#009AFA\" id=\"img-f8251f62-14\">\n",
       "        <path fill=\"none\" d=\"M15.23,50.59 L 15.9 50.59 16.58 50.59 17.25 50.59 17.92 50.59 18.59 50.59 19.26 50.59 19.93 50.59 20.61 50.59 21.28 50.59 21.95 50.59 22.62 50.59 23.29 50.59 23.97 50.59 24.64 50.59 25.31 50.59 25.98 50.59 26.65 50.59 27.33 50.59 28 50.59 28.67 50.59 29.34 50.59 30.01 50.59 30.68 50.59 31.36 50.59 32.03 50.59 32.7 50.59 33.37 50.59 34.04 50.59 34.72 50.59 35.39 50.59 36.06 50.59 36.73 50.59 37.4 50.59 38.08 50.59 38.75 50.59 39.42 50.59 40.09 50.59 40.76 50.59 41.43 50.59 42.11 50.59 42.78 50.59 43.45 50.59 44.12 50.59 44.79 50.59 45.47 50.59 46.14 50.59 46.81 50.59 47.48 50.59 48.15 50.59 48.83 50.59 49.5 50.59 50.17 50.59 50.84 50.59 51.51 50.59 52.18 50.59 52.86 50.59 53.53 50.59 54.2 50.59 54.87 50.59 55.54 50.59 56.22 50.59 56.89 50.59 57.56 50.59 58.23 50.59 58.9 50.59 59.58 50.59 60.25 50.59 60.92 50.59 61.59 50.59 62.26 50.59 62.93 50.59 63.61 50.59 64.28 50.59 64.95 50.59 65.62 50.59 66.29 50.59 66.97 50.59 67.64 50.59 68.31 50.59 68.98 50.59 69.65 50.59 70.32 50.59 71 50.59 71.67 50.59 72.34 50.59 73.01 50.59 73.68 50.59 74.36 50.59 75.03 50.59 75.7 50.59 76.37 50.59 77.04 50.59 77.72 50.59 78.39 50.59 79.06 50.59 79.73 50.59 80.4 50.59 81.07 50.59 81.75 50.59 82.42 50.59 83.09 50.59 83.76 50.59 84.43 50.59 85.11 50.59 85.78 50.59 86.45 50.59 87.12 50.59 87.79 50.59 88.47 50.58 89.14 50.58 89.81 50.56 90.48 50.53 91.15 50.48 91.82 50.4 92.5 50.27 93.17 50.06 93.84 49.72 94.51 49.21 95.18 48.46 95.86 47.39 96.53 45.91 97.2 43.92 97.87 41.36 98.54 38.19 99.22 34.43 99.89 30.19 100.56 25.67 101.23 21.18 101.9 17.1 102.57 13.87 103.25 11.89 103.92 11.48 104.59 12.8 105.26 15.78 105.93 20.14 106.61 25.42 107.28 31.04 107.95 36.43 108.62 41.13 109.29 44.85 109.97 47.5 110.64 49.17 111.31 50.08 111.98 50.47 112.65 50.57 113.32 50.55 114 50.51 114.67 50.48 115.34 50.49 116.01 50.51 116.68 50.55 117.36 50.59 118.03 50.62 118.7 50.63 119.37 50.63 120.04 50.62 120.72 50.61 121.39 50.6 122.06 50.59 122.73 50.59 123.4 50.59 124.07 50.59 124.75 50.59 125.42 50.59 126.09 50.59 126.76 50.59 127.43 50.59 128.11 50.59 128.78 50.59 129.45 50.59 130.12 50.59 130.79 50.59 131.46 50.59 132.14 50.59 132.81 50.59 133.48 50.6 134.15 50.6 134.82 50.61 135.5 50.63 136.17 50.65 136.84 50.69 137.51 50.75 138.18 50.83 138.86 50.92 139.53 51.03 140.2 51.13 140.87 51.23 141.54 51.31 142.21 51.36 142.89 51.38 143.56 51.36 144.23 51.3 144.9 51.18 145.57 50.99 146.25 50.78 146.92 50.64 147.59 50.6 148.26 50.59 148.93 50.59\"/>\n",
       "      </g>\n",
       "      <g stroke-width=\"0.26\" fill=\"#000000\" fill-opacity=\"0.000\" class=\"geometry\" stroke-dasharray=\"none\" stroke=\"#E36F47\" id=\"img-f8251f62-15\">\n",
       "        <path fill=\"none\" d=\"M81.75,89.7 L 81.75 11.48\"/>\n",
       "      </g>\n",
       "    </g>\n",
       "    <g class=\"geometry\" id=\"img-f8251f62-16\">\n",
       "      <text x=\"125.42\" y=\"15.39\">10 Cell CPML</text>\n",
       "    </g>\n",
       "    <g class=\"geometry\" id=\"img-f8251f62-17\">\n",
       "      <text x=\"14.56\" y=\"15.39\">10 Cell CPML</text>\n",
       "    </g>\n",
       "    <g class=\"geometry\" id=\"img-f8251f62-18\">\n",
       "      <text x=\"81.75\" y=\"15.39\">Eps = 9</text>\n",
       "    </g>\n",
       "    <g class=\"geometry\" id=\"img-f8251f62-19\">\n",
       "      <text x=\"68.31\" y=\"19.31\">Eps = 1</text>\n",
       "    </g>\n",
       "  </g>\n",
       "</g>\n",
       "  <g class=\"guide ylabels\" font-size=\"2.82\" font-family=\"Helvetica\" fill=\"#000000\" id=\"img-f8251f62-20\">\n",
       "    <text x=\"11.56\" y=\"98.19\" text-anchor=\"end\" dy=\"0.35em\">-0.0004</text>\n",
       "    <text x=\"11.56\" y=\"74.39\" text-anchor=\"end\" dy=\"0.35em\">-0.0002</text>\n",
       "    <text x=\"11.56\" y=\"50.59\" text-anchor=\"end\" dy=\"0.35em\">0.0000</text>\n",
       "    <text x=\"11.56\" y=\"26.8\" text-anchor=\"end\" dy=\"0.35em\">0.0002</text>\n",
       "    <text x=\"11.56\" y=\"3\" text-anchor=\"end\" dy=\"0.35em\">0.0004</text>\n",
       "  </g>\n",
       "</g>\n",
       "<defs>\n",
       "  <clipPath id=\"img-f8251f62-8\">\n",
       "  <path d=\"M12.56,1 L 150.93 1 150.93 100.19 12.56 100.19\" />\n",
       "</clipPath>\n",
       "</defs>\n",
       "</svg>\n"
      ],
      "text/html": [
       "<?xml version=\"1.0\" encoding=\"UTF-8\"?>\n",
       "<svg xmlns=\"http://www.w3.org/2000/svg\"\n",
       "     xmlns:xlink=\"http://www.w3.org/1999/xlink\"\n",
       "     xmlns:gadfly=\"http://www.gadflyjl.org/ns\"\n",
       "     version=\"1.2\"\n",
       "     width=\"158.73mm\" height=\"105.82mm\" viewBox=\"0 0 158.73 105.82\"\n",
       "     stroke=\"none\"\n",
       "     fill=\"#000000\"\n",
       "     stroke-width=\"0.3\"\n",
       "     font-size=\"3.88\"\n",
       ">\n",
       "<g stroke=\"#000000\" stroke-opacity=\"0.000\" fill=\"#FFFFFF\" id=\"img-f8251f62-1\">\n",
       "  <rect x=\"0\" y=\"0\" width=\"158.73\" height=\"105.82\"/>\n",
       "</g>\n",
       "<g class=\"plotroot xscalable yscalable\" id=\"img-f8251f62-2\">\n",
       "  <g class=\"guide xlabels\" font-size=\"2.82\" font-family=\"Helvetica\" fill=\"#000000\" id=\"img-f8251f62-3\">\n",
       "    <text x=\"14.56\" y=\"101.19\" text-anchor=\"middle\" dy=\"0.6em\">0</text>\n",
       "    <text x=\"48.15\" y=\"101.19\" text-anchor=\"middle\" dy=\"0.6em\">50</text>\n",
       "    <text x=\"81.75\" y=\"101.19\" text-anchor=\"middle\" dy=\"0.6em\">100</text>\n",
       "    <text x=\"115.34\" y=\"101.19\" text-anchor=\"middle\" dy=\"0.6em\">150</text>\n",
       "    <text x=\"148.93\" y=\"101.19\" text-anchor=\"middle\" dy=\"0.6em\">200</text>\n",
       "  </g>\n",
       "  <g class=\"guide colorkey\" id=\"img-f8251f62-4\">\n",
       "    <g fill=\"#000000\" font-size=\"2.82\" font-family=\"Helvetica\" id=\"img-f8251f62-5\">\n",
       "      <text x=\"154.75\" y=\"50.59\" dy=\"0.35em\">y1</text>\n",
       "      <text x=\"154.75\" y=\"54.23\" dy=\"0.35em\">y2</text>\n",
       "    </g>\n",
       "    <g stroke=\"#000000\" stroke-opacity=\"0.000\" id=\"img-f8251f62-6\">\n",
       "      <rect x=\"151.93\" y=\"49.69\" width=\"1.82\" height=\"1.82\" fill=\"#009AFA\"/>\n",
       "      <rect x=\"151.93\" y=\"53.32\" width=\"1.82\" height=\"1.82\" fill=\"#E36F47\"/>\n",
       "    </g>\n",
       "    <g fill=\"#000000\" font-size=\"3.88\" font-family=\"Helvetica\" stroke=\"#000000\" stroke-opacity=\"0.000\" id=\"img-f8251f62-7\">\n",
       "      <text x=\"151.93\" y=\"46.77\"></text>\n",
       "    </g>\n",
       "  </g>\n",
       "<g clip-path=\"url(#img-f8251f62-8)\">\n",
       "  <g id=\"img-f8251f62-9\">\n",
       "    <g pointer-events=\"visible\" opacity=\"1\" fill=\"#000000\" fill-opacity=\"0.000\" stroke=\"#000000\" stroke-opacity=\"0.000\" class=\"guide background\" id=\"img-f8251f62-10\">\n",
       "      <rect x=\"12.56\" y=\"1\" width=\"138.37\" height=\"99.19\"/>\n",
       "    </g>\n",
       "    <g class=\"guide ygridlines xfixed\" stroke-dasharray=\"0.5,0.5\" stroke-width=\"0.2\" stroke=\"#D0D0E0\" id=\"img-f8251f62-11\">\n",
       "      <path fill=\"none\" d=\"M12.56,98.19 L 150.93 98.19\"/>\n",
       "      <path fill=\"none\" d=\"M12.56,74.39 L 150.93 74.39\"/>\n",
       "      <path fill=\"none\" d=\"M12.56,50.59 L 150.93 50.59\"/>\n",
       "      <path fill=\"none\" d=\"M12.56,26.8 L 150.93 26.8\"/>\n",
       "      <path fill=\"none\" d=\"M12.56,3 L 150.93 3\"/>\n",
       "    </g>\n",
       "    <g class=\"guide xgridlines yfixed\" stroke-dasharray=\"0.5,0.5\" stroke-width=\"0.2\" stroke=\"#D0D0E0\" id=\"img-f8251f62-12\">\n",
       "      <path fill=\"none\" d=\"M14.56,1 L 14.56 100.19\"/>\n",
       "      <path fill=\"none\" d=\"M48.15,1 L 48.15 100.19\"/>\n",
       "      <path fill=\"none\" d=\"M81.75,1 L 81.75 100.19\"/>\n",
       "      <path fill=\"none\" d=\"M115.34,1 L 115.34 100.19\"/>\n",
       "      <path fill=\"none\" d=\"M148.93,1 L 148.93 100.19\"/>\n",
       "    </g>\n",
       "    <g class=\"plotpanel\" id=\"img-f8251f62-13\">\n",
       "      <g stroke-width=\"0.26\" fill=\"#000000\" fill-opacity=\"0.000\" class=\"geometry\" stroke-dasharray=\"none\" stroke=\"#009AFA\" id=\"img-f8251f62-14\">\n",
       "        <path fill=\"none\" d=\"M15.23,50.59 L 15.9 50.59 16.58 50.59 17.25 50.59 17.92 50.59 18.59 50.59 19.26 50.59 19.93 50.59 20.61 50.59 21.28 50.59 21.95 50.59 22.62 50.59 23.29 50.59 23.97 50.59 24.64 50.59 25.31 50.59 25.98 50.59 26.65 50.59 27.33 50.59 28 50.59 28.67 50.59 29.34 50.59 30.01 50.59 30.68 50.59 31.36 50.59 32.03 50.59 32.7 50.59 33.37 50.59 34.04 50.59 34.72 50.59 35.39 50.59 36.06 50.59 36.73 50.59 37.4 50.59 38.08 50.59 38.75 50.59 39.42 50.59 40.09 50.59 40.76 50.59 41.43 50.59 42.11 50.59 42.78 50.59 43.45 50.59 44.12 50.59 44.79 50.59 45.47 50.59 46.14 50.59 46.81 50.59 47.48 50.59 48.15 50.59 48.83 50.59 49.5 50.59 50.17 50.59 50.84 50.59 51.51 50.59 52.18 50.59 52.86 50.59 53.53 50.59 54.2 50.59 54.87 50.59 55.54 50.59 56.22 50.59 56.89 50.59 57.56 50.59 58.23 50.59 58.9 50.59 59.58 50.59 60.25 50.59 60.92 50.59 61.59 50.59 62.26 50.59 62.93 50.59 63.61 50.59 64.28 50.59 64.95 50.59 65.62 50.59 66.29 50.59 66.97 50.59 67.64 50.59 68.31 50.59 68.98 50.59 69.65 50.59 70.32 50.59 71 50.59 71.67 50.59 72.34 50.59 73.01 50.59 73.68 50.59 74.36 50.59 75.03 50.59 75.7 50.59 76.37 50.59 77.04 50.59 77.72 50.59 78.39 50.59 79.06 50.59 79.73 50.59 80.4 50.59 81.07 50.59 81.75 50.59 82.42 50.59 83.09 50.59 83.76 50.59 84.43 50.59 85.11 50.59 85.78 50.59 86.45 50.59 87.12 50.59 87.79 50.59 88.47 50.58 89.14 50.58 89.81 50.56 90.48 50.53 91.15 50.48 91.82 50.4 92.5 50.27 93.17 50.06 93.84 49.72 94.51 49.21 95.18 48.46 95.86 47.39 96.53 45.91 97.2 43.92 97.87 41.36 98.54 38.19 99.22 34.43 99.89 30.19 100.56 25.67 101.23 21.18 101.9 17.1 102.57 13.87 103.25 11.89 103.92 11.48 104.59 12.8 105.26 15.78 105.93 20.14 106.61 25.42 107.28 31.04 107.95 36.43 108.62 41.13 109.29 44.85 109.97 47.5 110.64 49.17 111.31 50.08 111.98 50.47 112.65 50.57 113.32 50.55 114 50.51 114.67 50.48 115.34 50.49 116.01 50.51 116.68 50.55 117.36 50.59 118.03 50.62 118.7 50.63 119.37 50.63 120.04 50.62 120.72 50.61 121.39 50.6 122.06 50.59 122.73 50.59 123.4 50.59 124.07 50.59 124.75 50.59 125.42 50.59 126.09 50.59 126.76 50.59 127.43 50.59 128.11 50.59 128.78 50.59 129.45 50.59 130.12 50.59 130.79 50.59 131.46 50.59 132.14 50.59 132.81 50.59 133.48 50.6 134.15 50.6 134.82 50.61 135.5 50.63 136.17 50.65 136.84 50.69 137.51 50.75 138.18 50.83 138.86 50.92 139.53 51.03 140.2 51.13 140.87 51.23 141.54 51.31 142.21 51.36 142.89 51.38 143.56 51.36 144.23 51.3 144.9 51.18 145.57 50.99 146.25 50.78 146.92 50.64 147.59 50.6 148.26 50.59 148.93 50.59\"/>\n",
       "      </g>\n",
       "      <g stroke-width=\"0.26\" fill=\"#000000\" fill-opacity=\"0.000\" class=\"geometry\" stroke-dasharray=\"none\" stroke=\"#E36F47\" id=\"img-f8251f62-15\">\n",
       "        <path fill=\"none\" d=\"M81.75,89.7 L 81.75 11.48\"/>\n",
       "      </g>\n",
       "    </g>\n",
       "    <g class=\"geometry\" id=\"img-f8251f62-16\">\n",
       "      <text x=\"125.42\" y=\"15.39\">10 Cell CPML</text>\n",
       "    </g>\n",
       "    <g class=\"geometry\" id=\"img-f8251f62-17\">\n",
       "      <text x=\"14.56\" y=\"15.39\">10 Cell CPML</text>\n",
       "    </g>\n",
       "    <g class=\"geometry\" id=\"img-f8251f62-18\">\n",
       "      <text x=\"81.75\" y=\"15.39\">Eps = 9</text>\n",
       "    </g>\n",
       "    <g class=\"geometry\" id=\"img-f8251f62-19\">\n",
       "      <text x=\"68.31\" y=\"19.31\">Eps = 1</text>\n",
       "    </g>\n",
       "  </g>\n",
       "</g>\n",
       "  <g class=\"guide ylabels\" font-size=\"2.82\" font-family=\"Helvetica\" fill=\"#000000\" id=\"img-f8251f62-20\">\n",
       "    <text x=\"11.56\" y=\"98.19\" text-anchor=\"end\" dy=\"0.35em\">-0.0004</text>\n",
       "    <text x=\"11.56\" y=\"74.39\" text-anchor=\"end\" dy=\"0.35em\">-0.0002</text>\n",
       "    <text x=\"11.56\" y=\"50.59\" text-anchor=\"end\" dy=\"0.35em\">0.0000</text>\n",
       "    <text x=\"11.56\" y=\"26.8\" text-anchor=\"end\" dy=\"0.35em\">0.0002</text>\n",
       "    <text x=\"11.56\" y=\"3\" text-anchor=\"end\" dy=\"0.35em\">0.0004</text>\n",
       "  </g>\n",
       "</g>\n",
       "<defs>\n",
       "  <clipPath id=\"img-f8251f62-8\">\n",
       "  <path d=\"M12.56,1 L 150.93 1 150.93 100.19 12.56 100.19\" />\n",
       "</clipPath>\n",
       "</defs>\n",
       "</svg>\n"
      ],
      "text/plain": [
       "Compose.SVG(158.73015873015876mm,105.82010582010584mm,IOBuffer(data=UInt8[...], readable=true, writable=true, seekable=true, append=false, size=6753, maxsize=Inf, ptr=6754, mark=-1),nothing,\"img-f8251f62\",0,Compose.SVGPropertyFrame[],Dict{Type{T},Union{Compose.Property{P<:Compose.PropertyPrimitive},Void}}(Compose.Property{Compose.FillPrimitive}=>nothing),Dict{Compose.ClipPrimitive{P<:NTuple{N,Measures.Measure}},ASCIIString}(Compose.ClipPrimitive{Tuple{Measures.Length{:mm,Float64},Measures.Length{:mm,Float64}}}([(12.560000000000002mm,1.0mm),(150.9334920634921mm,1.0mm),(150.9334920634921mm,100.18677248677251mm),(12.560000000000002mm,100.18677248677251mm)])=>\"img-f8251f62-8\"),Tuple{Compose.FormPrimitive,ASCIIString}[],Set{AbstractString}(),true,false,nothing,true,\"img-f8251f62-20\",false,20,AbstractString[\"/home/kryosugarra/.julia/v0.4/Gadfly/src/gadfly.js\"],Tuple{AbstractString,AbstractString}[(\"Snap.svg\",\"Snap\"),(\"Gadfly\",\"Gadfly\")],AbstractString[\"fig.select(\\\"#img-f8251f62-4\\\")\\n   .drag(function() {}, function() {}, function() {});\",\"fig.select(\\\"#img-f8251f62-9\\\")\\n   .init_gadfly();\"],false,:none)"
      ]
     },
     "metadata": {},
     "output_type": "display_data"
    },
    {
     "data": {
      "text/html": []
     },
     "execution_count": 13,
     "metadata": {},
     "output_type": "execute_result"
    }
   ],
   "source": [
    "plot(1:size, fieldsnap)\n",
    "plot!([100, 100], [-maximum(abs(fieldsnap)), maximum(abs(fieldsnap))])\n",
    "plot!(ann=[(80, 0.8*maximum(abs(fieldsnap)), \"Eps = 1\")])\n",
    "plot!(ann=[(100, 0.9*maximum(abs(fieldsnap)), \"Eps = 9\")])\n",
    "plot!(ann=[(0, 0.9*maximum(abs(fieldsnap)), \"10 Cell CPML\")])\n",
    "plot!(ann=[(165, 0.9*maximum(abs(fieldsnap)), \"10 Cell CPML\")])"
   ]
  },
  {
   "cell_type": "code",
   "execution_count": 14,
   "metadata": {
    "collapsed": false
   },
   "outputs": [
    {
     "name": "stdout",
     "output_type": "stream",
     "text": [
      "9.117804315480013e-7"
     ]
    }
   ],
   "source": [
    "print(fieldsum)"
   ]
  },
  {
   "cell_type": "code",
   "execution_count": null,
   "metadata": {
    "collapsed": true
   },
   "outputs": [],
   "source": []
  }
 ],
 "metadata": {
  "kernelspec": {
   "display_name": "Julia 0.4.5",
   "language": "julia",
   "name": "julia-0.4"
  },
  "language_info": {
   "file_extension": ".jl",
   "mimetype": "application/julia",
   "name": "julia",
   "version": "0.4.5"
  }
 },
 "nbformat": 4,
 "nbformat_minor": 0
}
