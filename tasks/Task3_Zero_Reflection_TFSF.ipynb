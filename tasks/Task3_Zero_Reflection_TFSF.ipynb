{
 "cells": [
  {
   "cell_type": "code",
   "execution_count": 9,
   "metadata": {
    "collapsed": false
   },
   "outputs": [],
   "source": [
    "using Plots;\n",
    "gadfly();"
   ]
  },
  {
   "cell_type": "code",
   "execution_count": 10,
   "metadata": {
    "collapsed": false
   },
   "outputs": [
    {
     "name": "stderr",
     "output_type": "stream",
     "text": [
      "WARNING: replacing module globals\n",
      "WARNING: replacing module update\n",
      "WARNING: replacing module globals\n",
      "WARNING: replacing module sources\n",
      "WARNING: replacing module boundaries\n"
     ]
    }
   ],
   "source": [
    "include(\"../fdtd/update.jl\");\n",
    "include(\"../fdtd/sources.jl\");\n",
    "include(\"../fdtd/boundaries.jl\");\n",
    "using update;\n",
    "using sources;"
   ]
  },
  {
   "cell_type": "code",
   "execution_count": 78,
   "metadata": {
    "collapsed": false
   },
   "outputs": [],
   "source": [
    "#Global parameters\n",
    "size = 400;\n",
    "endTime = 4000;\n",
    "num_snaps = 100;\n",
    "snap_step = div(endTime, num_snaps);\n",
    "\n",
    "# Incident\n",
    "inc_pos = 100;\n",
    "\n",
    "# Material\n",
    "n1 = 2;\n",
    "n2 = 2;\n",
    "eps1 = n1^2;\n",
    "\n",
    "wavelength = round(Integer, size / 5);\n",
    "q_wavelength = round(Integer, wavelength * n1 / n2 / 2);\n",
    "n2 = (wavelength * n1) / (q_wavelength * 2.);\n",
    "\n",
    "eps2 = n2^2;\n",
    "#Grid\n",
    "\n",
    "# Magnetic\n",
    "hy = zeros(size-1);\n",
    "mu = ones(size-1);\n",
    "\n",
    "chyh = ones(size);\n",
    "chye = ones(size);\n",
    "\n",
    "\n",
    "# Electric\n",
    "ez = zeros(size);\n",
    "eps = ones(size) * eps1;\n",
    "\n",
    "cezh = ones(size);\n",
    "ceze = ones(size);\n",
    "\n",
    "\n",
    "#for i in 110:170\n",
    "#    eps[i] = eps1;\n",
    "#end\n",
    "for i in div(size, 2):div(size, 2)+q_wavelength-1\n",
    "    # eps[i] = eps2;\n",
    "end\n",
    "\n",
    "rightBound = boundaries.setup_first_order_abc(eps, mu, size, true)\n",
    "leftBound = boundaries.setup_first_order_abc(eps, mu, 1, false)\n",
    "\n",
    "# output params\n",
    "ez_snapshot = Array{Any}(num_snaps);\n",
    "hy_snapshot = Array{Any}(num_snaps);"
   ]
  },
  {
   "cell_type": "code",
   "execution_count": 83,
   "metadata": {
    "collapsed": false
   },
   "outputs": [],
   "source": [
    "# Time steps\n",
    "\n",
    "for time in 1:endTime\n",
    "    # Incident\n",
    "    ez_inc = sin(2*pi/(wavelength) * (time-1))*exp(-3000/time);\n",
    "    hy_inc = sin(2*pi/(wavelength) * (time-2))*exp(-3000/time);\n",
    "    \n",
    "    #\n",
    "    # Magnetic\n",
    "    #\n",
    "        \n",
    "    # Interior update\n",
    "    update.update_magnetic_field!(ez, hy, mu, chyh, chye);    \n",
    "    \n",
    "    # TFSF\n",
    "    hy[inc_pos-1] -= hy_inc / globals.imp0;\n",
    "    \n",
    "    #\n",
    "    # Electric\n",
    "    #\n",
    "       \n",
    "    # Interior update\n",
    "    update.update_electric_field!(ez, hy, eps, cezh, ceze);\n",
    "    \n",
    "    # ABC\n",
    "    boundaries.first_order_diff_abc!(ez, leftBound)\n",
    "    boundaries.first_order_diff_abc!(ez, rightBound)\n",
    "    \n",
    "    # TFSF\n",
    "    ez[inc_pos] += ez_inc / sqrt( eps[inc_pos] * mu[inc_pos])\n",
    " \n",
    "    # Snapshots for animation\n",
    "    if mod(time, snap_step) == 0\n",
    "        ez_snapshot[div(time,snap_step)] = (time, copy(ez))\n",
    "        hy_snapshot[div(time,snap_step)] = (time, copy(hy).*globals.imp0)        \n",
    "    end\n",
    "    \n",
    "end"
   ]
  },
  {
   "cell_type": "code",
   "execution_count": 84,
   "metadata": {
    "collapsed": false
   },
   "outputs": [
    {
     "name": "stderr",
     "output_type": "stream",
     "text": [
      "INFO: Saved animation to /media/storage/Documents/Github/students-2016/1_fdtd/Tasks/Task3/Half_Wavelength_Reflection_TFSF.gif\n"
     ]
    },
    {
     "data": {
      "text/html": [
       "<img src=\"Task3/Half_Wavelength_Reflection_TFSF.gif?0.5547172445691955>\" />"
      ],
      "text/plain": [
       "Plots.AnimatedGif(\"/media/storage/Documents/Github/students-2016/1_fdtd/Tasks/Task3/Half_Wavelength_Reflection_TFSF.gif\")"
      ]
     },
     "execution_count": 84,
     "metadata": {},
     "output_type": "execute_result"
    }
   ],
   "source": [
    "anim = Animation()\n",
    "\n",
    "for i = 1:num_snaps\n",
    "    p = plot(1:size, ez_snapshot[i][2], lab=\"Ez\")\n",
    "    \n",
    "    time = ez_snapshot[i][1]\n",
    "    plot!(ann=[(0.8*size, 1.5, \"time =$time\")])\n",
    "    plot!([size/2, size/2], [-2, 2])\n",
    "    plot!([size/2+q_wavelength, size/2+q_wavelength], [-2, 2])\n",
    "    \n",
    "    plot!(xlims=(1, size), ylims=(-2, 2))\n",
    "    frame(anim, p)\n",
    "end\n",
    "gif(anim, \"./Task3/Half_Wavelength_Reflection_TFSF.gif\", fps=15)"
   ]
  },
  {
   "cell_type": "code",
   "execution_count": 81,
   "metadata": {
    "collapsed": false
   },
   "outputs": [
    {
     "data": {
      "image/svg+xml": [
       "<?xml version=\"1.0\" encoding=\"UTF-8\"?>\n",
       "<svg xmlns=\"http://www.w3.org/2000/svg\"\n",
       "     xmlns:xlink=\"http://www.w3.org/1999/xlink\"\n",
       "     xmlns:gadfly=\"http://www.gadflyjl.org/ns\"\n",
       "     version=\"1.2\"\n",
       "     width=\"158.73mm\" height=\"105.82mm\" viewBox=\"0 0 158.73 105.82\"\n",
       "     stroke=\"none\"\n",
       "     fill=\"#000000\"\n",
       "     stroke-width=\"0.3\"\n",
       "     font-size=\"3.88\"\n",
       ">\n",
       "<g stroke=\"#000000\" stroke-opacity=\"0.000\" fill=\"#FFFFFF\" id=\"img-684d07c3-1\">\n",
       "  <rect x=\"0\" y=\"0\" width=\"158.73\" height=\"105.82\"/>\n",
       "</g>\n",
       "<g class=\"plotroot xscalable yscalable\" id=\"img-684d07c3-2\">\n",
       "  <g class=\"guide xlabels\" font-size=\"2.82\" font-family=\"Helvetica\" fill=\"#000000\" id=\"img-684d07c3-3\">\n",
       "    <text x=\"80.89\" y=\"101.19\" text-anchor=\"middle\" dy=\"0.6em\">50</text>\n",
       "  </g>\n",
       "  <g class=\"guide colorkey\" id=\"img-684d07c3-4\">\n",
       "    <g fill=\"#000000\" font-size=\"2.82\" font-family=\"Helvetica\" id=\"img-684d07c3-5\">\n",
       "      <text x=\"154.75\" y=\"52.41\" dy=\"0.35em\">y1</text>\n",
       "    </g>\n",
       "    <g fill=\"#009AFA\" stroke=\"#000000\" stroke-opacity=\"0.000\" id=\"img-684d07c3-6\">\n",
       "      <rect x=\"151.93\" y=\"51.5\" width=\"1.82\" height=\"1.82\"/>\n",
       "    </g>\n",
       "    <g fill=\"#000000\" font-size=\"3.88\" font-family=\"Helvetica\" stroke=\"#000000\" stroke-opacity=\"0.000\" id=\"img-684d07c3-7\">\n",
       "      <text x=\"151.93\" y=\"48.59\"></text>\n",
       "    </g>\n",
       "  </g>\n",
       "<g clip-path=\"url(#img-684d07c3-8)\">\n",
       "  <g id=\"img-684d07c3-9\">\n",
       "    <g pointer-events=\"visible\" opacity=\"1\" fill=\"#000000\" fill-opacity=\"0.000\" stroke=\"#000000\" stroke-opacity=\"0.000\" class=\"guide background\" id=\"img-684d07c3-10\">\n",
       "      <rect x=\"9.43\" y=\"1\" width=\"141.51\" height=\"99.19\"/>\n",
       "    </g>\n",
       "    <g class=\"guide ygridlines xfixed\" stroke-dasharray=\"0.5,0.5\" stroke-width=\"0.2\" stroke=\"#D0D0E0\" id=\"img-684d07c3-11\">\n",
       "      <path fill=\"none\" d=\"M9.43,81.7 L 150.93 81.7\"/>\n",
       "      <path fill=\"none\" d=\"M9.43,50.65 L 150.93 50.65\"/>\n",
       "      <path fill=\"none\" d=\"M9.43,19.61 L 150.93 19.61\"/>\n",
       "    </g>\n",
       "    <g class=\"guide xgridlines yfixed\" stroke-dasharray=\"0.5,0.5\" stroke-width=\"0.2\" stroke=\"#D0D0E0\" id=\"img-684d07c3-12\">\n",
       "      <path fill=\"none\" d=\"M80.89,1 L 80.89 100.19\"/>\n",
       "    </g>\n",
       "    <g class=\"plotpanel\" id=\"img-684d07c3-13\">\n",
       "      <g stroke-width=\"0.26\" fill=\"#000000\" fill-opacity=\"0.000\" class=\"geometry\" stroke-dasharray=\"none\" stroke=\"#009AFA\" id=\"img-684d07c3-14\">\n",
       "        <path fill=\"none\" d=\"M11.43,4.2 L 12.84 6.04 14.26 8.99 15.68 12.97 17.1 17.88 18.51 23.6 19.93 29.98 21.35 36.88 22.77 44.12 24.19 51.53 25.6 58.91 27.02 66.09 28.44 72.9 29.86 79.15 31.27 84.71 32.69 89.42 34.11 93.19 35.53 95.9 36.94 97.5 38.36 97.94 39.78 97.22 41.2 95.34 42.61 92.37 44.03 88.36 45.45 83.43 46.87 77.68 48.28 71.27 49.7 64.34 51.12 57.08 52.54 49.65 53.95 42.25 55.37 35.05 56.79 28.24 58.21 21.98 59.62 16.42 61.04 11.71 62.46 7.95 63.88 5.25 65.3 3.67 66.71 3.24 68.13 3.99 69.55 5.88 70.97 8.88 72.38 12.92 73.8 17.88 75.22 23.66 76.64 30.1 78.05 37.05 79.47 44.34 80.89 51.78 82.31 59.2 83.72 66.41 85.14 73.24 86.56 79.51 87.98 85.06 89.39 89.78 90.81 93.52 92.23 96.21 93.65 97.78 95.06 98.19 96.48 97.42 97.9 95.5 99.32 92.47 100.74 88.41 102.15 83.42 103.57 77.62 104.99 71.15 106.41 64.17 107.82 56.86 109.24 49.4 110.66 41.96 112.08 34.73 113.49 27.9 114.91 21.63 116.33 16.07 117.75 11.36 119.16 7.62 120.58 4.94 122 3.39 123.42 3 124.83 3.79 126.25 5.73 127.67 8.79 129.09 12.87 130.5 17.89 131.92 23.72 133.34 30.22 134.76 37.22 136.18 44.55 137.59 52.04 139.01 59.49 140.43 66.73 141.85 73.57 143.26 79.85 144.68 85.41 146.1 90.12 147.52 93.85 148.93 96.52\"/>\n",
       "      </g>\n",
       "    </g>\n",
       "  </g>\n",
       "</g>\n",
       "  <g class=\"guide ylabels\" font-size=\"2.82\" font-family=\"Helvetica\" fill=\"#000000\" id=\"img-684d07c3-15\">\n",
       "    <text x=\"8.43\" y=\"81.7\" text-anchor=\"end\" dy=\"0.35em\">-0.01</text>\n",
       "    <text x=\"8.43\" y=\"50.65\" text-anchor=\"end\" dy=\"0.35em\">0.00</text>\n",
       "    <text x=\"8.43\" y=\"19.61\" text-anchor=\"end\" dy=\"0.35em\">0.01</text>\n",
       "  </g>\n",
       "</g>\n",
       "<defs>\n",
       "  <clipPath id=\"img-684d07c3-8\">\n",
       "  <path d=\"M9.43,1 L 150.93 1 150.93 100.19 9.43 100.19\" />\n",
       "</clipPath>\n",
       "</defs>\n",
       "</svg>\n"
      ],
      "text/html": [
       "<?xml version=\"1.0\" encoding=\"UTF-8\"?>\n",
       "<svg xmlns=\"http://www.w3.org/2000/svg\"\n",
       "     xmlns:xlink=\"http://www.w3.org/1999/xlink\"\n",
       "     xmlns:gadfly=\"http://www.gadflyjl.org/ns\"\n",
       "     version=\"1.2\"\n",
       "     width=\"158.73mm\" height=\"105.82mm\" viewBox=\"0 0 158.73 105.82\"\n",
       "     stroke=\"none\"\n",
       "     fill=\"#000000\"\n",
       "     stroke-width=\"0.3\"\n",
       "     font-size=\"3.88\"\n",
       ">\n",
       "<g stroke=\"#000000\" stroke-opacity=\"0.000\" fill=\"#FFFFFF\" id=\"img-684d07c3-1\">\n",
       "  <rect x=\"0\" y=\"0\" width=\"158.73\" height=\"105.82\"/>\n",
       "</g>\n",
       "<g class=\"plotroot xscalable yscalable\" id=\"img-684d07c3-2\">\n",
       "  <g class=\"guide xlabels\" font-size=\"2.82\" font-family=\"Helvetica\" fill=\"#000000\" id=\"img-684d07c3-3\">\n",
       "    <text x=\"80.89\" y=\"101.19\" text-anchor=\"middle\" dy=\"0.6em\">50</text>\n",
       "  </g>\n",
       "  <g class=\"guide colorkey\" id=\"img-684d07c3-4\">\n",
       "    <g fill=\"#000000\" font-size=\"2.82\" font-family=\"Helvetica\" id=\"img-684d07c3-5\">\n",
       "      <text x=\"154.75\" y=\"52.41\" dy=\"0.35em\">y1</text>\n",
       "    </g>\n",
       "    <g fill=\"#009AFA\" stroke=\"#000000\" stroke-opacity=\"0.000\" id=\"img-684d07c3-6\">\n",
       "      <rect x=\"151.93\" y=\"51.5\" width=\"1.82\" height=\"1.82\"/>\n",
       "    </g>\n",
       "    <g fill=\"#000000\" font-size=\"3.88\" font-family=\"Helvetica\" stroke=\"#000000\" stroke-opacity=\"0.000\" id=\"img-684d07c3-7\">\n",
       "      <text x=\"151.93\" y=\"48.59\"></text>\n",
       "    </g>\n",
       "  </g>\n",
       "<g clip-path=\"url(#img-684d07c3-8)\">\n",
       "  <g id=\"img-684d07c3-9\">\n",
       "    <g pointer-events=\"visible\" opacity=\"1\" fill=\"#000000\" fill-opacity=\"0.000\" stroke=\"#000000\" stroke-opacity=\"0.000\" class=\"guide background\" id=\"img-684d07c3-10\">\n",
       "      <rect x=\"9.43\" y=\"1\" width=\"141.51\" height=\"99.19\"/>\n",
       "    </g>\n",
       "    <g class=\"guide ygridlines xfixed\" stroke-dasharray=\"0.5,0.5\" stroke-width=\"0.2\" stroke=\"#D0D0E0\" id=\"img-684d07c3-11\">\n",
       "      <path fill=\"none\" d=\"M9.43,81.7 L 150.93 81.7\"/>\n",
       "      <path fill=\"none\" d=\"M9.43,50.65 L 150.93 50.65\"/>\n",
       "      <path fill=\"none\" d=\"M9.43,19.61 L 150.93 19.61\"/>\n",
       "    </g>\n",
       "    <g class=\"guide xgridlines yfixed\" stroke-dasharray=\"0.5,0.5\" stroke-width=\"0.2\" stroke=\"#D0D0E0\" id=\"img-684d07c3-12\">\n",
       "      <path fill=\"none\" d=\"M80.89,1 L 80.89 100.19\"/>\n",
       "    </g>\n",
       "    <g class=\"plotpanel\" id=\"img-684d07c3-13\">\n",
       "      <g stroke-width=\"0.26\" fill=\"#000000\" fill-opacity=\"0.000\" class=\"geometry\" stroke-dasharray=\"none\" stroke=\"#009AFA\" id=\"img-684d07c3-14\">\n",
       "        <path fill=\"none\" d=\"M11.43,4.2 L 12.84 6.04 14.26 8.99 15.68 12.97 17.1 17.88 18.51 23.6 19.93 29.98 21.35 36.88 22.77 44.12 24.19 51.53 25.6 58.91 27.02 66.09 28.44 72.9 29.86 79.15 31.27 84.71 32.69 89.42 34.11 93.19 35.53 95.9 36.94 97.5 38.36 97.94 39.78 97.22 41.2 95.34 42.61 92.37 44.03 88.36 45.45 83.43 46.87 77.68 48.28 71.27 49.7 64.34 51.12 57.08 52.54 49.65 53.95 42.25 55.37 35.05 56.79 28.24 58.21 21.98 59.62 16.42 61.04 11.71 62.46 7.95 63.88 5.25 65.3 3.67 66.71 3.24 68.13 3.99 69.55 5.88 70.97 8.88 72.38 12.92 73.8 17.88 75.22 23.66 76.64 30.1 78.05 37.05 79.47 44.34 80.89 51.78 82.31 59.2 83.72 66.41 85.14 73.24 86.56 79.51 87.98 85.06 89.39 89.78 90.81 93.52 92.23 96.21 93.65 97.78 95.06 98.19 96.48 97.42 97.9 95.5 99.32 92.47 100.74 88.41 102.15 83.42 103.57 77.62 104.99 71.15 106.41 64.17 107.82 56.86 109.24 49.4 110.66 41.96 112.08 34.73 113.49 27.9 114.91 21.63 116.33 16.07 117.75 11.36 119.16 7.62 120.58 4.94 122 3.39 123.42 3 124.83 3.79 126.25 5.73 127.67 8.79 129.09 12.87 130.5 17.89 131.92 23.72 133.34 30.22 134.76 37.22 136.18 44.55 137.59 52.04 139.01 59.49 140.43 66.73 141.85 73.57 143.26 79.85 144.68 85.41 146.1 90.12 147.52 93.85 148.93 96.52\"/>\n",
       "      </g>\n",
       "    </g>\n",
       "  </g>\n",
       "</g>\n",
       "  <g class=\"guide ylabels\" font-size=\"2.82\" font-family=\"Helvetica\" fill=\"#000000\" id=\"img-684d07c3-15\">\n",
       "    <text x=\"8.43\" y=\"81.7\" text-anchor=\"end\" dy=\"0.35em\">-0.01</text>\n",
       "    <text x=\"8.43\" y=\"50.65\" text-anchor=\"end\" dy=\"0.35em\">0.00</text>\n",
       "    <text x=\"8.43\" y=\"19.61\" text-anchor=\"end\" dy=\"0.35em\">0.01</text>\n",
       "  </g>\n",
       "</g>\n",
       "<defs>\n",
       "  <clipPath id=\"img-684d07c3-8\">\n",
       "  <path d=\"M9.43,1 L 150.93 1 150.93 100.19 9.43 100.19\" />\n",
       "</clipPath>\n",
       "</defs>\n",
       "</svg>\n"
      ],
      "text/plain": [
       "Compose.SVG(158.73015873015876mm,105.82010582010584mm,IOBuffer(data=UInt8[...], readable=true, writable=true, seekable=true, append=false, size=3933, maxsize=Inf, ptr=3934, mark=-1),nothing,\"img-684d07c3\",0,Compose.SVGPropertyFrame[],Dict{Type{T},Union{Compose.Property{P<:Compose.PropertyPrimitive},Void}}(),Dict{Compose.ClipPrimitive{P<:NTuple{N,Measures.Measure}},ASCIIString}(Compose.ClipPrimitive{Tuple{Measures.Length{:mm,Float64},Measures.Length{:mm,Float64}}}([(9.426666666666677mm,1.0mm),(150.9334920634921mm,1.0mm),(150.9334920634921mm,100.1867724867725mm),(9.426666666666677mm,100.1867724867725mm)])=>\"img-684d07c3-8\"),Tuple{Compose.FormPrimitive,ASCIIString}[],Set{AbstractString}(),true,false,nothing,true,\"img-684d07c3-15\",false,15,AbstractString[\"/home/kryosugarra/.julia/v0.4/Gadfly/src/gadfly.js\"],Tuple{AbstractString,AbstractString}[(\"Snap.svg\",\"Snap\"),(\"Gadfly\",\"Gadfly\")],AbstractString[\"fig.select(\\\"#img-684d07c3-4\\\")\\n   .drag(function() {}, function() {}, function() {});\",\"fig.select(\\\"#img-684d07c3-9\\\")\\n   .init_gadfly();\"],false,:none)"
      ]
     },
     "metadata": {},
     "output_type": "display_data"
    },
    {
     "data": {
      "text/html": []
     },
     "execution_count": 81,
     "metadata": {},
     "output_type": "execute_result"
    }
   ],
   "source": [
    "plot(1:inc_pos-2, ez[1:inc_pos-2])\n",
    "plot!(xlims=(1, inc_pos-2), ylims=(maximum(ez[1:inc_pos-2]),minimum(ez[1:inc_pos-2])))"
   ]
  },
  {
   "cell_type": "code",
   "execution_count": 82,
   "metadata": {
    "collapsed": false
   },
   "outputs": [
    {
     "data": {
      "text/plain": [
       "0.01535105164067894"
      ]
     },
     "execution_count": 82,
     "metadata": {},
     "output_type": "execute_result"
    }
   ],
   "source": [
    "maximum(abs(ez[1:inc_pos-2]))"
   ]
  },
  {
   "cell_type": "code",
   "execution_count": null,
   "metadata": {
    "collapsed": true
   },
   "outputs": [],
   "source": []
  }
 ],
 "metadata": {
  "kernelspec": {
   "display_name": "Julia 0.4.5",
   "language": "julia",
   "name": "julia-0.4"
  },
  "language_info": {
   "file_extension": ".jl",
   "mimetype": "application/julia",
   "name": "julia",
   "version": "0.4.5"
  }
 },
 "nbformat": 4,
 "nbformat_minor": 0
}
