{
 "cells": [
  {
   "cell_type": "code",
   "execution_count": 2,
   "metadata": {
    "collapsed": false
   },
   "outputs": [],
   "source": [
    "using Plots;\n",
    "gadfly();"
   ]
  },
  {
   "cell_type": "code",
   "execution_count": 3,
   "metadata": {
    "collapsed": false
   },
   "outputs": [
    {
     "name": "stderr",
     "output_type": "stream",
     "text": [
      "WARNING: replacing module globals\n"
     ]
    }
   ],
   "source": [
    "include(\"../fdtd/update.jl\");\n",
    "include(\"../fdtd/sources.jl\");\n",
    "include(\"../fdtd/boundaries.jl\");\n",
    "using update;\n",
    "using sources;"
   ]
  },
  {
   "cell_type": "code",
   "execution_count": 23,
   "metadata": {
    "collapsed": false
   },
   "outputs": [],
   "source": [
    "#Global parameters\n",
    "size = 400;\n",
    "endTime = 5000;\n",
    "num_snaps = 150;\n",
    "snap_step = div(endTime, num_snaps);\n",
    "\n",
    "# Incident\n",
    "inc_pos = 100;\n",
    "\n",
    "# Material\n",
    "n1 = 1.5;\n",
    "n2 = 2;\n",
    "n2 = 2.076125;\n",
    "\n",
    "eps1 = n1^2;\n",
    "eps2 = n2^2;\n",
    "\n",
    "\n",
    "wavelength = round(Integer, size / 5);\n",
    "q_wavelength = round(Integer, wavelength * n1 / n2 / 2);\n",
    "#Grid\n",
    "\n",
    "# Magnetic\n",
    "hy = zeros(size-1);\n",
    "hy_0 = zeros(size-1);\n",
    "mu = ones(size-1);\n",
    "\n",
    "chyh = ones(size);\n",
    "chye = ones(size);\n",
    "\n",
    "\n",
    "# Electric\n",
    "ez = zeros(size);\n",
    "ez_0 = zeros(size);\n",
    "eps = ones(size) * eps1;\n",
    "eps_0 = ones(size) * eps1;\n",
    "\n",
    "cezh = ones(size);\n",
    "ceze = ones(size);\n",
    "\n",
    "\n",
    "#for i in 110:170\n",
    "#    eps[i] = eps1;\n",
    "#end\n",
    "for i in div(size, 2):div(size, 2)+q_wavelength\n",
    "    eps[i] = eps2;\n",
    "end\n",
    "\n",
    "rightBound = boundaries.setup_first_order_abc(eps, mu, size, true)\n",
    "leftBound = boundaries.setup_first_order_abc(eps, mu, 1, false)\n",
    "\n",
    "rightBound_0 = boundaries.setup_first_order_abc(eps_0, mu, size, true)\n",
    "leftBound_0 = boundaries.setup_first_order_abc(eps_0, mu, 1, false)\n",
    "\n",
    "# output params\n",
    "ez_snapshot = Array{Any}(num_snaps);\n",
    "ez_0_snapshot = Array{Any}(num_snaps);"
   ]
  },
  {
   "cell_type": "code",
   "execution_count": null,
   "metadata": {
    "collapsed": false
   },
   "outputs": [],
   "source": [
    "# Time steps\n",
    "\n",
    "for time in 1:endTime\n",
    "    # Incident\n",
    "    ez_inc = sin(2*pi/(wavelength) * (time-1))*exp(-1000/time)\n",
    "    \n",
    "    #\n",
    "    # Magnetic\n",
    "    #\n",
    "        \n",
    "    # Interior update\n",
    "    update.update_magnetic_field!(ez, hy, mu, chyh, chye);    \n",
    "    update.update_magnetic_field!(ez_0, hy_0, mu, chyh, chye);          \n",
    "    #\n",
    "    # Electric\n",
    "    #\n",
    "       \n",
    "    # Interior update\n",
    "    update.update_electric_field!(ez, hy, eps, cezh, ceze);\n",
    "    update.update_electric_field!(ez_0, hy_0, eps_0, cezh, ceze);    \n",
    "    \n",
    "    # ABC\n",
    "    boundaries.first_order_diff_abc!(ez, leftBound)\n",
    "    boundaries.first_order_diff_abc!(ez, rightBound)\n",
    "\n",
    "    boundaries.first_order_diff_abc!(ez_0, leftBound_0)\n",
    "    boundaries.first_order_diff_abc!(ez_0, rightBound_0)\n",
    "\n",
    "    \n",
    "    # Incident\n",
    "    ez[inc_pos] += ez_inc / sqrt( eps[inc_pos] * mu[inc_pos])\n",
    "    ez_0[inc_pos] += ez_inc / sqrt( eps_0[inc_pos] * mu[inc_pos])\n",
    " \n",
    "    # Snapshots for animation\n",
    "    if mod(time, snap_step) == 0\n",
    "        ez_snapshot[div(time,snap_step)] = (time, copy(ez))\n",
    "        ez_0_snapshot[div(time,snap_step)] = (time, copy(ez_0))\n",
    "    end\n",
    "    \n",
    "end"
   ]
  },
  {
   "cell_type": "code",
   "execution_count": 22,
   "metadata": {
    "collapsed": false
   },
   "outputs": [
    {
     "name": "stderr",
     "output_type": "stream",
     "text": [
      "INFO: Saved animation to /media/storage/Documents/Github/students-2016/1_fdtd/Tasks/Task3/Half_Wavelength_Reflection.gif\n"
     ]
    },
    {
     "data": {
      "text/html": [
       "<img src=\"Task3/Half_Wavelength_Reflection.gif?0.516819636543157>\" />"
      ],
      "text/plain": [
       "Plots.AnimatedGif(\"/media/storage/Documents/Github/students-2016/1_fdtd/Tasks/Task3/Half_Wavelength_Reflection.gif\")"
      ]
     },
     "execution_count": 22,
     "metadata": {},
     "output_type": "execute_result"
    }
   ],
   "source": [
    "anim = Animation()\n",
    "\n",
    "for i = 1:num_snaps\n",
    "    p = plot(1:size, ez_snapshot[i][2], lab=\"Ez\")\n",
    "    plot!(1:size, ez_0_snapshot[i][2], lab=\"Ez_0\")\n",
    "    \n",
    "    time = ez_snapshot[i][1]\n",
    "    plot!(ann=[(0.8*size, 1.5, \"time =$time\")])\n",
    "    plot!([size/2, size/2], [-2, 2])\n",
    "    plot!([size/2+q_wavelength, size/2+q_wavelength-1], [-2, 2])\n",
    "    \n",
    "    plot!(xlims=(1, size), ylims=(-2, 2))\n",
    "    frame(anim, p)\n",
    "end\n",
    "gif(anim, \"./Task3/Half_Wavelength_Reflection.gif\", fps=15)"
   ]
  },
  {
   "cell_type": "code",
   "execution_count": 19,
   "metadata": {
    "collapsed": false
   },
   "outputs": [
    {
     "data": {
      "image/svg+xml": [
       "<?xml version=\"1.0\" encoding=\"UTF-8\"?>\n",
       "<svg xmlns=\"http://www.w3.org/2000/svg\"\n",
       "     xmlns:xlink=\"http://www.w3.org/1999/xlink\"\n",
       "     xmlns:gadfly=\"http://www.gadflyjl.org/ns\"\n",
       "     version=\"1.2\"\n",
       "     width=\"158.73mm\" height=\"105.82mm\" viewBox=\"0 0 158.73 105.82\"\n",
       "     stroke=\"none\"\n",
       "     fill=\"#000000\"\n",
       "     stroke-width=\"0.3\"\n",
       "     font-size=\"3.88\"\n",
       ">\n",
       "<g stroke=\"#000000\" stroke-opacity=\"0.000\" fill=\"#FFFFFF\" id=\"img-1c979d20-1\">\n",
       "  <rect x=\"0\" y=\"0\" width=\"158.73\" height=\"105.82\"/>\n",
       "</g>\n",
       "<g class=\"plotroot xscalable yscalable\" id=\"img-1c979d20-2\">\n",
       "  <g class=\"guide xlabels\" font-size=\"2.82\" font-family=\"Helvetica\" fill=\"#000000\" id=\"img-1c979d20-3\">\n",
       "    <text x=\"9.86\" y=\"101.19\" text-anchor=\"middle\" dy=\"0.6em\">0</text>\n",
       "    <text x=\"44.63\" y=\"101.19\" text-anchor=\"middle\" dy=\"0.6em\">50</text>\n",
       "    <text x=\"79.4\" y=\"101.19\" text-anchor=\"middle\" dy=\"0.6em\">100</text>\n",
       "    <text x=\"114.17\" y=\"101.19\" text-anchor=\"middle\" dy=\"0.6em\">150</text>\n",
       "    <text x=\"148.93\" y=\"101.19\" text-anchor=\"middle\" dy=\"0.6em\">200</text>\n",
       "  </g>\n",
       "  <g class=\"guide colorkey\" id=\"img-1c979d20-4\">\n",
       "    <g fill=\"#000000\" font-size=\"2.82\" font-family=\"Helvetica\" id=\"img-1c979d20-5\">\n",
       "      <text x=\"154.75\" y=\"52.41\" dy=\"0.35em\">y1</text>\n",
       "    </g>\n",
       "    <g fill=\"#009AFA\" stroke=\"#000000\" stroke-opacity=\"0.000\" id=\"img-1c979d20-6\">\n",
       "      <rect x=\"151.93\" y=\"51.5\" width=\"1.82\" height=\"1.82\"/>\n",
       "    </g>\n",
       "    <g fill=\"#000000\" font-size=\"3.88\" font-family=\"Helvetica\" stroke=\"#000000\" stroke-opacity=\"0.000\" id=\"img-1c979d20-7\">\n",
       "      <text x=\"151.93\" y=\"48.59\"></text>\n",
       "    </g>\n",
       "  </g>\n",
       "<g clip-path=\"url(#img-1c979d20-8)\">\n",
       "  <g id=\"img-1c979d20-9\">\n",
       "    <g pointer-events=\"visible\" opacity=\"1\" fill=\"#000000\" fill-opacity=\"0.000\" stroke=\"#000000\" stroke-opacity=\"0.000\" class=\"guide background\" id=\"img-1c979d20-10\">\n",
       "      <rect x=\"7.86\" y=\"1\" width=\"143.07\" height=\"99.19\"/>\n",
       "    </g>\n",
       "    <g class=\"guide ygridlines xfixed\" stroke-dasharray=\"0.5,0.5\" stroke-width=\"0.2\" stroke=\"#D0D0E0\" id=\"img-1c979d20-11\">\n",
       "      <path fill=\"none\" d=\"M7.86,98.19 L 150.93 98.19\"/>\n",
       "      <path fill=\"none\" d=\"M7.86,74.39 L 150.93 74.39\"/>\n",
       "      <path fill=\"none\" d=\"M7.86,50.59 L 150.93 50.59\"/>\n",
       "      <path fill=\"none\" d=\"M7.86,26.8 L 150.93 26.8\"/>\n",
       "      <path fill=\"none\" d=\"M7.86,3 L 150.93 3\"/>\n",
       "    </g>\n",
       "    <g class=\"guide xgridlines yfixed\" stroke-dasharray=\"0.5,0.5\" stroke-width=\"0.2\" stroke=\"#D0D0E0\" id=\"img-1c979d20-12\">\n",
       "      <path fill=\"none\" d=\"M9.86,1 L 9.86 100.19\"/>\n",
       "      <path fill=\"none\" d=\"M44.63,1 L 44.63 100.19\"/>\n",
       "      <path fill=\"none\" d=\"M79.4,1 L 79.4 100.19\"/>\n",
       "      <path fill=\"none\" d=\"M114.17,1 L 114.17 100.19\"/>\n",
       "      <path fill=\"none\" d=\"M148.93,1 L 148.93 100.19\"/>\n",
       "    </g>\n",
       "    <g class=\"plotpanel\" id=\"img-1c979d20-13\">\n",
       "      <g stroke-width=\"0.26\" fill=\"#000000\" fill-opacity=\"0.000\" class=\"geometry\" stroke-dasharray=\"none\" stroke=\"#009AFA\" id=\"img-1c979d20-14\">\n",
       "        <path fill=\"none\" d=\"M10.56,70.2 L 11.25 66.84 11.95 63.25 12.64 59.49 13.34 55.6 14.03 51.64 14.73 47.67 15.42 43.73 16.12 39.9 16.81 36.21 17.51 32.72 18.2 29.48 18.9 26.53 19.6 23.91 20.29 21.67 20.99 19.82 21.68 18.41 22.38 17.44 23.07 16.93 23.77 16.88 24.46 17.31 25.16 18.19 25.85 19.53 26.55 21.29 27.24 23.47 27.94 26.02 28.63 28.91 29.33 32.1 30.03 35.54 30.72 39.2 31.42 43.02 32.11 46.94 32.81 50.91 33.5 54.87 34.2 58.78 34.89 62.58 35.59 66.2 36.28 69.61 36.98 72.76 37.67 75.6 38.37 78.1 39.07 80.21 39.76 81.91 40.46 83.18 41.15 83.99 41.85 84.34 42.54 84.23 43.24 83.64 43.93 82.6 44.63 81.12 45.32 79.21 46.02 76.9 46.71 74.23 47.41 71.23 48.11 67.95 48.8 64.42 49.5 60.7 50.19 56.84 50.89 52.9 51.58 48.92 52.28 44.97 52.97 41.09 53.67 37.34 54.36 33.78 55.06 30.46 55.75 27.41 56.45 24.68 57.14 22.31 57.84 20.34 58.54 18.78 59.23 17.67 59.93 17.01 60.62 16.82 61.32 17.09 62.01 17.83 62.71 19.03 63.4 20.66 64.1 22.71 64.79 25.15 65.49 27.94 66.18 31.04 66.88 34.42 67.58 38.01 68.27 41.79 68.97 45.68 69.66 49.65 70.36 53.63 71.05 57.56 71.75 61.4 72.44 65.09 73.14 68.58 73.83 71.82 74.53 74.76 75.22 77.37 75.92 79.61 76.62 81.44 77.31 82.85 78.01 83.81 78.7 84.31 79.4 84.34 80.09 83.91 80.79 83.01 81.48 81.66 82.18 79.88 82.87 77.69 83.57 75.13 84.26 72.23 84.96 69.03 85.66 65.57 86.35 61.9 87.05 58.08 87.74 54.15 88.44 50.18 89.13 46.21 89.83 42.3 90.52 38.5 91.22 34.87 91.91 31.46 92.61 28.32 93.3 25.48 94 23 94.69 20.89 95.39 19.2 96.09 17.94 96.78 17.14 97.48 16.8 98.17 16.93 98.87 17.52 99.56 18.58 100.26 20.08 100.95 22 101.65 24.32 102.34 27 103.04 30.01 103.73 33.31 104.43 36.84 105.13 40.57 105.82 44.44 106.52 48.39 107.21 52.37 107.91 56.33 108.6 60.21 109.3 63.95 109.99 67.51 110.69 70.84 111.38 73.88 112.08 76.61 112.77 78.97 113.47 80.93 114.17 82.48 114.86 83.59 115.56 84.23 116.25 84.41 116.95 84.12 117.64 83.37 118.34 82.16 119.03 80.51 119.73 78.45 120.42 76 121.12 73.2 121.81 70.09 122.51 66.7 123.2 63.09 123.9 59.31 124.6 55.41 125.29 51.44 125.99 47.45 126.68 43.52 127.38 39.68 128.07 35.99 128.77 32.5 129.46 29.26 130.16 26.32 130.85 23.72 131.55 21.49 132.24 19.66 132.94 18.26 133.64 17.31 134.33 16.83 135.03 16.81 135.72 17.26 136.42 18.17 137.11 19.53 137.81 21.32 138.5 23.52 139.2 26.09 139.89 29.01 140.59 32.22 141.28 35.69 141.98 39.37 142.68 43.2 143.37 47.13 144.07 51.11 144.76 55.09 145.46 59 146.15 62.8 146.85 66.42 147.54 69.83 148.24 72.97 148.93 75.8\"/>\n",
       "      </g>\n",
       "    </g>\n",
       "  </g>\n",
       "</g>\n",
       "  <g class=\"guide ylabels\" font-size=\"2.82\" font-family=\"Helvetica\" fill=\"#000000\" id=\"img-1c979d20-15\">\n",
       "    <text x=\"6.86\" y=\"98.19\" text-anchor=\"end\" dy=\"0.35em\">-0.2</text>\n",
       "    <text x=\"6.86\" y=\"74.39\" text-anchor=\"end\" dy=\"0.35em\">-0.1</text>\n",
       "    <text x=\"6.86\" y=\"50.59\" text-anchor=\"end\" dy=\"0.35em\">0.0</text>\n",
       "    <text x=\"6.86\" y=\"26.8\" text-anchor=\"end\" dy=\"0.35em\">0.1</text>\n",
       "    <text x=\"6.86\" y=\"3\" text-anchor=\"end\" dy=\"0.35em\">0.2</text>\n",
       "  </g>\n",
       "</g>\n",
       "<defs>\n",
       "  <clipPath id=\"img-1c979d20-8\">\n",
       "  <path d=\"M7.86,1 L 150.93 1 150.93 100.19 7.86 100.19\" />\n",
       "</clipPath>\n",
       "</defs>\n",
       "</svg>\n"
      ],
      "text/html": [
       "<?xml version=\"1.0\" encoding=\"UTF-8\"?>\n",
       "<svg xmlns=\"http://www.w3.org/2000/svg\"\n",
       "     xmlns:xlink=\"http://www.w3.org/1999/xlink\"\n",
       "     xmlns:gadfly=\"http://www.gadflyjl.org/ns\"\n",
       "     version=\"1.2\"\n",
       "     width=\"158.73mm\" height=\"105.82mm\" viewBox=\"0 0 158.73 105.82\"\n",
       "     stroke=\"none\"\n",
       "     fill=\"#000000\"\n",
       "     stroke-width=\"0.3\"\n",
       "     font-size=\"3.88\"\n",
       ">\n",
       "<g stroke=\"#000000\" stroke-opacity=\"0.000\" fill=\"#FFFFFF\" id=\"img-1c979d20-1\">\n",
       "  <rect x=\"0\" y=\"0\" width=\"158.73\" height=\"105.82\"/>\n",
       "</g>\n",
       "<g class=\"plotroot xscalable yscalable\" id=\"img-1c979d20-2\">\n",
       "  <g class=\"guide xlabels\" font-size=\"2.82\" font-family=\"Helvetica\" fill=\"#000000\" id=\"img-1c979d20-3\">\n",
       "    <text x=\"9.86\" y=\"101.19\" text-anchor=\"middle\" dy=\"0.6em\">0</text>\n",
       "    <text x=\"44.63\" y=\"101.19\" text-anchor=\"middle\" dy=\"0.6em\">50</text>\n",
       "    <text x=\"79.4\" y=\"101.19\" text-anchor=\"middle\" dy=\"0.6em\">100</text>\n",
       "    <text x=\"114.17\" y=\"101.19\" text-anchor=\"middle\" dy=\"0.6em\">150</text>\n",
       "    <text x=\"148.93\" y=\"101.19\" text-anchor=\"middle\" dy=\"0.6em\">200</text>\n",
       "  </g>\n",
       "  <g class=\"guide colorkey\" id=\"img-1c979d20-4\">\n",
       "    <g fill=\"#000000\" font-size=\"2.82\" font-family=\"Helvetica\" id=\"img-1c979d20-5\">\n",
       "      <text x=\"154.75\" y=\"52.41\" dy=\"0.35em\">y1</text>\n",
       "    </g>\n",
       "    <g fill=\"#009AFA\" stroke=\"#000000\" stroke-opacity=\"0.000\" id=\"img-1c979d20-6\">\n",
       "      <rect x=\"151.93\" y=\"51.5\" width=\"1.82\" height=\"1.82\"/>\n",
       "    </g>\n",
       "    <g fill=\"#000000\" font-size=\"3.88\" font-family=\"Helvetica\" stroke=\"#000000\" stroke-opacity=\"0.000\" id=\"img-1c979d20-7\">\n",
       "      <text x=\"151.93\" y=\"48.59\"></text>\n",
       "    </g>\n",
       "  </g>\n",
       "<g clip-path=\"url(#img-1c979d20-8)\">\n",
       "  <g id=\"img-1c979d20-9\">\n",
       "    <g pointer-events=\"visible\" opacity=\"1\" fill=\"#000000\" fill-opacity=\"0.000\" stroke=\"#000000\" stroke-opacity=\"0.000\" class=\"guide background\" id=\"img-1c979d20-10\">\n",
       "      <rect x=\"7.86\" y=\"1\" width=\"143.07\" height=\"99.19\"/>\n",
       "    </g>\n",
       "    <g class=\"guide ygridlines xfixed\" stroke-dasharray=\"0.5,0.5\" stroke-width=\"0.2\" stroke=\"#D0D0E0\" id=\"img-1c979d20-11\">\n",
       "      <path fill=\"none\" d=\"M7.86,98.19 L 150.93 98.19\"/>\n",
       "      <path fill=\"none\" d=\"M7.86,74.39 L 150.93 74.39\"/>\n",
       "      <path fill=\"none\" d=\"M7.86,50.59 L 150.93 50.59\"/>\n",
       "      <path fill=\"none\" d=\"M7.86,26.8 L 150.93 26.8\"/>\n",
       "      <path fill=\"none\" d=\"M7.86,3 L 150.93 3\"/>\n",
       "    </g>\n",
       "    <g class=\"guide xgridlines yfixed\" stroke-dasharray=\"0.5,0.5\" stroke-width=\"0.2\" stroke=\"#D0D0E0\" id=\"img-1c979d20-12\">\n",
       "      <path fill=\"none\" d=\"M9.86,1 L 9.86 100.19\"/>\n",
       "      <path fill=\"none\" d=\"M44.63,1 L 44.63 100.19\"/>\n",
       "      <path fill=\"none\" d=\"M79.4,1 L 79.4 100.19\"/>\n",
       "      <path fill=\"none\" d=\"M114.17,1 L 114.17 100.19\"/>\n",
       "      <path fill=\"none\" d=\"M148.93,1 L 148.93 100.19\"/>\n",
       "    </g>\n",
       "    <g class=\"plotpanel\" id=\"img-1c979d20-13\">\n",
       "      <g stroke-width=\"0.26\" fill=\"#000000\" fill-opacity=\"0.000\" class=\"geometry\" stroke-dasharray=\"none\" stroke=\"#009AFA\" id=\"img-1c979d20-14\">\n",
       "        <path fill=\"none\" d=\"M10.56,70.2 L 11.25 66.84 11.95 63.25 12.64 59.49 13.34 55.6 14.03 51.64 14.73 47.67 15.42 43.73 16.12 39.9 16.81 36.21 17.51 32.72 18.2 29.48 18.9 26.53 19.6 23.91 20.29 21.67 20.99 19.82 21.68 18.41 22.38 17.44 23.07 16.93 23.77 16.88 24.46 17.31 25.16 18.19 25.85 19.53 26.55 21.29 27.24 23.47 27.94 26.02 28.63 28.91 29.33 32.1 30.03 35.54 30.72 39.2 31.42 43.02 32.11 46.94 32.81 50.91 33.5 54.87 34.2 58.78 34.89 62.58 35.59 66.2 36.28 69.61 36.98 72.76 37.67 75.6 38.37 78.1 39.07 80.21 39.76 81.91 40.46 83.18 41.15 83.99 41.85 84.34 42.54 84.23 43.24 83.64 43.93 82.6 44.63 81.12 45.32 79.21 46.02 76.9 46.71 74.23 47.41 71.23 48.11 67.95 48.8 64.42 49.5 60.7 50.19 56.84 50.89 52.9 51.58 48.92 52.28 44.97 52.97 41.09 53.67 37.34 54.36 33.78 55.06 30.46 55.75 27.41 56.45 24.68 57.14 22.31 57.84 20.34 58.54 18.78 59.23 17.67 59.93 17.01 60.62 16.82 61.32 17.09 62.01 17.83 62.71 19.03 63.4 20.66 64.1 22.71 64.79 25.15 65.49 27.94 66.18 31.04 66.88 34.42 67.58 38.01 68.27 41.79 68.97 45.68 69.66 49.65 70.36 53.63 71.05 57.56 71.75 61.4 72.44 65.09 73.14 68.58 73.83 71.82 74.53 74.76 75.22 77.37 75.92 79.61 76.62 81.44 77.31 82.85 78.01 83.81 78.7 84.31 79.4 84.34 80.09 83.91 80.79 83.01 81.48 81.66 82.18 79.88 82.87 77.69 83.57 75.13 84.26 72.23 84.96 69.03 85.66 65.57 86.35 61.9 87.05 58.08 87.74 54.15 88.44 50.18 89.13 46.21 89.83 42.3 90.52 38.5 91.22 34.87 91.91 31.46 92.61 28.32 93.3 25.48 94 23 94.69 20.89 95.39 19.2 96.09 17.94 96.78 17.14 97.48 16.8 98.17 16.93 98.87 17.52 99.56 18.58 100.26 20.08 100.95 22 101.65 24.32 102.34 27 103.04 30.01 103.73 33.31 104.43 36.84 105.13 40.57 105.82 44.44 106.52 48.39 107.21 52.37 107.91 56.33 108.6 60.21 109.3 63.95 109.99 67.51 110.69 70.84 111.38 73.88 112.08 76.61 112.77 78.97 113.47 80.93 114.17 82.48 114.86 83.59 115.56 84.23 116.25 84.41 116.95 84.12 117.64 83.37 118.34 82.16 119.03 80.51 119.73 78.45 120.42 76 121.12 73.2 121.81 70.09 122.51 66.7 123.2 63.09 123.9 59.31 124.6 55.41 125.29 51.44 125.99 47.45 126.68 43.52 127.38 39.68 128.07 35.99 128.77 32.5 129.46 29.26 130.16 26.32 130.85 23.72 131.55 21.49 132.24 19.66 132.94 18.26 133.64 17.31 134.33 16.83 135.03 16.81 135.72 17.26 136.42 18.17 137.11 19.53 137.81 21.32 138.5 23.52 139.2 26.09 139.89 29.01 140.59 32.22 141.28 35.69 141.98 39.37 142.68 43.2 143.37 47.13 144.07 51.11 144.76 55.09 145.46 59 146.15 62.8 146.85 66.42 147.54 69.83 148.24 72.97 148.93 75.8\"/>\n",
       "      </g>\n",
       "    </g>\n",
       "  </g>\n",
       "</g>\n",
       "  <g class=\"guide ylabels\" font-size=\"2.82\" font-family=\"Helvetica\" fill=\"#000000\" id=\"img-1c979d20-15\">\n",
       "    <text x=\"6.86\" y=\"98.19\" text-anchor=\"end\" dy=\"0.35em\">-0.2</text>\n",
       "    <text x=\"6.86\" y=\"74.39\" text-anchor=\"end\" dy=\"0.35em\">-0.1</text>\n",
       "    <text x=\"6.86\" y=\"50.59\" text-anchor=\"end\" dy=\"0.35em\">0.0</text>\n",
       "    <text x=\"6.86\" y=\"26.8\" text-anchor=\"end\" dy=\"0.35em\">0.1</text>\n",
       "    <text x=\"6.86\" y=\"3\" text-anchor=\"end\" dy=\"0.35em\">0.2</text>\n",
       "  </g>\n",
       "</g>\n",
       "<defs>\n",
       "  <clipPath id=\"img-1c979d20-8\">\n",
       "  <path d=\"M7.86,1 L 150.93 1 150.93 100.19 7.86 100.19\" />\n",
       "</clipPath>\n",
       "</defs>\n",
       "</svg>\n"
      ],
      "text/plain": [
       "Compose.SVG(158.73015873015876mm,105.82010582010584mm,IOBuffer(data=UInt8[...], readable=true, writable=true, seekable=true, append=false, size=5924, maxsize=Inf, ptr=5925, mark=-1),nothing,\"img-1c979d20\",0,Compose.SVGPropertyFrame[],Dict{Type{T},Union{Compose.Property{P<:Compose.PropertyPrimitive},Void}}(),Dict{Compose.ClipPrimitive{P<:NTuple{N,Measures.Measure}},ASCIIString}(Compose.ClipPrimitive{Tuple{Measures.Length{:mm,Float64},Measures.Length{:mm,Float64}}}([(7.860000000000014mm,1.0mm),(150.9334920634921mm,1.0mm),(150.9334920634921mm,100.18677248677251mm),(7.860000000000014mm,100.18677248677251mm)])=>\"img-1c979d20-8\"),Tuple{Compose.FormPrimitive,ASCIIString}[],Set{AbstractString}(),true,false,nothing,true,\"img-1c979d20-15\",false,15,AbstractString[\"/home/kryosugarra/.julia/v0.4/Gadfly/src/gadfly.js\"],Tuple{AbstractString,AbstractString}[(\"Snap.svg\",\"Snap\"),(\"Gadfly\",\"Gadfly\")],AbstractString[\"fig.select(\\\"#img-1c979d20-4\\\")\\n   .drag(function() {}, function() {}, function() {});\",\"fig.select(\\\"#img-1c979d20-9\\\")\\n   .init_gadfly();\"],false,:none)"
      ]
     },
     "metadata": {},
     "output_type": "display_data"
    },
    {
     "data": {
      "text/html": []
     },
     "execution_count": 19,
     "metadata": {},
     "output_type": "execute_result"
    }
   ],
   "source": [
    "plot( (ez-ez_0)[1:div(size, 2)])"
   ]
  },
  {
   "cell_type": "code",
   "execution_count": null,
   "metadata": {
    "collapsed": true
   },
   "outputs": [],
   "source": []
  },
  {
   "cell_type": "code",
   "execution_count": null,
   "metadata": {
    "collapsed": true
   },
   "outputs": [],
   "source": []
  }
 ],
 "metadata": {
  "kernelspec": {
   "display_name": "Julia 0.4.5",
   "language": "julia",
   "name": "julia-0.4"
  },
  "language_info": {
   "file_extension": ".jl",
   "mimetype": "application/julia",
   "name": "julia",
   "version": "0.4.5"
  }
 },
 "nbformat": 4,
 "nbformat_minor": 0
}
