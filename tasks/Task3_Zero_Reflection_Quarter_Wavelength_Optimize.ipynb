{
 "cells": [
  {
   "cell_type": "code",
   "execution_count": 1,
   "metadata": {
    "collapsed": false
   },
   "outputs": [],
   "source": [
    "using Plots;\n",
    "gadfly();"
   ]
  },
  {
   "cell_type": "code",
   "execution_count": 2,
   "metadata": {
    "collapsed": false
   },
   "outputs": [
    {
     "name": "stderr",
     "output_type": "stream",
     "text": [
      "WARNING: replacing module globals\n"
     ]
    }
   ],
   "source": [
    "include(\"../fdtd/update.jl\");\n",
    "include(\"../fdtd/sources.jl\");\n",
    "include(\"../fdtd/boundaries.jl\");\n",
    "using update;\n",
    "using sources;"
   ]
  },
  {
   "cell_type": "code",
   "execution_count": 12,
   "metadata": {
    "collapsed": false
   },
   "outputs": [
    {
     "data": {
      "text/plain": [
       "simulate (generic function with 1 method)"
      ]
     },
     "execution_count": 12,
     "metadata": {},
     "output_type": "execute_result"
    }
   ],
   "source": [
    "function simulate(n2)\n",
    "   \n",
    "    #Global parameters\n",
    "    size = 100;\n",
    "    endTime = 3000;\n",
    "\n",
    "    # Incident\n",
    "    inc_pos = 30;\n",
    "\n",
    "    # Material\n",
    "    n1 = 4;\n",
    "    # n2 = sqrt(n1);\n",
    "\n",
    "    eps1 = n1^2;\n",
    "    eps2 = n2^2;\n",
    "\n",
    "    wavelength = 16*n1\n",
    "    #Grid\n",
    "\n",
    "    # Magnetic\n",
    "    hy = zeros(size-1);\n",
    "    hy_0 = zeros(size-1);\n",
    "    mu = ones(size-1);\n",
    "\n",
    "    chyh = ones(size);\n",
    "    chye = ones(size);\n",
    "\n",
    "\n",
    "    # Electric\n",
    "    ez = zeros(size);\n",
    "    ez_0 = zeros(size);\n",
    "    eps = ones(size) * eps1;\n",
    "    eps_0 = ones(size) * eps1;\n",
    "\n",
    "    cezh = ones(size);\n",
    "    ceze = ones(size);\n",
    "\n",
    "    for i in div(size, 2):div(size, 2)+(div(wavelength, 4))\n",
    "        eps[i] = eps2;\n",
    "    end\n",
    "\n",
    "    rightBound = boundaries.setup_first_order_abc(eps, mu, size, true)\n",
    "    leftBound = boundaries.setup_first_order_abc(eps, mu, 1, false)\n",
    "\n",
    "    rightBound_0 = boundaries.setup_first_order_abc(eps_0, mu, size, true)\n",
    "    leftBound_0 = boundaries.setup_first_order_abc(eps_0, mu, 1, false)\n",
    "\n",
    "    # Time steps\n",
    "    for time in 1:endTime\n",
    "        # Incident\n",
    "        ez_inc = sin(2*pi/(wavelength) * (time-1))\n",
    "\n",
    "        # Magnetic      \n",
    "        # Interior update\n",
    "        update.update_magnetic_field!(ez, hy, mu, chyh, chye);    \n",
    "        update.update_magnetic_field!(ez_0, hy_0, mu, chyh, chye);          \n",
    "\n",
    "        # Electric     \n",
    "        # Interior update\n",
    "        update.update_electric_field!(ez, hy, eps, cezh, ceze);\n",
    "        update.update_electric_field!(ez_0, hy_0, eps_0, cezh, ceze);    \n",
    "\n",
    "        # ABC\n",
    "        boundaries.first_order_diff_abc!(ez, leftBound)\n",
    "        boundaries.first_order_diff_abc!(ez, rightBound)\n",
    "\n",
    "        boundaries.first_order_diff_abc!(ez_0, leftBound_0)\n",
    "        boundaries.first_order_diff_abc!(ez_0, rightBound_0)\n",
    "\n",
    "\n",
    "        # Incident\n",
    "        ez[inc_pos] += ez_inc / sqrt( eps[inc_pos] * mu[inc_pos])\n",
    "        ez_0[inc_pos] += ez_inc / sqrt( eps[inc_pos] * mu[inc_pos])\n",
    "    end\n",
    "    return (ez-ez_0)[1:div(size, 2)]\n",
    "end"
   ]
  },
  {
   "cell_type": "code",
   "execution_count": 19,
   "metadata": {
    "collapsed": false
   },
   "outputs": [
    {
     "data": {
      "image/svg+xml": [
       "<?xml version=\"1.0\" encoding=\"UTF-8\"?>\n",
       "<svg xmlns=\"http://www.w3.org/2000/svg\"\n",
       "     xmlns:xlink=\"http://www.w3.org/1999/xlink\"\n",
       "     xmlns:gadfly=\"http://www.gadflyjl.org/ns\"\n",
       "     version=\"1.2\"\n",
       "     width=\"158.73mm\" height=\"105.82mm\" viewBox=\"0 0 158.73 105.82\"\n",
       "     stroke=\"none\"\n",
       "     fill=\"#000000\"\n",
       "     stroke-width=\"0.3\"\n",
       "     font-size=\"3.88\"\n",
       ">\n",
       "<g stroke=\"#000000\" stroke-opacity=\"0.000\" fill=\"#FFFFFF\" id=\"img-8f7e890e-1\">\n",
       "  <rect x=\"0\" y=\"0\" width=\"158.73\" height=\"105.82\"/>\n",
       "</g>\n",
       "<g class=\"plotroot xscalable yscalable\" id=\"img-8f7e890e-2\">\n",
       "  <g class=\"guide xlabels\" font-size=\"2.82\" font-family=\"Helvetica\" fill=\"#000000\" id=\"img-8f7e890e-3\">\n",
       "    <text x=\"10.29\" y=\"102.06\" text-anchor=\"middle\" dy=\"0.6em\">1.6</text>\n",
       "    <text x=\"33.5\" y=\"102.06\" text-anchor=\"middle\" dy=\"0.6em\">1.7</text>\n",
       "    <text x=\"56.7\" y=\"102.06\" text-anchor=\"middle\" dy=\"0.6em\">1.8</text>\n",
       "    <text x=\"79.91\" y=\"102.06\" text-anchor=\"middle\" dy=\"0.6em\">1.9</text>\n",
       "    <text x=\"103.11\" y=\"102.06\" text-anchor=\"middle\" dy=\"0.6em\">2.0</text>\n",
       "    <text x=\"126.32\" y=\"102.06\" text-anchor=\"middle\" dy=\"0.6em\">2.1</text>\n",
       "    <text x=\"149.53\" y=\"102.06\" text-anchor=\"middle\" dy=\"0.6em\">2.2</text>\n",
       "  </g>\n",
       "  <g class=\"guide colorkey\" id=\"img-8f7e890e-4\">\n",
       "    <g fill=\"#000000\" font-size=\"2.82\" font-family=\"Helvetica\" id=\"img-8f7e890e-5\">\n",
       "      <text x=\"155.26\" y=\"52.76\" dy=\"0.35em\">y1</text>\n",
       "    </g>\n",
       "    <g fill=\"#009AFA\" stroke=\"#000000\" stroke-opacity=\"0.000\" id=\"img-8f7e890e-6\">\n",
       "      <rect x=\"152.53\" y=\"51.9\" width=\"1.73\" height=\"1.73\"/>\n",
       "    </g>\n",
       "    <g fill=\"#000000\" font-size=\"3.88\" font-family=\"Helvetica\" stroke=\"#000000\" stroke-opacity=\"0.000\" id=\"img-8f7e890e-7\">\n",
       "      <text x=\"152.53\" y=\"47.29\"></text>\n",
       "    </g>\n",
       "  </g>\n",
       "<g clip-path=\"url(#img-8f7e890e-8)\">\n",
       "  <g id=\"img-8f7e890e-9\">\n",
       "    <g pointer-events=\"visible\" opacity=\"1\" fill=\"#000000\" fill-opacity=\"0.000\" stroke=\"#000000\" stroke-opacity=\"0.000\" class=\"guide background\" id=\"img-8f7e890e-10\">\n",
       "      <rect x=\"8.29\" y=\"1\" width=\"143.23\" height=\"100.06\"/>\n",
       "    </g>\n",
       "    <g class=\"guide ygridlines xfixed\" stroke-dasharray=\"0.5,0.5\" stroke-width=\"0.2\" stroke=\"#D0D0E0\" id=\"img-8f7e890e-11\">\n",
       "      <path fill=\"none\" d=\"M8.29,99.06 L 151.53 99.06\"/>\n",
       "      <path fill=\"none\" d=\"M8.29,75.04 L 151.53 75.04\"/>\n",
       "      <path fill=\"none\" d=\"M8.29,51.03 L 151.53 51.03\"/>\n",
       "      <path fill=\"none\" d=\"M8.29,27.01 L 151.53 27.01\"/>\n",
       "      <path fill=\"none\" d=\"M8.29,3 L 151.53 3\"/>\n",
       "    </g>\n",
       "    <g class=\"guide xgridlines yfixed\" stroke-dasharray=\"0.5,0.5\" stroke-width=\"0.2\" stroke=\"#D0D0E0\" id=\"img-8f7e890e-12\">\n",
       "      <path fill=\"none\" d=\"M10.29,1 L 10.29 101.06\"/>\n",
       "      <path fill=\"none\" d=\"M33.5,1 L 33.5 101.06\"/>\n",
       "      <path fill=\"none\" d=\"M56.7,1 L 56.7 101.06\"/>\n",
       "      <path fill=\"none\" d=\"M79.91,1 L 79.91 101.06\"/>\n",
       "      <path fill=\"none\" d=\"M103.11,1 L 103.11 101.06\"/>\n",
       "      <path fill=\"none\" d=\"M126.32,1 L 126.32 101.06\"/>\n",
       "      <path fill=\"none\" d=\"M149.53,1 L 149.53 101.06\"/>\n",
       "    </g>\n",
       "    <g class=\"plotpanel\" id=\"img-8f7e890e-13\">\n",
       "      <g stroke-width=\"0.26\" fill=\"#000000\" fill-opacity=\"0.000\" class=\"geometry\" stroke-dasharray=\"none\" stroke=\"#009AFA\" id=\"img-8f7e890e-14\">\n",
       "        <path fill=\"none\" d=\"M33.5,29.62 L 34.08 30.61 34.66 31.6 35.25 32.6 35.83 33.6 36.41 34.6 37 35.61 37.58 36.61 38.16 37.62 38.74 38.63 39.33 39.63 39.91 40.64 40.49 41.65 41.08 42.66 41.66 43.67 42.24 44.69 42.83 45.7 43.41 46.71 43.99 47.72 44.58 48.74 45.16 49.75 45.74 50.76 46.32 51.78 46.91 52.82 47.49 53.83 48.07 54.81 48.66 55.83 49.24 56.92 49.82 57.99 50.41 58.9 50.99 59.67 51.57 60.54 52.16 61.37 52.74 62.41 53.32 63.64 53.9 64.89 54.49 66.03 55.07 66.86 55.65 67.54 56.24 68.14 56.82 68.83 57.4 69.65 57.99 70.58 58.57 71.59 59.15 72.65 59.74 73.72 60.32 74.77 60.9 75.8 61.48 76.8 62.07 77.76 62.65 78.7 63.23 79.61 63.82 80.53 64.4 81.45 64.98 82.36 65.57 83.23 66.15 84.09 66.73 84.94 67.31 85.73 67.9 86.51 68.48 87.31 69.06 88.13 69.65 88.96 70.23 89.8 70.81 90.63 71.4 91.46 71.98 92.27 72.56 93.05 73.15 93.81 73.73 94.36 74.31 94.59 74.89 94.79 75.48 94.98 76.06 94.65 76.64 94.27 77.23 93.71 77.81 92.94 78.39 92.15 78.98 91.36 79.56 90.55 80.14 89.73 80.73 88.9 81.31 88.06 81.89 87.22 82.47 86.39 83.06 85.55 83.64 84.72 84.22 83.9 84.81 83.08 85.39 82.27 85.97 81.46 86.56 80.66 87.14 79.86 87.72 79.07 88.3 78.29 88.89 77.52 89.47 76.75 90.05 76 90.64 75.25 91.22 74.5 91.8 73.77 92.39 73.04 92.97 72.31 93.55 71.58 94.14 70.86 94.72 70.13 95.3 69.41 95.88 68.69 96.47 67.97 97.05 67.25 97.63 66.54 98.22 65.83 98.8 65.13 99.38 64.43 99.97 63.73 100.55 63.05 101.13 62.37 101.72 61.7 102.3 61.03 102.88 60.37 103.46 59.71 104.05 59.06 104.63 58.42 105.21 57.77 105.8 57.14 106.38 56.5 106.96 55.87 107.55 55.24 108.13 54.62 108.71 54 109.29 53.37 109.88 52.73 110.46 52.1 111.04 51.48 111.63 50.86 112.21 50.25 112.79 49.64 113.38 49.04 113.96 48.44 114.54 47.84 115.13 47.25 115.71 46.66 116.29 46.08 116.87 45.5 117.46 44.92 118.04 44.35 118.62 43.78 119.21 43.22 119.79 42.66 120.37 42.11 120.96 41.57 121.54 41.02 122.12 40.47 122.71 39.93 123.29 39.42 123.87 38.91 124.45 38.38 125.04 37.79 125.62 37.14 126.2 36.5 126.79 35.97 127.37 35.61 127.95 35.43 128.54 35.33 129.12 35.2 129.7 34.98 130.29 34.66 130.87 34.2 131.45 33.41 132.03 32.64 132.62 31.9 133.2 31.19 133.78 30.51 134.37 29.88 134.95 29.31 135.53 28.79 136.12 28.33 136.7 27.92 137.28 27.55 137.86 27.21 138.45 26.87 139.03 26.53 139.61 26.18 140.2 25.8 140.78 25.42 141.36 25.02 141.95 24.63 142.53 24.24 143.11 23.86 143.7 23.49 144.28 23.14 144.86 22.8 145.44 22.46 146.03 22.13 146.61 21.79 147.19 21.45 147.78 21.11 148.36 20.76 148.94 20.41 149.53 20.07\"/>\n",
       "      </g>\n",
       "    </g>\n",
       "  </g>\n",
       "</g>\n",
       "  <g class=\"guide ylabels\" font-size=\"2.82\" font-family=\"Helvetica\" fill=\"#000000\" id=\"img-8f7e890e-15\">\n",
       "    <text x=\"7.29\" y=\"99.06\" text-anchor=\"end\" dy=\"0.35em\">0.00</text>\n",
       "    <text x=\"7.29\" y=\"75.04\" text-anchor=\"end\" dy=\"0.35em\">0.05</text>\n",
       "    <text x=\"7.29\" y=\"51.03\" text-anchor=\"end\" dy=\"0.35em\">0.10</text>\n",
       "    <text x=\"7.29\" y=\"27.01\" text-anchor=\"end\" dy=\"0.35em\">0.15</text>\n",
       "    <text x=\"7.29\" y=\"3\" text-anchor=\"end\" dy=\"0.35em\">0.20</text>\n",
       "  </g>\n",
       "</g>\n",
       "<defs>\n",
       "  <clipPath id=\"img-8f7e890e-8\">\n",
       "  <path d=\"M8.29,1 L 151.53 1 151.53 101.06 8.29 101.06\" />\n",
       "</clipPath>\n",
       "</defs>\n",
       "</svg>\n"
      ],
      "text/html": [
       "<?xml version=\"1.0\" encoding=\"UTF-8\"?>\n",
       "<svg xmlns=\"http://www.w3.org/2000/svg\"\n",
       "     xmlns:xlink=\"http://www.w3.org/1999/xlink\"\n",
       "     xmlns:gadfly=\"http://www.gadflyjl.org/ns\"\n",
       "     version=\"1.2\"\n",
       "     width=\"158.73mm\" height=\"105.82mm\" viewBox=\"0 0 158.73 105.82\"\n",
       "     stroke=\"none\"\n",
       "     fill=\"#000000\"\n",
       "     stroke-width=\"0.3\"\n",
       "     font-size=\"3.88\"\n",
       ">\n",
       "<g stroke=\"#000000\" stroke-opacity=\"0.000\" fill=\"#FFFFFF\" id=\"img-8f7e890e-1\">\n",
       "  <rect x=\"0\" y=\"0\" width=\"158.73\" height=\"105.82\"/>\n",
       "</g>\n",
       "<g class=\"plotroot xscalable yscalable\" id=\"img-8f7e890e-2\">\n",
       "  <g class=\"guide xlabels\" font-size=\"2.82\" font-family=\"Helvetica\" fill=\"#000000\" id=\"img-8f7e890e-3\">\n",
       "    <text x=\"10.29\" y=\"102.06\" text-anchor=\"middle\" dy=\"0.6em\">1.6</text>\n",
       "    <text x=\"33.5\" y=\"102.06\" text-anchor=\"middle\" dy=\"0.6em\">1.7</text>\n",
       "    <text x=\"56.7\" y=\"102.06\" text-anchor=\"middle\" dy=\"0.6em\">1.8</text>\n",
       "    <text x=\"79.91\" y=\"102.06\" text-anchor=\"middle\" dy=\"0.6em\">1.9</text>\n",
       "    <text x=\"103.11\" y=\"102.06\" text-anchor=\"middle\" dy=\"0.6em\">2.0</text>\n",
       "    <text x=\"126.32\" y=\"102.06\" text-anchor=\"middle\" dy=\"0.6em\">2.1</text>\n",
       "    <text x=\"149.53\" y=\"102.06\" text-anchor=\"middle\" dy=\"0.6em\">2.2</text>\n",
       "  </g>\n",
       "  <g class=\"guide colorkey\" id=\"img-8f7e890e-4\">\n",
       "    <g fill=\"#000000\" font-size=\"2.82\" font-family=\"Helvetica\" id=\"img-8f7e890e-5\">\n",
       "      <text x=\"155.26\" y=\"52.76\" dy=\"0.35em\">y1</text>\n",
       "    </g>\n",
       "    <g fill=\"#009AFA\" stroke=\"#000000\" stroke-opacity=\"0.000\" id=\"img-8f7e890e-6\">\n",
       "      <rect x=\"152.53\" y=\"51.9\" width=\"1.73\" height=\"1.73\"/>\n",
       "    </g>\n",
       "    <g fill=\"#000000\" font-size=\"3.88\" font-family=\"Helvetica\" stroke=\"#000000\" stroke-opacity=\"0.000\" id=\"img-8f7e890e-7\">\n",
       "      <text x=\"152.53\" y=\"47.29\"></text>\n",
       "    </g>\n",
       "  </g>\n",
       "<g clip-path=\"url(#img-8f7e890e-8)\">\n",
       "  <g id=\"img-8f7e890e-9\">\n",
       "    <g pointer-events=\"visible\" opacity=\"1\" fill=\"#000000\" fill-opacity=\"0.000\" stroke=\"#000000\" stroke-opacity=\"0.000\" class=\"guide background\" id=\"img-8f7e890e-10\">\n",
       "      <rect x=\"8.29\" y=\"1\" width=\"143.23\" height=\"100.06\"/>\n",
       "    </g>\n",
       "    <g class=\"guide ygridlines xfixed\" stroke-dasharray=\"0.5,0.5\" stroke-width=\"0.2\" stroke=\"#D0D0E0\" id=\"img-8f7e890e-11\">\n",
       "      <path fill=\"none\" d=\"M8.29,99.06 L 151.53 99.06\"/>\n",
       "      <path fill=\"none\" d=\"M8.29,75.04 L 151.53 75.04\"/>\n",
       "      <path fill=\"none\" d=\"M8.29,51.03 L 151.53 51.03\"/>\n",
       "      <path fill=\"none\" d=\"M8.29,27.01 L 151.53 27.01\"/>\n",
       "      <path fill=\"none\" d=\"M8.29,3 L 151.53 3\"/>\n",
       "    </g>\n",
       "    <g class=\"guide xgridlines yfixed\" stroke-dasharray=\"0.5,0.5\" stroke-width=\"0.2\" stroke=\"#D0D0E0\" id=\"img-8f7e890e-12\">\n",
       "      <path fill=\"none\" d=\"M10.29,1 L 10.29 101.06\"/>\n",
       "      <path fill=\"none\" d=\"M33.5,1 L 33.5 101.06\"/>\n",
       "      <path fill=\"none\" d=\"M56.7,1 L 56.7 101.06\"/>\n",
       "      <path fill=\"none\" d=\"M79.91,1 L 79.91 101.06\"/>\n",
       "      <path fill=\"none\" d=\"M103.11,1 L 103.11 101.06\"/>\n",
       "      <path fill=\"none\" d=\"M126.32,1 L 126.32 101.06\"/>\n",
       "      <path fill=\"none\" d=\"M149.53,1 L 149.53 101.06\"/>\n",
       "    </g>\n",
       "    <g class=\"plotpanel\" id=\"img-8f7e890e-13\">\n",
       "      <g stroke-width=\"0.26\" fill=\"#000000\" fill-opacity=\"0.000\" class=\"geometry\" stroke-dasharray=\"none\" stroke=\"#009AFA\" id=\"img-8f7e890e-14\">\n",
       "        <path fill=\"none\" d=\"M33.5,29.62 L 34.08 30.61 34.66 31.6 35.25 32.6 35.83 33.6 36.41 34.6 37 35.61 37.58 36.61 38.16 37.62 38.74 38.63 39.33 39.63 39.91 40.64 40.49 41.65 41.08 42.66 41.66 43.67 42.24 44.69 42.83 45.7 43.41 46.71 43.99 47.72 44.58 48.74 45.16 49.75 45.74 50.76 46.32 51.78 46.91 52.82 47.49 53.83 48.07 54.81 48.66 55.83 49.24 56.92 49.82 57.99 50.41 58.9 50.99 59.67 51.57 60.54 52.16 61.37 52.74 62.41 53.32 63.64 53.9 64.89 54.49 66.03 55.07 66.86 55.65 67.54 56.24 68.14 56.82 68.83 57.4 69.65 57.99 70.58 58.57 71.59 59.15 72.65 59.74 73.72 60.32 74.77 60.9 75.8 61.48 76.8 62.07 77.76 62.65 78.7 63.23 79.61 63.82 80.53 64.4 81.45 64.98 82.36 65.57 83.23 66.15 84.09 66.73 84.94 67.31 85.73 67.9 86.51 68.48 87.31 69.06 88.13 69.65 88.96 70.23 89.8 70.81 90.63 71.4 91.46 71.98 92.27 72.56 93.05 73.15 93.81 73.73 94.36 74.31 94.59 74.89 94.79 75.48 94.98 76.06 94.65 76.64 94.27 77.23 93.71 77.81 92.94 78.39 92.15 78.98 91.36 79.56 90.55 80.14 89.73 80.73 88.9 81.31 88.06 81.89 87.22 82.47 86.39 83.06 85.55 83.64 84.72 84.22 83.9 84.81 83.08 85.39 82.27 85.97 81.46 86.56 80.66 87.14 79.86 87.72 79.07 88.3 78.29 88.89 77.52 89.47 76.75 90.05 76 90.64 75.25 91.22 74.5 91.8 73.77 92.39 73.04 92.97 72.31 93.55 71.58 94.14 70.86 94.72 70.13 95.3 69.41 95.88 68.69 96.47 67.97 97.05 67.25 97.63 66.54 98.22 65.83 98.8 65.13 99.38 64.43 99.97 63.73 100.55 63.05 101.13 62.37 101.72 61.7 102.3 61.03 102.88 60.37 103.46 59.71 104.05 59.06 104.63 58.42 105.21 57.77 105.8 57.14 106.38 56.5 106.96 55.87 107.55 55.24 108.13 54.62 108.71 54 109.29 53.37 109.88 52.73 110.46 52.1 111.04 51.48 111.63 50.86 112.21 50.25 112.79 49.64 113.38 49.04 113.96 48.44 114.54 47.84 115.13 47.25 115.71 46.66 116.29 46.08 116.87 45.5 117.46 44.92 118.04 44.35 118.62 43.78 119.21 43.22 119.79 42.66 120.37 42.11 120.96 41.57 121.54 41.02 122.12 40.47 122.71 39.93 123.29 39.42 123.87 38.91 124.45 38.38 125.04 37.79 125.62 37.14 126.2 36.5 126.79 35.97 127.37 35.61 127.95 35.43 128.54 35.33 129.12 35.2 129.7 34.98 130.29 34.66 130.87 34.2 131.45 33.41 132.03 32.64 132.62 31.9 133.2 31.19 133.78 30.51 134.37 29.88 134.95 29.31 135.53 28.79 136.12 28.33 136.7 27.92 137.28 27.55 137.86 27.21 138.45 26.87 139.03 26.53 139.61 26.18 140.2 25.8 140.78 25.42 141.36 25.02 141.95 24.63 142.53 24.24 143.11 23.86 143.7 23.49 144.28 23.14 144.86 22.8 145.44 22.46 146.03 22.13 146.61 21.79 147.19 21.45 147.78 21.11 148.36 20.76 148.94 20.41 149.53 20.07\"/>\n",
       "      </g>\n",
       "    </g>\n",
       "  </g>\n",
       "</g>\n",
       "  <g class=\"guide ylabels\" font-size=\"2.82\" font-family=\"Helvetica\" fill=\"#000000\" id=\"img-8f7e890e-15\">\n",
       "    <text x=\"7.29\" y=\"99.06\" text-anchor=\"end\" dy=\"0.35em\">0.00</text>\n",
       "    <text x=\"7.29\" y=\"75.04\" text-anchor=\"end\" dy=\"0.35em\">0.05</text>\n",
       "    <text x=\"7.29\" y=\"51.03\" text-anchor=\"end\" dy=\"0.35em\">0.10</text>\n",
       "    <text x=\"7.29\" y=\"27.01\" text-anchor=\"end\" dy=\"0.35em\">0.15</text>\n",
       "    <text x=\"7.29\" y=\"3\" text-anchor=\"end\" dy=\"0.35em\">0.20</text>\n",
       "  </g>\n",
       "</g>\n",
       "<defs>\n",
       "  <clipPath id=\"img-8f7e890e-8\">\n",
       "  <path d=\"M8.29,1 L 151.53 1 151.53 101.06 8.29 101.06\" />\n",
       "</clipPath>\n",
       "</defs>\n",
       "</svg>\n"
      ],
      "text/plain": [
       "Compose.SVG(158.73015873015876mm,105.82010582010584mm,IOBuffer(data=UInt8[...], readable=true, writable=true, seekable=true, append=false, size=6217, maxsize=Inf, ptr=6218, mark=-1),nothing,\"img-8f7e890e\",0,Compose.SVGPropertyFrame[],Dict{Type{T},Union{Compose.Property{P<:Compose.PropertyPrimitive},Void}}(),Dict{Compose.ClipPrimitive{P<:NTuple{N,Measures.Measure}},ASCIIString}(Compose.ClipPrimitive{Tuple{Measures.Length{:mm,Float64},Measures.Length{:mm,Float64}}}([(8.291666666666657mm,1.0mm),(151.52599206349208mm,1.0mm),(151.52599206349208mm,101.05621693121695mm),(8.291666666666657mm,101.05621693121695mm)])=>\"img-8f7e890e-8\"),Tuple{Compose.FormPrimitive,ASCIIString}[],Set{AbstractString}(),true,false,nothing,true,\"img-8f7e890e-15\",false,15,AbstractString[\"/home/pdmitriev/.julia/v0.4/Gadfly/src/gadfly.js\"],Tuple{AbstractString,AbstractString}[(\"Snap.svg\",\"Snap\"),(\"Gadfly\",\"Gadfly\")],AbstractString[\"fig.select(\\\"#img-8f7e890e-4\\\")\\n   .drag(function() {}, function() {}, function() {});\",\"fig.select(\\\"#img-8f7e890e-9\\\")\\n   .init_gadfly();\"],false,:none)"
      ]
     },
     "metadata": {},
     "output_type": "display_data"
    },
    {
     "data": {
      "text/html": []
     },
     "execution_count": 19,
     "metadata": {},
     "output_type": "execute_result"
    }
   ],
   "source": [
    "ran = linspace(1.7, 2.2, 200);\n",
    "refl = zeros(200);\n",
    "for i in 1:200\n",
    "    h = simulate(ran[i]);\n",
    "    refl[i] = maximum(abs(h))\n",
    "end\n",
    "\n",
    "plot(ran, refl)"
   ]
  },
  {
   "cell_type": "code",
   "execution_count": 22,
   "metadata": {
    "collapsed": false
   },
   "outputs": [
    {
     "name": "stdout",
     "output_type": "stream",
     "text": [
      "FDTD n = 1.8809045226130654\n",
      "Analtyic n = 2.0\n",
      "Error = 0.0595477386934673%\n"
     ]
    }
   ],
   "source": [
    "f_min = 1.\n",
    "n_fdtd = -1\n",
    "for i in 1:200\n",
    "    if refl[i] < f_min\n",
    "        f_min = refl[i]\n",
    "        n_fdtd = ran[i]\n",
    "    end\n",
    "end\n",
    "\n",
    "n_analytic = 2.\n",
    "\n",
    "err = abs(n_fdtd - n_analytic)/n_analytic\n",
    "        \n",
    "print(\"FDTD n = $n_fdtd\\n\")\n",
    "print(\"Analtyic n = $n_analytic\\n\")\n",
    "print(\"Error = $err%\\n\")"
   ]
  },
  {
   "cell_type": "code",
   "execution_count": null,
   "metadata": {
    "collapsed": true
   },
   "outputs": [],
   "source": []
  }
 ],
 "metadata": {
  "kernelspec": {
   "display_name": "Julia 0.4.5",
   "language": "julia",
   "name": "julia-0.4"
  },
  "language_info": {
   "file_extension": ".jl",
   "mimetype": "application/julia",
   "name": "julia",
   "version": "0.4.5"
  }
 },
 "nbformat": 4,
 "nbformat_minor": 0
}
