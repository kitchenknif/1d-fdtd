{
 "cells": [
  {
   "cell_type": "code",
   "execution_count": 1,
   "metadata": {
    "collapsed": false
   },
   "outputs": [
    {
     "name": "stderr",
     "output_type": "stream",
     "text": [
      "INFO: Recompiling stale cache file /home/kryosugarra/.julia/lib/v0.4/Plots.ji for module Plots.\n",
      "INFO: Recompiling stale cache file /home/kryosugarra/.julia/lib/v0.4/KernelDensity.ji for module KernelDensity.\n",
      "INFO: Recompiling stale cache file /home/kryosugarra/.julia/lib/v0.4/Distributions.ji for module Distributions.\n"
     ]
    }
   ],
   "source": [
    "using Plots;\n",
    "gadfly();"
   ]
  },
  {
   "cell_type": "markdown",
   "metadata": {},
   "source": [
    "### Load FDTD functions"
   ]
  },
  {
   "cell_type": "code",
   "execution_count": 20,
   "metadata": {
    "collapsed": false
   },
   "outputs": [
    {
     "name": "stderr",
     "output_type": "stream",
     "text": [
      "WARNING: replacing module globals\n",
      "WARNING: replacing module update\n",
      "WARNING: replacing module globals\n",
      "WARNING: replacing module sources\n",
      "WARNING: replacing module boundaries\n"
     ]
    }
   ],
   "source": [
    "include(\"../fdtd/update.jl\");\n",
    "include(\"../fdtd/sources.jl\");\n",
    "include(\"../fdtd/boundaries.jl\");\n",
    "using update;\n",
    "using sources;"
   ]
  },
  {
   "cell_type": "markdown",
   "metadata": {},
   "source": [
    "### Define grid"
   ]
  },
  {
   "cell_type": "code",
   "execution_count": 35,
   "metadata": {
    "collapsed": false
   },
   "outputs": [],
   "source": [
    "#Global parameters\n",
    "size = 200\n",
    "endTime = 700\n",
    "num_snaps = 350\n",
    "snap_step = div(endTime, num_snaps)\n",
    "#Grid\n",
    "hy = zeros(size);\n",
    "ez = zeros(size);\n",
    "# output params\n",
    "ez_snapshot = Array{Any}(num_snaps);\n",
    "hy_snapshot = Array{Any}(num_snaps);\n",
    "\n",
    "fieldsum = 1;\n",
    "minsumtime = 1;\n",
    "minfieldsnap = zeros(size);"
   ]
  },
  {
   "cell_type": "markdown",
   "metadata": {},
   "source": [
    "### Run simulation"
   ]
  },
  {
   "cell_type": "code",
   "execution_count": 36,
   "metadata": {
    "collapsed": false
   },
   "outputs": [
    {
     "name": "stdout",
     "output_type": "stream",
     "text": [
      "269\n",
      "6.222615632749751e-29"
     ]
    }
   ],
   "source": [
    "#Time steps\n",
    "\n",
    "for time in 1:endTime\n",
    "    #Field update equations\n",
    "    \n",
    "    update.update_magnetic_field!(ez, hy)\n",
    "    boundaries.perfect_conductor!(hy, 200)\n",
    "    \n",
    "    update.update_electric_field!(ez, hy)\n",
    "    boundaries.perfect_conductor!(ez, 1)\n",
    "\n",
    "    # Source at center\n",
    "    sources.additive_gaussian_source!(ez, div(length(ez),2), time, 70, 100)\n",
    "\n",
    "    #Boundaries\n",
    "\n",
    "    \n",
    "    #Catch minimum E-Field\n",
    "    if time > 50\n",
    "        if fieldsum > sum(ez.^2)\n",
    "            minsumtime = time\n",
    "            fieldsum = sum(ez.^2)\n",
    "            minfieldsnap = copy(ez)\n",
    "        end\n",
    "    end\n",
    "    \n",
    "    #Snapshots for animation\n",
    "    if mod(time, snap_step) == 0\n",
    "        ez_snapshot[div(time,snap_step)] = (time, copy(ez))\n",
    "        hy_snapshot[div(time,snap_step)] = (time, copy(hy).*globals.imp0)        \n",
    "    end\n",
    "    \n",
    "end\n",
    "print(minsumtime, '\\n')\n",
    "print(fieldsum)"
   ]
  },
  {
   "cell_type": "markdown",
   "metadata": {},
   "source": [
    "### E-field animation"
   ]
  },
  {
   "cell_type": "code",
   "execution_count": 38,
   "metadata": {
    "collapsed": false
   },
   "outputs": [
    {
     "name": "stderr",
     "output_type": "stream",
     "text": [
      "INFO: Saved animation to /media/storage/Documents/Github/1d-fdtd/tasks/Task0/PEC-PMC.gif\n"
     ]
    },
    {
     "data": {
      "text/html": [
       "<img src=\"Task0/PEC-PMC.gif?0.8976161167606262>\" />"
      ],
      "text/plain": [
       "Plots.AnimatedGif(\"/media/storage/Documents/Github/1d-fdtd/tasks/Task0/PEC-PMC.gif\")"
      ]
     },
     "execution_count": 38,
     "metadata": {},
     "output_type": "execute_result"
    }
   ],
   "source": [
    "anim = Animation()\n",
    "\n",
    "for i = 1:num_snaps\n",
    "    p = plot(1:size, ez_snapshot[i][2], lab=\"Ez\")\n",
    "    plot!(1:size, hy_snapshot[i][2], lab=\"Hy*imp0\")\n",
    "    \n",
    "    time = ez_snapshot[i][1]\n",
    "    plot!(ann=[(150, 1.5, \"time =$time\")])\n",
    "    plot!(ann=[(0, 1.1, \"PEC\")])\n",
    "    plot!(ann=[(180, 1.1, \"PMC\")])    \n",
    "    plot!(xlims=(1, 200), ylims=(-2, 2))\n",
    "    frame(anim, p)\n",
    "end\n",
    "gif(anim, \"./Task0/PEC-PMC.gif\", fps=15)"
   ]
  },
  {
   "cell_type": "markdown",
   "metadata": {},
   "source": [
    "### Minimum E-field snapshot"
   ]
  },
  {
   "cell_type": "code",
   "execution_count": 37,
   "metadata": {
    "collapsed": false
   },
   "outputs": [
    {
     "data": {
      "image/svg+xml": [
       "<?xml version=\"1.0\" encoding=\"UTF-8\"?>\n",
       "<svg xmlns=\"http://www.w3.org/2000/svg\"\n",
       "     xmlns:xlink=\"http://www.w3.org/1999/xlink\"\n",
       "     xmlns:gadfly=\"http://www.gadflyjl.org/ns\"\n",
       "     version=\"1.2\"\n",
       "     width=\"158.73mm\" height=\"105.82mm\" viewBox=\"0 0 158.73 105.82\"\n",
       "     stroke=\"none\"\n",
       "     fill=\"#000000\"\n",
       "     stroke-width=\"0.3\"\n",
       "     font-size=\"3.88\"\n",
       ">\n",
       "<g stroke=\"#000000\" stroke-opacity=\"0.000\" fill=\"#FFFFFF\" id=\"img-c6c91f20-1\">\n",
       "  <rect x=\"0\" y=\"0\" width=\"158.73\" height=\"105.82\"/>\n",
       "</g>\n",
       "<g class=\"plotroot xscalable yscalable\" id=\"img-c6c91f20-2\">\n",
       "  <g class=\"guide xlabels\" font-size=\"2.82\" font-family=\"Helvetica\" fill=\"#000000\" id=\"img-c6c91f20-3\">\n",
       "    <text x=\"18.8\" y=\"101.19\" text-anchor=\"middle\" dy=\"0.6em\">0</text>\n",
       "    <text x=\"51.33\" y=\"101.19\" text-anchor=\"middle\" dy=\"0.6em\">50</text>\n",
       "    <text x=\"83.87\" y=\"101.19\" text-anchor=\"middle\" dy=\"0.6em\">100</text>\n",
       "    <text x=\"116.4\" y=\"101.19\" text-anchor=\"middle\" dy=\"0.6em\">150</text>\n",
       "    <text x=\"148.93\" y=\"101.19\" text-anchor=\"middle\" dy=\"0.6em\">200</text>\n",
       "  </g>\n",
       "  <g class=\"guide colorkey\" id=\"img-c6c91f20-4\">\n",
       "    <g fill=\"#000000\" font-size=\"2.82\" font-family=\"Helvetica\" id=\"img-c6c91f20-5\">\n",
       "      <text x=\"154.75\" y=\"52.41\" dy=\"0.35em\">y1</text>\n",
       "    </g>\n",
       "    <g fill=\"#009AFA\" stroke=\"#000000\" stroke-opacity=\"0.000\" id=\"img-c6c91f20-6\">\n",
       "      <rect x=\"151.93\" y=\"51.5\" width=\"1.82\" height=\"1.82\"/>\n",
       "    </g>\n",
       "    <g fill=\"#000000\" font-size=\"3.88\" font-family=\"Helvetica\" stroke=\"#000000\" stroke-opacity=\"0.000\" id=\"img-c6c91f20-7\">\n",
       "      <text x=\"151.93\" y=\"48.59\"></text>\n",
       "    </g>\n",
       "  </g>\n",
       "<g clip-path=\"url(#img-c6c91f20-8)\">\n",
       "  <g id=\"img-c6c91f20-9\">\n",
       "    <g pointer-events=\"visible\" opacity=\"1\" fill=\"#000000\" fill-opacity=\"0.000\" stroke=\"#000000\" stroke-opacity=\"0.000\" class=\"guide background\" id=\"img-c6c91f20-10\">\n",
       "      <rect x=\"16.8\" y=\"1\" width=\"134.13\" height=\"99.19\"/>\n",
       "    </g>\n",
       "    <g class=\"guide ygridlines xfixed\" stroke-dasharray=\"0.5,0.5\" stroke-width=\"0.2\" stroke=\"#D0D0E0\" id=\"img-c6c91f20-11\">\n",
       "      <path fill=\"none\" d=\"M16.8,98.19 L 150.93 98.19\"/>\n",
       "      <path fill=\"none\" d=\"M16.8,74.39 L 150.93 74.39\"/>\n",
       "      <path fill=\"none\" d=\"M16.8,50.59 L 150.93 50.59\"/>\n",
       "      <path fill=\"none\" d=\"M16.8,26.8 L 150.93 26.8\"/>\n",
       "      <path fill=\"none\" d=\"M16.8,3 L 150.93 3\"/>\n",
       "    </g>\n",
       "    <g class=\"guide xgridlines yfixed\" stroke-dasharray=\"0.5,0.5\" stroke-width=\"0.2\" stroke=\"#D0D0E0\" id=\"img-c6c91f20-12\">\n",
       "      <path fill=\"none\" d=\"M18.8,1 L 18.8 100.19\"/>\n",
       "      <path fill=\"none\" d=\"M51.33,1 L 51.33 100.19\"/>\n",
       "      <path fill=\"none\" d=\"M83.87,1 L 83.87 100.19\"/>\n",
       "      <path fill=\"none\" d=\"M116.4,1 L 116.4 100.19\"/>\n",
       "      <path fill=\"none\" d=\"M148.93,1 L 148.93 100.19\"/>\n",
       "    </g>\n",
       "    <g class=\"plotpanel\" id=\"img-c6c91f20-13\">\n",
       "      <g stroke-width=\"0.26\" fill=\"#000000\" fill-opacity=\"0.000\" class=\"geometry\" stroke-dasharray=\"none\" stroke=\"#009AFA\" id=\"img-c6c91f20-14\">\n",
       "        <path fill=\"none\" d=\"M19.45,50.59 L 20.1 50.59 20.75 50.59 21.4 50.59 22.05 50.59 22.7 50.59 23.35 50.59 24.01 50.59 24.66 50.59 25.31 50.59 25.96 50.59 26.61 50.59 27.26 50.59 27.91 50.59 28.56 50.59 29.21 50.59 29.86 50.59 30.51 50.59 31.16 50.59 31.81 50.59 32.46 50.59 33.11 50.59 33.77 50.59 34.42 50.59 35.07 50.59 35.72 50.59 36.37 50.59 37.02 50.59 37.67 50.59 38.32 50.59 38.97 50.59 39.62 50.59 40.27 50.59 40.92 50.59 41.57 50.59 42.22 46.29 42.87 54.5 43.53 42.97 44.18 56.01 44.83 39.9 45.48 64.76 46.13 39.66 46.78 64.56 47.43 41.95 48.08 60.39 48.73 45.32 49.38 56.1 50.03 45.2 50.68 61.49 51.33 46.65 51.98 59.82 52.63 48.42 53.29 58.36 53.94 48.86 54.59 59.58 55.24 44.23 55.89 66.21 56.54 44.08 57.19 58.31 57.84 49.82 58.49 58.12 59.14 39.25 59.79 70.99 60.44 33.99 61.09 76.88 61.74 33.53 62.39 74.09 63.05 34.33 63.7 69.66 64.35 27.07 65 73.13 65.65 37.53 66.3 61.66 66.95 38.81 67.6 63.19 68.25 42.42 68.9 64.09 69.55 39.11 70.2 68.21 70.85 43.95 71.5 69.85 72.15 35.28 72.81 68.8 73.46 34 74.11 70.41 74.76 37.22 75.41 72.72 76.06 37.88 76.71 67.11 77.36 42.34 78.01 70.08 78.66 36.39 79.31 74.37 79.96 36.06 80.61 50.92 81.26 52.24 81.91 33.42 82.57 56.21 83.22 29.29 83.87 52.41 84.52 37.88 85.17 69.05 85.82 45.39 86.47 61.99 87.12 28.47 87.77 70.74 88.42 24.17 89.07 70.41 89.72 16.91 90.37 82.96 91.02 30.45 91.67 67.11 92.33 34.25 92.98 65.45 93.63 21.2 94.28 74.87 94.93 23.76 95.58 71.32 96.23 23.84 96.88 72.18 97.53 23.76 98.18 70.86 98.83 27.41 99.48 65.3 100.13 31.21 100.78 66.75 101.43 28.49 102.09 70.67 102.74 31.66 103.39 64.38 104.04 33.05 104.69 64.12 105.34 36.79 105.99 59.44 106.64 35.01 107.29 55.79 107.94 44.32 108.59 52.86 109.24 38.51 109.89 60.46 110.54 37.02 111.19 61 111.85 33.15 112.5 66.51 113.15 26.61 113.8 75.03 114.45 24.94 115.1 69.98 115.75 29.93 116.4 66.82 117.05 24.86 117.7 70.55 118.35 25.13 119 68.63 119.65 31.76 120.3 59.28 120.95 37.96 121.61 55.39 122.26 37.81 122.91 52.78 123.56 49.27 124.21 46.39 124.86 48.83 125.51 44.7 126.16 45.32 126.81 45.43 127.46 44.18 128.11 44.19 128.76 44.18 129.41 44.18 130.06 44.18 130.71 44.18 131.37 44.18 132.02 44.18 132.67 44.18 133.32 44.18 133.97 44.18 134.62 44.18 135.27 44.18 135.92 44.18 136.57 44.18 137.22 44.18 137.87 44.18 138.52 44.18 139.17 44.18 139.82 44.18 140.47 44.18 141.13 44.18 141.78 44.18 142.43 44.18 143.08 44.18 143.73 44.18 144.38 44.18 145.03 44.18 145.68 44.18 146.33 44.18 146.98 44.18 147.63 44.18 148.28 44.18 148.93 44.18\"/>\n",
       "      </g>\n",
       "    </g>\n",
       "  </g>\n",
       "</g>\n",
       "  <g class=\"guide ylabels\" font-size=\"2.82\" font-family=\"Helvetica\" fill=\"#000000\" id=\"img-c6c91f20-15\">\n",
       "    <text x=\"15.8\" y=\"98.19\" text-anchor=\"end\" dy=\"0.35em\">-2×10⁻¹⁵</text>\n",
       "    <text x=\"15.8\" y=\"74.39\" text-anchor=\"end\" dy=\"0.35em\">-1×10⁻¹⁵</text>\n",
       "    <text x=\"15.8\" y=\"50.59\" text-anchor=\"end\" dy=\"0.35em\">0</text>\n",
       "    <text x=\"15.8\" y=\"26.8\" text-anchor=\"end\" dy=\"0.35em\">1×10⁻¹⁵</text>\n",
       "    <text x=\"15.8\" y=\"3\" text-anchor=\"end\" dy=\"0.35em\">2×10⁻¹⁵</text>\n",
       "  </g>\n",
       "</g>\n",
       "<defs>\n",
       "  <clipPath id=\"img-c6c91f20-8\">\n",
       "  <path d=\"M16.8,1 L 150.93 1 150.93 100.19 16.8 100.19\" />\n",
       "</clipPath>\n",
       "</defs>\n",
       "</svg>\n"
      ],
      "text/html": [
       "<?xml version=\"1.0\" encoding=\"UTF-8\"?>\n",
       "<svg xmlns=\"http://www.w3.org/2000/svg\"\n",
       "     xmlns:xlink=\"http://www.w3.org/1999/xlink\"\n",
       "     xmlns:gadfly=\"http://www.gadflyjl.org/ns\"\n",
       "     version=\"1.2\"\n",
       "     width=\"158.73mm\" height=\"105.82mm\" viewBox=\"0 0 158.73 105.82\"\n",
       "     stroke=\"none\"\n",
       "     fill=\"#000000\"\n",
       "     stroke-width=\"0.3\"\n",
       "     font-size=\"3.88\"\n",
       ">\n",
       "<g stroke=\"#000000\" stroke-opacity=\"0.000\" fill=\"#FFFFFF\" id=\"img-c6c91f20-1\">\n",
       "  <rect x=\"0\" y=\"0\" width=\"158.73\" height=\"105.82\"/>\n",
       "</g>\n",
       "<g class=\"plotroot xscalable yscalable\" id=\"img-c6c91f20-2\">\n",
       "  <g class=\"guide xlabels\" font-size=\"2.82\" font-family=\"Helvetica\" fill=\"#000000\" id=\"img-c6c91f20-3\">\n",
       "    <text x=\"18.8\" y=\"101.19\" text-anchor=\"middle\" dy=\"0.6em\">0</text>\n",
       "    <text x=\"51.33\" y=\"101.19\" text-anchor=\"middle\" dy=\"0.6em\">50</text>\n",
       "    <text x=\"83.87\" y=\"101.19\" text-anchor=\"middle\" dy=\"0.6em\">100</text>\n",
       "    <text x=\"116.4\" y=\"101.19\" text-anchor=\"middle\" dy=\"0.6em\">150</text>\n",
       "    <text x=\"148.93\" y=\"101.19\" text-anchor=\"middle\" dy=\"0.6em\">200</text>\n",
       "  </g>\n",
       "  <g class=\"guide colorkey\" id=\"img-c6c91f20-4\">\n",
       "    <g fill=\"#000000\" font-size=\"2.82\" font-family=\"Helvetica\" id=\"img-c6c91f20-5\">\n",
       "      <text x=\"154.75\" y=\"52.41\" dy=\"0.35em\">y1</text>\n",
       "    </g>\n",
       "    <g fill=\"#009AFA\" stroke=\"#000000\" stroke-opacity=\"0.000\" id=\"img-c6c91f20-6\">\n",
       "      <rect x=\"151.93\" y=\"51.5\" width=\"1.82\" height=\"1.82\"/>\n",
       "    </g>\n",
       "    <g fill=\"#000000\" font-size=\"3.88\" font-family=\"Helvetica\" stroke=\"#000000\" stroke-opacity=\"0.000\" id=\"img-c6c91f20-7\">\n",
       "      <text x=\"151.93\" y=\"48.59\"></text>\n",
       "    </g>\n",
       "  </g>\n",
       "<g clip-path=\"url(#img-c6c91f20-8)\">\n",
       "  <g id=\"img-c6c91f20-9\">\n",
       "    <g pointer-events=\"visible\" opacity=\"1\" fill=\"#000000\" fill-opacity=\"0.000\" stroke=\"#000000\" stroke-opacity=\"0.000\" class=\"guide background\" id=\"img-c6c91f20-10\">\n",
       "      <rect x=\"16.8\" y=\"1\" width=\"134.13\" height=\"99.19\"/>\n",
       "    </g>\n",
       "    <g class=\"guide ygridlines xfixed\" stroke-dasharray=\"0.5,0.5\" stroke-width=\"0.2\" stroke=\"#D0D0E0\" id=\"img-c6c91f20-11\">\n",
       "      <path fill=\"none\" d=\"M16.8,98.19 L 150.93 98.19\"/>\n",
       "      <path fill=\"none\" d=\"M16.8,74.39 L 150.93 74.39\"/>\n",
       "      <path fill=\"none\" d=\"M16.8,50.59 L 150.93 50.59\"/>\n",
       "      <path fill=\"none\" d=\"M16.8,26.8 L 150.93 26.8\"/>\n",
       "      <path fill=\"none\" d=\"M16.8,3 L 150.93 3\"/>\n",
       "    </g>\n",
       "    <g class=\"guide xgridlines yfixed\" stroke-dasharray=\"0.5,0.5\" stroke-width=\"0.2\" stroke=\"#D0D0E0\" id=\"img-c6c91f20-12\">\n",
       "      <path fill=\"none\" d=\"M18.8,1 L 18.8 100.19\"/>\n",
       "      <path fill=\"none\" d=\"M51.33,1 L 51.33 100.19\"/>\n",
       "      <path fill=\"none\" d=\"M83.87,1 L 83.87 100.19\"/>\n",
       "      <path fill=\"none\" d=\"M116.4,1 L 116.4 100.19\"/>\n",
       "      <path fill=\"none\" d=\"M148.93,1 L 148.93 100.19\"/>\n",
       "    </g>\n",
       "    <g class=\"plotpanel\" id=\"img-c6c91f20-13\">\n",
       "      <g stroke-width=\"0.26\" fill=\"#000000\" fill-opacity=\"0.000\" class=\"geometry\" stroke-dasharray=\"none\" stroke=\"#009AFA\" id=\"img-c6c91f20-14\">\n",
       "        <path fill=\"none\" d=\"M19.45,50.59 L 20.1 50.59 20.75 50.59 21.4 50.59 22.05 50.59 22.7 50.59 23.35 50.59 24.01 50.59 24.66 50.59 25.31 50.59 25.96 50.59 26.61 50.59 27.26 50.59 27.91 50.59 28.56 50.59 29.21 50.59 29.86 50.59 30.51 50.59 31.16 50.59 31.81 50.59 32.46 50.59 33.11 50.59 33.77 50.59 34.42 50.59 35.07 50.59 35.72 50.59 36.37 50.59 37.02 50.59 37.67 50.59 38.32 50.59 38.97 50.59 39.62 50.59 40.27 50.59 40.92 50.59 41.57 50.59 42.22 46.29 42.87 54.5 43.53 42.97 44.18 56.01 44.83 39.9 45.48 64.76 46.13 39.66 46.78 64.56 47.43 41.95 48.08 60.39 48.73 45.32 49.38 56.1 50.03 45.2 50.68 61.49 51.33 46.65 51.98 59.82 52.63 48.42 53.29 58.36 53.94 48.86 54.59 59.58 55.24 44.23 55.89 66.21 56.54 44.08 57.19 58.31 57.84 49.82 58.49 58.12 59.14 39.25 59.79 70.99 60.44 33.99 61.09 76.88 61.74 33.53 62.39 74.09 63.05 34.33 63.7 69.66 64.35 27.07 65 73.13 65.65 37.53 66.3 61.66 66.95 38.81 67.6 63.19 68.25 42.42 68.9 64.09 69.55 39.11 70.2 68.21 70.85 43.95 71.5 69.85 72.15 35.28 72.81 68.8 73.46 34 74.11 70.41 74.76 37.22 75.41 72.72 76.06 37.88 76.71 67.11 77.36 42.34 78.01 70.08 78.66 36.39 79.31 74.37 79.96 36.06 80.61 50.92 81.26 52.24 81.91 33.42 82.57 56.21 83.22 29.29 83.87 52.41 84.52 37.88 85.17 69.05 85.82 45.39 86.47 61.99 87.12 28.47 87.77 70.74 88.42 24.17 89.07 70.41 89.72 16.91 90.37 82.96 91.02 30.45 91.67 67.11 92.33 34.25 92.98 65.45 93.63 21.2 94.28 74.87 94.93 23.76 95.58 71.32 96.23 23.84 96.88 72.18 97.53 23.76 98.18 70.86 98.83 27.41 99.48 65.3 100.13 31.21 100.78 66.75 101.43 28.49 102.09 70.67 102.74 31.66 103.39 64.38 104.04 33.05 104.69 64.12 105.34 36.79 105.99 59.44 106.64 35.01 107.29 55.79 107.94 44.32 108.59 52.86 109.24 38.51 109.89 60.46 110.54 37.02 111.19 61 111.85 33.15 112.5 66.51 113.15 26.61 113.8 75.03 114.45 24.94 115.1 69.98 115.75 29.93 116.4 66.82 117.05 24.86 117.7 70.55 118.35 25.13 119 68.63 119.65 31.76 120.3 59.28 120.95 37.96 121.61 55.39 122.26 37.81 122.91 52.78 123.56 49.27 124.21 46.39 124.86 48.83 125.51 44.7 126.16 45.32 126.81 45.43 127.46 44.18 128.11 44.19 128.76 44.18 129.41 44.18 130.06 44.18 130.71 44.18 131.37 44.18 132.02 44.18 132.67 44.18 133.32 44.18 133.97 44.18 134.62 44.18 135.27 44.18 135.92 44.18 136.57 44.18 137.22 44.18 137.87 44.18 138.52 44.18 139.17 44.18 139.82 44.18 140.47 44.18 141.13 44.18 141.78 44.18 142.43 44.18 143.08 44.18 143.73 44.18 144.38 44.18 145.03 44.18 145.68 44.18 146.33 44.18 146.98 44.18 147.63 44.18 148.28 44.18 148.93 44.18\"/>\n",
       "      </g>\n",
       "    </g>\n",
       "  </g>\n",
       "</g>\n",
       "  <g class=\"guide ylabels\" font-size=\"2.82\" font-family=\"Helvetica\" fill=\"#000000\" id=\"img-c6c91f20-15\">\n",
       "    <text x=\"15.8\" y=\"98.19\" text-anchor=\"end\" dy=\"0.35em\">-2×10⁻¹⁵</text>\n",
       "    <text x=\"15.8\" y=\"74.39\" text-anchor=\"end\" dy=\"0.35em\">-1×10⁻¹⁵</text>\n",
       "    <text x=\"15.8\" y=\"50.59\" text-anchor=\"end\" dy=\"0.35em\">0</text>\n",
       "    <text x=\"15.8\" y=\"26.8\" text-anchor=\"end\" dy=\"0.35em\">1×10⁻¹⁵</text>\n",
       "    <text x=\"15.8\" y=\"3\" text-anchor=\"end\" dy=\"0.35em\">2×10⁻¹⁵</text>\n",
       "  </g>\n",
       "</g>\n",
       "<defs>\n",
       "  <clipPath id=\"img-c6c91f20-8\">\n",
       "  <path d=\"M16.8,1 L 150.93 1 150.93 100.19 16.8 100.19\" />\n",
       "</clipPath>\n",
       "</defs>\n",
       "</svg>\n"
      ],
      "text/plain": [
       "Compose.SVG(158.73015873015876mm,105.82010582010584mm,IOBuffer(data=UInt8[...], readable=true, writable=true, seekable=true, append=false, size=5993, maxsize=Inf, ptr=5994, mark=-1),nothing,\"img-c6c91f20\",0,Compose.SVGPropertyFrame[],Dict{Type{T},Union{Compose.Property{P<:Compose.PropertyPrimitive},Void}}(),Dict{Compose.ClipPrimitive{P<:NTuple{N,Measures.Measure}},ASCIIString}(Compose.ClipPrimitive{Tuple{Measures.Length{:mm,Float64},Measures.Length{:mm,Float64}}}([(16.80000000000001mm,1.0mm),(150.9334920634921mm,1.0mm),(150.9334920634921mm,100.18677248677251mm),(16.80000000000001mm,100.18677248677251mm)])=>\"img-c6c91f20-8\"),Tuple{Compose.FormPrimitive,ASCIIString}[],Set{AbstractString}(),true,false,nothing,true,\"img-c6c91f20-15\",false,15,AbstractString[\"/home/kryosugarra/.julia/v0.4/Gadfly/src/gadfly.js\"],Tuple{AbstractString,AbstractString}[(\"Snap.svg\",\"Snap\"),(\"Gadfly\",\"Gadfly\")],AbstractString[\"fig.select(\\\"#img-c6c91f20-4\\\")\\n   .drag(function() {}, function() {}, function() {});\",\"fig.select(\\\"#img-c6c91f20-9\\\")\\n   .init_gadfly();\"],false,:none)"
      ]
     },
     "metadata": {},
     "output_type": "display_data"
    },
    {
     "data": {
      "text/html": []
     },
     "execution_count": 37,
     "metadata": {},
     "output_type": "execute_result"
    }
   ],
   "source": [
    "plot(1:size, minfieldsnap)"
   ]
  },
  {
   "cell_type": "code",
   "execution_count": null,
   "metadata": {
    "collapsed": true
   },
   "outputs": [],
   "source": []
  }
 ],
 "metadata": {
  "kernelspec": {
   "display_name": "Julia 0.4.5",
   "language": "julia",
   "name": "julia-0.4"
  },
  "language_info": {
   "file_extension": ".jl",
   "mimetype": "application/julia",
   "name": "julia",
   "version": "0.4.5"
  }
 },
 "nbformat": 4,
 "nbformat_minor": 0
}
