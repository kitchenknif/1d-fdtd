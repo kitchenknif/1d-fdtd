{
 "cells": [
  {
   "cell_type": "code",
   "execution_count": 1,
   "metadata": {
    "collapsed": false
   },
   "outputs": [],
   "source": [
    "using Plots;\n",
    "gadfly();"
   ]
  },
  {
   "cell_type": "markdown",
   "metadata": {},
   "source": [
    "### Load FDTD functions"
   ]
  },
  {
   "cell_type": "code",
   "execution_count": 2,
   "metadata": {
    "collapsed": false
   },
   "outputs": [],
   "source": [
    "include(\"../fdtd/update.jl\");\n",
    "include(\"../fdtd/sources.jl\");\n",
    "include(\"../fdtd/boundaries.jl\");\n",
    "using update;\n",
    "using sources;"
   ]
  },
  {
   "cell_type": "markdown",
   "metadata": {},
   "source": [
    "### Define grid"
   ]
  },
  {
   "cell_type": "code",
   "execution_count": 3,
   "metadata": {
    "collapsed": false
   },
   "outputs": [],
   "source": [
    "#Global parameters\n",
    "size = 200\n",
    "endTime = 700\n",
    "num_snaps = 350\n",
    "snap_step = div(endTime, num_snaps)\n",
    "#Grid\n",
    "hy = zeros(size);\n",
    "ez = zeros(size);\n",
    "# output params\n",
    "ez_snapshot = Array{Any}(num_snaps);\n",
    "hy_snapshot = Array{Any}(num_snaps);\n",
    "\n",
    "fieldsum = 1;\n",
    "minsumtime = 1;\n",
    "minfieldsnap = zeros(size);"
   ]
  },
  {
   "cell_type": "markdown",
   "metadata": {},
   "source": [
    "### Run simulation"
   ]
  },
  {
   "cell_type": "code",
   "execution_count": 4,
   "metadata": {
    "collapsed": false
   },
   "outputs": [
    {
     "name": "stdout",
     "output_type": "stream",
     "text": [
      "229\n"
     ]
    }
   ],
   "source": [
    "#Time steps\n",
    "\n",
    "for time in 1:endTime\n",
    "    #Field update equations\n",
    "    \n",
    "    update.update_magnetic_field!(ez, hy)\n",
    "    update.update_electric_field!(ez, hy)\n",
    "    # Source at center\n",
    "    sources.additive_gaussian_source!(ez, div(length(ez),2), time)\n",
    "\n",
    "    #Boundaries\n",
    "    boundaries.pec_boundary!(ez, 1)\n",
    "    boundaries.pmc_boundary!(hy, 200)\n",
    "    \n",
    "    #Catch minimum E-Field\n",
    "    if time > 50\n",
    "        if fieldsum > sum(ez.^2)\n",
    "            minsumtime = time\n",
    "            fieldsum = sum(ez.^2)\n",
    "            minfieldsnap = copy(ez)\n",
    "        end\n",
    "    end\n",
    "    \n",
    "    #Snapshots for animation\n",
    "    if mod(time, snap_step) == 0\n",
    "        ez_snapshot[div(time,snap_step)] = (time, copy(ez))\n",
    "        hy_snapshot[div(time,snap_step)] = (time, copy(hy).*globals.imp0)        \n",
    "    end\n",
    "    \n",
    "end\n",
    "print(minsumtime, '\\n')\n",
    "print(fieldsum)"
   ]
  },
  {
   "cell_type": "markdown",
   "metadata": {},
   "source": [
    "### E-field animation"
   ]
  },
  {
   "cell_type": "code",
   "execution_count": 5,
   "metadata": {
    "collapsed": false
   },
   "outputs": [
    {
     "name": "stdout",
     "output_type": "stream",
     "text": [
      "3.870471284999896e-7[Plots.jl] Initializing backend: gadfly\n"
     ]
    },
    {
     "name": "stderr",
     "output_type": "stream",
     "text": [
      "INFO: Saved animation to /media/storage/Documents/Github/1d-fdtd/tasks/Task0/PEC-PMC.gif\n"
     ]
    },
    {
     "data": {
      "text/html": [
       "<img src=\"Task0/PEC-PMC.gif?0.13998091354551256>\" />"
      ],
      "text/plain": [
       "Plots.AnimatedGif(\"/media/storage/Documents/Github/1d-fdtd/tasks/Task0/PEC-PMC.gif\")"
      ]
     },
     "execution_count": 5,
     "metadata": {},
     "output_type": "execute_result"
    }
   ],
   "source": [
    "anim = Animation()\n",
    "\n",
    "for i = 1:num_snaps\n",
    "    p = plot(1:size, ez_snapshot[i][2], lab=\"Ez\")\n",
    "    plot!(1:size, hy_snapshot[i][2], lab=\"Hy*imp0\")\n",
    "    \n",
    "    time = ez_snapshot[i][1]\n",
    "    plot!(ann=[(150, 1.5, \"time =$time\")])\n",
    "    plot!(ann=[(0, 1.1, \"PEC\")])\n",
    "    plot!(ann=[(180, 1.1, \"PMC\")])    \n",
    "    plot!(xlims=(1, 200), ylims=(-2, 2))\n",
    "    frame(anim, p)\n",
    "end\n",
    "gif(anim, \"./Task0/PEC-PMC.gif\", fps=15)"
   ]
  },
  {
   "cell_type": "markdown",
   "metadata": {},
   "source": [
    "### Minimum E-field snapshot"
   ]
  },
  {
   "cell_type": "code",
   "execution_count": 6,
   "metadata": {
    "collapsed": false
   },
   "outputs": [
    {
     "data": {
      "image/svg+xml": [
       "<?xml version=\"1.0\" encoding=\"UTF-8\"?>\n",
       "<svg xmlns=\"http://www.w3.org/2000/svg\"\n",
       "     xmlns:xlink=\"http://www.w3.org/1999/xlink\"\n",
       "     xmlns:gadfly=\"http://www.gadflyjl.org/ns\"\n",
       "     version=\"1.2\"\n",
       "     width=\"158.73mm\" height=\"105.82mm\" viewBox=\"0 0 158.73 105.82\"\n",
       "     stroke=\"none\"\n",
       "     fill=\"#000000\"\n",
       "     stroke-width=\"0.3\"\n",
       "     font-size=\"3.88\"\n",
       ">\n",
       "<g stroke=\"#000000\" stroke-opacity=\"0.000\" fill=\"#FFFFFF\" id=\"img-e0144bff-1\">\n",
       "  <rect x=\"0\" y=\"0\" width=\"158.73\" height=\"105.82\"/>\n",
       "</g>\n",
       "<g class=\"plotroot xscalable yscalable\" id=\"img-e0144bff-2\">\n",
       "  <g class=\"guide xlabels\" font-size=\"2.82\" font-family=\"Helvetica\" fill=\"#000000\" id=\"img-e0144bff-3\">\n",
       "    <text x=\"16.13\" y=\"101.19\" text-anchor=\"middle\" dy=\"0.6em\">0</text>\n",
       "    <text x=\"49.33\" y=\"101.19\" text-anchor=\"middle\" dy=\"0.6em\">50</text>\n",
       "    <text x=\"82.53\" y=\"101.19\" text-anchor=\"middle\" dy=\"0.6em\">100</text>\n",
       "    <text x=\"115.73\" y=\"101.19\" text-anchor=\"middle\" dy=\"0.6em\">150</text>\n",
       "    <text x=\"148.93\" y=\"101.19\" text-anchor=\"middle\" dy=\"0.6em\">200</text>\n",
       "  </g>\n",
       "  <g class=\"guide colorkey\" id=\"img-e0144bff-4\">\n",
       "    <g fill=\"#000000\" font-size=\"2.82\" font-family=\"Helvetica\" id=\"img-e0144bff-5\">\n",
       "      <text x=\"154.75\" y=\"52.41\" dy=\"0.35em\">y1</text>\n",
       "    </g>\n",
       "    <g fill=\"#009AFA\" stroke=\"#000000\" stroke-opacity=\"0.000\" id=\"img-e0144bff-6\">\n",
       "      <rect x=\"151.93\" y=\"51.5\" width=\"1.82\" height=\"1.82\"/>\n",
       "    </g>\n",
       "    <g fill=\"#000000\" font-size=\"3.88\" font-family=\"Helvetica\" stroke=\"#000000\" stroke-opacity=\"0.000\" id=\"img-e0144bff-7\">\n",
       "      <text x=\"151.93\" y=\"48.59\"></text>\n",
       "    </g>\n",
       "  </g>\n",
       "<g clip-path=\"url(#img-e0144bff-8)\">\n",
       "  <g id=\"img-e0144bff-9\">\n",
       "    <g pointer-events=\"visible\" opacity=\"1\" fill=\"#000000\" fill-opacity=\"0.000\" stroke=\"#000000\" stroke-opacity=\"0.000\" class=\"guide background\" id=\"img-e0144bff-10\">\n",
       "      <rect x=\"14.13\" y=\"1\" width=\"136.81\" height=\"99.19\"/>\n",
       "    </g>\n",
       "    <g class=\"guide ygridlines xfixed\" stroke-dasharray=\"0.5,0.5\" stroke-width=\"0.2\" stroke=\"#D0D0E0\" id=\"img-e0144bff-11\">\n",
       "      <path fill=\"none\" d=\"M14.13,98.19 L 150.93 98.19\"/>\n",
       "      <path fill=\"none\" d=\"M14.13,74.39 L 150.93 74.39\"/>\n",
       "      <path fill=\"none\" d=\"M14.13,50.59 L 150.93 50.59\"/>\n",
       "      <path fill=\"none\" d=\"M14.13,26.8 L 150.93 26.8\"/>\n",
       "      <path fill=\"none\" d=\"M14.13,3 L 150.93 3\"/>\n",
       "    </g>\n",
       "    <g class=\"guide xgridlines yfixed\" stroke-dasharray=\"0.5,0.5\" stroke-width=\"0.2\" stroke=\"#D0D0E0\" id=\"img-e0144bff-12\">\n",
       "      <path fill=\"none\" d=\"M16.13,1 L 16.13 100.19\"/>\n",
       "      <path fill=\"none\" d=\"M49.33,1 L 49.33 100.19\"/>\n",
       "      <path fill=\"none\" d=\"M82.53,1 L 82.53 100.19\"/>\n",
       "      <path fill=\"none\" d=\"M115.73,1 L 115.73 100.19\"/>\n",
       "      <path fill=\"none\" d=\"M148.93,1 L 148.93 100.19\"/>\n",
       "    </g>\n",
       "    <g class=\"plotpanel\" id=\"img-e0144bff-13\">\n",
       "      <g stroke-width=\"0.26\" fill=\"#000000\" fill-opacity=\"0.000\" class=\"geometry\" stroke-dasharray=\"none\" stroke=\"#009AFA\" id=\"img-e0144bff-14\">\n",
       "        <path fill=\"none\" d=\"M16.79,50.59 L 17.45 50.59 18.12 50.59 18.78 50.59 19.45 50.59 20.11 50.59 20.77 50.59 21.44 50.59 22.1 50.59 22.77 50.59 23.43 50.59 24.1 50.59 24.76 50.59 25.42 50.59 26.09 50.59 26.75 50.59 27.42 50.59 28.08 50.59 28.74 50.59 29.41 50.59 30.07 50.59 30.74 50.59 31.4 50.59 32.06 50.59 32.73 50.59 33.39 50.59 34.06 50.59 34.72 50.59 35.38 50.59 36.05 50.59 36.71 50.59 37.38 50.59 38.04 50.59 38.7 50.59 39.37 50.59 40.03 50.59 40.7 50.59 41.36 50.59 42.02 50.59 42.69 50.59 43.35 50.59 44.02 50.59 44.68 50.59 45.34 50.59 46.01 50.59 46.67 50.59 47.34 50.59 48 50.59 48.66 50.59 49.33 50.59 49.99 50.59 50.66 50.59 51.32 50.59 51.98 50.59 52.65 50.59 53.31 50.59 53.98 50.59 54.64 50.59 55.3 50.6 55.97 50.6 56.63 50.61 57.3 50.63 57.96 50.67 58.62 50.77 59.29 50.96 59.95 51.35 60.62 52.12 61.28 53.61 61.95 56.45 62.61 61.73 63.27 71.37 63.94 88.56 64.6 12.63 65.27 88.56 65.93 12.63 66.59 88.56 67.26 12.63 67.92 88.56 68.59 12.63 69.25 88.56 69.91 12.63 70.58 88.56 71.24 12.63 71.91 88.56 72.57 12.63 73.23 88.56 73.9 12.63 74.56 88.56 75.23 12.63 75.89 88.56 76.55 12.63 77.22 88.56 77.88 12.63 78.55 88.56 79.21 12.63 79.87 88.56 80.54 12.63 81.2 88.56 81.87 12.63 82.53 88.56 83.19 12.63 83.86 88.56 84.52 12.63 85.19 88.56 85.85 12.63 86.51 88.56 87.18 12.63 87.84 88.56 88.51 12.63 89.17 88.56 89.83 12.63 90.5 88.56 91.16 12.63 91.83 88.56 92.49 12.63 93.15 88.56 93.82 12.63 94.48 88.56 95.15 12.63 95.81 88.56 96.47 12.63 97.14 88.56 97.8 12.63 98.47 88.56 99.13 12.63 99.79 88.56 100.46 12.63 101.12 88.56 101.79 12.63 102.45 88.56 103.12 12.63 103.78 29.82 104.44 39.45 105.11 44.74 105.77 47.58 106.44 49.07 107.1 49.84 107.76 50.23 108.43 50.42 109.09 50.51 109.76 50.56 110.42 50.58 111.08 50.59 111.75 50.59 112.41 50.59 113.08 50.59 113.74 50.59 114.4 50.59 115.07 50.59 115.73 50.59 116.4 50.59 117.06 50.59 117.72 50.59 118.39 50.59 119.05 50.59 119.72 50.59 120.38 50.59 121.04 50.59 121.71 50.59 122.37 50.59 123.04 50.59 123.7 50.59 124.36 50.59 125.03 50.59 125.69 50.59 126.36 50.59 127.02 50.59 127.68 50.59 128.35 50.59 129.01 50.59 129.68 50.59 130.34 50.59 131 50.59 131.67 50.59 132.33 50.59 133 50.59 133.66 50.59 134.32 50.59 134.99 50.59 135.65 50.59 136.32 50.59 136.98 50.59 137.64 50.59 138.31 50.59 138.97 50.59 139.64 50.59 140.3 50.59 140.97 50.59 141.63 50.59 142.29 50.59 142.96 50.59 143.62 50.59 144.29 50.59 144.95 50.59 145.61 50.59 146.28 50.59 146.94 50.59 147.61 50.59 148.27 50.59 148.93 50.59\"/>\n",
       "      </g>\n",
       "    </g>\n",
       "  </g>\n",
       "</g>\n",
       "  <g class=\"guide ylabels\" font-size=\"2.82\" font-family=\"Helvetica\" fill=\"#000000\" id=\"img-e0144bff-15\">\n",
       "    <text x=\"13.13\" y=\"98.19\" text-anchor=\"end\" dy=\"0.35em\">-0.00010</text>\n",
       "    <text x=\"13.13\" y=\"74.39\" text-anchor=\"end\" dy=\"0.35em\">-0.00005</text>\n",
       "    <text x=\"13.13\" y=\"50.59\" text-anchor=\"end\" dy=\"0.35em\">0.00000</text>\n",
       "    <text x=\"13.13\" y=\"26.8\" text-anchor=\"end\" dy=\"0.35em\">0.00005</text>\n",
       "    <text x=\"13.13\" y=\"3\" text-anchor=\"end\" dy=\"0.35em\">0.00010</text>\n",
       "  </g>\n",
       "</g>\n",
       "<defs>\n",
       "  <clipPath id=\"img-e0144bff-8\">\n",
       "  <path d=\"M14.13,1 L 150.93 1 150.93 100.19 14.13 100.19\" />\n",
       "</clipPath>\n",
       "</defs>\n",
       "</svg>\n"
      ],
      "text/html": [
       "<?xml version=\"1.0\" encoding=\"UTF-8\"?>\n",
       "<svg xmlns=\"http://www.w3.org/2000/svg\"\n",
       "     xmlns:xlink=\"http://www.w3.org/1999/xlink\"\n",
       "     xmlns:gadfly=\"http://www.gadflyjl.org/ns\"\n",
       "     version=\"1.2\"\n",
       "     width=\"158.73mm\" height=\"105.82mm\" viewBox=\"0 0 158.73 105.82\"\n",
       "     stroke=\"none\"\n",
       "     fill=\"#000000\"\n",
       "     stroke-width=\"0.3\"\n",
       "     font-size=\"3.88\"\n",
       ">\n",
       "<g stroke=\"#000000\" stroke-opacity=\"0.000\" fill=\"#FFFFFF\" id=\"img-e0144bff-1\">\n",
       "  <rect x=\"0\" y=\"0\" width=\"158.73\" height=\"105.82\"/>\n",
       "</g>\n",
       "<g class=\"plotroot xscalable yscalable\" id=\"img-e0144bff-2\">\n",
       "  <g class=\"guide xlabels\" font-size=\"2.82\" font-family=\"Helvetica\" fill=\"#000000\" id=\"img-e0144bff-3\">\n",
       "    <text x=\"16.13\" y=\"101.19\" text-anchor=\"middle\" dy=\"0.6em\">0</text>\n",
       "    <text x=\"49.33\" y=\"101.19\" text-anchor=\"middle\" dy=\"0.6em\">50</text>\n",
       "    <text x=\"82.53\" y=\"101.19\" text-anchor=\"middle\" dy=\"0.6em\">100</text>\n",
       "    <text x=\"115.73\" y=\"101.19\" text-anchor=\"middle\" dy=\"0.6em\">150</text>\n",
       "    <text x=\"148.93\" y=\"101.19\" text-anchor=\"middle\" dy=\"0.6em\">200</text>\n",
       "  </g>\n",
       "  <g class=\"guide colorkey\" id=\"img-e0144bff-4\">\n",
       "    <g fill=\"#000000\" font-size=\"2.82\" font-family=\"Helvetica\" id=\"img-e0144bff-5\">\n",
       "      <text x=\"154.75\" y=\"52.41\" dy=\"0.35em\">y1</text>\n",
       "    </g>\n",
       "    <g fill=\"#009AFA\" stroke=\"#000000\" stroke-opacity=\"0.000\" id=\"img-e0144bff-6\">\n",
       "      <rect x=\"151.93\" y=\"51.5\" width=\"1.82\" height=\"1.82\"/>\n",
       "    </g>\n",
       "    <g fill=\"#000000\" font-size=\"3.88\" font-family=\"Helvetica\" stroke=\"#000000\" stroke-opacity=\"0.000\" id=\"img-e0144bff-7\">\n",
       "      <text x=\"151.93\" y=\"48.59\"></text>\n",
       "    </g>\n",
       "  </g>\n",
       "<g clip-path=\"url(#img-e0144bff-8)\">\n",
       "  <g id=\"img-e0144bff-9\">\n",
       "    <g pointer-events=\"visible\" opacity=\"1\" fill=\"#000000\" fill-opacity=\"0.000\" stroke=\"#000000\" stroke-opacity=\"0.000\" class=\"guide background\" id=\"img-e0144bff-10\">\n",
       "      <rect x=\"14.13\" y=\"1\" width=\"136.81\" height=\"99.19\"/>\n",
       "    </g>\n",
       "    <g class=\"guide ygridlines xfixed\" stroke-dasharray=\"0.5,0.5\" stroke-width=\"0.2\" stroke=\"#D0D0E0\" id=\"img-e0144bff-11\">\n",
       "      <path fill=\"none\" d=\"M14.13,98.19 L 150.93 98.19\"/>\n",
       "      <path fill=\"none\" d=\"M14.13,74.39 L 150.93 74.39\"/>\n",
       "      <path fill=\"none\" d=\"M14.13,50.59 L 150.93 50.59\"/>\n",
       "      <path fill=\"none\" d=\"M14.13,26.8 L 150.93 26.8\"/>\n",
       "      <path fill=\"none\" d=\"M14.13,3 L 150.93 3\"/>\n",
       "    </g>\n",
       "    <g class=\"guide xgridlines yfixed\" stroke-dasharray=\"0.5,0.5\" stroke-width=\"0.2\" stroke=\"#D0D0E0\" id=\"img-e0144bff-12\">\n",
       "      <path fill=\"none\" d=\"M16.13,1 L 16.13 100.19\"/>\n",
       "      <path fill=\"none\" d=\"M49.33,1 L 49.33 100.19\"/>\n",
       "      <path fill=\"none\" d=\"M82.53,1 L 82.53 100.19\"/>\n",
       "      <path fill=\"none\" d=\"M115.73,1 L 115.73 100.19\"/>\n",
       "      <path fill=\"none\" d=\"M148.93,1 L 148.93 100.19\"/>\n",
       "    </g>\n",
       "    <g class=\"plotpanel\" id=\"img-e0144bff-13\">\n",
       "      <g stroke-width=\"0.26\" fill=\"#000000\" fill-opacity=\"0.000\" class=\"geometry\" stroke-dasharray=\"none\" stroke=\"#009AFA\" id=\"img-e0144bff-14\">\n",
       "        <path fill=\"none\" d=\"M16.79,50.59 L 17.45 50.59 18.12 50.59 18.78 50.59 19.45 50.59 20.11 50.59 20.77 50.59 21.44 50.59 22.1 50.59 22.77 50.59 23.43 50.59 24.1 50.59 24.76 50.59 25.42 50.59 26.09 50.59 26.75 50.59 27.42 50.59 28.08 50.59 28.74 50.59 29.41 50.59 30.07 50.59 30.74 50.59 31.4 50.59 32.06 50.59 32.73 50.59 33.39 50.59 34.06 50.59 34.72 50.59 35.38 50.59 36.05 50.59 36.71 50.59 37.38 50.59 38.04 50.59 38.7 50.59 39.37 50.59 40.03 50.59 40.7 50.59 41.36 50.59 42.02 50.59 42.69 50.59 43.35 50.59 44.02 50.59 44.68 50.59 45.34 50.59 46.01 50.59 46.67 50.59 47.34 50.59 48 50.59 48.66 50.59 49.33 50.59 49.99 50.59 50.66 50.59 51.32 50.59 51.98 50.59 52.65 50.59 53.31 50.59 53.98 50.59 54.64 50.59 55.3 50.6 55.97 50.6 56.63 50.61 57.3 50.63 57.96 50.67 58.62 50.77 59.29 50.96 59.95 51.35 60.62 52.12 61.28 53.61 61.95 56.45 62.61 61.73 63.27 71.37 63.94 88.56 64.6 12.63 65.27 88.56 65.93 12.63 66.59 88.56 67.26 12.63 67.92 88.56 68.59 12.63 69.25 88.56 69.91 12.63 70.58 88.56 71.24 12.63 71.91 88.56 72.57 12.63 73.23 88.56 73.9 12.63 74.56 88.56 75.23 12.63 75.89 88.56 76.55 12.63 77.22 88.56 77.88 12.63 78.55 88.56 79.21 12.63 79.87 88.56 80.54 12.63 81.2 88.56 81.87 12.63 82.53 88.56 83.19 12.63 83.86 88.56 84.52 12.63 85.19 88.56 85.85 12.63 86.51 88.56 87.18 12.63 87.84 88.56 88.51 12.63 89.17 88.56 89.83 12.63 90.5 88.56 91.16 12.63 91.83 88.56 92.49 12.63 93.15 88.56 93.82 12.63 94.48 88.56 95.15 12.63 95.81 88.56 96.47 12.63 97.14 88.56 97.8 12.63 98.47 88.56 99.13 12.63 99.79 88.56 100.46 12.63 101.12 88.56 101.79 12.63 102.45 88.56 103.12 12.63 103.78 29.82 104.44 39.45 105.11 44.74 105.77 47.58 106.44 49.07 107.1 49.84 107.76 50.23 108.43 50.42 109.09 50.51 109.76 50.56 110.42 50.58 111.08 50.59 111.75 50.59 112.41 50.59 113.08 50.59 113.74 50.59 114.4 50.59 115.07 50.59 115.73 50.59 116.4 50.59 117.06 50.59 117.72 50.59 118.39 50.59 119.05 50.59 119.72 50.59 120.38 50.59 121.04 50.59 121.71 50.59 122.37 50.59 123.04 50.59 123.7 50.59 124.36 50.59 125.03 50.59 125.69 50.59 126.36 50.59 127.02 50.59 127.68 50.59 128.35 50.59 129.01 50.59 129.68 50.59 130.34 50.59 131 50.59 131.67 50.59 132.33 50.59 133 50.59 133.66 50.59 134.32 50.59 134.99 50.59 135.65 50.59 136.32 50.59 136.98 50.59 137.64 50.59 138.31 50.59 138.97 50.59 139.64 50.59 140.3 50.59 140.97 50.59 141.63 50.59 142.29 50.59 142.96 50.59 143.62 50.59 144.29 50.59 144.95 50.59 145.61 50.59 146.28 50.59 146.94 50.59 147.61 50.59 148.27 50.59 148.93 50.59\"/>\n",
       "      </g>\n",
       "    </g>\n",
       "  </g>\n",
       "</g>\n",
       "  <g class=\"guide ylabels\" font-size=\"2.82\" font-family=\"Helvetica\" fill=\"#000000\" id=\"img-e0144bff-15\">\n",
       "    <text x=\"13.13\" y=\"98.19\" text-anchor=\"end\" dy=\"0.35em\">-0.00010</text>\n",
       "    <text x=\"13.13\" y=\"74.39\" text-anchor=\"end\" dy=\"0.35em\">-0.00005</text>\n",
       "    <text x=\"13.13\" y=\"50.59\" text-anchor=\"end\" dy=\"0.35em\">0.00000</text>\n",
       "    <text x=\"13.13\" y=\"26.8\" text-anchor=\"end\" dy=\"0.35em\">0.00005</text>\n",
       "    <text x=\"13.13\" y=\"3\" text-anchor=\"end\" dy=\"0.35em\">0.00010</text>\n",
       "  </g>\n",
       "</g>\n",
       "<defs>\n",
       "  <clipPath id=\"img-e0144bff-8\">\n",
       "  <path d=\"M14.13,1 L 150.93 1 150.93 100.19 14.13 100.19\" />\n",
       "</clipPath>\n",
       "</defs>\n",
       "</svg>\n"
      ],
      "text/plain": [
       "Compose.SVG(158.73015873015876mm,105.82010582010584mm,IOBuffer(data=UInt8[...], readable=true, writable=true, seekable=true, append=false, size=5999, maxsize=Inf, ptr=6000, mark=-1),nothing,\"img-e0144bff\",0,Compose.SVGPropertyFrame[],Dict{Type{T},Union{Compose.Property{P<:Compose.PropertyPrimitive},Void}}(),Dict{Compose.ClipPrimitive{P<:NTuple{N,Measures.Measure}},ASCIIString}(Compose.ClipPrimitive{Tuple{Measures.Length{:mm,Float64},Measures.Length{:mm,Float64}}}([(14.126666666666665mm,1.0mm),(150.9334920634921mm,1.0mm),(150.9334920634921mm,100.18677248677251mm),(14.126666666666665mm,100.18677248677251mm)])=>\"img-e0144bff-8\"),Tuple{Compose.FormPrimitive,ASCIIString}[],Set{AbstractString}(),true,false,nothing,true,\"img-e0144bff-15\",false,15,AbstractString[\"/home/kryosugarra/.julia/v0.4/Gadfly/src/gadfly.js\"],Tuple{AbstractString,AbstractString}[(\"Snap.svg\",\"Snap\"),(\"Gadfly\",\"Gadfly\")],AbstractString[\"fig.select(\\\"#img-e0144bff-4\\\")\\n   .drag(function() {}, function() {}, function() {});\",\"fig.select(\\\"#img-e0144bff-9\\\")\\n   .init_gadfly();\"],false,:none)"
      ]
     },
     "metadata": {},
     "output_type": "display_data"
    },
    {
     "data": {
      "image/png": "[encoded data removed]",
      "image/svg+xml": [],
      "text/plain": [
       "Plot{Plots.GadflyPackage() n=1}"
      ]
     },
     "execution_count": 6,
     "metadata": {},
     "output_type": "execute_result"
    }
   ],
   "source": [
    "plot(1:size, minfieldsnap)"
   ]
  },
  {
   "cell_type": "code",
   "execution_count": null,
   "metadata": {
    "collapsed": true
   },
   "outputs": [],
   "source": []
  }
 ],
 "metadata": {
  "kernelspec": {
   "display_name": "Julia 0.4.2",
   "language": "julia",
   "name": "julia-0.4"
  },
  "language_info": {
   "file_extension": ".jl",
   "mimetype": "application/julia",
   "name": "julia",
   "version": "0.4.2"
  }
 },
 "nbformat": 4,
 "nbformat_minor": 0
}
