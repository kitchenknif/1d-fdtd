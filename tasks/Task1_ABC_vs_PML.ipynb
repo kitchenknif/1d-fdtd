{
 "cells": [
  {
   "cell_type": "code",
   "execution_count": 1,
   "metadata": {
    "collapsed": true
   },
   "outputs": [],
   "source": [
    "using Plots;\n",
    "gadfly();"
   ]
  },
  {
   "cell_type": "markdown",
   "metadata": {},
   "source": [
    "### Load FDTD Libraries"
   ]
  },
  {
   "cell_type": "code",
   "execution_count": 2,
   "metadata": {
    "collapsed": false
   },
   "outputs": [
    {
     "name": "stderr",
     "output_type": "stream",
     "text": [
      "WARNING: replacing module globals\n"
     ]
    }
   ],
   "source": [
    "include(\"../fdtd/update.jl\");\n",
    "include(\"../fdtd/sources.jl\");\n",
    "include(\"../fdtd/boundaries.jl\");\n",
    "using update;\n",
    "using sources;"
   ]
  },
  {
   "cell_type": "markdown",
   "metadata": {},
   "source": [
    "# 0. Vacuum with trivial ABC hy[-1] = hy[-2]\n",
    "### Setup Grid"
   ]
  },
  {
   "cell_type": "code",
   "execution_count": 3,
   "metadata": {
    "collapsed": true
   },
   "outputs": [],
   "source": [
    "#Global parameters\n",
    "size = 200\n",
    "endTime = 400\n",
    "num_snaps = 200\n",
    "snap_step = div(endTime, num_snaps)\n",
    "#Grid\n",
    "hy = zeros(size);\n",
    "ez = zeros(size);\n",
    "# output params\n",
    "ez_snapshot = Array{Any}(num_snaps);\n",
    "hy_snapshot = Array{Any}(num_snaps);\n",
    "\n",
    "fieldsum = 1;\n",
    "sumtime = 250;\n",
    "fieldsnap = zeros(size);"
   ]
  },
  {
   "cell_type": "markdown",
   "metadata": {},
   "source": [
    "### Run simulation"
   ]
  },
  {
   "cell_type": "code",
   "execution_count": 4,
   "metadata": {
    "collapsed": false
   },
   "outputs": [
    {
     "name": "stdout",
     "output_type": "stream",
     "text": [
      "1.9542144317996692e-31"
     ]
    }
   ],
   "source": [
    "#Time steps\n",
    "\n",
    "for time in 1:endTime\n",
    "    # TFSF Boundary at center\n",
    "    ez_inc, hy_inc = sources.gaussian_source(200, time, 70)  \n",
    "    \n",
    "    #\n",
    "    # Magnetic\n",
    "    #\n",
    "    \n",
    "    # Boundary, Trivial ABC\n",
    "    boundaries.trivial_abc!(hy, 200)\n",
    "\n",
    "    # Update\n",
    "    update.update_magnetic_field!(ez, hy)\n",
    "    \n",
    "    # TFSF\n",
    "    hy[div(length(ez),2)-1] -= hy_inc\n",
    "    \n",
    "    #\n",
    "    # Electric\n",
    "    #\n",
    "    \n",
    "    # Update\n",
    "    update.update_electric_field!(ez, hy)\n",
    "    \n",
    "    # TFSF\n",
    "    ez[div(length(ez),2)] += ez_inc\n",
    "    \n",
    "    # Boundary, PEC\n",
    "    boundaries.perfect_conductor!(ez, 1)\n",
    "    \n",
    "    \n",
    "    #Catch minimum E-Field\n",
    "    if time == sumtime\n",
    "            fieldsum = sum(ez.^2)\n",
    "            fieldsnap = copy(ez)\n",
    "    end\n",
    "    \n",
    "    #Snapshots for animation\n",
    "    if mod(time, snap_step) == 0\n",
    "        ez_snapshot[div(time,snap_step)] = (time, copy(ez))\n",
    "        hy_snapshot[div(time,snap_step)] = (time, copy(hy).*globals.imp0)        \n",
    "    end\n",
    "    \n",
    "end\n",
    "print(fieldsum)"
   ]
  },
  {
   "cell_type": "markdown",
   "metadata": {},
   "source": [
    "### Plot"
   ]
  },
  {
   "cell_type": "code",
   "execution_count": 5,
   "metadata": {
    "collapsed": false
   },
   "outputs": [
    {
     "name": "stdout",
     "output_type": "stream",
     "text": [
      "[Plots.jl] Initializing backend: gadfly\n"
     ]
    },
    {
     "name": "stderr",
     "output_type": "stream",
     "text": [
      "INFO: Saved animation to /media/storage/Documents/Github/1d-fdtd/tasks/Task1/PEC-ABC.gif\n"
     ]
    },
    {
     "data": {
      "text/html": [
       "<img src=\"Task1/PEC-ABC.gif?0.1892983791176166>\" />"
      ],
      "text/plain": [
       "Plots.AnimatedGif(\"/media/storage/Documents/Github/1d-fdtd/tasks/Task1/PEC-ABC.gif\")"
      ]
     },
     "execution_count": 5,
     "metadata": {},
     "output_type": "execute_result"
    }
   ],
   "source": [
    "anim = Animation()\n",
    "\n",
    "for i = 1:num_snaps\n",
    "    p = plot(1:size, ez_snapshot[i][2], lab=\"Ez\")\n",
    "    plot!(1:size, hy_snapshot[i][2], lab=\"Hy*imp0\")\n",
    "    \n",
    "    time = ez_snapshot[i][1]\n",
    "    plot!(ann=[(150, 1.5, \"time =$time\")])\n",
    "    plot!(ann=[(0, 1.1, \"PEC\")])\n",
    "    plot!(ann=[(180, 1.1, \"ABC\")])    \n",
    "    plot!(xlims=(1, 200), ylims=(-2, 2))\n",
    "    frame(anim, p)\n",
    "end\n",
    "gif(anim, \"./Task1/PEC-ABC.gif\", fps=15)"
   ]
  },
  {
   "cell_type": "markdown",
   "metadata": {
    "collapsed": true
   },
   "source": [
    "### Plot field after reflection"
   ]
  },
  {
   "cell_type": "code",
   "execution_count": 6,
   "metadata": {
    "collapsed": false
   },
   "outputs": [
    {
     "data": {
      "image/svg+xml": [
       "<?xml version=\"1.0\" encoding=\"UTF-8\"?>\n",
       "<svg xmlns=\"http://www.w3.org/2000/svg\"\n",
       "     xmlns:xlink=\"http://www.w3.org/1999/xlink\"\n",
       "     xmlns:gadfly=\"http://www.gadflyjl.org/ns\"\n",
       "     version=\"1.2\"\n",
       "     width=\"158.73mm\" height=\"105.82mm\" viewBox=\"0 0 158.73 105.82\"\n",
       "     stroke=\"none\"\n",
       "     fill=\"#000000\"\n",
       "     stroke-width=\"0.3\"\n",
       "     font-size=\"3.88\"\n",
       ">\n",
       "<g stroke=\"#000000\" stroke-opacity=\"0.000\" fill=\"#FFFFFF\" id=\"img-f6ac4686-1\">\n",
       "  <rect x=\"0\" y=\"0\" width=\"158.73\" height=\"105.82\"/>\n",
       "</g>\n",
       "<g class=\"plotroot xscalable yscalable\" id=\"img-f6ac4686-2\">\n",
       "  <g class=\"guide xlabels\" font-size=\"2.82\" font-family=\"Helvetica\" fill=\"#000000\" id=\"img-f6ac4686-3\">\n",
       "    <text x=\"47.79\" y=\"101.19\" text-anchor=\"middle\" dy=\"0.6em\">0</text>\n",
       "    <text x=\"73.07\" y=\"101.19\" text-anchor=\"middle\" dy=\"0.6em\">50</text>\n",
       "    <text x=\"98.36\" y=\"101.19\" text-anchor=\"middle\" dy=\"0.6em\">100</text>\n",
       "    <text x=\"123.65\" y=\"101.19\" text-anchor=\"middle\" dy=\"0.6em\">150</text>\n",
       "    <text x=\"148.93\" y=\"101.19\" text-anchor=\"middle\" dy=\"0.6em\">200</text>\n",
       "  </g>\n",
       "  <g class=\"guide colorkey\" id=\"img-f6ac4686-4\">\n",
       "    <g fill=\"#000000\" font-size=\"2.82\" font-family=\"Helvetica\" id=\"img-f6ac4686-5\">\n",
       "      <text x=\"154.75\" y=\"52.41\" dy=\"0.35em\">y1</text>\n",
       "    </g>\n",
       "    <g fill=\"#009AFA\" stroke=\"#000000\" stroke-opacity=\"0.000\" id=\"img-f6ac4686-6\">\n",
       "      <rect x=\"151.93\" y=\"51.5\" width=\"1.82\" height=\"1.82\"/>\n",
       "    </g>\n",
       "    <g fill=\"#000000\" font-size=\"3.88\" font-family=\"Helvetica\" stroke=\"#000000\" stroke-opacity=\"0.000\" id=\"img-f6ac4686-7\">\n",
       "      <text x=\"151.93\" y=\"48.59\"></text>\n",
       "    </g>\n",
       "  </g>\n",
       "<g clip-path=\"url(#img-f6ac4686-8)\">\n",
       "  <g id=\"img-f6ac4686-9\">\n",
       "    <g pointer-events=\"visible\" opacity=\"1\" fill=\"#000000\" fill-opacity=\"0.000\" stroke=\"#000000\" stroke-opacity=\"0.000\" class=\"guide background\" id=\"img-f6ac4686-10\">\n",
       "      <rect x=\"45.79\" y=\"1\" width=\"105.15\" height=\"99.19\"/>\n",
       "    </g>\n",
       "    <g class=\"guide ygridlines xfixed\" stroke-dasharray=\"0.5,0.5\" stroke-width=\"0.2\" stroke=\"#D0D0E0\" id=\"img-f6ac4686-11\">\n",
       "      <path fill=\"none\" d=\"M45.79,98.19 L 150.93 98.19\"/>\n",
       "      <path fill=\"none\" d=\"M45.79,50.59 L 150.93 50.59\"/>\n",
       "      <path fill=\"none\" d=\"M45.79,3 L 150.93 3\"/>\n",
       "    </g>\n",
       "    <g class=\"guide xgridlines yfixed\" stroke-dasharray=\"0.5,0.5\" stroke-width=\"0.2\" stroke=\"#D0D0E0\" id=\"img-f6ac4686-12\">\n",
       "      <path fill=\"none\" d=\"M47.79,1 L 47.79 100.19\"/>\n",
       "      <path fill=\"none\" d=\"M73.07,1 L 73.07 100.19\"/>\n",
       "      <path fill=\"none\" d=\"M98.36,1 L 98.36 100.19\"/>\n",
       "      <path fill=\"none\" d=\"M123.65,1 L 123.65 100.19\"/>\n",
       "      <path fill=\"none\" d=\"M148.93,1 L 148.93 100.19\"/>\n",
       "    </g>\n",
       "    <g class=\"plotpanel\" id=\"img-f6ac4686-13\">\n",
       "      <g stroke-width=\"0.26\" fill=\"#000000\" fill-opacity=\"0.000\" class=\"geometry\" stroke-dasharray=\"none\" stroke=\"#009AFA\" id=\"img-f6ac4686-14\">\n",
       "        <path fill=\"none\" d=\"M48.29,50.59 L 48.8 50.59 49.3 50.59 49.81 50.59 50.32 50.59 50.82 50.59 51.33 50.59 51.83 50.59 52.34 50.59 52.84 50.59 53.35 50.59 53.86 50.59 54.36 50.59 54.87 50.59 55.37 50.59 55.88 50.59 56.38 50.59 56.89 50.59 57.4 50.59 57.9 50.59 58.41 50.59 58.91 50.59 59.42 50.59 59.92 50.59 60.43 50.59 60.94 50.59 61.44 50.59 61.95 50.59 62.45 50.59 62.96 50.59 63.46 50.59 63.97 50.59 64.48 50.59 64.98 50.59 65.49 50.59 65.99 50.59 66.5 50.59 67 50.59 67.51 50.59 68.02 50.59 68.52 50.59 69.03 50.59 69.53 50.59 70.04 50.59 70.54 50.59 71.05 50.59 71.56 50.59 72.06 50.59 72.57 50.59 73.07 50.59 73.58 50.59 74.08 50.6 74.59 50.59 75.1 50.6 75.6 50.61 76.11 50.56 76.61 50.65 77.12 50.57 77.62 50.59 78.13 50.75 78.64 50.47 79.14 51.48 79.65 49.74 80.15 51 80.66 50.23 81.17 51.97 81.67 50.23 82.18 50.03 82.68 48.28 83.19 46.13 83.69 48.28 84.2 46.13 84.71 48.28 85.21 46.13 85.72 48.28 86.22 46.13 86.73 48.28 87.23 46.13 87.74 48.28 88.25 15.01 88.75 48.28 89.26 15.01 89.76 79.41 90.27 15.01 90.77 48.28 91.28 46.13 91.79 79.41 92.29 46.13 92.8 48.28 93.3 46.13 93.81 48.28 94.31 46.13 94.82 48.28 95.33 46.13 95.83 56.06 96.34 46.13 96.84 48.28 97.35 46.13 97.85 48.28 98.36 46.13 98.87 48.28 99.37 46.13 99.88 48.28 100.38 46.13 100.89 48.28 101.39 46.13 101.9 48.28 102.41 46.13 102.91 48.28 103.42 46.13 103.92 48.28 104.43 46.13 104.93 48.29 105.44 46.14 105.95 48.28 106.45 46.13 106.96 48.28 107.46 46.13 107.97 48.28 108.47 46.13 108.98 48.28 109.49 46.13 109.99 48.28 110.5 46.13 111 48.28 111.51 46.13 112.01 48.28 112.52 46.13 113.03 48.28 113.53 46.13 114.04 48.28 114.54 46.13 115.05 48.28 115.56 46.13 116.06 48.28 116.57 46.13 117.07 48.28 117.58 46.13 118.08 48.28 118.59 46.13 119.1 48.28 119.6 46.13 120.11 48.28 120.61 46.13 121.12 48.28 121.62 46.13 122.13 48.28 122.64 46.13 123.14 48.28 123.65 46.13 124.15 48.28 124.66 46.13 125.16 48.28 125.67 46.13 126.18 48.28 126.68 46.13 127.19 48.28 127.69 46.13 128.2 48.28 128.7 46.13 129.21 48.28 129.72 46.13 130.22 48.28 130.73 46.13 131.23 48.28 131.74 46.13 132.24 48.28 132.75 46.13 133.26 48.28 133.76 46.13 134.27 48.28 134.77 46.13 135.28 48.28 135.78 46.13 136.29 48.28 136.8 46.13 137.3 48.28 137.81 46.13 138.31 48.28 138.82 46.13 139.32 48.28 139.83 46.13 140.34 48.28 140.84 46.13 141.35 48.28 141.85 46.13 142.36 48.28 142.86 46.13 143.37 48.28 143.88 46.13 144.38 48.28 144.89 46.13 145.39 48.28 145.9 46.13 146.4 48.28 146.91 46.13 147.42 48.28 147.92 46.13 148.43 48.28 148.93 46.13\"/>\n",
       "      </g>\n",
       "    </g>\n",
       "  </g>\n",
       "</g>\n",
       "  <g class=\"guide ylabels\" font-size=\"2.82\" font-family=\"Helvetica\" fill=\"#000000\" id=\"img-f6ac4686-15\">\n",
       "    <text x=\"44.79\" y=\"98.19\" text-anchor=\"end\" dy=\"0.35em\">-2.500000000000000444×10⁻¹⁶</text>\n",
       "    <text x=\"44.79\" y=\"50.59\" text-anchor=\"end\" dy=\"0.35em\">0</text>\n",
       "    <text x=\"44.79\" y=\"3\" text-anchor=\"end\" dy=\"0.35em\">2.500000000000000444×10⁻¹⁶</text>\n",
       "  </g>\n",
       "</g>\n",
       "<defs>\n",
       "  <clipPath id=\"img-f6ac4686-8\">\n",
       "  <path d=\"M45.79,1 L 150.93 1 150.93 100.19 45.79 100.19\" />\n",
       "</clipPath>\n",
       "</defs>\n",
       "</svg>\n"
      ],
      "text/html": [
       "<?xml version=\"1.0\" encoding=\"UTF-8\"?>\n",
       "<svg xmlns=\"http://www.w3.org/2000/svg\"\n",
       "     xmlns:xlink=\"http://www.w3.org/1999/xlink\"\n",
       "     xmlns:gadfly=\"http://www.gadflyjl.org/ns\"\n",
       "     version=\"1.2\"\n",
       "     width=\"158.73mm\" height=\"105.82mm\" viewBox=\"0 0 158.73 105.82\"\n",
       "     stroke=\"none\"\n",
       "     fill=\"#000000\"\n",
       "     stroke-width=\"0.3\"\n",
       "     font-size=\"3.88\"\n",
       ">\n",
       "<g stroke=\"#000000\" stroke-opacity=\"0.000\" fill=\"#FFFFFF\" id=\"img-f6ac4686-1\">\n",
       "  <rect x=\"0\" y=\"0\" width=\"158.73\" height=\"105.82\"/>\n",
       "</g>\n",
       "<g class=\"plotroot xscalable yscalable\" id=\"img-f6ac4686-2\">\n",
       "  <g class=\"guide xlabels\" font-size=\"2.82\" font-family=\"Helvetica\" fill=\"#000000\" id=\"img-f6ac4686-3\">\n",
       "    <text x=\"47.79\" y=\"101.19\" text-anchor=\"middle\" dy=\"0.6em\">0</text>\n",
       "    <text x=\"73.07\" y=\"101.19\" text-anchor=\"middle\" dy=\"0.6em\">50</text>\n",
       "    <text x=\"98.36\" y=\"101.19\" text-anchor=\"middle\" dy=\"0.6em\">100</text>\n",
       "    <text x=\"123.65\" y=\"101.19\" text-anchor=\"middle\" dy=\"0.6em\">150</text>\n",
       "    <text x=\"148.93\" y=\"101.19\" text-anchor=\"middle\" dy=\"0.6em\">200</text>\n",
       "  </g>\n",
       "  <g class=\"guide colorkey\" id=\"img-f6ac4686-4\">\n",
       "    <g fill=\"#000000\" font-size=\"2.82\" font-family=\"Helvetica\" id=\"img-f6ac4686-5\">\n",
       "      <text x=\"154.75\" y=\"52.41\" dy=\"0.35em\">y1</text>\n",
       "    </g>\n",
       "    <g fill=\"#009AFA\" stroke=\"#000000\" stroke-opacity=\"0.000\" id=\"img-f6ac4686-6\">\n",
       "      <rect x=\"151.93\" y=\"51.5\" width=\"1.82\" height=\"1.82\"/>\n",
       "    </g>\n",
       "    <g fill=\"#000000\" font-size=\"3.88\" font-family=\"Helvetica\" stroke=\"#000000\" stroke-opacity=\"0.000\" id=\"img-f6ac4686-7\">\n",
       "      <text x=\"151.93\" y=\"48.59\"></text>\n",
       "    </g>\n",
       "  </g>\n",
       "<g clip-path=\"url(#img-f6ac4686-8)\">\n",
       "  <g id=\"img-f6ac4686-9\">\n",
       "    <g pointer-events=\"visible\" opacity=\"1\" fill=\"#000000\" fill-opacity=\"0.000\" stroke=\"#000000\" stroke-opacity=\"0.000\" class=\"guide background\" id=\"img-f6ac4686-10\">\n",
       "      <rect x=\"45.79\" y=\"1\" width=\"105.15\" height=\"99.19\"/>\n",
       "    </g>\n",
       "    <g class=\"guide ygridlines xfixed\" stroke-dasharray=\"0.5,0.5\" stroke-width=\"0.2\" stroke=\"#D0D0E0\" id=\"img-f6ac4686-11\">\n",
       "      <path fill=\"none\" d=\"M45.79,98.19 L 150.93 98.19\"/>\n",
       "      <path fill=\"none\" d=\"M45.79,50.59 L 150.93 50.59\"/>\n",
       "      <path fill=\"none\" d=\"M45.79,3 L 150.93 3\"/>\n",
       "    </g>\n",
       "    <g class=\"guide xgridlines yfixed\" stroke-dasharray=\"0.5,0.5\" stroke-width=\"0.2\" stroke=\"#D0D0E0\" id=\"img-f6ac4686-12\">\n",
       "      <path fill=\"none\" d=\"M47.79,1 L 47.79 100.19\"/>\n",
       "      <path fill=\"none\" d=\"M73.07,1 L 73.07 100.19\"/>\n",
       "      <path fill=\"none\" d=\"M98.36,1 L 98.36 100.19\"/>\n",
       "      <path fill=\"none\" d=\"M123.65,1 L 123.65 100.19\"/>\n",
       "      <path fill=\"none\" d=\"M148.93,1 L 148.93 100.19\"/>\n",
       "    </g>\n",
       "    <g class=\"plotpanel\" id=\"img-f6ac4686-13\">\n",
       "      <g stroke-width=\"0.26\" fill=\"#000000\" fill-opacity=\"0.000\" class=\"geometry\" stroke-dasharray=\"none\" stroke=\"#009AFA\" id=\"img-f6ac4686-14\">\n",
       "        <path fill=\"none\" d=\"M48.29,50.59 L 48.8 50.59 49.3 50.59 49.81 50.59 50.32 50.59 50.82 50.59 51.33 50.59 51.83 50.59 52.34 50.59 52.84 50.59 53.35 50.59 53.86 50.59 54.36 50.59 54.87 50.59 55.37 50.59 55.88 50.59 56.38 50.59 56.89 50.59 57.4 50.59 57.9 50.59 58.41 50.59 58.91 50.59 59.42 50.59 59.92 50.59 60.43 50.59 60.94 50.59 61.44 50.59 61.95 50.59 62.45 50.59 62.96 50.59 63.46 50.59 63.97 50.59 64.48 50.59 64.98 50.59 65.49 50.59 65.99 50.59 66.5 50.59 67 50.59 67.51 50.59 68.02 50.59 68.52 50.59 69.03 50.59 69.53 50.59 70.04 50.59 70.54 50.59 71.05 50.59 71.56 50.59 72.06 50.59 72.57 50.59 73.07 50.59 73.58 50.59 74.08 50.6 74.59 50.59 75.1 50.6 75.6 50.61 76.11 50.56 76.61 50.65 77.12 50.57 77.62 50.59 78.13 50.75 78.64 50.47 79.14 51.48 79.65 49.74 80.15 51 80.66 50.23 81.17 51.97 81.67 50.23 82.18 50.03 82.68 48.28 83.19 46.13 83.69 48.28 84.2 46.13 84.71 48.28 85.21 46.13 85.72 48.28 86.22 46.13 86.73 48.28 87.23 46.13 87.74 48.28 88.25 15.01 88.75 48.28 89.26 15.01 89.76 79.41 90.27 15.01 90.77 48.28 91.28 46.13 91.79 79.41 92.29 46.13 92.8 48.28 93.3 46.13 93.81 48.28 94.31 46.13 94.82 48.28 95.33 46.13 95.83 56.06 96.34 46.13 96.84 48.28 97.35 46.13 97.85 48.28 98.36 46.13 98.87 48.28 99.37 46.13 99.88 48.28 100.38 46.13 100.89 48.28 101.39 46.13 101.9 48.28 102.41 46.13 102.91 48.28 103.42 46.13 103.92 48.28 104.43 46.13 104.93 48.29 105.44 46.14 105.95 48.28 106.45 46.13 106.96 48.28 107.46 46.13 107.97 48.28 108.47 46.13 108.98 48.28 109.49 46.13 109.99 48.28 110.5 46.13 111 48.28 111.51 46.13 112.01 48.28 112.52 46.13 113.03 48.28 113.53 46.13 114.04 48.28 114.54 46.13 115.05 48.28 115.56 46.13 116.06 48.28 116.57 46.13 117.07 48.28 117.58 46.13 118.08 48.28 118.59 46.13 119.1 48.28 119.6 46.13 120.11 48.28 120.61 46.13 121.12 48.28 121.62 46.13 122.13 48.28 122.64 46.13 123.14 48.28 123.65 46.13 124.15 48.28 124.66 46.13 125.16 48.28 125.67 46.13 126.18 48.28 126.68 46.13 127.19 48.28 127.69 46.13 128.2 48.28 128.7 46.13 129.21 48.28 129.72 46.13 130.22 48.28 130.73 46.13 131.23 48.28 131.74 46.13 132.24 48.28 132.75 46.13 133.26 48.28 133.76 46.13 134.27 48.28 134.77 46.13 135.28 48.28 135.78 46.13 136.29 48.28 136.8 46.13 137.3 48.28 137.81 46.13 138.31 48.28 138.82 46.13 139.32 48.28 139.83 46.13 140.34 48.28 140.84 46.13 141.35 48.28 141.85 46.13 142.36 48.28 142.86 46.13 143.37 48.28 143.88 46.13 144.38 48.28 144.89 46.13 145.39 48.28 145.9 46.13 146.4 48.28 146.91 46.13 147.42 48.28 147.92 46.13 148.43 48.28 148.93 46.13\"/>\n",
       "      </g>\n",
       "    </g>\n",
       "  </g>\n",
       "</g>\n",
       "  <g class=\"guide ylabels\" font-size=\"2.82\" font-family=\"Helvetica\" fill=\"#000000\" id=\"img-f6ac4686-15\">\n",
       "    <text x=\"44.79\" y=\"98.19\" text-anchor=\"end\" dy=\"0.35em\">-2.500000000000000444×10⁻¹⁶</text>\n",
       "    <text x=\"44.79\" y=\"50.59\" text-anchor=\"end\" dy=\"0.35em\">0</text>\n",
       "    <text x=\"44.79\" y=\"3\" text-anchor=\"end\" dy=\"0.35em\">2.500000000000000444×10⁻¹⁶</text>\n",
       "  </g>\n",
       "</g>\n",
       "<defs>\n",
       "  <clipPath id=\"img-f6ac4686-8\">\n",
       "  <path d=\"M45.79,1 L 150.93 1 150.93 100.19 45.79 100.19\" />\n",
       "</clipPath>\n",
       "</defs>\n",
       "</svg>\n"
      ],
      "text/plain": [
       "Compose.SVG(158.73015873015876mm,105.82010582010584mm,IOBuffer(data=UInt8[...], readable=true, writable=true, seekable=true, append=false, size=5799, maxsize=Inf, ptr=5800, mark=-1),nothing,\"img-f6ac4686\",0,Compose.SVGPropertyFrame[],Dict{Type{T},Union{Compose.Property{P<:Compose.PropertyPrimitive},Void}}(),Dict{Compose.ClipPrimitive{P<:NTuple{N,Measures.Measure}},ASCIIString}(Compose.ClipPrimitive{Tuple{Measures.Length{:mm,Float64},Measures.Length{:mm,Float64}}}([(45.78666666666669mm,1.0mm),(150.9334920634921mm,1.0mm),(150.9334920634921mm,100.1867724867725mm),(45.78666666666669mm,100.1867724867725mm)])=>\"img-f6ac4686-8\"),Tuple{Compose.FormPrimitive,ASCIIString}[],Set{AbstractString}(),true,false,nothing,true,\"img-f6ac4686-15\",false,15,AbstractString[\"/home/kryosugarra/.julia/v0.4/Gadfly/src/gadfly.js\"],Tuple{AbstractString,AbstractString}[(\"Snap.svg\",\"Snap\"),(\"Gadfly\",\"Gadfly\")],AbstractString[\"fig.select(\\\"#img-f6ac4686-4\\\")\\n   .drag(function() {}, function() {}, function() {});\",\"fig.select(\\\"#img-f6ac4686-9\\\")\\n   .init_gadfly();\"],false,:none)"
      ]
     },
     "metadata": {},
     "output_type": "display_data"
    },
    {
     "data": {
      "text/html": []
     },
     "execution_count": 6,
     "metadata": {},
     "output_type": "execute_result"
    }
   ],
   "source": [
    "plot(1:size, fieldsnap)"
   ]
  },
  {
   "cell_type": "code",
   "execution_count": 7,
   "metadata": {
    "collapsed": false
   },
   "outputs": [
    {
     "name": "stdout",
     "output_type": "stream",
     "text": [
      "1.9542144317996692e-31"
     ]
    }
   ],
   "source": [
    "print(fieldsum)"
   ]
  },
  {
   "cell_type": "markdown",
   "metadata": {},
   "source": [
    "# 1. Dielectric esp=9 with trivial ABC hy[-1] = hy[-2]\n",
    "### Setup Grid"
   ]
  },
  {
   "cell_type": "code",
   "execution_count": 8,
   "metadata": {
    "collapsed": false
   },
   "outputs": [],
   "source": [
    "#Global parameters\n",
    "size = 200;\n",
    "endTime = 800;\n",
    "num_snaps = 200;\n",
    "snap_step = div(endTime, num_snaps);\n",
    "#Grid\n",
    "hy = zeros(size-1);\n",
    "mu = ones(size-1);\n",
    "\n",
    "ez = zeros(size);\n",
    "eps = ones(size);\n",
    "\n",
    "for i in 100:size\n",
    "    eps[i] = 9\n",
    "end\n",
    "\n",
    "# output params\n",
    "ez_snapshot = Array{Any}(num_snaps);\n",
    "hy_snapshot = Array{Any}(num_snaps);\n",
    "\n",
    "# \n",
    "fieldsum = 1;\n",
    "sumtime = 500;\n",
    "fieldsnap = zeros(size);"
   ]
  },
  {
   "cell_type": "markdown",
   "metadata": {},
   "source": [
    "### Run Simulation"
   ]
  },
  {
   "cell_type": "code",
   "execution_count": 9,
   "metadata": {
    "collapsed": false
   },
   "outputs": [
    {
     "name": "stdout",
     "output_type": "stream",
     "text": [
      "0.26376596707540684"
     ]
    }
   ],
   "source": [
    "# Time steps\n",
    "\n",
    "for time in 1:endTime\n",
    "    # Incident\n",
    "    # ez_inc, hy_inc = sources.gaussian_source(50, time);\n",
    "    delay = 30.\n",
    "    width = 100.\n",
    "    \n",
    "    ez_inc, hy_inc = sources.gaussian_source(50, time, 70)  \n",
    "    \n",
    "    #\n",
    "    # Magnetic\n",
    "    #\n",
    "        \n",
    "    # Interior update\n",
    "    update.update_magnetic_field!(ez, hy, mu);    \n",
    "    \n",
    "    # TFSF\n",
    "    hy[49] -= hy_inc \n",
    "    \n",
    "    #\n",
    "    # Electric\n",
    "    #\n",
    "    \n",
    "    # ABC\n",
    "    boundaries.trivial_abc!(ez, size);\n",
    "    boundaries.trivial_abc!(ez, 1, false);    \n",
    "    \n",
    "    # Interior update\n",
    "    update.update_electric_field!(ez, hy, eps);\n",
    "    \n",
    "    # TFSF\n",
    "    ez[50] += ez_inc \n",
    " \n",
    "    #Catch minimum E-Field\n",
    "    if time == sumtime\n",
    "            fieldsum = sum(ez.^2)\n",
    "            fieldsnap = copy(ez)\n",
    "    end\n",
    "    \n",
    "    #Snapshots for animation\n",
    "    if mod(time, snap_step) == 0\n",
    "        ez_snapshot[div(time,snap_step)] = (time, copy(ez))\n",
    "        hy_snapshot[div(time,snap_step)] = (time, copy(hy).*globals.imp0)        \n",
    "    end\n",
    "    \n",
    "end\n",
    "print(fieldsum)"
   ]
  },
  {
   "cell_type": "markdown",
   "metadata": {},
   "source": [
    "### Plot Animation"
   ]
  },
  {
   "cell_type": "code",
   "execution_count": 10,
   "metadata": {
    "collapsed": false
   },
   "outputs": [
    {
     "name": "stderr",
     "output_type": "stream",
     "text": [
      "INFO: Saved animation to /media/storage/Documents/Github/1d-fdtd/tasks/Task1/ABC-Bad-Trivial-ABC.gif\n"
     ]
    },
    {
     "data": {
      "text/html": [
       "<img src=\"Task1/ABC-Bad-Trivial-ABC.gif?0.7870789991587317>\" />"
      ],
      "text/plain": [
       "Plots.AnimatedGif(\"/media/storage/Documents/Github/1d-fdtd/tasks/Task1/ABC-Bad-Trivial-ABC.gif\")"
      ]
     },
     "execution_count": 10,
     "metadata": {},
     "output_type": "execute_result"
    }
   ],
   "source": [
    "anim = Animation()\n",
    "\n",
    "for i = 1:num_snaps\n",
    "    p = plot(1:size, ez_snapshot[i][2], lab=\"Ez\")\n",
    "    plot!(1:size-1, hy_snapshot[i][2], lab=\"Hy*imp0\")\n",
    "    \n",
    "    time = ez_snapshot[i][1]\n",
    "    plot!(ann=[(150, 1.5, \"time =$time\")])\n",
    "    plot!(ann=[(0, 1.1, \"ABC\")])\n",
    "    plot!(ann=[(180, 1.1, \"ABC\")])\n",
    "    \n",
    "    plot!(ann=[(80, 1.2, \"Eps = 1\")])\n",
    "    plot!(ann=[(100, 1.1, \"Eps = 9\")])    \n",
    "    plot!([100, 100], [-2, 2])\n",
    "    \n",
    "    plot!(xlims=(1, 200), ylims=(-2, 2))\n",
    "    frame(anim, p)\n",
    "end\n",
    "gif(anim, \"./Task1/ABC-Bad-Trivial-ABC.gif\", fps=15)"
   ]
  },
  {
   "cell_type": "markdown",
   "metadata": {},
   "source": [
    "### Plot field after reflection"
   ]
  },
  {
   "cell_type": "code",
   "execution_count": 11,
   "metadata": {
    "collapsed": false
   },
   "outputs": [
    {
     "data": {
      "image/svg+xml": [
       "<?xml version=\"1.0\" encoding=\"UTF-8\"?>\n",
       "<svg xmlns=\"http://www.w3.org/2000/svg\"\n",
       "     xmlns:xlink=\"http://www.w3.org/1999/xlink\"\n",
       "     xmlns:gadfly=\"http://www.gadflyjl.org/ns\"\n",
       "     version=\"1.2\"\n",
       "     width=\"158.73mm\" height=\"105.82mm\" viewBox=\"0 0 158.73 105.82\"\n",
       "     stroke=\"none\"\n",
       "     fill=\"#000000\"\n",
       "     stroke-width=\"0.3\"\n",
       "     font-size=\"3.88\"\n",
       ">\n",
       "<g stroke=\"#000000\" stroke-opacity=\"0.000\" fill=\"#FFFFFF\" id=\"img-1ee50153-1\">\n",
       "  <rect x=\"0\" y=\"0\" width=\"158.73\" height=\"105.82\"/>\n",
       "</g>\n",
       "<g class=\"plotroot xscalable yscalable\" id=\"img-1ee50153-2\">\n",
       "  <g class=\"guide xlabels\" font-size=\"2.82\" font-family=\"Helvetica\" fill=\"#000000\" id=\"img-1ee50153-3\">\n",
       "    <text x=\"9.86\" y=\"101.19\" text-anchor=\"middle\" dy=\"0.6em\">0</text>\n",
       "    <text x=\"44.63\" y=\"101.19\" text-anchor=\"middle\" dy=\"0.6em\">50</text>\n",
       "    <text x=\"79.4\" y=\"101.19\" text-anchor=\"middle\" dy=\"0.6em\">100</text>\n",
       "    <text x=\"114.17\" y=\"101.19\" text-anchor=\"middle\" dy=\"0.6em\">150</text>\n",
       "    <text x=\"148.93\" y=\"101.19\" text-anchor=\"middle\" dy=\"0.6em\">200</text>\n",
       "  </g>\n",
       "  <g class=\"guide colorkey\" id=\"img-1ee50153-4\">\n",
       "    <g fill=\"#000000\" font-size=\"2.82\" font-family=\"Helvetica\" id=\"img-1ee50153-5\">\n",
       "      <text x=\"154.75\" y=\"50.59\" dy=\"0.35em\">y1</text>\n",
       "      <text x=\"154.75\" y=\"54.23\" dy=\"0.35em\">y2</text>\n",
       "    </g>\n",
       "    <g stroke=\"#000000\" stroke-opacity=\"0.000\" id=\"img-1ee50153-6\">\n",
       "      <rect x=\"151.93\" y=\"49.69\" width=\"1.82\" height=\"1.82\" fill=\"#009AFA\"/>\n",
       "      <rect x=\"151.93\" y=\"53.32\" width=\"1.82\" height=\"1.82\" fill=\"#E36F47\"/>\n",
       "    </g>\n",
       "    <g fill=\"#000000\" font-size=\"3.88\" font-family=\"Helvetica\" stroke=\"#000000\" stroke-opacity=\"0.000\" id=\"img-1ee50153-7\">\n",
       "      <text x=\"151.93\" y=\"46.77\"></text>\n",
       "    </g>\n",
       "  </g>\n",
       "<g clip-path=\"url(#img-1ee50153-8)\">\n",
       "  <g id=\"img-1ee50153-9\">\n",
       "    <g pointer-events=\"visible\" opacity=\"1\" fill=\"#000000\" fill-opacity=\"0.000\" stroke=\"#000000\" stroke-opacity=\"0.000\" class=\"guide background\" id=\"img-1ee50153-10\">\n",
       "      <rect x=\"7.86\" y=\"1\" width=\"143.07\" height=\"99.19\"/>\n",
       "    </g>\n",
       "    <g class=\"guide ygridlines xfixed\" stroke-dasharray=\"0.5,0.5\" stroke-width=\"0.2\" stroke=\"#D0D0E0\" id=\"img-1ee50153-11\">\n",
       "      <path fill=\"none\" d=\"M7.86,98.19 L 150.93 98.19\"/>\n",
       "      <path fill=\"none\" d=\"M7.86,82.32 L 150.93 82.32\"/>\n",
       "      <path fill=\"none\" d=\"M7.86,66.46 L 150.93 66.46\"/>\n",
       "      <path fill=\"none\" d=\"M7.86,50.59 L 150.93 50.59\"/>\n",
       "      <path fill=\"none\" d=\"M7.86,34.73 L 150.93 34.73\"/>\n",
       "      <path fill=\"none\" d=\"M7.86,18.86 L 150.93 18.86\"/>\n",
       "      <path fill=\"none\" d=\"M7.86,3 L 150.93 3\"/>\n",
       "    </g>\n",
       "    <g class=\"guide xgridlines yfixed\" stroke-dasharray=\"0.5,0.5\" stroke-width=\"0.2\" stroke=\"#D0D0E0\" id=\"img-1ee50153-12\">\n",
       "      <path fill=\"none\" d=\"M9.86,1 L 9.86 100.19\"/>\n",
       "      <path fill=\"none\" d=\"M44.63,1 L 44.63 100.19\"/>\n",
       "      <path fill=\"none\" d=\"M79.4,1 L 79.4 100.19\"/>\n",
       "      <path fill=\"none\" d=\"M114.17,1 L 114.17 100.19\"/>\n",
       "      <path fill=\"none\" d=\"M148.93,1 L 148.93 100.19\"/>\n",
       "    </g>\n",
       "    <g class=\"plotpanel\" id=\"img-1ee50153-13\">\n",
       "      <g stroke-width=\"0.26\" fill=\"#000000\" fill-opacity=\"0.000\" class=\"geometry\" stroke-dasharray=\"none\" stroke=\"#009AFA\" id=\"img-1ee50153-14\">\n",
       "        <path fill=\"none\" d=\"M10.56,50.59 L 11.25 50.59 11.95 50.59 12.64 50.59 13.34 50.59 14.03 50.59 14.73 50.59 15.42 50.59 16.12 50.59 16.81 50.59 17.51 50.59 18.2 50.59 18.9 50.59 19.6 50.59 20.29 50.59 20.99 50.59 21.68 50.59 22.38 50.59 23.07 50.59 23.77 50.59 24.46 50.59 25.16 50.59 25.85 50.59 26.55 50.59 27.24 50.59 27.94 50.59 28.63 50.59 29.33 50.59 30.03 50.59 30.72 50.59 31.42 50.59 32.11 50.59 32.81 50.59 33.5 50.59 34.2 50.59 34.89 50.59 35.59 50.59 36.28 50.59 36.98 50.59 37.67 50.59 38.37 50.59 39.07 50.59 39.76 50.59 40.46 50.59 41.15 50.59 41.85 50.59 42.54 50.59 43.24 50.59 43.93 50.59 44.63 50.59 45.32 50.59 46.02 50.59 46.71 50.59 47.41 50.59 48.11 50.59 48.8 50.59 49.5 50.59 50.19 50.59 50.89 50.59 51.58 50.59 52.28 50.59 52.97 50.59 53.67 50.59 54.36 50.59 55.06 50.59 55.75 50.59 56.45 50.59 57.14 50.59 57.84 50.59 58.54 50.59 59.23 50.59 59.93 50.59 60.62 50.59 61.32 50.59 62.01 50.59 62.71 50.59 63.4 50.59 64.1 50.59 64.79 50.59 65.49 50.59 66.18 50.59 66.88 50.59 67.58 50.59 68.27 50.59 68.97 50.59 69.66 50.59 70.36 50.59 71.05 50.59 71.75 50.59 72.44 50.59 73.14 50.59 73.83 50.59 74.53 50.59 75.22 50.59 75.92 50.59 76.62 50.59 77.31 50.59 78.01 50.59 78.7 50.59 79.4 50.59 80.09 50.59 80.79 50.59 81.48 50.59 82.18 50.59 82.87 50.59 83.57 50.59 84.26 50.59 84.96 50.59 85.66 50.59 86.35 50.59 87.05 50.59 87.74 50.59 88.44 50.59 89.13 50.59 89.83 50.59 90.52 50.59 91.22 50.59 91.91 50.59 92.61 50.59 93.3 50.59 94 50.59 94.69 50.59 95.39 50.59 96.09 50.59 96.78 50.59 97.48 50.59 98.17 50.59 98.87 50.59 99.56 50.59 100.26 50.59 100.95 50.59 101.65 50.59 102.34 50.59 103.04 50.59 103.73 50.59 104.43 50.59 105.13 50.59 105.82 50.59 106.52 50.59 107.21 50.59 107.91 50.59 108.6 50.59 109.3 50.59 109.99 50.59 110.69 50.59 111.38 50.59 112.08 50.59 112.77 50.59 113.47 50.59 114.17 50.59 114.86 50.59 115.56 50.59 116.25 50.59 116.95 50.59 117.64 50.59 118.34 50.59 119.03 50.59 119.73 50.58 120.42 50.57 121.12 50.53 121.81 50.46 122.51 50.33 123.2 50.07 123.9 49.59 124.6 48.79 125.29 47.45 125.99 45.37 126.68 42.35 127.38 38.2 128.07 33 128.77 27.13 129.46 21.36 130.16 16.93 130.85 15.31 131.55 17.63 132.24 24.27 132.94 34.36 133.64 45.53 134.33 54.7 135.03 59.37 135.72 58.75 136.42 54.24 137.11 49.13 137.81 46.55 138.5 47.41 139.2 50.2 139.89 52.46 140.59 52.61 141.28 50.93 141.98 49.34 142.68 49.48 143.37 50.82 144.07 51.48 144.76 50.83 145.46 50.12 146.15 50.34 146.85 50.84 147.54 50.7 148.24 50.32 148.93 50.57\"/>\n",
       "      </g>\n",
       "      <g stroke-width=\"0.26\" fill=\"#000000\" fill-opacity=\"0.000\" class=\"geometry\" stroke-dasharray=\"none\" stroke=\"#E36F47\" id=\"img-1ee50153-15\">\n",
       "        <path fill=\"none\" d=\"M79.4,85.88 L 79.4 15.31\"/>\n",
       "      </g>\n",
       "    </g>\n",
       "    <g class=\"geometry\" id=\"img-1ee50153-16\">\n",
       "      <text x=\"135.03\" y=\"18.84\">ABC</text>\n",
       "    </g>\n",
       "    <g class=\"geometry\" id=\"img-1ee50153-17\">\n",
       "      <text x=\"9.86\" y=\"18.84\">ABC</text>\n",
       "    </g>\n",
       "    <g class=\"geometry\" id=\"img-1ee50153-18\">\n",
       "      <text x=\"79.4\" y=\"18.84\">Eps = 9</text>\n",
       "    </g>\n",
       "    <g class=\"geometry\" id=\"img-1ee50153-19\">\n",
       "      <text x=\"65.49\" y=\"22.37\">Eps = 1</text>\n",
       "    </g>\n",
       "  </g>\n",
       "</g>\n",
       "  <g class=\"guide ylabels\" font-size=\"2.82\" font-family=\"Helvetica\" fill=\"#000000\" id=\"img-1ee50153-20\">\n",
       "    <text x=\"6.86\" y=\"98.19\" text-anchor=\"end\" dy=\"0.35em\">-0.3</text>\n",
       "    <text x=\"6.86\" y=\"82.32\" text-anchor=\"end\" dy=\"0.35em\">-0.2</text>\n",
       "    <text x=\"6.86\" y=\"66.46\" text-anchor=\"end\" dy=\"0.35em\">-0.1</text>\n",
       "    <text x=\"6.86\" y=\"50.59\" text-anchor=\"end\" dy=\"0.35em\">0.0</text>\n",
       "    <text x=\"6.86\" y=\"34.73\" text-anchor=\"end\" dy=\"0.35em\">0.1</text>\n",
       "    <text x=\"6.86\" y=\"18.86\" text-anchor=\"end\" dy=\"0.35em\">0.2</text>\n",
       "    <text x=\"6.86\" y=\"3\" text-anchor=\"end\" dy=\"0.35em\">0.3</text>\n",
       "  </g>\n",
       "</g>\n",
       "<defs>\n",
       "  <clipPath id=\"img-1ee50153-8\">\n",
       "  <path d=\"M7.86,1 L 150.93 1 150.93 100.19 7.86 100.19\" />\n",
       "</clipPath>\n",
       "</defs>\n",
       "</svg>\n"
      ],
      "text/html": [
       "<?xml version=\"1.0\" encoding=\"UTF-8\"?>\n",
       "<svg xmlns=\"http://www.w3.org/2000/svg\"\n",
       "     xmlns:xlink=\"http://www.w3.org/1999/xlink\"\n",
       "     xmlns:gadfly=\"http://www.gadflyjl.org/ns\"\n",
       "     version=\"1.2\"\n",
       "     width=\"158.73mm\" height=\"105.82mm\" viewBox=\"0 0 158.73 105.82\"\n",
       "     stroke=\"none\"\n",
       "     fill=\"#000000\"\n",
       "     stroke-width=\"0.3\"\n",
       "     font-size=\"3.88\"\n",
       ">\n",
       "<g stroke=\"#000000\" stroke-opacity=\"0.000\" fill=\"#FFFFFF\" id=\"img-1ee50153-1\">\n",
       "  <rect x=\"0\" y=\"0\" width=\"158.73\" height=\"105.82\"/>\n",
       "</g>\n",
       "<g class=\"plotroot xscalable yscalable\" id=\"img-1ee50153-2\">\n",
       "  <g class=\"guide xlabels\" font-size=\"2.82\" font-family=\"Helvetica\" fill=\"#000000\" id=\"img-1ee50153-3\">\n",
       "    <text x=\"9.86\" y=\"101.19\" text-anchor=\"middle\" dy=\"0.6em\">0</text>\n",
       "    <text x=\"44.63\" y=\"101.19\" text-anchor=\"middle\" dy=\"0.6em\">50</text>\n",
       "    <text x=\"79.4\" y=\"101.19\" text-anchor=\"middle\" dy=\"0.6em\">100</text>\n",
       "    <text x=\"114.17\" y=\"101.19\" text-anchor=\"middle\" dy=\"0.6em\">150</text>\n",
       "    <text x=\"148.93\" y=\"101.19\" text-anchor=\"middle\" dy=\"0.6em\">200</text>\n",
       "  </g>\n",
       "  <g class=\"guide colorkey\" id=\"img-1ee50153-4\">\n",
       "    <g fill=\"#000000\" font-size=\"2.82\" font-family=\"Helvetica\" id=\"img-1ee50153-5\">\n",
       "      <text x=\"154.75\" y=\"50.59\" dy=\"0.35em\">y1</text>\n",
       "      <text x=\"154.75\" y=\"54.23\" dy=\"0.35em\">y2</text>\n",
       "    </g>\n",
       "    <g stroke=\"#000000\" stroke-opacity=\"0.000\" id=\"img-1ee50153-6\">\n",
       "      <rect x=\"151.93\" y=\"49.69\" width=\"1.82\" height=\"1.82\" fill=\"#009AFA\"/>\n",
       "      <rect x=\"151.93\" y=\"53.32\" width=\"1.82\" height=\"1.82\" fill=\"#E36F47\"/>\n",
       "    </g>\n",
       "    <g fill=\"#000000\" font-size=\"3.88\" font-family=\"Helvetica\" stroke=\"#000000\" stroke-opacity=\"0.000\" id=\"img-1ee50153-7\">\n",
       "      <text x=\"151.93\" y=\"46.77\"></text>\n",
       "    </g>\n",
       "  </g>\n",
       "<g clip-path=\"url(#img-1ee50153-8)\">\n",
       "  <g id=\"img-1ee50153-9\">\n",
       "    <g pointer-events=\"visible\" opacity=\"1\" fill=\"#000000\" fill-opacity=\"0.000\" stroke=\"#000000\" stroke-opacity=\"0.000\" class=\"guide background\" id=\"img-1ee50153-10\">\n",
       "      <rect x=\"7.86\" y=\"1\" width=\"143.07\" height=\"99.19\"/>\n",
       "    </g>\n",
       "    <g class=\"guide ygridlines xfixed\" stroke-dasharray=\"0.5,0.5\" stroke-width=\"0.2\" stroke=\"#D0D0E0\" id=\"img-1ee50153-11\">\n",
       "      <path fill=\"none\" d=\"M7.86,98.19 L 150.93 98.19\"/>\n",
       "      <path fill=\"none\" d=\"M7.86,82.32 L 150.93 82.32\"/>\n",
       "      <path fill=\"none\" d=\"M7.86,66.46 L 150.93 66.46\"/>\n",
       "      <path fill=\"none\" d=\"M7.86,50.59 L 150.93 50.59\"/>\n",
       "      <path fill=\"none\" d=\"M7.86,34.73 L 150.93 34.73\"/>\n",
       "      <path fill=\"none\" d=\"M7.86,18.86 L 150.93 18.86\"/>\n",
       "      <path fill=\"none\" d=\"M7.86,3 L 150.93 3\"/>\n",
       "    </g>\n",
       "    <g class=\"guide xgridlines yfixed\" stroke-dasharray=\"0.5,0.5\" stroke-width=\"0.2\" stroke=\"#D0D0E0\" id=\"img-1ee50153-12\">\n",
       "      <path fill=\"none\" d=\"M9.86,1 L 9.86 100.19\"/>\n",
       "      <path fill=\"none\" d=\"M44.63,1 L 44.63 100.19\"/>\n",
       "      <path fill=\"none\" d=\"M79.4,1 L 79.4 100.19\"/>\n",
       "      <path fill=\"none\" d=\"M114.17,1 L 114.17 100.19\"/>\n",
       "      <path fill=\"none\" d=\"M148.93,1 L 148.93 100.19\"/>\n",
       "    </g>\n",
       "    <g class=\"plotpanel\" id=\"img-1ee50153-13\">\n",
       "      <g stroke-width=\"0.26\" fill=\"#000000\" fill-opacity=\"0.000\" class=\"geometry\" stroke-dasharray=\"none\" stroke=\"#009AFA\" id=\"img-1ee50153-14\">\n",
       "        <path fill=\"none\" d=\"M10.56,50.59 L 11.25 50.59 11.95 50.59 12.64 50.59 13.34 50.59 14.03 50.59 14.73 50.59 15.42 50.59 16.12 50.59 16.81 50.59 17.51 50.59 18.2 50.59 18.9 50.59 19.6 50.59 20.29 50.59 20.99 50.59 21.68 50.59 22.38 50.59 23.07 50.59 23.77 50.59 24.46 50.59 25.16 50.59 25.85 50.59 26.55 50.59 27.24 50.59 27.94 50.59 28.63 50.59 29.33 50.59 30.03 50.59 30.72 50.59 31.42 50.59 32.11 50.59 32.81 50.59 33.5 50.59 34.2 50.59 34.89 50.59 35.59 50.59 36.28 50.59 36.98 50.59 37.67 50.59 38.37 50.59 39.07 50.59 39.76 50.59 40.46 50.59 41.15 50.59 41.85 50.59 42.54 50.59 43.24 50.59 43.93 50.59 44.63 50.59 45.32 50.59 46.02 50.59 46.71 50.59 47.41 50.59 48.11 50.59 48.8 50.59 49.5 50.59 50.19 50.59 50.89 50.59 51.58 50.59 52.28 50.59 52.97 50.59 53.67 50.59 54.36 50.59 55.06 50.59 55.75 50.59 56.45 50.59 57.14 50.59 57.84 50.59 58.54 50.59 59.23 50.59 59.93 50.59 60.62 50.59 61.32 50.59 62.01 50.59 62.71 50.59 63.4 50.59 64.1 50.59 64.79 50.59 65.49 50.59 66.18 50.59 66.88 50.59 67.58 50.59 68.27 50.59 68.97 50.59 69.66 50.59 70.36 50.59 71.05 50.59 71.75 50.59 72.44 50.59 73.14 50.59 73.83 50.59 74.53 50.59 75.22 50.59 75.92 50.59 76.62 50.59 77.31 50.59 78.01 50.59 78.7 50.59 79.4 50.59 80.09 50.59 80.79 50.59 81.48 50.59 82.18 50.59 82.87 50.59 83.57 50.59 84.26 50.59 84.96 50.59 85.66 50.59 86.35 50.59 87.05 50.59 87.74 50.59 88.44 50.59 89.13 50.59 89.83 50.59 90.52 50.59 91.22 50.59 91.91 50.59 92.61 50.59 93.3 50.59 94 50.59 94.69 50.59 95.39 50.59 96.09 50.59 96.78 50.59 97.48 50.59 98.17 50.59 98.87 50.59 99.56 50.59 100.26 50.59 100.95 50.59 101.65 50.59 102.34 50.59 103.04 50.59 103.73 50.59 104.43 50.59 105.13 50.59 105.82 50.59 106.52 50.59 107.21 50.59 107.91 50.59 108.6 50.59 109.3 50.59 109.99 50.59 110.69 50.59 111.38 50.59 112.08 50.59 112.77 50.59 113.47 50.59 114.17 50.59 114.86 50.59 115.56 50.59 116.25 50.59 116.95 50.59 117.64 50.59 118.34 50.59 119.03 50.59 119.73 50.58 120.42 50.57 121.12 50.53 121.81 50.46 122.51 50.33 123.2 50.07 123.9 49.59 124.6 48.79 125.29 47.45 125.99 45.37 126.68 42.35 127.38 38.2 128.07 33 128.77 27.13 129.46 21.36 130.16 16.93 130.85 15.31 131.55 17.63 132.24 24.27 132.94 34.36 133.64 45.53 134.33 54.7 135.03 59.37 135.72 58.75 136.42 54.24 137.11 49.13 137.81 46.55 138.5 47.41 139.2 50.2 139.89 52.46 140.59 52.61 141.28 50.93 141.98 49.34 142.68 49.48 143.37 50.82 144.07 51.48 144.76 50.83 145.46 50.12 146.15 50.34 146.85 50.84 147.54 50.7 148.24 50.32 148.93 50.57\"/>\n",
       "      </g>\n",
       "      <g stroke-width=\"0.26\" fill=\"#000000\" fill-opacity=\"0.000\" class=\"geometry\" stroke-dasharray=\"none\" stroke=\"#E36F47\" id=\"img-1ee50153-15\">\n",
       "        <path fill=\"none\" d=\"M79.4,85.88 L 79.4 15.31\"/>\n",
       "      </g>\n",
       "    </g>\n",
       "    <g class=\"geometry\" id=\"img-1ee50153-16\">\n",
       "      <text x=\"135.03\" y=\"18.84\">ABC</text>\n",
       "    </g>\n",
       "    <g class=\"geometry\" id=\"img-1ee50153-17\">\n",
       "      <text x=\"9.86\" y=\"18.84\">ABC</text>\n",
       "    </g>\n",
       "    <g class=\"geometry\" id=\"img-1ee50153-18\">\n",
       "      <text x=\"79.4\" y=\"18.84\">Eps = 9</text>\n",
       "    </g>\n",
       "    <g class=\"geometry\" id=\"img-1ee50153-19\">\n",
       "      <text x=\"65.49\" y=\"22.37\">Eps = 1</text>\n",
       "    </g>\n",
       "  </g>\n",
       "</g>\n",
       "  <g class=\"guide ylabels\" font-size=\"2.82\" font-family=\"Helvetica\" fill=\"#000000\" id=\"img-1ee50153-20\">\n",
       "    <text x=\"6.86\" y=\"98.19\" text-anchor=\"end\" dy=\"0.35em\">-0.3</text>\n",
       "    <text x=\"6.86\" y=\"82.32\" text-anchor=\"end\" dy=\"0.35em\">-0.2</text>\n",
       "    <text x=\"6.86\" y=\"66.46\" text-anchor=\"end\" dy=\"0.35em\">-0.1</text>\n",
       "    <text x=\"6.86\" y=\"50.59\" text-anchor=\"end\" dy=\"0.35em\">0.0</text>\n",
       "    <text x=\"6.86\" y=\"34.73\" text-anchor=\"end\" dy=\"0.35em\">0.1</text>\n",
       "    <text x=\"6.86\" y=\"18.86\" text-anchor=\"end\" dy=\"0.35em\">0.2</text>\n",
       "    <text x=\"6.86\" y=\"3\" text-anchor=\"end\" dy=\"0.35em\">0.3</text>\n",
       "  </g>\n",
       "</g>\n",
       "<defs>\n",
       "  <clipPath id=\"img-1ee50153-8\">\n",
       "  <path d=\"M7.86,1 L 150.93 1 150.93 100.19 7.86 100.19\" />\n",
       "</clipPath>\n",
       "</defs>\n",
       "</svg>\n"
      ],
      "text/plain": [
       "Compose.SVG(158.73015873015876mm,105.82010582010584mm,IOBuffer(data=UInt8[...], readable=true, writable=true, seekable=true, append=false, size=6959, maxsize=Inf, ptr=6960, mark=-1),nothing,\"img-1ee50153\",0,Compose.SVGPropertyFrame[],Dict{Type{T},Union{Compose.Property{P<:Compose.PropertyPrimitive},Void}}(Compose.Property{Compose.FillPrimitive}=>nothing),Dict{Compose.ClipPrimitive{P<:NTuple{N,Measures.Measure}},ASCIIString}(Compose.ClipPrimitive{Tuple{Measures.Length{:mm,Float64},Measures.Length{:mm,Float64}}}([(7.860000000000014mm,1.0mm),(150.9334920634921mm,1.0mm),(150.9334920634921mm,100.18677248677251mm),(7.860000000000014mm,100.18677248677251mm)])=>\"img-1ee50153-8\"),Tuple{Compose.FormPrimitive,ASCIIString}[],Set{AbstractString}(),true,false,nothing,true,\"img-1ee50153-20\",false,20,AbstractString[\"/home/kryosugarra/.julia/v0.4/Gadfly/src/gadfly.js\"],Tuple{AbstractString,AbstractString}[(\"Snap.svg\",\"Snap\"),(\"Gadfly\",\"Gadfly\")],AbstractString[\"fig.select(\\\"#img-1ee50153-4\\\")\\n   .drag(function() {}, function() {}, function() {});\",\"fig.select(\\\"#img-1ee50153-9\\\")\\n   .init_gadfly();\"],false,:none)"
      ]
     },
     "metadata": {},
     "output_type": "display_data"
    },
    {
     "data": {
      "text/html": []
     },
     "execution_count": 11,
     "metadata": {},
     "output_type": "execute_result"
    }
   ],
   "source": [
    "plot(1:size, fieldsnap)\n",
    "plot!([100, 100], [-maximum(abs(fieldsnap)), maximum(abs(fieldsnap))])\n",
    "plot!(ann=[(80, 0.8*maximum(abs(fieldsnap)), \"Eps = 1\")])\n",
    "plot!(ann=[(100, 0.9*maximum(abs(fieldsnap)), \"Eps = 9\")])\n",
    "plot!(ann=[(0, 0.9*maximum(abs(fieldsnap)), \"ABC\")])\n",
    "plot!(ann=[(180, 0.9*maximum(abs(fieldsnap)), \"ABC\")])"
   ]
  },
  {
   "cell_type": "code",
   "execution_count": 12,
   "metadata": {
    "collapsed": false
   },
   "outputs": [
    {
     "name": "stdout",
     "output_type": "stream",
     "text": [
      "0.26376596707540684"
     ]
    }
   ],
   "source": [
    "print(fieldsum)"
   ]
  },
  {
   "cell_type": "markdown",
   "metadata": {},
   "source": [
    "# 2. Dielectric esp=9 with Mur ABC\n",
    "### Setup Grid"
   ]
  },
  {
   "cell_type": "code",
   "execution_count": 13,
   "metadata": {
    "collapsed": true
   },
   "outputs": [],
   "source": [
    "#Global parameters\n",
    "size = 200;\n",
    "endTime = 800;\n",
    "num_snaps = 200;\n",
    "snap_step = div(endTime, num_snaps);\n",
    "\n",
    "eps1 = 9;\n",
    "eps0 = 1;\n",
    "\n",
    "#Grid\n",
    "\n",
    "# Magnetic\n",
    "hy = zeros(size-1);\n",
    "mu = ones(size-1);\n",
    "\n",
    "chyh = ones(size);\n",
    "chye = ones(size);\n",
    "\n",
    "\n",
    "# Electric\n",
    "ez = zeros(size);\n",
    "eps = ones(size);\n",
    "\n",
    "cezh = ones(size);\n",
    "ceze = ones(size);\n",
    "\n",
    "\n",
    "for i in 1:99\n",
    "    eps[i] = eps0;\n",
    "end\n",
    "for i in 100:size\n",
    "    eps[i] = eps1;\n",
    "end\n",
    "\n",
    "rightBound = boundaries.setup_first_order_abc(eps, mu, size, true)\n",
    "leftBound = boundaries.setup_first_order_abc(eps, mu, 1, false)\n",
    "\n",
    "# output params\n",
    "ez_snapshot = Array{Any}(num_snaps);\n",
    "hy_snapshot = Array{Any}(num_snaps);\n",
    "\n",
    "# \n",
    "fieldsum = 1;\n",
    "sumtime = 500;\n",
    "fieldsnap = zeros(size);"
   ]
  },
  {
   "cell_type": "markdown",
   "metadata": {},
   "source": [
    "### Run simulation"
   ]
  },
  {
   "cell_type": "code",
   "execution_count": 14,
   "metadata": {
    "collapsed": false
   },
   "outputs": [
    {
     "name": "stdout",
     "output_type": "stream",
     "text": [
      "8.719067748651187e-5"
     ]
    }
   ],
   "source": [
    "# Time steps\n",
    "\n",
    "for time in 1:endTime\n",
    "    # Incident\n",
    "    # ez_inc, hy_inc = sources.gaussian_source(50, time);\n",
    "    delay = 30.\n",
    "    width = 100.\n",
    "    \n",
    "    ez_inc = exp(-(time + 0.5 - (-0.5) - delay) * (time + 0.5 - (-0.5) - delay) / width);\n",
    "    hy_inc = exp(-(time - delay) * (time - delay) / width) / globals.imp0;\n",
    "    \n",
    "    #\n",
    "    # Magnetic\n",
    "    #\n",
    "        \n",
    "    # Interior update\n",
    "    update.update_magnetic_field!(ez, hy, mu, chyh, chye);    \n",
    "    \n",
    "    # TFSF\n",
    "    hy[49] -= hy_inc \n",
    "    \n",
    "    #\n",
    "    # Electric\n",
    "    #\n",
    "       \n",
    "    # Interior update\n",
    "    update.update_electric_field!(ez, hy, eps, cezh, ceze);\n",
    "    \n",
    "    # ABC\n",
    "    boundaries.first_order_diff_abc!(ez, leftBound)\n",
    "    boundaries.first_order_diff_abc!(ez, rightBound)\n",
    "    \n",
    "    # TFSF\n",
    "    ez[50] += ez_inc \n",
    " \n",
    "    #Catch minimum E-Field\n",
    "    if time == sumtime\n",
    "            fieldsum = sum(ez.^2)\n",
    "            fieldsnap = copy(ez)\n",
    "    end\n",
    "    \n",
    "    #Snapshots for animation\n",
    "    if mod(time, snap_step) == 0\n",
    "        ez_snapshot[div(time,snap_step)] = (time, copy(ez))\n",
    "        hy_snapshot[div(time,snap_step)] = (time, copy(hy).*globals.imp0)        \n",
    "    end\n",
    "    \n",
    "end\n",
    "print(fieldsum)"
   ]
  },
  {
   "cell_type": "markdown",
   "metadata": {},
   "source": [
    "### Plot animation"
   ]
  },
  {
   "cell_type": "code",
   "execution_count": 15,
   "metadata": {
    "collapsed": false
   },
   "outputs": [
    {
     "name": "stderr",
     "output_type": "stream",
     "text": [
      "INFO: Saved animation to /media/storage/Documents/Github/1d-fdtd/tasks/Task1/Mur-ABC-Mur-ABC.gif\n"
     ]
    },
    {
     "data": {
      "text/html": [
       "<img src=\"Task1/Mur-ABC-Mur-ABC.gif?0.7380762536728942>\" />"
      ],
      "text/plain": [
       "Plots.AnimatedGif(\"/media/storage/Documents/Github/1d-fdtd/tasks/Task1/Mur-ABC-Mur-ABC.gif\")"
      ]
     },
     "execution_count": 15,
     "metadata": {},
     "output_type": "execute_result"
    }
   ],
   "source": [
    "anim = Animation()\n",
    "\n",
    "for i = 1:num_snaps\n",
    "    p = plot(1:size, ez_snapshot[i][2], lab=\"Ez\")\n",
    "    plot!(1:size-1, hy_snapshot[i][2], lab=\"Hy*imp0\")\n",
    "    \n",
    "    time = ez_snapshot[i][1]\n",
    "    plot!(ann=[(150, 1.5, \"time =$time\")])\n",
    "    plot!(ann=[(0, 1.1, \"ABC\")])\n",
    "    plot!(ann=[(180, 1.1, \"ABC\")])\n",
    "    \n",
    "    plot!(ann=[(80, 1.2, \"Eps = 1\")])\n",
    "    plot!(ann=[(100, 1.1, \"Eps = 9\")])    \n",
    "    plot!([100, 100], [-2, 2])\n",
    "    \n",
    "    plot!(xlims=(1, 200), ylims=(-2, 2))\n",
    "    frame(anim, p)\n",
    "end\n",
    "gif(anim, \"./Task1/Mur-ABC-Mur-ABC.gif\", fps=15)"
   ]
  },
  {
   "cell_type": "markdown",
   "metadata": {},
   "source": [
    "### Field after reflection"
   ]
  },
  {
   "cell_type": "code",
   "execution_count": 16,
   "metadata": {
    "collapsed": false
   },
   "outputs": [
    {
     "data": {
      "image/svg+xml": [
       "<?xml version=\"1.0\" encoding=\"UTF-8\"?>\n",
       "<svg xmlns=\"http://www.w3.org/2000/svg\"\n",
       "     xmlns:xlink=\"http://www.w3.org/1999/xlink\"\n",
       "     xmlns:gadfly=\"http://www.gadflyjl.org/ns\"\n",
       "     version=\"1.2\"\n",
       "     width=\"158.73mm\" height=\"105.82mm\" viewBox=\"0 0 158.73 105.82\"\n",
       "     stroke=\"none\"\n",
       "     fill=\"#000000\"\n",
       "     stroke-width=\"0.3\"\n",
       "     font-size=\"3.88\"\n",
       ">\n",
       "<g stroke=\"#000000\" stroke-opacity=\"0.000\" fill=\"#FFFFFF\" id=\"img-d9ec0342-1\">\n",
       "  <rect x=\"0\" y=\"0\" width=\"158.73\" height=\"105.82\"/>\n",
       "</g>\n",
       "<g class=\"plotroot xscalable yscalable\" id=\"img-d9ec0342-2\">\n",
       "  <g class=\"guide xlabels\" font-size=\"2.82\" font-family=\"Helvetica\" fill=\"#000000\" id=\"img-d9ec0342-3\">\n",
       "    <text x=\"12.99\" y=\"101.19\" text-anchor=\"middle\" dy=\"0.6em\">0</text>\n",
       "    <text x=\"46.98\" y=\"101.19\" text-anchor=\"middle\" dy=\"0.6em\">50</text>\n",
       "    <text x=\"80.96\" y=\"101.19\" text-anchor=\"middle\" dy=\"0.6em\">100</text>\n",
       "    <text x=\"114.95\" y=\"101.19\" text-anchor=\"middle\" dy=\"0.6em\">150</text>\n",
       "    <text x=\"148.93\" y=\"101.19\" text-anchor=\"middle\" dy=\"0.6em\">200</text>\n",
       "  </g>\n",
       "  <g class=\"guide colorkey\" id=\"img-d9ec0342-4\">\n",
       "    <g fill=\"#000000\" font-size=\"2.82\" font-family=\"Helvetica\" id=\"img-d9ec0342-5\">\n",
       "      <text x=\"154.75\" y=\"50.59\" dy=\"0.35em\">y1</text>\n",
       "      <text x=\"154.75\" y=\"54.23\" dy=\"0.35em\">y2</text>\n",
       "    </g>\n",
       "    <g stroke=\"#000000\" stroke-opacity=\"0.000\" id=\"img-d9ec0342-6\">\n",
       "      <rect x=\"151.93\" y=\"49.69\" width=\"1.82\" height=\"1.82\" fill=\"#009AFA\"/>\n",
       "      <rect x=\"151.93\" y=\"53.32\" width=\"1.82\" height=\"1.82\" fill=\"#E36F47\"/>\n",
       "    </g>\n",
       "    <g fill=\"#000000\" font-size=\"3.88\" font-family=\"Helvetica\" stroke=\"#000000\" stroke-opacity=\"0.000\" id=\"img-d9ec0342-7\">\n",
       "      <text x=\"151.93\" y=\"46.77\"></text>\n",
       "    </g>\n",
       "  </g>\n",
       "<g clip-path=\"url(#img-d9ec0342-8)\">\n",
       "  <g id=\"img-d9ec0342-9\">\n",
       "    <g pointer-events=\"visible\" opacity=\"1\" fill=\"#000000\" fill-opacity=\"0.000\" stroke=\"#000000\" stroke-opacity=\"0.000\" class=\"guide background\" id=\"img-d9ec0342-10\">\n",
       "      <rect x=\"10.99\" y=\"1\" width=\"139.94\" height=\"99.19\"/>\n",
       "    </g>\n",
       "    <g class=\"guide ygridlines xfixed\" stroke-dasharray=\"0.5,0.5\" stroke-width=\"0.2\" stroke=\"#D0D0E0\" id=\"img-d9ec0342-11\">\n",
       "      <path fill=\"none\" d=\"M10.99,98.19 L 150.93 98.19\"/>\n",
       "      <path fill=\"none\" d=\"M10.99,74.39 L 150.93 74.39\"/>\n",
       "      <path fill=\"none\" d=\"M10.99,50.59 L 150.93 50.59\"/>\n",
       "      <path fill=\"none\" d=\"M10.99,26.8 L 150.93 26.8\"/>\n",
       "      <path fill=\"none\" d=\"M10.99,3 L 150.93 3\"/>\n",
       "    </g>\n",
       "    <g class=\"guide xgridlines yfixed\" stroke-dasharray=\"0.5,0.5\" stroke-width=\"0.2\" stroke=\"#D0D0E0\" id=\"img-d9ec0342-12\">\n",
       "      <path fill=\"none\" d=\"M12.99,1 L 12.99 100.19\"/>\n",
       "      <path fill=\"none\" d=\"M46.98,1 L 46.98 100.19\"/>\n",
       "      <path fill=\"none\" d=\"M80.96,1 L 80.96 100.19\"/>\n",
       "      <path fill=\"none\" d=\"M114.95,1 L 114.95 100.19\"/>\n",
       "      <path fill=\"none\" d=\"M148.93,1 L 148.93 100.19\"/>\n",
       "    </g>\n",
       "    <g class=\"plotpanel\" id=\"img-d9ec0342-13\">\n",
       "      <g stroke-width=\"0.26\" fill=\"#000000\" fill-opacity=\"0.000\" class=\"geometry\" stroke-dasharray=\"none\" stroke=\"#009AFA\" id=\"img-d9ec0342-14\">\n",
       "        <path fill=\"none\" d=\"M13.67,50.59 L 14.35 50.59 15.03 50.59 15.71 50.59 16.39 50.59 17.07 50.59 17.75 50.59 18.43 50.59 19.11 50.59 19.79 50.59 20.47 50.59 21.15 50.59 21.83 50.59 22.51 50.59 23.19 50.59 23.87 50.59 24.55 50.59 25.23 50.59 25.91 50.59 26.59 50.59 27.27 50.59 27.95 50.59 28.63 50.59 29.31 50.59 29.99 50.59 30.67 50.59 31.35 50.59 32.02 50.59 32.7 50.59 33.38 50.59 34.06 50.59 34.74 50.59 35.42 50.59 36.1 50.59 36.78 50.59 37.46 50.59 38.14 50.59 38.82 50.59 39.5 50.59 40.18 50.59 40.86 50.59 41.54 50.59 42.22 50.59 42.9 50.59 43.58 50.59 44.26 50.59 44.94 50.59 45.62 50.59 46.3 50.59 46.98 50.59 47.66 50.59 48.34 50.59 49.02 50.59 49.7 50.59 50.38 50.59 51.06 50.59 51.74 50.59 52.42 50.59 53.1 50.59 53.78 50.59 54.46 50.59 55.13 50.59 55.81 50.59 56.49 50.59 57.17 50.59 57.85 50.59 58.53 50.59 59.21 50.59 59.89 50.59 60.57 50.59 61.25 50.59 61.93 50.59 62.61 50.59 63.29 50.59 63.97 50.59 64.65 50.59 65.33 50.59 66.01 50.59 66.69 50.59 67.37 50.59 68.05 50.59 68.73 50.59 69.41 50.59 70.09 50.59 70.77 50.59 71.45 50.59 72.13 50.59 72.81 50.59 73.49 50.59 74.17 50.59 74.85 50.59 75.53 50.59 76.21 50.59 76.89 50.59 77.56 50.59 78.24 50.59 78.92 50.59 79.6 50.59 80.28 50.59 80.96 50.59 81.64 50.59 82.32 50.59 83 50.6 83.68 50.59 84.36 50.6 85.04 50.59 85.72 50.6 86.4 50.59 87.08 50.6 87.76 50.59 88.44 50.59 89.12 50.59 89.8 50.59 90.48 50.6 91.16 50.59 91.84 50.6 92.52 50.59 93.2 50.6 93.88 50.58 94.56 50.61 95.24 50.58 95.92 50.6 96.6 50.59 97.28 50.6 97.96 50.6 98.64 50.59 99.32 50.61 100 50.58 100.67 50.61 101.35 50.58 102.03 50.61 102.71 50.59 103.39 50.59 104.07 50.61 104.75 50.57 105.43 50.62 106.11 50.57 106.79 50.6 107.47 50.6 108.15 50.58 108.83 50.62 109.51 50.58 110.19 50.64 110.87 50.64 111.55 50.68 112.23 50.83 112.91 50.95 113.59 51.33 114.27 51.85 114.95 52.64 115.63 53.9 116.31 55.36 116.99 57.14 117.67 58.76 118.35 59.39 119.03 58.45 119.71 54.56 120.39 47.26 121.07 37.19 121.75 25.83 122.43 17.33 123.1 16.12 123.78 25.14 124.46 44.94 125.14 69.75 125.82 89.52 126.5 95.19 127.18 81.6 127.86 54.43 128.54 29.17 129.22 19.5 129.9 30.69 130.58 54.42 131.26 70.89 131.94 68.21 132.62 52.17 133.3 37.2 133.98 36.95 134.66 51.18 135.34 61.77 136.02 57.39 136.7 47.39 137.38 43.23 138.06 47.39 138.74 55.58 139.42 56.73 140.1 47.83 140.78 44.26 141.46 52.32 142.14 55.62 142.82 48.88 143.5 47.52 144.18 52.8 144.86 51.53 145.53 47.76 146.21 51.81 146.89 54.09 147.57 47.21 148.25 46.29 148.93 56.23\"/>\n",
       "      </g>\n",
       "      <g stroke-width=\"0.26\" fill=\"#000000\" fill-opacity=\"0.000\" class=\"geometry\" stroke-dasharray=\"none\" stroke=\"#E36F47\" id=\"img-d9ec0342-15\">\n",
       "        <path fill=\"none\" d=\"M80.96,95.19 L 80.96 6\"/>\n",
       "      </g>\n",
       "    </g>\n",
       "    <g class=\"geometry\" id=\"img-d9ec0342-16\">\n",
       "      <text x=\"135.34\" y=\"10.46\">Mur ABC</text>\n",
       "    </g>\n",
       "    <g class=\"geometry\" id=\"img-d9ec0342-17\">\n",
       "      <text x=\"12.99\" y=\"10.46\">Mur ABC</text>\n",
       "    </g>\n",
       "    <g class=\"geometry\" id=\"img-d9ec0342-18\">\n",
       "      <text x=\"80.96\" y=\"10.46\">Eps = 9</text>\n",
       "    </g>\n",
       "    <g class=\"geometry\" id=\"img-d9ec0342-19\">\n",
       "      <text x=\"67.37\" y=\"14.92\">Eps = 1</text>\n",
       "    </g>\n",
       "  </g>\n",
       "</g>\n",
       "  <g class=\"guide ylabels\" font-size=\"2.82\" font-family=\"Helvetica\" fill=\"#000000\" id=\"img-d9ec0342-20\">\n",
       "    <text x=\"9.99\" y=\"98.19\" text-anchor=\"end\" dy=\"0.35em\">-0.004</text>\n",
       "    <text x=\"9.99\" y=\"74.39\" text-anchor=\"end\" dy=\"0.35em\">-0.002</text>\n",
       "    <text x=\"9.99\" y=\"50.59\" text-anchor=\"end\" dy=\"0.35em\">0.000</text>\n",
       "    <text x=\"9.99\" y=\"26.8\" text-anchor=\"end\" dy=\"0.35em\">0.002</text>\n",
       "    <text x=\"9.99\" y=\"3\" text-anchor=\"end\" dy=\"0.35em\">0.004</text>\n",
       "  </g>\n",
       "</g>\n",
       "<defs>\n",
       "  <clipPath id=\"img-d9ec0342-8\">\n",
       "  <path d=\"M10.99,1 L 150.93 1 150.93 100.19 10.99 100.19\" />\n",
       "</clipPath>\n",
       "</defs>\n",
       "</svg>\n"
      ],
      "text/html": [
       "<?xml version=\"1.0\" encoding=\"UTF-8\"?>\n",
       "<svg xmlns=\"http://www.w3.org/2000/svg\"\n",
       "     xmlns:xlink=\"http://www.w3.org/1999/xlink\"\n",
       "     xmlns:gadfly=\"http://www.gadflyjl.org/ns\"\n",
       "     version=\"1.2\"\n",
       "     width=\"158.73mm\" height=\"105.82mm\" viewBox=\"0 0 158.73 105.82\"\n",
       "     stroke=\"none\"\n",
       "     fill=\"#000000\"\n",
       "     stroke-width=\"0.3\"\n",
       "     font-size=\"3.88\"\n",
       ">\n",
       "<g stroke=\"#000000\" stroke-opacity=\"0.000\" fill=\"#FFFFFF\" id=\"img-d9ec0342-1\">\n",
       "  <rect x=\"0\" y=\"0\" width=\"158.73\" height=\"105.82\"/>\n",
       "</g>\n",
       "<g class=\"plotroot xscalable yscalable\" id=\"img-d9ec0342-2\">\n",
       "  <g class=\"guide xlabels\" font-size=\"2.82\" font-family=\"Helvetica\" fill=\"#000000\" id=\"img-d9ec0342-3\">\n",
       "    <text x=\"12.99\" y=\"101.19\" text-anchor=\"middle\" dy=\"0.6em\">0</text>\n",
       "    <text x=\"46.98\" y=\"101.19\" text-anchor=\"middle\" dy=\"0.6em\">50</text>\n",
       "    <text x=\"80.96\" y=\"101.19\" text-anchor=\"middle\" dy=\"0.6em\">100</text>\n",
       "    <text x=\"114.95\" y=\"101.19\" text-anchor=\"middle\" dy=\"0.6em\">150</text>\n",
       "    <text x=\"148.93\" y=\"101.19\" text-anchor=\"middle\" dy=\"0.6em\">200</text>\n",
       "  </g>\n",
       "  <g class=\"guide colorkey\" id=\"img-d9ec0342-4\">\n",
       "    <g fill=\"#000000\" font-size=\"2.82\" font-family=\"Helvetica\" id=\"img-d9ec0342-5\">\n",
       "      <text x=\"154.75\" y=\"50.59\" dy=\"0.35em\">y1</text>\n",
       "      <text x=\"154.75\" y=\"54.23\" dy=\"0.35em\">y2</text>\n",
       "    </g>\n",
       "    <g stroke=\"#000000\" stroke-opacity=\"0.000\" id=\"img-d9ec0342-6\">\n",
       "      <rect x=\"151.93\" y=\"49.69\" width=\"1.82\" height=\"1.82\" fill=\"#009AFA\"/>\n",
       "      <rect x=\"151.93\" y=\"53.32\" width=\"1.82\" height=\"1.82\" fill=\"#E36F47\"/>\n",
       "    </g>\n",
       "    <g fill=\"#000000\" font-size=\"3.88\" font-family=\"Helvetica\" stroke=\"#000000\" stroke-opacity=\"0.000\" id=\"img-d9ec0342-7\">\n",
       "      <text x=\"151.93\" y=\"46.77\"></text>\n",
       "    </g>\n",
       "  </g>\n",
       "<g clip-path=\"url(#img-d9ec0342-8)\">\n",
       "  <g id=\"img-d9ec0342-9\">\n",
       "    <g pointer-events=\"visible\" opacity=\"1\" fill=\"#000000\" fill-opacity=\"0.000\" stroke=\"#000000\" stroke-opacity=\"0.000\" class=\"guide background\" id=\"img-d9ec0342-10\">\n",
       "      <rect x=\"10.99\" y=\"1\" width=\"139.94\" height=\"99.19\"/>\n",
       "    </g>\n",
       "    <g class=\"guide ygridlines xfixed\" stroke-dasharray=\"0.5,0.5\" stroke-width=\"0.2\" stroke=\"#D0D0E0\" id=\"img-d9ec0342-11\">\n",
       "      <path fill=\"none\" d=\"M10.99,98.19 L 150.93 98.19\"/>\n",
       "      <path fill=\"none\" d=\"M10.99,74.39 L 150.93 74.39\"/>\n",
       "      <path fill=\"none\" d=\"M10.99,50.59 L 150.93 50.59\"/>\n",
       "      <path fill=\"none\" d=\"M10.99,26.8 L 150.93 26.8\"/>\n",
       "      <path fill=\"none\" d=\"M10.99,3 L 150.93 3\"/>\n",
       "    </g>\n",
       "    <g class=\"guide xgridlines yfixed\" stroke-dasharray=\"0.5,0.5\" stroke-width=\"0.2\" stroke=\"#D0D0E0\" id=\"img-d9ec0342-12\">\n",
       "      <path fill=\"none\" d=\"M12.99,1 L 12.99 100.19\"/>\n",
       "      <path fill=\"none\" d=\"M46.98,1 L 46.98 100.19\"/>\n",
       "      <path fill=\"none\" d=\"M80.96,1 L 80.96 100.19\"/>\n",
       "      <path fill=\"none\" d=\"M114.95,1 L 114.95 100.19\"/>\n",
       "      <path fill=\"none\" d=\"M148.93,1 L 148.93 100.19\"/>\n",
       "    </g>\n",
       "    <g class=\"plotpanel\" id=\"img-d9ec0342-13\">\n",
       "      <g stroke-width=\"0.26\" fill=\"#000000\" fill-opacity=\"0.000\" class=\"geometry\" stroke-dasharray=\"none\" stroke=\"#009AFA\" id=\"img-d9ec0342-14\">\n",
       "        <path fill=\"none\" d=\"M13.67,50.59 L 14.35 50.59 15.03 50.59 15.71 50.59 16.39 50.59 17.07 50.59 17.75 50.59 18.43 50.59 19.11 50.59 19.79 50.59 20.47 50.59 21.15 50.59 21.83 50.59 22.51 50.59 23.19 50.59 23.87 50.59 24.55 50.59 25.23 50.59 25.91 50.59 26.59 50.59 27.27 50.59 27.95 50.59 28.63 50.59 29.31 50.59 29.99 50.59 30.67 50.59 31.35 50.59 32.02 50.59 32.7 50.59 33.38 50.59 34.06 50.59 34.74 50.59 35.42 50.59 36.1 50.59 36.78 50.59 37.46 50.59 38.14 50.59 38.82 50.59 39.5 50.59 40.18 50.59 40.86 50.59 41.54 50.59 42.22 50.59 42.9 50.59 43.58 50.59 44.26 50.59 44.94 50.59 45.62 50.59 46.3 50.59 46.98 50.59 47.66 50.59 48.34 50.59 49.02 50.59 49.7 50.59 50.38 50.59 51.06 50.59 51.74 50.59 52.42 50.59 53.1 50.59 53.78 50.59 54.46 50.59 55.13 50.59 55.81 50.59 56.49 50.59 57.17 50.59 57.85 50.59 58.53 50.59 59.21 50.59 59.89 50.59 60.57 50.59 61.25 50.59 61.93 50.59 62.61 50.59 63.29 50.59 63.97 50.59 64.65 50.59 65.33 50.59 66.01 50.59 66.69 50.59 67.37 50.59 68.05 50.59 68.73 50.59 69.41 50.59 70.09 50.59 70.77 50.59 71.45 50.59 72.13 50.59 72.81 50.59 73.49 50.59 74.17 50.59 74.85 50.59 75.53 50.59 76.21 50.59 76.89 50.59 77.56 50.59 78.24 50.59 78.92 50.59 79.6 50.59 80.28 50.59 80.96 50.59 81.64 50.59 82.32 50.59 83 50.6 83.68 50.59 84.36 50.6 85.04 50.59 85.72 50.6 86.4 50.59 87.08 50.6 87.76 50.59 88.44 50.59 89.12 50.59 89.8 50.59 90.48 50.6 91.16 50.59 91.84 50.6 92.52 50.59 93.2 50.6 93.88 50.58 94.56 50.61 95.24 50.58 95.92 50.6 96.6 50.59 97.28 50.6 97.96 50.6 98.64 50.59 99.32 50.61 100 50.58 100.67 50.61 101.35 50.58 102.03 50.61 102.71 50.59 103.39 50.59 104.07 50.61 104.75 50.57 105.43 50.62 106.11 50.57 106.79 50.6 107.47 50.6 108.15 50.58 108.83 50.62 109.51 50.58 110.19 50.64 110.87 50.64 111.55 50.68 112.23 50.83 112.91 50.95 113.59 51.33 114.27 51.85 114.95 52.64 115.63 53.9 116.31 55.36 116.99 57.14 117.67 58.76 118.35 59.39 119.03 58.45 119.71 54.56 120.39 47.26 121.07 37.19 121.75 25.83 122.43 17.33 123.1 16.12 123.78 25.14 124.46 44.94 125.14 69.75 125.82 89.52 126.5 95.19 127.18 81.6 127.86 54.43 128.54 29.17 129.22 19.5 129.9 30.69 130.58 54.42 131.26 70.89 131.94 68.21 132.62 52.17 133.3 37.2 133.98 36.95 134.66 51.18 135.34 61.77 136.02 57.39 136.7 47.39 137.38 43.23 138.06 47.39 138.74 55.58 139.42 56.73 140.1 47.83 140.78 44.26 141.46 52.32 142.14 55.62 142.82 48.88 143.5 47.52 144.18 52.8 144.86 51.53 145.53 47.76 146.21 51.81 146.89 54.09 147.57 47.21 148.25 46.29 148.93 56.23\"/>\n",
       "      </g>\n",
       "      <g stroke-width=\"0.26\" fill=\"#000000\" fill-opacity=\"0.000\" class=\"geometry\" stroke-dasharray=\"none\" stroke=\"#E36F47\" id=\"img-d9ec0342-15\">\n",
       "        <path fill=\"none\" d=\"M80.96,95.19 L 80.96 6\"/>\n",
       "      </g>\n",
       "    </g>\n",
       "    <g class=\"geometry\" id=\"img-d9ec0342-16\">\n",
       "      <text x=\"135.34\" y=\"10.46\">Mur ABC</text>\n",
       "    </g>\n",
       "    <g class=\"geometry\" id=\"img-d9ec0342-17\">\n",
       "      <text x=\"12.99\" y=\"10.46\">Mur ABC</text>\n",
       "    </g>\n",
       "    <g class=\"geometry\" id=\"img-d9ec0342-18\">\n",
       "      <text x=\"80.96\" y=\"10.46\">Eps = 9</text>\n",
       "    </g>\n",
       "    <g class=\"geometry\" id=\"img-d9ec0342-19\">\n",
       "      <text x=\"67.37\" y=\"14.92\">Eps = 1</text>\n",
       "    </g>\n",
       "  </g>\n",
       "</g>\n",
       "  <g class=\"guide ylabels\" font-size=\"2.82\" font-family=\"Helvetica\" fill=\"#000000\" id=\"img-d9ec0342-20\">\n",
       "    <text x=\"9.99\" y=\"98.19\" text-anchor=\"end\" dy=\"0.35em\">-0.004</text>\n",
       "    <text x=\"9.99\" y=\"74.39\" text-anchor=\"end\" dy=\"0.35em\">-0.002</text>\n",
       "    <text x=\"9.99\" y=\"50.59\" text-anchor=\"end\" dy=\"0.35em\">0.000</text>\n",
       "    <text x=\"9.99\" y=\"26.8\" text-anchor=\"end\" dy=\"0.35em\">0.002</text>\n",
       "    <text x=\"9.99\" y=\"3\" text-anchor=\"end\" dy=\"0.35em\">0.004</text>\n",
       "  </g>\n",
       "</g>\n",
       "<defs>\n",
       "  <clipPath id=\"img-d9ec0342-8\">\n",
       "  <path d=\"M10.99,1 L 150.93 1 150.93 100.19 10.99 100.19\" />\n",
       "</clipPath>\n",
       "</defs>\n",
       "</svg>\n"
      ],
      "text/plain": [
       "Compose.SVG(158.73015873015876mm,105.82010582010584mm,IOBuffer(data=UInt8[...], readable=true, writable=true, seekable=true, append=false, size=6722, maxsize=Inf, ptr=6723, mark=-1),nothing,\"img-d9ec0342\",0,Compose.SVGPropertyFrame[],Dict{Type{T},Union{Compose.Property{P<:Compose.PropertyPrimitive},Void}}(Compose.Property{Compose.FillPrimitive}=>nothing),Dict{Compose.ClipPrimitive{P<:NTuple{N,Measures.Measure}},ASCIIString}(Compose.ClipPrimitive{Tuple{Measures.Length{:mm,Float64},Measures.Length{:mm,Float64}}}([(10.99333333333334mm,1.0mm),(150.9334920634921mm,1.0mm),(150.9334920634921mm,100.18677248677251mm),(10.99333333333334mm,100.18677248677251mm)])=>\"img-d9ec0342-8\"),Tuple{Compose.FormPrimitive,ASCIIString}[],Set{AbstractString}(),true,false,nothing,true,\"img-d9ec0342-20\",false,20,AbstractString[\"/home/kryosugarra/.julia/v0.4/Gadfly/src/gadfly.js\"],Tuple{AbstractString,AbstractString}[(\"Snap.svg\",\"Snap\"),(\"Gadfly\",\"Gadfly\")],AbstractString[\"fig.select(\\\"#img-d9ec0342-4\\\")\\n   .drag(function() {}, function() {}, function() {});\",\"fig.select(\\\"#img-d9ec0342-9\\\")\\n   .init_gadfly();\"],false,:none)"
      ]
     },
     "metadata": {},
     "output_type": "display_data"
    },
    {
     "data": {
      "text/html": []
     },
     "execution_count": 16,
     "metadata": {},
     "output_type": "execute_result"
    }
   ],
   "source": [
    "plot(1:size, fieldsnap)\n",
    "plot!([100, 100], [-maximum(abs(fieldsnap)), maximum(abs(fieldsnap))])\n",
    "plot!(ann=[(80, 0.8*maximum(abs(fieldsnap)), \"Eps = 1\")])\n",
    "plot!(ann=[(100, 0.9*maximum(abs(fieldsnap)), \"Eps = 9\")])\n",
    "plot!(ann=[(0, 0.9*maximum(abs(fieldsnap)), \"Mur ABC\")])\n",
    "plot!(ann=[(180, 0.9*maximum(abs(fieldsnap)), \"Mur ABC\")])"
   ]
  },
  {
   "cell_type": "code",
   "execution_count": 17,
   "metadata": {
    "collapsed": false
   },
   "outputs": [
    {
     "name": "stdout",
     "output_type": "stream",
     "text": [
      "8.719067748651187e-5"
     ]
    }
   ],
   "source": [
    "print(fieldsum)"
   ]
  },
  {
   "cell_type": "markdown",
   "metadata": {},
   "source": [
    "# 3. Dielectric esp=9 with 5 Cell CPML\n",
    "### Setup Grid"
   ]
  },
  {
   "cell_type": "code",
   "execution_count": 18,
   "metadata": {
    "collapsed": true
   },
   "outputs": [],
   "source": [
    "#Global parameters\n",
    "size = 200;\n",
    "endTime = 800;\n",
    "num_snaps = 200;\n",
    "snap_step = div(endTime, num_snaps);\n",
    "\n",
    "eps1 = 9;\n",
    "eps0 = 1;\n",
    "\n",
    "#Grid\n",
    "\n",
    "# Magnetic\n",
    "hy = zeros(size);\n",
    "mu = ones(size);\n",
    "\n",
    "chyh = ones(size);\n",
    "chye = ones(size);\n",
    "\n",
    "# Electric\n",
    "ez = zeros(size);\n",
    "eps = ones(size);\n",
    "\n",
    "cezh = ones(size);\n",
    "ceze = ones(size);\n",
    "\n",
    "\n",
    "for i in 1:99\n",
    "    eps[i] = eps0;\n",
    "end\n",
    "for i in 100:size\n",
    "    eps[i] = eps1;\n",
    "end\n",
    "\n",
    "# output params\n",
    "ez_snapshot = Array{Any}(num_snaps);\n",
    "hy_snapshot = Array{Any}(num_snaps);\n",
    "\n",
    "# \n",
    "fieldsum = 1;\n",
    "sumtime = 500;\n",
    "fieldsnap = zeros(size);\n"
   ]
  },
  {
   "cell_type": "markdown",
   "metadata": {},
   "source": [
    "### Setup CPML"
   ]
  },
  {
   "cell_type": "code",
   "execution_count": 19,
   "metadata": {
    "collapsed": false
   },
   "outputs": [
    {
     "name": "stderr",
     "output_type": "stream",
     "text": [
      "WARNING: int(x::AbstractFloat) is deprecated, use round(Int,x) instead.\n",
      " in depwarn at deprecated.jl:73\n",
      " in int at deprecated.jl:50\n",
      " in anonymous at no file\n",
      " in include_string at loading.jl:282\n",
      " in execute_request_0x535c5df2 at /home/kryosugarra/.julia/v0.4/IJulia/src/execute_request.jl:182\n",
      " in eventloop at /home/kryosugarra/.julia/v0.4/IJulia/src/IJulia.jl:142\n",
      " in anonymous at task.jl:447\n",
      "while loading In[19], in expression starting on line 17\n"
     ]
    }
   ],
   "source": [
    "#\n",
    "# setup CPML\n",
    "#\n",
    "\n",
    "# constants\n",
    "dx = 1.0;\n",
    "R0 = 1e-5;\n",
    "#m = 2.85;\n",
    "m = 4;\n",
    "pml_width = 5.0;\n",
    "\n",
    "# coeffs\n",
    "sigma_max = -(m+1)*log(R0)/2/globals.imp0/(pml_width*dx)\n",
    "sigma_x = zeros(size);\n",
    "sigma_m_x = zeros(size);\n",
    "\n",
    "for i in 1:int(pml_width)\n",
    "    #sigma_x[i] = sigma_max * real(Complex(((pml_width-i-0.5)/pml_width))^m)\n",
    "    #sigma_m_x[i] = sigma_max * real(Complex(((pml_width-i)/pml_width))^m)\n",
    "    \n",
    "    sigma_x[size-(i-1)] = sigma_max * real(Complex(((pml_width-i-0.5)/pml_width))^m)  \n",
    "    sigma_m_x[size-(i-1)] = sigma_max * real(Complex(((pml_width-i)/pml_width))^m)\n",
    "end\n",
    "\n",
    "aex = exp(-sigma_x .* globals.imp0)-1\n",
    "bex = exp(-sigma_x .* globals.imp0)\n",
    "\n",
    "ahx = exp(-sigma_m_x .* globals.imp0)-1\n",
    "bhx = exp(-sigma_m_x .* globals.imp0)\n",
    "\n",
    "# arrays\n",
    "p_hy = zeros(size);\n",
    "p_ez = zeros(size);"
   ]
  },
  {
   "cell_type": "markdown",
   "metadata": {},
   "source": [
    "### Run Simulation"
   ]
  },
  {
   "cell_type": "code",
   "execution_count": 20,
   "metadata": {
    "collapsed": false
   },
   "outputs": [
    {
     "name": "stdout",
     "output_type": "stream",
     "text": [
      "0.004413641949070344"
     ]
    }
   ],
   "source": [
    "# Time steps\n",
    "\n",
    "for time in 1:endTime\n",
    "    # Incident\n",
    "    # ez_inc, hy_inc = sources.gaussian_source(50, time);\n",
    "    delay = 30.\n",
    "    width = 100.\n",
    "    \n",
    "    ez_inc = exp(-(time + 0.5 - (-0.5) - delay) * (time + 0.5 - (-0.5) - delay) / width);\n",
    "    hy_inc = exp(-(time - delay) * (time - delay) / width);\n",
    "    \n",
    "    #\n",
    "    # CPML\n",
    "    #\n",
    "    for i in 1:size-1\n",
    "        p_hy[i] = bhx[i]*p_hy[i] + ahx[i]*(ez[i+1] - ez[i])\n",
    "    end\n",
    "    for i in 2:size\n",
    "        p_ez[i] = bex[i]*p_ez[i] + aex[i]*(hy[i] - hy[i-1])\n",
    "    end\n",
    "    \n",
    "    #\n",
    "    # Magnetic\n",
    "    #\n",
    "        \n",
    "    # Interior update\n",
    "    for i = 1:size-1\n",
    "        hy[i] = chyh[i] * hy[i] + chye[i] * (ez[i+1] - ez[i]) / globals.imp0 / mu[i]\n",
    "    end\n",
    "    \n",
    "    # TFSF\n",
    "    hy[49] -= hy_inc / globals.imp0 / mu[49]\n",
    "    \n",
    "    # CPML\n",
    "    for i in 1:size-1\n",
    "        hy[i] += p_hy[i]/globals.imp0/mu[i]\n",
    "    end\n",
    "\n",
    "    #\n",
    "    # Electric\n",
    "    #\n",
    "       \n",
    "    boundaries.trivial_abc!(ez, 1, false);    \n",
    "    # Interior update\n",
    "    for i = 2:size\n",
    "        ez[i] = ceze[i] * ez[i] + cezh[i] * (hy[i] - hy[i-1]) * globals.imp0 / eps[i]\n",
    "    end\n",
    "    \n",
    "    # TFSF\n",
    "    ez[50] += ez_inc / eps[50]\n",
    " \n",
    "    # CPML\n",
    "    for i in 2:size\n",
    "        ez[i] += p_ez[i]*globals.imp0/eps[i]\n",
    "    end    \n",
    "\n",
    "    #Catch minimum E-Field\n",
    "    if time == sumtime\n",
    "            fieldsum = sum(ez.^2)\n",
    "            fieldsnap = copy(ez)\n",
    "    end\n",
    "    \n",
    "    #Snapshots for animation\n",
    "    if mod(time, snap_step) == 0\n",
    "        ez_snapshot[div(time,snap_step)] = (time, copy(ez))\n",
    "        hy_snapshot[div(time,snap_step)] = (time, copy(hy).*globals.imp0)        \n",
    "    end\n",
    "    \n",
    "end\n",
    "print(fieldsum)"
   ]
  },
  {
   "cell_type": "markdown",
   "metadata": {},
   "source": [
    "### Plot animation"
   ]
  },
  {
   "cell_type": "code",
   "execution_count": 21,
   "metadata": {
    "collapsed": false
   },
   "outputs": [
    {
     "name": "stderr",
     "output_type": "stream",
     "text": [
      "INFO: Saved animation to /media/storage/Documents/Github/1d-fdtd/tasks/Task1/ABC-5-CPML.gif\n"
     ]
    },
    {
     "data": {
      "text/html": [
       "<img src=\"Task1/ABC-5-CPML.gif?0.24214652630485256>\" />"
      ],
      "text/plain": [
       "Plots.AnimatedGif(\"/media/storage/Documents/Github/1d-fdtd/tasks/Task1/ABC-5-CPML.gif\")"
      ]
     },
     "execution_count": 21,
     "metadata": {},
     "output_type": "execute_result"
    }
   ],
   "source": [
    "anim = Animation()\n",
    "\n",
    "for i = 1:num_snaps\n",
    "    p = plot(1:size, ez_snapshot[i][2], lab=\"Ez\")\n",
    "    plot!(1:size, hy_snapshot[i][2], lab=\"Hy*imp0\")\n",
    "    \n",
    "    time = ez_snapshot[i][1]\n",
    "    plot!(ann=[(150, 1.5, \"time =$time\")])\n",
    "    plot!(ann=[(0, 1.1, \"ABC\")])\n",
    "    \n",
    "    plot!(ann=[(80, 1.2, \"Eps = 1\")])\n",
    "    plot!(ann=[(101, 1.1, \"Eps = 9\")])    \n",
    "    plot!([100, 100], [-2, 2])\n",
    "    \n",
    "    plot!(ann=[(180, 1.1, \"CPML\")])\n",
    "    \n",
    "    plot!(xlims=(1, 200), ylims=(-2, 2))\n",
    "    frame(anim, p)\n",
    "end\n",
    "gif(anim, \"./Task1/ABC-5-CPML.gif\", fps=15)"
   ]
  },
  {
   "cell_type": "markdown",
   "metadata": {},
   "source": [
    "### Field after reflection"
   ]
  },
  {
   "cell_type": "code",
   "execution_count": 22,
   "metadata": {
    "collapsed": false
   },
   "outputs": [
    {
     "data": {
      "image/svg+xml": [
       "<?xml version=\"1.0\" encoding=\"UTF-8\"?>\n",
       "<svg xmlns=\"http://www.w3.org/2000/svg\"\n",
       "     xmlns:xlink=\"http://www.w3.org/1999/xlink\"\n",
       "     xmlns:gadfly=\"http://www.gadflyjl.org/ns\"\n",
       "     version=\"1.2\"\n",
       "     width=\"158.73mm\" height=\"105.82mm\" viewBox=\"0 0 158.73 105.82\"\n",
       "     stroke=\"none\"\n",
       "     fill=\"#000000\"\n",
       "     stroke-width=\"0.3\"\n",
       "     font-size=\"3.88\"\n",
       ">\n",
       "<g stroke=\"#000000\" stroke-opacity=\"0.000\" fill=\"#FFFFFF\" id=\"img-dfee4a08-1\">\n",
       "  <rect x=\"0\" y=\"0\" width=\"158.73\" height=\"105.82\"/>\n",
       "</g>\n",
       "<g class=\"plotroot xscalable yscalable\" id=\"img-dfee4a08-2\">\n",
       "  <g class=\"guide xlabels\" font-size=\"2.82\" font-family=\"Helvetica\" fill=\"#000000\" id=\"img-dfee4a08-3\">\n",
       "    <text x=\"11.43\" y=\"101.19\" text-anchor=\"middle\" dy=\"0.6em\">0</text>\n",
       "    <text x=\"45.8\" y=\"101.19\" text-anchor=\"middle\" dy=\"0.6em\">50</text>\n",
       "    <text x=\"80.18\" y=\"101.19\" text-anchor=\"middle\" dy=\"0.6em\">100</text>\n",
       "    <text x=\"114.56\" y=\"101.19\" text-anchor=\"middle\" dy=\"0.6em\">150</text>\n",
       "    <text x=\"148.93\" y=\"101.19\" text-anchor=\"middle\" dy=\"0.6em\">200</text>\n",
       "  </g>\n",
       "  <g class=\"guide colorkey\" id=\"img-dfee4a08-4\">\n",
       "    <g fill=\"#000000\" font-size=\"2.82\" font-family=\"Helvetica\" id=\"img-dfee4a08-5\">\n",
       "      <text x=\"154.75\" y=\"50.59\" dy=\"0.35em\">y1</text>\n",
       "      <text x=\"154.75\" y=\"54.23\" dy=\"0.35em\">y2</text>\n",
       "    </g>\n",
       "    <g stroke=\"#000000\" stroke-opacity=\"0.000\" id=\"img-dfee4a08-6\">\n",
       "      <rect x=\"151.93\" y=\"49.69\" width=\"1.82\" height=\"1.82\" fill=\"#009AFA\"/>\n",
       "      <rect x=\"151.93\" y=\"53.32\" width=\"1.82\" height=\"1.82\" fill=\"#E36F47\"/>\n",
       "    </g>\n",
       "    <g fill=\"#000000\" font-size=\"3.88\" font-family=\"Helvetica\" stroke=\"#000000\" stroke-opacity=\"0.000\" id=\"img-dfee4a08-7\">\n",
       "      <text x=\"151.93\" y=\"46.77\"></text>\n",
       "    </g>\n",
       "  </g>\n",
       "<g clip-path=\"url(#img-dfee4a08-8)\">\n",
       "  <g id=\"img-dfee4a08-9\">\n",
       "    <g pointer-events=\"visible\" opacity=\"1\" fill=\"#000000\" fill-opacity=\"0.000\" stroke=\"#000000\" stroke-opacity=\"0.000\" class=\"guide background\" id=\"img-dfee4a08-10\">\n",
       "      <rect x=\"9.43\" y=\"1\" width=\"141.51\" height=\"99.19\"/>\n",
       "    </g>\n",
       "    <g class=\"guide ygridlines xfixed\" stroke-dasharray=\"0.5,0.5\" stroke-width=\"0.2\" stroke=\"#D0D0E0\" id=\"img-dfee4a08-11\">\n",
       "      <path fill=\"none\" d=\"M9.43,98.19 L 150.93 98.19\"/>\n",
       "      <path fill=\"none\" d=\"M9.43,82.32 L 150.93 82.32\"/>\n",
       "      <path fill=\"none\" d=\"M9.43,66.46 L 150.93 66.46\"/>\n",
       "      <path fill=\"none\" d=\"M9.43,50.59 L 150.93 50.59\"/>\n",
       "      <path fill=\"none\" d=\"M9.43,34.73 L 150.93 34.73\"/>\n",
       "      <path fill=\"none\" d=\"M9.43,18.86 L 150.93 18.86\"/>\n",
       "      <path fill=\"none\" d=\"M9.43,3 L 150.93 3\"/>\n",
       "    </g>\n",
       "    <g class=\"guide xgridlines yfixed\" stroke-dasharray=\"0.5,0.5\" stroke-width=\"0.2\" stroke=\"#D0D0E0\" id=\"img-dfee4a08-12\">\n",
       "      <path fill=\"none\" d=\"M11.43,1 L 11.43 100.19\"/>\n",
       "      <path fill=\"none\" d=\"M45.8,1 L 45.8 100.19\"/>\n",
       "      <path fill=\"none\" d=\"M80.18,1 L 80.18 100.19\"/>\n",
       "      <path fill=\"none\" d=\"M114.56,1 L 114.56 100.19\"/>\n",
       "      <path fill=\"none\" d=\"M148.93,1 L 148.93 100.19\"/>\n",
       "    </g>\n",
       "    <g class=\"plotpanel\" id=\"img-dfee4a08-13\">\n",
       "      <g stroke-width=\"0.26\" fill=\"#000000\" fill-opacity=\"0.000\" class=\"geometry\" stroke-dasharray=\"none\" stroke=\"#009AFA\" id=\"img-dfee4a08-14\">\n",
       "        <path fill=\"none\" d=\"M12.11,50.59 L 12.8 50.59 13.49 50.59 14.18 50.59 14.86 50.59 15.55 50.59 16.24 50.59 16.93 50.59 17.61 50.59 18.3 50.59 18.99 50.59 19.68 50.59 20.36 50.59 21.05 50.59 21.74 50.59 22.43 50.59 23.11 50.59 23.8 50.59 24.49 50.59 25.18 50.59 25.86 50.59 26.55 50.59 27.24 50.59 27.93 50.59 28.62 50.59 29.3 50.59 29.99 50.59 30.68 50.59 31.37 50.59 32.05 50.59 32.74 50.59 33.43 50.59 34.12 50.59 34.8 50.59 35.49 50.59 36.18 50.59 36.87 50.59 37.55 50.59 38.24 50.59 38.93 50.59 39.62 50.59 40.3 50.59 40.99 50.59 41.68 50.59 42.37 50.59 43.05 50.59 43.74 50.59 44.43 50.59 45.12 50.59 45.8 50.59 46.49 50.59 47.18 50.59 47.87 50.59 48.55 50.59 49.24 50.59 49.93 50.59 50.62 50.59 51.3 50.59 51.99 50.59 52.68 50.59 53.37 50.59 54.05 50.59 54.74 50.59 55.43 50.59 56.12 50.59 56.8 50.59 57.49 50.59 58.18 50.59 58.87 50.59 59.55 50.59 60.24 50.59 60.93 50.59 61.62 50.59 62.3 50.59 62.99 50.59 63.68 50.59 64.37 50.59 65.05 50.59 65.74 50.59 66.43 50.59 67.12 50.59 67.8 50.59 68.49 50.59 69.18 50.59 69.87 50.59 70.55 50.59 71.24 50.59 71.93 50.59 72.62 50.59 73.3 50.59 73.99 50.59 74.68 50.59 75.37 50.59 76.05 50.59 76.74 50.59 77.43 50.59 78.12 50.59 78.81 50.59 79.49 50.59 80.18 50.59 80.87 50.59 81.56 50.59 82.24 50.59 82.93 50.59 83.62 50.59 84.31 50.59 84.99 50.59 85.68 50.59 86.37 50.59 87.06 50.59 87.74 50.59 88.43 50.59 89.12 50.59 89.81 50.59 90.49 50.59 91.18 50.59 91.87 50.59 92.56 50.59 93.24 50.59 93.93 50.59 94.62 50.59 95.31 50.59 95.99 50.59 96.68 50.59 97.37 50.59 98.06 50.59 98.74 50.59 99.43 50.59 100.12 50.6 100.81 50.59 101.49 50.59 102.18 50.59 102.87 50.59 103.56 50.6 104.24 50.59 104.93 50.6 105.62 50.59 106.31 50.59 106.99 50.59 107.68 50.59 108.37 50.59 109.06 50.58 109.74 50.57 110.43 50.53 111.12 50.46 111.81 50.32 112.49 50.05 113.18 49.57 113.87 48.73 114.56 47.33 115.24 45.16 115.93 41.92 116.62 37.43 117.31 31.64 117.99 24.75 118.68 17.5 119.37 10.95 120.06 6.63 120.74 6.08 121.43 10.21 122.12 19 122.81 30.95 123.49 43.28 124.18 53.01 124.87 57.85 125.56 57.46 126.24 53.78 126.93 49.7 127.62 47.72 128.31 48.59 129 50.71 129.68 52.04 130.37 51.74 131.06 50.34 131.75 49.46 132.43 50.06 133.12 51.09 133.81 51.32 134.5 50.79 135.18 50.06 135.87 49.99 136.56 50.84 137.25 51.25 137.93 50.54 138.62 50.12 139.31 50.57 140 50.79 140.68 50.65 141.37 50.68 142.06 50.49 142.75 50.28 143.43 50.79 144.12 51.07 144.81 50.26 145.5 50.02 146.18 51.12 146.87 51.23 147.56 49.84 148.25 50.36 148.93 50.62\"/>\n",
       "      </g>\n",
       "      <g stroke-width=\"0.26\" fill=\"#000000\" fill-opacity=\"0.000\" class=\"geometry\" stroke-dasharray=\"none\" stroke=\"#E36F47\" id=\"img-dfee4a08-15\">\n",
       "        <path fill=\"none\" d=\"M80.18,95.11 L 80.18 6.08\"/>\n",
       "      </g>\n",
       "    </g>\n",
       "    <g class=\"geometry\" id=\"img-dfee4a08-16\">\n",
       "      <text x=\"124.87\" y=\"10.53\">5 Cell CMPL</text>\n",
       "    </g>\n",
       "    <g class=\"geometry\" id=\"img-dfee4a08-17\">\n",
       "      <text x=\"11.43\" y=\"10.53\">ABC</text>\n",
       "    </g>\n",
       "    <g class=\"geometry\" id=\"img-dfee4a08-18\">\n",
       "      <text x=\"80.18\" y=\"10.53\">Eps = 9</text>\n",
       "    </g>\n",
       "    <g class=\"geometry\" id=\"img-dfee4a08-19\">\n",
       "      <text x=\"66.43\" y=\"14.98\">Eps = 1</text>\n",
       "    </g>\n",
       "  </g>\n",
       "</g>\n",
       "  <g class=\"guide ylabels\" font-size=\"2.82\" font-family=\"Helvetica\" fill=\"#000000\" id=\"img-dfee4a08-20\">\n",
       "    <text x=\"8.43\" y=\"98.19\" text-anchor=\"end\" dy=\"0.35em\">-0.03</text>\n",
       "    <text x=\"8.43\" y=\"82.32\" text-anchor=\"end\" dy=\"0.35em\">-0.02</text>\n",
       "    <text x=\"8.43\" y=\"66.46\" text-anchor=\"end\" dy=\"0.35em\">-0.01</text>\n",
       "    <text x=\"8.43\" y=\"50.59\" text-anchor=\"end\" dy=\"0.35em\">0.00</text>\n",
       "    <text x=\"8.43\" y=\"34.73\" text-anchor=\"end\" dy=\"0.35em\">0.01</text>\n",
       "    <text x=\"8.43\" y=\"18.86\" text-anchor=\"end\" dy=\"0.35em\">0.02</text>\n",
       "    <text x=\"8.43\" y=\"3\" text-anchor=\"end\" dy=\"0.35em\">0.03</text>\n",
       "  </g>\n",
       "</g>\n",
       "<defs>\n",
       "  <clipPath id=\"img-dfee4a08-8\">\n",
       "  <path d=\"M9.43,1 L 150.93 1 150.93 100.19 9.43 100.19\" />\n",
       "</clipPath>\n",
       "</defs>\n",
       "</svg>\n"
      ],
      "text/html": [
       "<?xml version=\"1.0\" encoding=\"UTF-8\"?>\n",
       "<svg xmlns=\"http://www.w3.org/2000/svg\"\n",
       "     xmlns:xlink=\"http://www.w3.org/1999/xlink\"\n",
       "     xmlns:gadfly=\"http://www.gadflyjl.org/ns\"\n",
       "     version=\"1.2\"\n",
       "     width=\"158.73mm\" height=\"105.82mm\" viewBox=\"0 0 158.73 105.82\"\n",
       "     stroke=\"none\"\n",
       "     fill=\"#000000\"\n",
       "     stroke-width=\"0.3\"\n",
       "     font-size=\"3.88\"\n",
       ">\n",
       "<g stroke=\"#000000\" stroke-opacity=\"0.000\" fill=\"#FFFFFF\" id=\"img-dfee4a08-1\">\n",
       "  <rect x=\"0\" y=\"0\" width=\"158.73\" height=\"105.82\"/>\n",
       "</g>\n",
       "<g class=\"plotroot xscalable yscalable\" id=\"img-dfee4a08-2\">\n",
       "  <g class=\"guide xlabels\" font-size=\"2.82\" font-family=\"Helvetica\" fill=\"#000000\" id=\"img-dfee4a08-3\">\n",
       "    <text x=\"11.43\" y=\"101.19\" text-anchor=\"middle\" dy=\"0.6em\">0</text>\n",
       "    <text x=\"45.8\" y=\"101.19\" text-anchor=\"middle\" dy=\"0.6em\">50</text>\n",
       "    <text x=\"80.18\" y=\"101.19\" text-anchor=\"middle\" dy=\"0.6em\">100</text>\n",
       "    <text x=\"114.56\" y=\"101.19\" text-anchor=\"middle\" dy=\"0.6em\">150</text>\n",
       "    <text x=\"148.93\" y=\"101.19\" text-anchor=\"middle\" dy=\"0.6em\">200</text>\n",
       "  </g>\n",
       "  <g class=\"guide colorkey\" id=\"img-dfee4a08-4\">\n",
       "    <g fill=\"#000000\" font-size=\"2.82\" font-family=\"Helvetica\" id=\"img-dfee4a08-5\">\n",
       "      <text x=\"154.75\" y=\"50.59\" dy=\"0.35em\">y1</text>\n",
       "      <text x=\"154.75\" y=\"54.23\" dy=\"0.35em\">y2</text>\n",
       "    </g>\n",
       "    <g stroke=\"#000000\" stroke-opacity=\"0.000\" id=\"img-dfee4a08-6\">\n",
       "      <rect x=\"151.93\" y=\"49.69\" width=\"1.82\" height=\"1.82\" fill=\"#009AFA\"/>\n",
       "      <rect x=\"151.93\" y=\"53.32\" width=\"1.82\" height=\"1.82\" fill=\"#E36F47\"/>\n",
       "    </g>\n",
       "    <g fill=\"#000000\" font-size=\"3.88\" font-family=\"Helvetica\" stroke=\"#000000\" stroke-opacity=\"0.000\" id=\"img-dfee4a08-7\">\n",
       "      <text x=\"151.93\" y=\"46.77\"></text>\n",
       "    </g>\n",
       "  </g>\n",
       "<g clip-path=\"url(#img-dfee4a08-8)\">\n",
       "  <g id=\"img-dfee4a08-9\">\n",
       "    <g pointer-events=\"visible\" opacity=\"1\" fill=\"#000000\" fill-opacity=\"0.000\" stroke=\"#000000\" stroke-opacity=\"0.000\" class=\"guide background\" id=\"img-dfee4a08-10\">\n",
       "      <rect x=\"9.43\" y=\"1\" width=\"141.51\" height=\"99.19\"/>\n",
       "    </g>\n",
       "    <g class=\"guide ygridlines xfixed\" stroke-dasharray=\"0.5,0.5\" stroke-width=\"0.2\" stroke=\"#D0D0E0\" id=\"img-dfee4a08-11\">\n",
       "      <path fill=\"none\" d=\"M9.43,98.19 L 150.93 98.19\"/>\n",
       "      <path fill=\"none\" d=\"M9.43,82.32 L 150.93 82.32\"/>\n",
       "      <path fill=\"none\" d=\"M9.43,66.46 L 150.93 66.46\"/>\n",
       "      <path fill=\"none\" d=\"M9.43,50.59 L 150.93 50.59\"/>\n",
       "      <path fill=\"none\" d=\"M9.43,34.73 L 150.93 34.73\"/>\n",
       "      <path fill=\"none\" d=\"M9.43,18.86 L 150.93 18.86\"/>\n",
       "      <path fill=\"none\" d=\"M9.43,3 L 150.93 3\"/>\n",
       "    </g>\n",
       "    <g class=\"guide xgridlines yfixed\" stroke-dasharray=\"0.5,0.5\" stroke-width=\"0.2\" stroke=\"#D0D0E0\" id=\"img-dfee4a08-12\">\n",
       "      <path fill=\"none\" d=\"M11.43,1 L 11.43 100.19\"/>\n",
       "      <path fill=\"none\" d=\"M45.8,1 L 45.8 100.19\"/>\n",
       "      <path fill=\"none\" d=\"M80.18,1 L 80.18 100.19\"/>\n",
       "      <path fill=\"none\" d=\"M114.56,1 L 114.56 100.19\"/>\n",
       "      <path fill=\"none\" d=\"M148.93,1 L 148.93 100.19\"/>\n",
       "    </g>\n",
       "    <g class=\"plotpanel\" id=\"img-dfee4a08-13\">\n",
       "      <g stroke-width=\"0.26\" fill=\"#000000\" fill-opacity=\"0.000\" class=\"geometry\" stroke-dasharray=\"none\" stroke=\"#009AFA\" id=\"img-dfee4a08-14\">\n",
       "        <path fill=\"none\" d=\"M12.11,50.59 L 12.8 50.59 13.49 50.59 14.18 50.59 14.86 50.59 15.55 50.59 16.24 50.59 16.93 50.59 17.61 50.59 18.3 50.59 18.99 50.59 19.68 50.59 20.36 50.59 21.05 50.59 21.74 50.59 22.43 50.59 23.11 50.59 23.8 50.59 24.49 50.59 25.18 50.59 25.86 50.59 26.55 50.59 27.24 50.59 27.93 50.59 28.62 50.59 29.3 50.59 29.99 50.59 30.68 50.59 31.37 50.59 32.05 50.59 32.74 50.59 33.43 50.59 34.12 50.59 34.8 50.59 35.49 50.59 36.18 50.59 36.87 50.59 37.55 50.59 38.24 50.59 38.93 50.59 39.62 50.59 40.3 50.59 40.99 50.59 41.68 50.59 42.37 50.59 43.05 50.59 43.74 50.59 44.43 50.59 45.12 50.59 45.8 50.59 46.49 50.59 47.18 50.59 47.87 50.59 48.55 50.59 49.24 50.59 49.93 50.59 50.62 50.59 51.3 50.59 51.99 50.59 52.68 50.59 53.37 50.59 54.05 50.59 54.74 50.59 55.43 50.59 56.12 50.59 56.8 50.59 57.49 50.59 58.18 50.59 58.87 50.59 59.55 50.59 60.24 50.59 60.93 50.59 61.62 50.59 62.3 50.59 62.99 50.59 63.68 50.59 64.37 50.59 65.05 50.59 65.74 50.59 66.43 50.59 67.12 50.59 67.8 50.59 68.49 50.59 69.18 50.59 69.87 50.59 70.55 50.59 71.24 50.59 71.93 50.59 72.62 50.59 73.3 50.59 73.99 50.59 74.68 50.59 75.37 50.59 76.05 50.59 76.74 50.59 77.43 50.59 78.12 50.59 78.81 50.59 79.49 50.59 80.18 50.59 80.87 50.59 81.56 50.59 82.24 50.59 82.93 50.59 83.62 50.59 84.31 50.59 84.99 50.59 85.68 50.59 86.37 50.59 87.06 50.59 87.74 50.59 88.43 50.59 89.12 50.59 89.81 50.59 90.49 50.59 91.18 50.59 91.87 50.59 92.56 50.59 93.24 50.59 93.93 50.59 94.62 50.59 95.31 50.59 95.99 50.59 96.68 50.59 97.37 50.59 98.06 50.59 98.74 50.59 99.43 50.59 100.12 50.6 100.81 50.59 101.49 50.59 102.18 50.59 102.87 50.59 103.56 50.6 104.24 50.59 104.93 50.6 105.62 50.59 106.31 50.59 106.99 50.59 107.68 50.59 108.37 50.59 109.06 50.58 109.74 50.57 110.43 50.53 111.12 50.46 111.81 50.32 112.49 50.05 113.18 49.57 113.87 48.73 114.56 47.33 115.24 45.16 115.93 41.92 116.62 37.43 117.31 31.64 117.99 24.75 118.68 17.5 119.37 10.95 120.06 6.63 120.74 6.08 121.43 10.21 122.12 19 122.81 30.95 123.49 43.28 124.18 53.01 124.87 57.85 125.56 57.46 126.24 53.78 126.93 49.7 127.62 47.72 128.31 48.59 129 50.71 129.68 52.04 130.37 51.74 131.06 50.34 131.75 49.46 132.43 50.06 133.12 51.09 133.81 51.32 134.5 50.79 135.18 50.06 135.87 49.99 136.56 50.84 137.25 51.25 137.93 50.54 138.62 50.12 139.31 50.57 140 50.79 140.68 50.65 141.37 50.68 142.06 50.49 142.75 50.28 143.43 50.79 144.12 51.07 144.81 50.26 145.5 50.02 146.18 51.12 146.87 51.23 147.56 49.84 148.25 50.36 148.93 50.62\"/>\n",
       "      </g>\n",
       "      <g stroke-width=\"0.26\" fill=\"#000000\" fill-opacity=\"0.000\" class=\"geometry\" stroke-dasharray=\"none\" stroke=\"#E36F47\" id=\"img-dfee4a08-15\">\n",
       "        <path fill=\"none\" d=\"M80.18,95.11 L 80.18 6.08\"/>\n",
       "      </g>\n",
       "    </g>\n",
       "    <g class=\"geometry\" id=\"img-dfee4a08-16\">\n",
       "      <text x=\"124.87\" y=\"10.53\">5 Cell CMPL</text>\n",
       "    </g>\n",
       "    <g class=\"geometry\" id=\"img-dfee4a08-17\">\n",
       "      <text x=\"11.43\" y=\"10.53\">ABC</text>\n",
       "    </g>\n",
       "    <g class=\"geometry\" id=\"img-dfee4a08-18\">\n",
       "      <text x=\"80.18\" y=\"10.53\">Eps = 9</text>\n",
       "    </g>\n",
       "    <g class=\"geometry\" id=\"img-dfee4a08-19\">\n",
       "      <text x=\"66.43\" y=\"14.98\">Eps = 1</text>\n",
       "    </g>\n",
       "  </g>\n",
       "</g>\n",
       "  <g class=\"guide ylabels\" font-size=\"2.82\" font-family=\"Helvetica\" fill=\"#000000\" id=\"img-dfee4a08-20\">\n",
       "    <text x=\"8.43\" y=\"98.19\" text-anchor=\"end\" dy=\"0.35em\">-0.03</text>\n",
       "    <text x=\"8.43\" y=\"82.32\" text-anchor=\"end\" dy=\"0.35em\">-0.02</text>\n",
       "    <text x=\"8.43\" y=\"66.46\" text-anchor=\"end\" dy=\"0.35em\">-0.01</text>\n",
       "    <text x=\"8.43\" y=\"50.59\" text-anchor=\"end\" dy=\"0.35em\">0.00</text>\n",
       "    <text x=\"8.43\" y=\"34.73\" text-anchor=\"end\" dy=\"0.35em\">0.01</text>\n",
       "    <text x=\"8.43\" y=\"18.86\" text-anchor=\"end\" dy=\"0.35em\">0.02</text>\n",
       "    <text x=\"8.43\" y=\"3\" text-anchor=\"end\" dy=\"0.35em\">0.03</text>\n",
       "  </g>\n",
       "</g>\n",
       "<defs>\n",
       "  <clipPath id=\"img-dfee4a08-8\">\n",
       "  <path d=\"M9.43,1 L 150.93 1 150.93 100.19 9.43 100.19\" />\n",
       "</clipPath>\n",
       "</defs>\n",
       "</svg>\n"
      ],
      "text/plain": [
       "Compose.SVG(158.73015873015876mm,105.82010582010584mm,IOBuffer(data=UInt8[...], readable=true, writable=true, seekable=true, append=false, size=6980, maxsize=Inf, ptr=6981, mark=-1),nothing,\"img-dfee4a08\",0,Compose.SVGPropertyFrame[],Dict{Type{T},Union{Compose.Property{P<:Compose.PropertyPrimitive},Void}}(Compose.Property{Compose.FillPrimitive}=>nothing),Dict{Compose.ClipPrimitive{P<:NTuple{N,Measures.Measure}},ASCIIString}(Compose.ClipPrimitive{Tuple{Measures.Length{:mm,Float64},Measures.Length{:mm,Float64}}}([(9.426666666666677mm,1.0mm),(150.9334920634921mm,1.0mm),(150.9334920634921mm,100.18677248677251mm),(9.426666666666677mm,100.18677248677251mm)])=>\"img-dfee4a08-8\"),Tuple{Compose.FormPrimitive,ASCIIString}[],Set{AbstractString}(),true,false,nothing,true,\"img-dfee4a08-20\",false,20,AbstractString[\"/home/kryosugarra/.julia/v0.4/Gadfly/src/gadfly.js\"],Tuple{AbstractString,AbstractString}[(\"Snap.svg\",\"Snap\"),(\"Gadfly\",\"Gadfly\")],AbstractString[\"fig.select(\\\"#img-dfee4a08-4\\\")\\n   .drag(function() {}, function() {}, function() {});\",\"fig.select(\\\"#img-dfee4a08-9\\\")\\n   .init_gadfly();\"],false,:none)"
      ]
     },
     "metadata": {},
     "output_type": "display_data"
    },
    {
     "data": {
      "text/html": []
     },
     "execution_count": 22,
     "metadata": {},
     "output_type": "execute_result"
    }
   ],
   "source": [
    "plot(1:size, fieldsnap)\n",
    "plot!([100, 100], [-maximum(abs(fieldsnap)), maximum(abs(fieldsnap))])\n",
    "plot!(ann=[(80, 0.8*maximum(abs(fieldsnap)), \"Eps = 1\")])\n",
    "plot!(ann=[(100, 0.9*maximum(abs(fieldsnap)), \"Eps = 9\")])\n",
    "plot!(ann=[(0, 0.9*maximum(abs(fieldsnap)), \"ABC\")])\n",
    "plot!(ann=[(165, 0.9*maximum(abs(fieldsnap)), \"5 Cell CMPL\")])"
   ]
  },
  {
   "cell_type": "code",
   "execution_count": 23,
   "metadata": {
    "collapsed": false
   },
   "outputs": [
    {
     "name": "stdout",
     "output_type": "stream",
     "text": [
      "0.004413641949070344"
     ]
    }
   ],
   "source": [
    "print(fieldsum)"
   ]
  },
  {
   "cell_type": "markdown",
   "metadata": {},
   "source": [
    "# 4. Dielectric esp=9 with 20 Cell CPML\n",
    "### Setup Grid"
   ]
  },
  {
   "cell_type": "code",
   "execution_count": 24,
   "metadata": {
    "collapsed": true
   },
   "outputs": [],
   "source": [
    "#Global parameters\n",
    "size = 200;\n",
    "endTime = 800;\n",
    "num_snaps = 200;\n",
    "snap_step = div(endTime, num_snaps);\n",
    "\n",
    "eps1 = 9;\n",
    "eps0 = 1;\n",
    "\n",
    "#Grid\n",
    "\n",
    "# Magnetic\n",
    "hy = zeros(size);\n",
    "mu = ones(size);\n",
    "\n",
    "chyh = ones(size);\n",
    "chye = ones(size);\n",
    "\n",
    "# Electric\n",
    "ez = zeros(size);\n",
    "eps = ones(size);\n",
    "\n",
    "cezh = ones(size);\n",
    "ceze = ones(size);\n",
    "\n",
    "\n",
    "for i in 1:99\n",
    "    eps[i] = eps0;\n",
    "end\n",
    "for i in 100:size\n",
    "    eps[i] = eps1;\n",
    "end\n",
    "\n",
    "# output params\n",
    "ez_snapshot = Array{Any}(num_snaps);\n",
    "hy_snapshot = Array{Any}(num_snaps);\n",
    "\n",
    "# \n",
    "fieldsum = 1;\n",
    "sumtime = 500;\n",
    "fieldsnap = zeros(size);\n"
   ]
  },
  {
   "cell_type": "markdown",
   "metadata": {},
   "source": [
    "### Setup CPML"
   ]
  },
  {
   "cell_type": "code",
   "execution_count": 25,
   "metadata": {
    "collapsed": true
   },
   "outputs": [],
   "source": [
    "#\n",
    "# setup CPML\n",
    "#\n",
    "\n",
    "# constants\n",
    "dx = 1.0;\n",
    "R0 = 1e-5;\n",
    "#m = 2.85;\n",
    "m = 4;\n",
    "pml_width = 20.0;\n",
    "\n",
    "# coeffs\n",
    "sigma_max = -(m+1)*log(R0)/2/globals.imp0/(pml_width*dx)\n",
    "sigma_x = zeros(size);\n",
    "sigma_m_x = zeros(size);\n",
    "\n",
    "for i in 1:int(pml_width)\n",
    "    #sigma_x[i] = sigma_max * real(Complex(((pml_width-i-0.5)/pml_width))^m)\n",
    "    #sigma_m_x[i] = sigma_max * real(Complex(((pml_width-i)/pml_width))^m)\n",
    "    \n",
    "    sigma_x[size-(i-1)] = sigma_max * real(Complex(((pml_width-i-0.5)/pml_width))^m)  \n",
    "    sigma_m_x[size-(i-1)] = sigma_max * real(Complex(((pml_width-i)/pml_width))^m)\n",
    "end\n",
    "\n",
    "aex = exp(-sigma_x .* globals.imp0)-1\n",
    "bex = exp(-sigma_x .* globals.imp0)\n",
    "\n",
    "ahx = exp(-sigma_m_x .* globals.imp0)-1\n",
    "bhx = exp(-sigma_m_x .* globals.imp0)\n",
    "\n",
    "# arrays\n",
    "p_hy = zeros(size);\n",
    "p_ez = zeros(size);"
   ]
  },
  {
   "cell_type": "markdown",
   "metadata": {},
   "source": [
    "### Run Simulation"
   ]
  },
  {
   "cell_type": "code",
   "execution_count": 26,
   "metadata": {
    "collapsed": false
   },
   "outputs": [
    {
     "name": "stdout",
     "output_type": "stream",
     "text": [
      "0.00018723896731180149"
     ]
    }
   ],
   "source": [
    "# Time steps\n",
    "\n",
    "for time in 1:endTime\n",
    "    # Incident\n",
    "    # ez_inc, hy_inc = sources.gaussian_source(50, time);\n",
    "    delay = 30.\n",
    "    width = 100.\n",
    "    \n",
    "    ez_inc = exp(-(time + 0.5 - (-0.5) - delay) * (time + 0.5 - (-0.5) - delay) / width);\n",
    "    hy_inc = exp(-(time - delay) * (time - delay) / width);\n",
    "    \n",
    "    #\n",
    "    # CPML\n",
    "    #\n",
    "    for i in 1:size-1\n",
    "        p_hy[i] = bhx[i]*p_hy[i] + ahx[i]*(ez[i+1] - ez[i])\n",
    "    end\n",
    "    for i in 2:size\n",
    "        p_ez[i] = bex[i]*p_ez[i] + aex[i]*(hy[i] - hy[i-1])\n",
    "    end\n",
    "    \n",
    "    #\n",
    "    # Magnetic\n",
    "    #\n",
    "        \n",
    "    # Interior update\n",
    "    for i = 1:size-1\n",
    "        hy[i] = chyh[i] * hy[i] + chye[i] * (ez[i+1] - ez[i]) / globals.imp0 / mu[i]\n",
    "    end\n",
    "    \n",
    "    # TFSF\n",
    "    hy[49] -= hy_inc / globals.imp0 / mu[49]\n",
    "    \n",
    "    # CPML\n",
    "    for i in 1:size-1\n",
    "        hy[i] += p_hy[i]/globals.imp0/mu[i]\n",
    "    end\n",
    "\n",
    "    #\n",
    "    # Electric\n",
    "    #\n",
    "       \n",
    "    boundaries.trivial_abc!(ez, 1, false);    \n",
    "    # Interior update\n",
    "    for i = 2:size\n",
    "        ez[i] = ceze[i] * ez[i] + cezh[i] * (hy[i] - hy[i-1]) * globals.imp0 / eps[i]\n",
    "    end\n",
    "    \n",
    "    # TFSF\n",
    "    ez[50] += ez_inc / eps[50]\n",
    " \n",
    "    # CPML\n",
    "    for i in 2:size\n",
    "        ez[i] += p_ez[i]*globals.imp0/eps[i]\n",
    "    end    \n",
    "\n",
    "    #Catch minimum E-Field\n",
    "    if time == sumtime\n",
    "            fieldsum = sum(ez.^2)\n",
    "            fieldsnap = copy(ez)\n",
    "    end\n",
    "    \n",
    "    #Snapshots for animation\n",
    "    if mod(time, snap_step) == 0\n",
    "        ez_snapshot[div(time,snap_step)] = (time, copy(ez))\n",
    "        hy_snapshot[div(time,snap_step)] = (time, copy(hy).*globals.imp0)        \n",
    "    end\n",
    "    \n",
    "end\n",
    "print(fieldsum)"
   ]
  },
  {
   "cell_type": "markdown",
   "metadata": {},
   "source": [
    "### Plot animation"
   ]
  },
  {
   "cell_type": "code",
   "execution_count": 27,
   "metadata": {
    "collapsed": false
   },
   "outputs": [
    {
     "name": "stderr",
     "output_type": "stream",
     "text": [
      "INFO: Saved animation to /media/storage/Documents/Github/1d-fdtd/tasks/Task1/ABC-20-CPML.gif\n"
     ]
    },
    {
     "data": {
      "text/html": [
       "<img src=\"Task1/ABC-20-CPML.gif?0.934747524406039>\" />"
      ],
      "text/plain": [
       "Plots.AnimatedGif(\"/media/storage/Documents/Github/1d-fdtd/tasks/Task1/ABC-20-CPML.gif\")"
      ]
     },
     "execution_count": 27,
     "metadata": {},
     "output_type": "execute_result"
    }
   ],
   "source": [
    "anim = Animation()\n",
    "\n",
    "for i = 1:num_snaps\n",
    "    p = plot(1:size, ez_snapshot[i][2], lab=\"Ez\")\n",
    "    plot!(1:size, hy_snapshot[i][2], lab=\"Hy*imp0\")\n",
    "    \n",
    "    time = ez_snapshot[i][1]\n",
    "    plot!(ann=[(150, 1.5, \"time =$time\")])\n",
    "    plot!(ann=[(0, 1.1, \"ABC\")])\n",
    "    \n",
    "    plot!(ann=[(80, 1.2, \"Eps = 1\")])\n",
    "    plot!(ann=[(101, 1.1, \"Eps = 9\")])    \n",
    "    plot!([100, 100], [-2, 2])\n",
    "    \n",
    "    plot!(ann=[(180, 1.1, \"CPML\")])\n",
    "    \n",
    "    plot!(xlims=(1, 200), ylims=(-2, 2))\n",
    "    frame(anim, p)\n",
    "end\n",
    "gif(anim, \"./Task1/ABC-20-CPML.gif\", fps=15)"
   ]
  },
  {
   "cell_type": "markdown",
   "metadata": {},
   "source": [
    "### Field after reflection"
   ]
  },
  {
   "cell_type": "code",
   "execution_count": 28,
   "metadata": {
    "collapsed": false
   },
   "outputs": [
    {
     "data": {
      "image/svg+xml": [
       "<?xml version=\"1.0\" encoding=\"UTF-8\"?>\n",
       "<svg xmlns=\"http://www.w3.org/2000/svg\"\n",
       "     xmlns:xlink=\"http://www.w3.org/1999/xlink\"\n",
       "     xmlns:gadfly=\"http://www.gadflyjl.org/ns\"\n",
       "     version=\"1.2\"\n",
       "     width=\"158.73mm\" height=\"105.82mm\" viewBox=\"0 0 158.73 105.82\"\n",
       "     stroke=\"none\"\n",
       "     fill=\"#000000\"\n",
       "     stroke-width=\"0.3\"\n",
       "     font-size=\"3.88\"\n",
       ">\n",
       "<g stroke=\"#000000\" stroke-opacity=\"0.000\" fill=\"#FFFFFF\" id=\"img-8427a913-1\">\n",
       "  <rect x=\"0\" y=\"0\" width=\"158.73\" height=\"105.82\"/>\n",
       "</g>\n",
       "<g class=\"plotroot xscalable yscalable\" id=\"img-8427a913-2\">\n",
       "  <g class=\"guide xlabels\" font-size=\"2.82\" font-family=\"Helvetica\" fill=\"#000000\" id=\"img-8427a913-3\">\n",
       "    <text x=\"14.56\" y=\"101.19\" text-anchor=\"middle\" dy=\"0.6em\">0</text>\n",
       "    <text x=\"48.15\" y=\"101.19\" text-anchor=\"middle\" dy=\"0.6em\">50</text>\n",
       "    <text x=\"81.75\" y=\"101.19\" text-anchor=\"middle\" dy=\"0.6em\">100</text>\n",
       "    <text x=\"115.34\" y=\"101.19\" text-anchor=\"middle\" dy=\"0.6em\">150</text>\n",
       "    <text x=\"148.93\" y=\"101.19\" text-anchor=\"middle\" dy=\"0.6em\">200</text>\n",
       "  </g>\n",
       "  <g class=\"guide colorkey\" id=\"img-8427a913-4\">\n",
       "    <g fill=\"#000000\" font-size=\"2.82\" font-family=\"Helvetica\" id=\"img-8427a913-5\">\n",
       "      <text x=\"154.75\" y=\"50.59\" dy=\"0.35em\">y1</text>\n",
       "      <text x=\"154.75\" y=\"54.23\" dy=\"0.35em\">y2</text>\n",
       "    </g>\n",
       "    <g stroke=\"#000000\" stroke-opacity=\"0.000\" id=\"img-8427a913-6\">\n",
       "      <rect x=\"151.93\" y=\"49.69\" width=\"1.82\" height=\"1.82\" fill=\"#009AFA\"/>\n",
       "      <rect x=\"151.93\" y=\"53.32\" width=\"1.82\" height=\"1.82\" fill=\"#E36F47\"/>\n",
       "    </g>\n",
       "    <g fill=\"#000000\" font-size=\"3.88\" font-family=\"Helvetica\" stroke=\"#000000\" stroke-opacity=\"0.000\" id=\"img-8427a913-7\">\n",
       "      <text x=\"151.93\" y=\"46.77\"></text>\n",
       "    </g>\n",
       "  </g>\n",
       "<g clip-path=\"url(#img-8427a913-8)\">\n",
       "  <g id=\"img-8427a913-9\">\n",
       "    <g pointer-events=\"visible\" opacity=\"1\" fill=\"#000000\" fill-opacity=\"0.000\" stroke=\"#000000\" stroke-opacity=\"0.000\" class=\"guide background\" id=\"img-8427a913-10\">\n",
       "      <rect x=\"12.56\" y=\"1\" width=\"138.37\" height=\"99.19\"/>\n",
       "    </g>\n",
       "    <g class=\"guide ygridlines xfixed\" stroke-dasharray=\"0.5,0.5\" stroke-width=\"0.2\" stroke=\"#D0D0E0\" id=\"img-8427a913-11\">\n",
       "      <path fill=\"none\" d=\"M12.56,98.19 L 150.93 98.19\"/>\n",
       "      <path fill=\"none\" d=\"M12.56,74.39 L 150.93 74.39\"/>\n",
       "      <path fill=\"none\" d=\"M12.56,50.59 L 150.93 50.59\"/>\n",
       "      <path fill=\"none\" d=\"M12.56,26.8 L 150.93 26.8\"/>\n",
       "      <path fill=\"none\" d=\"M12.56,3 L 150.93 3\"/>\n",
       "    </g>\n",
       "    <g class=\"guide xgridlines yfixed\" stroke-dasharray=\"0.5,0.5\" stroke-width=\"0.2\" stroke=\"#D0D0E0\" id=\"img-8427a913-12\">\n",
       "      <path fill=\"none\" d=\"M14.56,1 L 14.56 100.19\"/>\n",
       "      <path fill=\"none\" d=\"M48.15,1 L 48.15 100.19\"/>\n",
       "      <path fill=\"none\" d=\"M81.75,1 L 81.75 100.19\"/>\n",
       "      <path fill=\"none\" d=\"M115.34,1 L 115.34 100.19\"/>\n",
       "      <path fill=\"none\" d=\"M148.93,1 L 148.93 100.19\"/>\n",
       "    </g>\n",
       "    <g class=\"plotpanel\" id=\"img-8427a913-13\">\n",
       "      <g stroke-width=\"0.26\" fill=\"#000000\" fill-opacity=\"0.000\" class=\"geometry\" stroke-dasharray=\"none\" stroke=\"#009AFA\" id=\"img-8427a913-14\">\n",
       "        <path fill=\"none\" d=\"M15.23,50.59 L 15.9 50.59 16.58 50.59 17.25 50.59 17.92 50.59 18.59 50.59 19.26 50.59 19.93 50.59 20.61 50.59 21.28 50.59 21.95 50.59 22.62 50.59 23.29 50.59 23.97 50.59 24.64 50.59 25.31 50.59 25.98 50.59 26.65 50.59 27.33 50.59 28 50.59 28.67 50.59 29.34 50.59 30.01 50.59 30.68 50.59 31.36 50.59 32.03 50.59 32.7 50.59 33.37 50.59 34.04 50.59 34.72 50.59 35.39 50.59 36.06 50.59 36.73 50.59 37.4 50.59 38.08 50.59 38.75 50.59 39.42 50.59 40.09 50.59 40.76 50.59 41.43 50.59 42.11 50.59 42.78 50.59 43.45 50.59 44.12 50.59 44.79 50.59 45.47 50.59 46.14 50.59 46.81 50.59 47.48 50.59 48.15 50.59 48.83 50.59 49.5 50.59 50.17 50.59 50.84 50.59 51.51 50.59 52.18 50.59 52.86 50.59 53.53 50.59 54.2 50.59 54.87 50.59 55.54 50.59 56.22 50.59 56.89 50.59 57.56 50.59 58.23 50.59 58.9 50.59 59.58 50.59 60.25 50.59 60.92 50.59 61.59 50.59 62.26 50.59 62.93 50.59 63.61 50.59 64.28 50.59 64.95 50.59 65.62 50.59 66.29 50.59 66.97 50.59 67.64 50.59 68.31 50.59 68.98 50.59 69.65 50.59 70.32 50.59 71 50.59 71.67 50.59 72.34 50.59 73.01 50.59 73.68 50.59 74.36 50.59 75.03 50.59 75.7 50.59 76.37 50.59 77.04 50.59 77.72 50.59 78.39 50.59 79.06 50.59 79.73 50.59 80.4 50.59 81.07 50.59 81.75 50.59 82.42 50.59 83.09 50.59 83.76 50.59 84.43 50.59 85.11 50.6 85.78 50.59 86.45 50.6 87.12 50.59 87.79 50.6 88.47 50.59 89.14 50.59 89.81 50.59 90.48 50.59 91.15 50.59 91.82 50.59 92.5 50.59 93.17 50.58 93.84 50.58 94.51 50.55 95.18 50.54 95.86 50.46 96.53 50.38 97.2 50.21 97.87 49.96 98.54 49.57 99.22 48.98 99.89 48.16 100.56 46.97 101.23 45.43 101.9 43.39 102.57 40.89 103.25 37.84 103.92 34.32 104.59 30.4 105.26 26.15 105.93 21.85 106.61 17.62 107.28 13.85 107.95 10.78 108.62 8.73 109.29 8.02 109.97 8.71 110.64 11 111.31 14.68 111.98 19.52 112.65 25.18 113.32 31.01 114 36.68 114.67 41.6 115.34 45.49 116.01 48.33 116.68 49.95 117.36 50.8 118.03 51.05 118.7 50.88 119.37 50.79 120.04 50.61 120.72 50.5 121.39 50.62 122.06 50.53 122.73 50.57 123.4 50.69 124.07 50.51 124.75 50.61 125.42 50.68 126.09 50.45 126.76 50.67 127.43 50.67 128.11 50.4 128.78 50.74 129.45 50.66 130.12 50.33 130.79 50.81 131.46 50.68 132.14 50.23 132.81 50.87 133.48 50.76 134.15 50.08 134.82 50.88 135.5 50.97 136.17 49.9 136.84 50.72 137.51 51.37 138.18 49.82 138.86 50.21 139.53 51.84 140.2 50.22 140.87 49.37 141.54 51.72 142.21 51.2 142.89 49.39 143.56 50.64 144.23 51.15 144.9 50.5 145.57 50.48 146.25 50.6 146.92 50.6 147.59 50.59 148.26 50.59 148.93 50.59\"/>\n",
       "      </g>\n",
       "      <g stroke-width=\"0.26\" fill=\"#000000\" fill-opacity=\"0.000\" class=\"geometry\" stroke-dasharray=\"none\" stroke=\"#E36F47\" id=\"img-8427a913-15\">\n",
       "        <path fill=\"none\" d=\"M81.75,93.17 L 81.75 8.02\"/>\n",
       "      </g>\n",
       "    </g>\n",
       "    <g class=\"geometry\" id=\"img-8427a913-16\">\n",
       "      <text x=\"125.42\" y=\"12.28\">20 Cell CMPL</text>\n",
       "    </g>\n",
       "    <g class=\"geometry\" id=\"img-8427a913-17\">\n",
       "      <text x=\"14.56\" y=\"12.28\">ABC</text>\n",
       "    </g>\n",
       "    <g class=\"geometry\" id=\"img-8427a913-18\">\n",
       "      <text x=\"81.75\" y=\"12.28\">Eps = 9</text>\n",
       "    </g>\n",
       "    <g class=\"geometry\" id=\"img-8427a913-19\">\n",
       "      <text x=\"68.31\" y=\"16.53\">Eps = 1</text>\n",
       "    </g>\n",
       "  </g>\n",
       "</g>\n",
       "  <g class=\"guide ylabels\" font-size=\"2.82\" font-family=\"Helvetica\" fill=\"#000000\" id=\"img-8427a913-20\">\n",
       "    <text x=\"11.56\" y=\"98.19\" text-anchor=\"end\" dy=\"0.35em\">-0.0050</text>\n",
       "    <text x=\"11.56\" y=\"74.39\" text-anchor=\"end\" dy=\"0.35em\">-0.0025</text>\n",
       "    <text x=\"11.56\" y=\"50.59\" text-anchor=\"end\" dy=\"0.35em\">0.0000</text>\n",
       "    <text x=\"11.56\" y=\"26.8\" text-anchor=\"end\" dy=\"0.35em\">0.0025</text>\n",
       "    <text x=\"11.56\" y=\"3\" text-anchor=\"end\" dy=\"0.35em\">0.0050</text>\n",
       "  </g>\n",
       "</g>\n",
       "<defs>\n",
       "  <clipPath id=\"img-8427a913-8\">\n",
       "  <path d=\"M12.56,1 L 150.93 1 150.93 100.19 12.56 100.19\" />\n",
       "</clipPath>\n",
       "</defs>\n",
       "</svg>\n"
      ],
      "text/html": [
       "<?xml version=\"1.0\" encoding=\"UTF-8\"?>\n",
       "<svg xmlns=\"http://www.w3.org/2000/svg\"\n",
       "     xmlns:xlink=\"http://www.w3.org/1999/xlink\"\n",
       "     xmlns:gadfly=\"http://www.gadflyjl.org/ns\"\n",
       "     version=\"1.2\"\n",
       "     width=\"158.73mm\" height=\"105.82mm\" viewBox=\"0 0 158.73 105.82\"\n",
       "     stroke=\"none\"\n",
       "     fill=\"#000000\"\n",
       "     stroke-width=\"0.3\"\n",
       "     font-size=\"3.88\"\n",
       ">\n",
       "<g stroke=\"#000000\" stroke-opacity=\"0.000\" fill=\"#FFFFFF\" id=\"img-8427a913-1\">\n",
       "  <rect x=\"0\" y=\"0\" width=\"158.73\" height=\"105.82\"/>\n",
       "</g>\n",
       "<g class=\"plotroot xscalable yscalable\" id=\"img-8427a913-2\">\n",
       "  <g class=\"guide xlabels\" font-size=\"2.82\" font-family=\"Helvetica\" fill=\"#000000\" id=\"img-8427a913-3\">\n",
       "    <text x=\"14.56\" y=\"101.19\" text-anchor=\"middle\" dy=\"0.6em\">0</text>\n",
       "    <text x=\"48.15\" y=\"101.19\" text-anchor=\"middle\" dy=\"0.6em\">50</text>\n",
       "    <text x=\"81.75\" y=\"101.19\" text-anchor=\"middle\" dy=\"0.6em\">100</text>\n",
       "    <text x=\"115.34\" y=\"101.19\" text-anchor=\"middle\" dy=\"0.6em\">150</text>\n",
       "    <text x=\"148.93\" y=\"101.19\" text-anchor=\"middle\" dy=\"0.6em\">200</text>\n",
       "  </g>\n",
       "  <g class=\"guide colorkey\" id=\"img-8427a913-4\">\n",
       "    <g fill=\"#000000\" font-size=\"2.82\" font-family=\"Helvetica\" id=\"img-8427a913-5\">\n",
       "      <text x=\"154.75\" y=\"50.59\" dy=\"0.35em\">y1</text>\n",
       "      <text x=\"154.75\" y=\"54.23\" dy=\"0.35em\">y2</text>\n",
       "    </g>\n",
       "    <g stroke=\"#000000\" stroke-opacity=\"0.000\" id=\"img-8427a913-6\">\n",
       "      <rect x=\"151.93\" y=\"49.69\" width=\"1.82\" height=\"1.82\" fill=\"#009AFA\"/>\n",
       "      <rect x=\"151.93\" y=\"53.32\" width=\"1.82\" height=\"1.82\" fill=\"#E36F47\"/>\n",
       "    </g>\n",
       "    <g fill=\"#000000\" font-size=\"3.88\" font-family=\"Helvetica\" stroke=\"#000000\" stroke-opacity=\"0.000\" id=\"img-8427a913-7\">\n",
       "      <text x=\"151.93\" y=\"46.77\"></text>\n",
       "    </g>\n",
       "  </g>\n",
       "<g clip-path=\"url(#img-8427a913-8)\">\n",
       "  <g id=\"img-8427a913-9\">\n",
       "    <g pointer-events=\"visible\" opacity=\"1\" fill=\"#000000\" fill-opacity=\"0.000\" stroke=\"#000000\" stroke-opacity=\"0.000\" class=\"guide background\" id=\"img-8427a913-10\">\n",
       "      <rect x=\"12.56\" y=\"1\" width=\"138.37\" height=\"99.19\"/>\n",
       "    </g>\n",
       "    <g class=\"guide ygridlines xfixed\" stroke-dasharray=\"0.5,0.5\" stroke-width=\"0.2\" stroke=\"#D0D0E0\" id=\"img-8427a913-11\">\n",
       "      <path fill=\"none\" d=\"M12.56,98.19 L 150.93 98.19\"/>\n",
       "      <path fill=\"none\" d=\"M12.56,74.39 L 150.93 74.39\"/>\n",
       "      <path fill=\"none\" d=\"M12.56,50.59 L 150.93 50.59\"/>\n",
       "      <path fill=\"none\" d=\"M12.56,26.8 L 150.93 26.8\"/>\n",
       "      <path fill=\"none\" d=\"M12.56,3 L 150.93 3\"/>\n",
       "    </g>\n",
       "    <g class=\"guide xgridlines yfixed\" stroke-dasharray=\"0.5,0.5\" stroke-width=\"0.2\" stroke=\"#D0D0E0\" id=\"img-8427a913-12\">\n",
       "      <path fill=\"none\" d=\"M14.56,1 L 14.56 100.19\"/>\n",
       "      <path fill=\"none\" d=\"M48.15,1 L 48.15 100.19\"/>\n",
       "      <path fill=\"none\" d=\"M81.75,1 L 81.75 100.19\"/>\n",
       "      <path fill=\"none\" d=\"M115.34,1 L 115.34 100.19\"/>\n",
       "      <path fill=\"none\" d=\"M148.93,1 L 148.93 100.19\"/>\n",
       "    </g>\n",
       "    <g class=\"plotpanel\" id=\"img-8427a913-13\">\n",
       "      <g stroke-width=\"0.26\" fill=\"#000000\" fill-opacity=\"0.000\" class=\"geometry\" stroke-dasharray=\"none\" stroke=\"#009AFA\" id=\"img-8427a913-14\">\n",
       "        <path fill=\"none\" d=\"M15.23,50.59 L 15.9 50.59 16.58 50.59 17.25 50.59 17.92 50.59 18.59 50.59 19.26 50.59 19.93 50.59 20.61 50.59 21.28 50.59 21.95 50.59 22.62 50.59 23.29 50.59 23.97 50.59 24.64 50.59 25.31 50.59 25.98 50.59 26.65 50.59 27.33 50.59 28 50.59 28.67 50.59 29.34 50.59 30.01 50.59 30.68 50.59 31.36 50.59 32.03 50.59 32.7 50.59 33.37 50.59 34.04 50.59 34.72 50.59 35.39 50.59 36.06 50.59 36.73 50.59 37.4 50.59 38.08 50.59 38.75 50.59 39.42 50.59 40.09 50.59 40.76 50.59 41.43 50.59 42.11 50.59 42.78 50.59 43.45 50.59 44.12 50.59 44.79 50.59 45.47 50.59 46.14 50.59 46.81 50.59 47.48 50.59 48.15 50.59 48.83 50.59 49.5 50.59 50.17 50.59 50.84 50.59 51.51 50.59 52.18 50.59 52.86 50.59 53.53 50.59 54.2 50.59 54.87 50.59 55.54 50.59 56.22 50.59 56.89 50.59 57.56 50.59 58.23 50.59 58.9 50.59 59.58 50.59 60.25 50.59 60.92 50.59 61.59 50.59 62.26 50.59 62.93 50.59 63.61 50.59 64.28 50.59 64.95 50.59 65.62 50.59 66.29 50.59 66.97 50.59 67.64 50.59 68.31 50.59 68.98 50.59 69.65 50.59 70.32 50.59 71 50.59 71.67 50.59 72.34 50.59 73.01 50.59 73.68 50.59 74.36 50.59 75.03 50.59 75.7 50.59 76.37 50.59 77.04 50.59 77.72 50.59 78.39 50.59 79.06 50.59 79.73 50.59 80.4 50.59 81.07 50.59 81.75 50.59 82.42 50.59 83.09 50.59 83.76 50.59 84.43 50.59 85.11 50.6 85.78 50.59 86.45 50.6 87.12 50.59 87.79 50.6 88.47 50.59 89.14 50.59 89.81 50.59 90.48 50.59 91.15 50.59 91.82 50.59 92.5 50.59 93.17 50.58 93.84 50.58 94.51 50.55 95.18 50.54 95.86 50.46 96.53 50.38 97.2 50.21 97.87 49.96 98.54 49.57 99.22 48.98 99.89 48.16 100.56 46.97 101.23 45.43 101.9 43.39 102.57 40.89 103.25 37.84 103.92 34.32 104.59 30.4 105.26 26.15 105.93 21.85 106.61 17.62 107.28 13.85 107.95 10.78 108.62 8.73 109.29 8.02 109.97 8.71 110.64 11 111.31 14.68 111.98 19.52 112.65 25.18 113.32 31.01 114 36.68 114.67 41.6 115.34 45.49 116.01 48.33 116.68 49.95 117.36 50.8 118.03 51.05 118.7 50.88 119.37 50.79 120.04 50.61 120.72 50.5 121.39 50.62 122.06 50.53 122.73 50.57 123.4 50.69 124.07 50.51 124.75 50.61 125.42 50.68 126.09 50.45 126.76 50.67 127.43 50.67 128.11 50.4 128.78 50.74 129.45 50.66 130.12 50.33 130.79 50.81 131.46 50.68 132.14 50.23 132.81 50.87 133.48 50.76 134.15 50.08 134.82 50.88 135.5 50.97 136.17 49.9 136.84 50.72 137.51 51.37 138.18 49.82 138.86 50.21 139.53 51.84 140.2 50.22 140.87 49.37 141.54 51.72 142.21 51.2 142.89 49.39 143.56 50.64 144.23 51.15 144.9 50.5 145.57 50.48 146.25 50.6 146.92 50.6 147.59 50.59 148.26 50.59 148.93 50.59\"/>\n",
       "      </g>\n",
       "      <g stroke-width=\"0.26\" fill=\"#000000\" fill-opacity=\"0.000\" class=\"geometry\" stroke-dasharray=\"none\" stroke=\"#E36F47\" id=\"img-8427a913-15\">\n",
       "        <path fill=\"none\" d=\"M81.75,93.17 L 81.75 8.02\"/>\n",
       "      </g>\n",
       "    </g>\n",
       "    <g class=\"geometry\" id=\"img-8427a913-16\">\n",
       "      <text x=\"125.42\" y=\"12.28\">20 Cell CMPL</text>\n",
       "    </g>\n",
       "    <g class=\"geometry\" id=\"img-8427a913-17\">\n",
       "      <text x=\"14.56\" y=\"12.28\">ABC</text>\n",
       "    </g>\n",
       "    <g class=\"geometry\" id=\"img-8427a913-18\">\n",
       "      <text x=\"81.75\" y=\"12.28\">Eps = 9</text>\n",
       "    </g>\n",
       "    <g class=\"geometry\" id=\"img-8427a913-19\">\n",
       "      <text x=\"68.31\" y=\"16.53\">Eps = 1</text>\n",
       "    </g>\n",
       "  </g>\n",
       "</g>\n",
       "  <g class=\"guide ylabels\" font-size=\"2.82\" font-family=\"Helvetica\" fill=\"#000000\" id=\"img-8427a913-20\">\n",
       "    <text x=\"11.56\" y=\"98.19\" text-anchor=\"end\" dy=\"0.35em\">-0.0050</text>\n",
       "    <text x=\"11.56\" y=\"74.39\" text-anchor=\"end\" dy=\"0.35em\">-0.0025</text>\n",
       "    <text x=\"11.56\" y=\"50.59\" text-anchor=\"end\" dy=\"0.35em\">0.0000</text>\n",
       "    <text x=\"11.56\" y=\"26.8\" text-anchor=\"end\" dy=\"0.35em\">0.0025</text>\n",
       "    <text x=\"11.56\" y=\"3\" text-anchor=\"end\" dy=\"0.35em\">0.0050</text>\n",
       "  </g>\n",
       "</g>\n",
       "<defs>\n",
       "  <clipPath id=\"img-8427a913-8\">\n",
       "  <path d=\"M12.56,1 L 150.93 1 150.93 100.19 12.56 100.19\" />\n",
       "</clipPath>\n",
       "</defs>\n",
       "</svg>\n"
      ],
      "text/plain": [
       "Compose.SVG(158.73015873015876mm,105.82010582010584mm,IOBuffer(data=UInt8[...], readable=true, writable=true, seekable=true, append=false, size=6734, maxsize=Inf, ptr=6735, mark=-1),nothing,\"img-8427a913\",0,Compose.SVGPropertyFrame[],Dict{Type{T},Union{Compose.Property{P<:Compose.PropertyPrimitive},Void}}(Compose.Property{Compose.FillPrimitive}=>nothing),Dict{Compose.ClipPrimitive{P<:NTuple{N,Measures.Measure}},ASCIIString}(Compose.ClipPrimitive{Tuple{Measures.Length{:mm,Float64},Measures.Length{:mm,Float64}}}([(12.560000000000002mm,1.0mm),(150.9334920634921mm,1.0mm),(150.9334920634921mm,100.18677248677251mm),(12.560000000000002mm,100.18677248677251mm)])=>\"img-8427a913-8\"),Tuple{Compose.FormPrimitive,ASCIIString}[],Set{AbstractString}(),true,false,nothing,true,\"img-8427a913-20\",false,20,AbstractString[\"/home/kryosugarra/.julia/v0.4/Gadfly/src/gadfly.js\"],Tuple{AbstractString,AbstractString}[(\"Snap.svg\",\"Snap\"),(\"Gadfly\",\"Gadfly\")],AbstractString[\"fig.select(\\\"#img-8427a913-4\\\")\\n   .drag(function() {}, function() {}, function() {});\",\"fig.select(\\\"#img-8427a913-9\\\")\\n   .init_gadfly();\"],false,:none)"
      ]
     },
     "metadata": {},
     "output_type": "display_data"
    },
    {
     "data": {
      "text/html": []
     },
     "execution_count": 28,
     "metadata": {},
     "output_type": "execute_result"
    }
   ],
   "source": [
    "plot(1:size, fieldsnap)\n",
    "plot!([100, 100], [-maximum(abs(fieldsnap)), maximum(abs(fieldsnap))])\n",
    "plot!(ann=[(80, 0.8*maximum(abs(fieldsnap)), \"Eps = 1\")])\n",
    "plot!(ann=[(100, 0.9*maximum(abs(fieldsnap)), \"Eps = 9\")])\n",
    "plot!(ann=[(0, 0.9*maximum(abs(fieldsnap)), \"ABC\")])\n",
    "plot!(ann=[(165, 0.9*maximum(abs(fieldsnap)), \"20 Cell CMPL\")])"
   ]
  },
  {
   "cell_type": "code",
   "execution_count": 29,
   "metadata": {
    "collapsed": false
   },
   "outputs": [
    {
     "name": "stdout",
     "output_type": "stream",
     "text": [
      "0.00018723896731180149"
     ]
    }
   ],
   "source": [
    "print(fieldsum)"
   ]
  },
  {
   "cell_type": "code",
   "execution_count": null,
   "metadata": {
    "collapsed": true
   },
   "outputs": [],
   "source": []
  }
 ],
 "metadata": {
  "kernelspec": {
   "display_name": "Julia 0.4.5",
   "language": "julia",
   "name": "julia-0.4"
  },
  "language_info": {
   "file_extension": ".jl",
   "mimetype": "application/julia",
   "name": "julia",
   "version": "0.4.5"
  }
 },
 "nbformat": 4,
 "nbformat_minor": 0
}
