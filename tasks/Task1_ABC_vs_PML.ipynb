{
 "cells": [
  {
   "cell_type": "code",
   "execution_count": 30,
   "metadata": {
    "collapsed": true
   },
   "outputs": [],
   "source": [
    "using Plots;\n",
    "gadfly();"
   ]
  },
  {
   "cell_type": "markdown",
   "metadata": {},
   "source": [
    "### Load FDTD Libraries"
   ]
  },
  {
   "cell_type": "code",
   "execution_count": 31,
   "metadata": {
    "collapsed": false
   },
   "outputs": [
    {
     "name": "stderr",
     "output_type": "stream",
     "text": [
      "WARNING: replacing module globals\n",
      "WARNING: replacing module update\n",
      "WARNING: replacing module globals\n",
      "WARNING: replacing module sources\n",
      "WARNING: replacing module boundaries\n"
     ]
    }
   ],
   "source": [
    "include(\"../fdtd/update.jl\");\n",
    "include(\"../fdtd/sources.jl\");\n",
    "include(\"../fdtd/boundaries.jl\");\n",
    "using update;\n",
    "using sources;"
   ]
  },
  {
   "cell_type": "markdown",
   "metadata": {},
   "source": [
    "# 0. Vacuum with trivial ABC ez[-1] = ez[-2]\n",
    "### Setup Grid"
   ]
  },
  {
   "cell_type": "code",
   "execution_count": 66,
   "metadata": {
    "collapsed": true
   },
   "outputs": [],
   "source": [
    "#Global parameters\n",
    "size = 200\n",
    "endTime = 400\n",
    "num_snaps = 200\n",
    "snap_step = div(endTime, num_snaps)\n",
    "#Grid\n",
    "hy = zeros(size);\n",
    "ez = zeros(size);\n",
    "# output params\n",
    "ez_snapshot = Array{Any}(num_snaps);\n",
    "hy_snapshot = Array{Any}(num_snaps);\n",
    "\n",
    "fieldsum = 1;\n",
    "sumtime = 250;\n",
    "fieldsnap = zeros(size);"
   ]
  },
  {
   "cell_type": "markdown",
   "metadata": {},
   "source": [
    "### Run simulation"
   ]
  },
  {
   "cell_type": "code",
   "execution_count": 67,
   "metadata": {
    "collapsed": false
   },
   "outputs": [
    {
     "name": "stdout",
     "output_type": "stream",
     "text": [
      "1.9542144317996692e-31"
     ]
    }
   ],
   "source": [
    "#Time steps\n",
    "\n",
    "for time in 1:endTime\n",
    "    # TFSF Boundary at center\n",
    "    ez_inc, hy_inc = sources.gaussian_source(200, time, 70)  \n",
    "    \n",
    "    #\n",
    "    # Magnetic\n",
    "    #\n",
    "    \n",
    "    # Boundary, Trivial ABC\n",
    "    boundaries.trivial_abc!(hy, 200)\n",
    "\n",
    "    # Update\n",
    "    update.update_magnetic_field!(ez, hy)\n",
    "    \n",
    "    # TFSF\n",
    "    hy[div(length(ez),2)-1] -= hy_inc\n",
    "    \n",
    "    #\n",
    "    # Electric\n",
    "    #\n",
    "    \n",
    "    # Update\n",
    "    update.update_electric_field!(ez, hy)\n",
    "    \n",
    "    # TFSF\n",
    "    ez[div(length(ez),2)] += ez_inc\n",
    "    \n",
    "    # Boundary, PEC\n",
    "    boundaries.perfect_conductor!(ez, 1)\n",
    "    \n",
    "    \n",
    "    #Catch minimum E-Field\n",
    "    if time == sumtime\n",
    "            fieldsum = sum(ez.^2)\n",
    "            fieldsnap = copy(ez)\n",
    "    end\n",
    "    \n",
    "    #Snapshots for animation\n",
    "    if mod(time, snap_step) == 0\n",
    "        ez_snapshot[div(time,snap_step)] = (time, copy(ez))\n",
    "        hy_snapshot[div(time,snap_step)] = (time, copy(hy).*globals.imp0)        \n",
    "    end\n",
    "    \n",
    "end\n",
    "print(fieldsum)"
   ]
  },
  {
   "cell_type": "markdown",
   "metadata": {},
   "source": [
    "### Plot"
   ]
  },
  {
   "cell_type": "code",
   "execution_count": 68,
   "metadata": {
    "collapsed": false
   },
   "outputs": [
    {
     "name": "stderr",
     "output_type": "stream",
     "text": [
      "INFO: Saved animation to /media/storage/Documents/Github/1d-fdtd/tasks/Task1/PEC-ABC.gif\n"
     ]
    },
    {
     "data": {
      "text/html": [
       "<img src=\"Task1/PEC-ABC.gif?0.28414398174915045>\" />"
      ],
      "text/plain": [
       "Plots.AnimatedGif(\"/media/storage/Documents/Github/1d-fdtd/tasks/Task1/PEC-ABC.gif\")"
      ]
     },
     "execution_count": 68,
     "metadata": {},
     "output_type": "execute_result"
    }
   ],
   "source": [
    "anim = Animation()\n",
    "\n",
    "for i = 1:num_snaps\n",
    "    p = plot(1:size, ez_snapshot[i][2], lab=\"Ez\")\n",
    "    plot!(1:size, hy_snapshot[i][2], lab=\"Hy*imp0\")\n",
    "    \n",
    "    time = ez_snapshot[i][1]\n",
    "    plot!(ann=[(150, 1.5, \"time =$time\")])\n",
    "    plot!(ann=[(0, 1.1, \"PEC\")])\n",
    "    plot!(ann=[(180, 1.1, \"ABC\")])    \n",
    "    plot!(xlims=(1, 200), ylims=(-2, 2))\n",
    "    frame(anim, p)\n",
    "end\n",
    "gif(anim, \"./Task1/PEC-ABC.gif\", fps=15)"
   ]
  },
  {
   "cell_type": "markdown",
   "metadata": {
    "collapsed": true
   },
   "source": [
    "### Plot field after reflection"
   ]
  },
  {
   "cell_type": "code",
   "execution_count": 35,
   "metadata": {
    "collapsed": false
   },
   "outputs": [
    {
     "data": {
      "image/svg+xml": [
       "<?xml version=\"1.0\" encoding=\"UTF-8\"?>\n",
       "<svg xmlns=\"http://www.w3.org/2000/svg\"\n",
       "     xmlns:xlink=\"http://www.w3.org/1999/xlink\"\n",
       "     xmlns:gadfly=\"http://www.gadflyjl.org/ns\"\n",
       "     version=\"1.2\"\n",
       "     width=\"158.73mm\" height=\"105.82mm\" viewBox=\"0 0 158.73 105.82\"\n",
       "     stroke=\"none\"\n",
       "     fill=\"#000000\"\n",
       "     stroke-width=\"0.3\"\n",
       "     font-size=\"3.88\"\n",
       ">\n",
       "<g stroke=\"#000000\" stroke-opacity=\"0.000\" fill=\"#FFFFFF\" id=\"img-2829b704-1\">\n",
       "  <rect x=\"0\" y=\"0\" width=\"158.73\" height=\"105.82\"/>\n",
       "</g>\n",
       "<g class=\"plotroot xscalable yscalable\" id=\"img-2829b704-2\">\n",
       "  <g class=\"guide xlabels\" font-size=\"2.82\" font-family=\"Helvetica\" fill=\"#000000\" id=\"img-2829b704-3\">\n",
       "    <text x=\"47.79\" y=\"101.19\" text-anchor=\"middle\" dy=\"0.6em\">0</text>\n",
       "    <text x=\"73.07\" y=\"101.19\" text-anchor=\"middle\" dy=\"0.6em\">50</text>\n",
       "    <text x=\"98.36\" y=\"101.19\" text-anchor=\"middle\" dy=\"0.6em\">100</text>\n",
       "    <text x=\"123.65\" y=\"101.19\" text-anchor=\"middle\" dy=\"0.6em\">150</text>\n",
       "    <text x=\"148.93\" y=\"101.19\" text-anchor=\"middle\" dy=\"0.6em\">200</text>\n",
       "  </g>\n",
       "  <g class=\"guide colorkey\" id=\"img-2829b704-4\">\n",
       "    <g fill=\"#000000\" font-size=\"2.82\" font-family=\"Helvetica\" id=\"img-2829b704-5\">\n",
       "      <text x=\"154.75\" y=\"52.41\" dy=\"0.35em\">y1</text>\n",
       "    </g>\n",
       "    <g fill=\"#009AFA\" stroke=\"#000000\" stroke-opacity=\"0.000\" id=\"img-2829b704-6\">\n",
       "      <rect x=\"151.93\" y=\"51.5\" width=\"1.82\" height=\"1.82\"/>\n",
       "    </g>\n",
       "    <g fill=\"#000000\" font-size=\"3.88\" font-family=\"Helvetica\" stroke=\"#000000\" stroke-opacity=\"0.000\" id=\"img-2829b704-7\">\n",
       "      <text x=\"151.93\" y=\"48.59\"></text>\n",
       "    </g>\n",
       "  </g>\n",
       "<g clip-path=\"url(#img-2829b704-8)\">\n",
       "  <g id=\"img-2829b704-9\">\n",
       "    <g pointer-events=\"visible\" opacity=\"1\" fill=\"#000000\" fill-opacity=\"0.000\" stroke=\"#000000\" stroke-opacity=\"0.000\" class=\"guide background\" id=\"img-2829b704-10\">\n",
       "      <rect x=\"45.79\" y=\"1\" width=\"105.15\" height=\"99.19\"/>\n",
       "    </g>\n",
       "    <g class=\"guide ygridlines xfixed\" stroke-dasharray=\"0.5,0.5\" stroke-width=\"0.2\" stroke=\"#D0D0E0\" id=\"img-2829b704-11\">\n",
       "      <path fill=\"none\" d=\"M45.79,98.19 L 150.93 98.19\"/>\n",
       "      <path fill=\"none\" d=\"M45.79,50.59 L 150.93 50.59\"/>\n",
       "      <path fill=\"none\" d=\"M45.79,3 L 150.93 3\"/>\n",
       "    </g>\n",
       "    <g class=\"guide xgridlines yfixed\" stroke-dasharray=\"0.5,0.5\" stroke-width=\"0.2\" stroke=\"#D0D0E0\" id=\"img-2829b704-12\">\n",
       "      <path fill=\"none\" d=\"M47.79,1 L 47.79 100.19\"/>\n",
       "      <path fill=\"none\" d=\"M73.07,1 L 73.07 100.19\"/>\n",
       "      <path fill=\"none\" d=\"M98.36,1 L 98.36 100.19\"/>\n",
       "      <path fill=\"none\" d=\"M123.65,1 L 123.65 100.19\"/>\n",
       "      <path fill=\"none\" d=\"M148.93,1 L 148.93 100.19\"/>\n",
       "    </g>\n",
       "    <g class=\"plotpanel\" id=\"img-2829b704-13\">\n",
       "      <g stroke-width=\"0.26\" fill=\"#000000\" fill-opacity=\"0.000\" class=\"geometry\" stroke-dasharray=\"none\" stroke=\"#009AFA\" id=\"img-2829b704-14\">\n",
       "        <path fill=\"none\" d=\"M48.29,50.59 L 48.8 50.59 49.3 50.59 49.81 50.59 50.32 50.59 50.82 50.59 51.33 50.59 51.83 50.59 52.34 50.59 52.84 50.59 53.35 50.59 53.86 50.59 54.36 50.59 54.87 50.59 55.37 50.59 55.88 50.59 56.38 50.59 56.89 50.59 57.4 50.59 57.9 50.59 58.41 50.59 58.91 50.59 59.42 50.59 59.92 50.59 60.43 50.59 60.94 50.59 61.44 50.59 61.95 50.59 62.45 50.59 62.96 50.59 63.46 50.59 63.97 50.59 64.48 50.59 64.98 50.59 65.49 50.59 65.99 50.59 66.5 50.59 67 50.59 67.51 50.59 68.02 50.59 68.52 50.59 69.03 50.59 69.53 50.59 70.04 50.59 70.54 50.59 71.05 50.59 71.56 50.59 72.06 50.59 72.57 50.59 73.07 50.59 73.58 50.59 74.08 50.6 74.59 50.59 75.1 50.6 75.6 50.61 76.11 50.56 76.61 50.65 77.12 50.57 77.62 50.59 78.13 50.75 78.64 50.47 79.14 51.48 79.65 49.74 80.15 51 80.66 50.23 81.17 51.97 81.67 50.23 82.18 50.03 82.68 48.28 83.19 46.13 83.69 48.28 84.2 46.13 84.71 48.28 85.21 46.13 85.72 48.28 86.22 46.13 86.73 48.28 87.23 46.13 87.74 48.28 88.25 15.01 88.75 48.28 89.26 15.01 89.76 79.41 90.27 15.01 90.77 48.28 91.28 46.13 91.79 79.41 92.29 46.13 92.8 48.28 93.3 46.13 93.81 48.28 94.31 46.13 94.82 48.28 95.33 46.13 95.83 56.06 96.34 46.13 96.84 48.28 97.35 46.13 97.85 48.28 98.36 46.13 98.87 48.28 99.37 46.13 99.88 48.28 100.38 46.13 100.89 48.28 101.39 46.13 101.9 48.28 102.41 46.13 102.91 48.28 103.42 46.13 103.92 48.28 104.43 46.13 104.93 48.29 105.44 46.14 105.95 48.28 106.45 46.13 106.96 48.28 107.46 46.13 107.97 48.28 108.47 46.13 108.98 48.28 109.49 46.13 109.99 48.28 110.5 46.13 111 48.28 111.51 46.13 112.01 48.28 112.52 46.13 113.03 48.28 113.53 46.13 114.04 48.28 114.54 46.13 115.05 48.28 115.56 46.13 116.06 48.28 116.57 46.13 117.07 48.28 117.58 46.13 118.08 48.28 118.59 46.13 119.1 48.28 119.6 46.13 120.11 48.28 120.61 46.13 121.12 48.28 121.62 46.13 122.13 48.28 122.64 46.13 123.14 48.28 123.65 46.13 124.15 48.28 124.66 46.13 125.16 48.28 125.67 46.13 126.18 48.28 126.68 46.13 127.19 48.28 127.69 46.13 128.2 48.28 128.7 46.13 129.21 48.28 129.72 46.13 130.22 48.28 130.73 46.13 131.23 48.28 131.74 46.13 132.24 48.28 132.75 46.13 133.26 48.28 133.76 46.13 134.27 48.28 134.77 46.13 135.28 48.28 135.78 46.13 136.29 48.28 136.8 46.13 137.3 48.28 137.81 46.13 138.31 48.28 138.82 46.13 139.32 48.28 139.83 46.13 140.34 48.28 140.84 46.13 141.35 48.28 141.85 46.13 142.36 48.28 142.86 46.13 143.37 48.28 143.88 46.13 144.38 48.28 144.89 46.13 145.39 48.28 145.9 46.13 146.4 48.28 146.91 46.13 147.42 48.28 147.92 46.13 148.43 48.28 148.93 46.13\"/>\n",
       "      </g>\n",
       "    </g>\n",
       "  </g>\n",
       "</g>\n",
       "  <g class=\"guide ylabels\" font-size=\"2.82\" font-family=\"Helvetica\" fill=\"#000000\" id=\"img-2829b704-15\">\n",
       "    <text x=\"44.79\" y=\"98.19\" text-anchor=\"end\" dy=\"0.35em\">-2.500000000000000444×10⁻¹⁶</text>\n",
       "    <text x=\"44.79\" y=\"50.59\" text-anchor=\"end\" dy=\"0.35em\">0</text>\n",
       "    <text x=\"44.79\" y=\"3\" text-anchor=\"end\" dy=\"0.35em\">2.500000000000000444×10⁻¹⁶</text>\n",
       "  </g>\n",
       "</g>\n",
       "<defs>\n",
       "  <clipPath id=\"img-2829b704-8\">\n",
       "  <path d=\"M45.79,1 L 150.93 1 150.93 100.19 45.79 100.19\" />\n",
       "</clipPath>\n",
       "</defs>\n",
       "</svg>\n"
      ],
      "text/html": [
       "<?xml version=\"1.0\" encoding=\"UTF-8\"?>\n",
       "<svg xmlns=\"http://www.w3.org/2000/svg\"\n",
       "     xmlns:xlink=\"http://www.w3.org/1999/xlink\"\n",
       "     xmlns:gadfly=\"http://www.gadflyjl.org/ns\"\n",
       "     version=\"1.2\"\n",
       "     width=\"158.73mm\" height=\"105.82mm\" viewBox=\"0 0 158.73 105.82\"\n",
       "     stroke=\"none\"\n",
       "     fill=\"#000000\"\n",
       "     stroke-width=\"0.3\"\n",
       "     font-size=\"3.88\"\n",
       ">\n",
       "<g stroke=\"#000000\" stroke-opacity=\"0.000\" fill=\"#FFFFFF\" id=\"img-2829b704-1\">\n",
       "  <rect x=\"0\" y=\"0\" width=\"158.73\" height=\"105.82\"/>\n",
       "</g>\n",
       "<g class=\"plotroot xscalable yscalable\" id=\"img-2829b704-2\">\n",
       "  <g class=\"guide xlabels\" font-size=\"2.82\" font-family=\"Helvetica\" fill=\"#000000\" id=\"img-2829b704-3\">\n",
       "    <text x=\"47.79\" y=\"101.19\" text-anchor=\"middle\" dy=\"0.6em\">0</text>\n",
       "    <text x=\"73.07\" y=\"101.19\" text-anchor=\"middle\" dy=\"0.6em\">50</text>\n",
       "    <text x=\"98.36\" y=\"101.19\" text-anchor=\"middle\" dy=\"0.6em\">100</text>\n",
       "    <text x=\"123.65\" y=\"101.19\" text-anchor=\"middle\" dy=\"0.6em\">150</text>\n",
       "    <text x=\"148.93\" y=\"101.19\" text-anchor=\"middle\" dy=\"0.6em\">200</text>\n",
       "  </g>\n",
       "  <g class=\"guide colorkey\" id=\"img-2829b704-4\">\n",
       "    <g fill=\"#000000\" font-size=\"2.82\" font-family=\"Helvetica\" id=\"img-2829b704-5\">\n",
       "      <text x=\"154.75\" y=\"52.41\" dy=\"0.35em\">y1</text>\n",
       "    </g>\n",
       "    <g fill=\"#009AFA\" stroke=\"#000000\" stroke-opacity=\"0.000\" id=\"img-2829b704-6\">\n",
       "      <rect x=\"151.93\" y=\"51.5\" width=\"1.82\" height=\"1.82\"/>\n",
       "    </g>\n",
       "    <g fill=\"#000000\" font-size=\"3.88\" font-family=\"Helvetica\" stroke=\"#000000\" stroke-opacity=\"0.000\" id=\"img-2829b704-7\">\n",
       "      <text x=\"151.93\" y=\"48.59\"></text>\n",
       "    </g>\n",
       "  </g>\n",
       "<g clip-path=\"url(#img-2829b704-8)\">\n",
       "  <g id=\"img-2829b704-9\">\n",
       "    <g pointer-events=\"visible\" opacity=\"1\" fill=\"#000000\" fill-opacity=\"0.000\" stroke=\"#000000\" stroke-opacity=\"0.000\" class=\"guide background\" id=\"img-2829b704-10\">\n",
       "      <rect x=\"45.79\" y=\"1\" width=\"105.15\" height=\"99.19\"/>\n",
       "    </g>\n",
       "    <g class=\"guide ygridlines xfixed\" stroke-dasharray=\"0.5,0.5\" stroke-width=\"0.2\" stroke=\"#D0D0E0\" id=\"img-2829b704-11\">\n",
       "      <path fill=\"none\" d=\"M45.79,98.19 L 150.93 98.19\"/>\n",
       "      <path fill=\"none\" d=\"M45.79,50.59 L 150.93 50.59\"/>\n",
       "      <path fill=\"none\" d=\"M45.79,3 L 150.93 3\"/>\n",
       "    </g>\n",
       "    <g class=\"guide xgridlines yfixed\" stroke-dasharray=\"0.5,0.5\" stroke-width=\"0.2\" stroke=\"#D0D0E0\" id=\"img-2829b704-12\">\n",
       "      <path fill=\"none\" d=\"M47.79,1 L 47.79 100.19\"/>\n",
       "      <path fill=\"none\" d=\"M73.07,1 L 73.07 100.19\"/>\n",
       "      <path fill=\"none\" d=\"M98.36,1 L 98.36 100.19\"/>\n",
       "      <path fill=\"none\" d=\"M123.65,1 L 123.65 100.19\"/>\n",
       "      <path fill=\"none\" d=\"M148.93,1 L 148.93 100.19\"/>\n",
       "    </g>\n",
       "    <g class=\"plotpanel\" id=\"img-2829b704-13\">\n",
       "      <g stroke-width=\"0.26\" fill=\"#000000\" fill-opacity=\"0.000\" class=\"geometry\" stroke-dasharray=\"none\" stroke=\"#009AFA\" id=\"img-2829b704-14\">\n",
       "        <path fill=\"none\" d=\"M48.29,50.59 L 48.8 50.59 49.3 50.59 49.81 50.59 50.32 50.59 50.82 50.59 51.33 50.59 51.83 50.59 52.34 50.59 52.84 50.59 53.35 50.59 53.86 50.59 54.36 50.59 54.87 50.59 55.37 50.59 55.88 50.59 56.38 50.59 56.89 50.59 57.4 50.59 57.9 50.59 58.41 50.59 58.91 50.59 59.42 50.59 59.92 50.59 60.43 50.59 60.94 50.59 61.44 50.59 61.95 50.59 62.45 50.59 62.96 50.59 63.46 50.59 63.97 50.59 64.48 50.59 64.98 50.59 65.49 50.59 65.99 50.59 66.5 50.59 67 50.59 67.51 50.59 68.02 50.59 68.52 50.59 69.03 50.59 69.53 50.59 70.04 50.59 70.54 50.59 71.05 50.59 71.56 50.59 72.06 50.59 72.57 50.59 73.07 50.59 73.58 50.59 74.08 50.6 74.59 50.59 75.1 50.6 75.6 50.61 76.11 50.56 76.61 50.65 77.12 50.57 77.62 50.59 78.13 50.75 78.64 50.47 79.14 51.48 79.65 49.74 80.15 51 80.66 50.23 81.17 51.97 81.67 50.23 82.18 50.03 82.68 48.28 83.19 46.13 83.69 48.28 84.2 46.13 84.71 48.28 85.21 46.13 85.72 48.28 86.22 46.13 86.73 48.28 87.23 46.13 87.74 48.28 88.25 15.01 88.75 48.28 89.26 15.01 89.76 79.41 90.27 15.01 90.77 48.28 91.28 46.13 91.79 79.41 92.29 46.13 92.8 48.28 93.3 46.13 93.81 48.28 94.31 46.13 94.82 48.28 95.33 46.13 95.83 56.06 96.34 46.13 96.84 48.28 97.35 46.13 97.85 48.28 98.36 46.13 98.87 48.28 99.37 46.13 99.88 48.28 100.38 46.13 100.89 48.28 101.39 46.13 101.9 48.28 102.41 46.13 102.91 48.28 103.42 46.13 103.92 48.28 104.43 46.13 104.93 48.29 105.44 46.14 105.95 48.28 106.45 46.13 106.96 48.28 107.46 46.13 107.97 48.28 108.47 46.13 108.98 48.28 109.49 46.13 109.99 48.28 110.5 46.13 111 48.28 111.51 46.13 112.01 48.28 112.52 46.13 113.03 48.28 113.53 46.13 114.04 48.28 114.54 46.13 115.05 48.28 115.56 46.13 116.06 48.28 116.57 46.13 117.07 48.28 117.58 46.13 118.08 48.28 118.59 46.13 119.1 48.28 119.6 46.13 120.11 48.28 120.61 46.13 121.12 48.28 121.62 46.13 122.13 48.28 122.64 46.13 123.14 48.28 123.65 46.13 124.15 48.28 124.66 46.13 125.16 48.28 125.67 46.13 126.18 48.28 126.68 46.13 127.19 48.28 127.69 46.13 128.2 48.28 128.7 46.13 129.21 48.28 129.72 46.13 130.22 48.28 130.73 46.13 131.23 48.28 131.74 46.13 132.24 48.28 132.75 46.13 133.26 48.28 133.76 46.13 134.27 48.28 134.77 46.13 135.28 48.28 135.78 46.13 136.29 48.28 136.8 46.13 137.3 48.28 137.81 46.13 138.31 48.28 138.82 46.13 139.32 48.28 139.83 46.13 140.34 48.28 140.84 46.13 141.35 48.28 141.85 46.13 142.36 48.28 142.86 46.13 143.37 48.28 143.88 46.13 144.38 48.28 144.89 46.13 145.39 48.28 145.9 46.13 146.4 48.28 146.91 46.13 147.42 48.28 147.92 46.13 148.43 48.28 148.93 46.13\"/>\n",
       "      </g>\n",
       "    </g>\n",
       "  </g>\n",
       "</g>\n",
       "  <g class=\"guide ylabels\" font-size=\"2.82\" font-family=\"Helvetica\" fill=\"#000000\" id=\"img-2829b704-15\">\n",
       "    <text x=\"44.79\" y=\"98.19\" text-anchor=\"end\" dy=\"0.35em\">-2.500000000000000444×10⁻¹⁶</text>\n",
       "    <text x=\"44.79\" y=\"50.59\" text-anchor=\"end\" dy=\"0.35em\">0</text>\n",
       "    <text x=\"44.79\" y=\"3\" text-anchor=\"end\" dy=\"0.35em\">2.500000000000000444×10⁻¹⁶</text>\n",
       "  </g>\n",
       "</g>\n",
       "<defs>\n",
       "  <clipPath id=\"img-2829b704-8\">\n",
       "  <path d=\"M45.79,1 L 150.93 1 150.93 100.19 45.79 100.19\" />\n",
       "</clipPath>\n",
       "</defs>\n",
       "</svg>\n"
      ],
      "text/plain": [
       "Compose.SVG(158.73015873015876mm,105.82010582010584mm,IOBuffer(data=UInt8[...], readable=true, writable=true, seekable=true, append=false, size=5799, maxsize=Inf, ptr=5800, mark=-1),nothing,\"img-2829b704\",0,Compose.SVGPropertyFrame[],Dict{Type{T},Union{Compose.Property{P<:Compose.PropertyPrimitive},Void}}(),Dict{Compose.ClipPrimitive{P<:NTuple{N,Measures.Measure}},ASCIIString}(Compose.ClipPrimitive{Tuple{Measures.Length{:mm,Float64},Measures.Length{:mm,Float64}}}([(45.78666666666669mm,1.0mm),(150.9334920634921mm,1.0mm),(150.9334920634921mm,100.1867724867725mm),(45.78666666666669mm,100.1867724867725mm)])=>\"img-2829b704-8\"),Tuple{Compose.FormPrimitive,ASCIIString}[],Set{AbstractString}(),true,false,nothing,true,\"img-2829b704-15\",false,15,AbstractString[\"/home/kryosugarra/.julia/v0.4/Gadfly/src/gadfly.js\"],Tuple{AbstractString,AbstractString}[(\"Snap.svg\",\"Snap\"),(\"Gadfly\",\"Gadfly\")],AbstractString[\"fig.select(\\\"#img-2829b704-4\\\")\\n   .drag(function() {}, function() {}, function() {});\",\"fig.select(\\\"#img-2829b704-9\\\")\\n   .init_gadfly();\"],false,:none)"
      ]
     },
     "metadata": {},
     "output_type": "display_data"
    },
    {
     "data": {
      "text/html": []
     },
     "execution_count": 35,
     "metadata": {},
     "output_type": "execute_result"
    }
   ],
   "source": [
    "plot(1:size, fieldsnap)"
   ]
  },
  {
   "cell_type": "code",
   "execution_count": 36,
   "metadata": {
    "collapsed": false
   },
   "outputs": [
    {
     "name": "stdout",
     "output_type": "stream",
     "text": [
      "1.9542144317996692e-31"
     ]
    }
   ],
   "source": [
    "print(fieldsum)"
   ]
  },
  {
   "cell_type": "markdown",
   "metadata": {},
   "source": [
    "# 1. Dielectric eps=9 with trivial ABC ez[-1] = ez[-2]\n",
    "### Setup Grid"
   ]
  },
  {
   "cell_type": "code",
   "execution_count": 63,
   "metadata": {
    "collapsed": false
   },
   "outputs": [],
   "source": [
    "#Global parameters\n",
    "size = 200;\n",
    "endTime = 1000;\n",
    "num_snaps = 200;\n",
    "snap_step = div(endTime, num_snaps);\n",
    "#Grid\n",
    "hy = zeros(size-1);\n",
    "mu = ones(size-1);\n",
    "\n",
    "ez = zeros(size);\n",
    "eps = ones(size);\n",
    "\n",
    "for i in 100:size\n",
    "    eps[i] = 9\n",
    "end\n",
    "\n",
    "# output params\n",
    "ez_snapshot = Array{Any}(num_snaps);\n",
    "hy_snapshot = Array{Any}(num_snaps);\n",
    "\n",
    "# \n",
    "fieldsum = 1;\n",
    "sumtime = 650;\n",
    "fieldsnap = zeros(size);"
   ]
  },
  {
   "cell_type": "markdown",
   "metadata": {},
   "source": [
    "### Run Simulation"
   ]
  },
  {
   "cell_type": "code",
   "execution_count": 64,
   "metadata": {
    "collapsed": false
   },
   "outputs": [
    {
     "name": "stdout",
     "output_type": "stream",
     "text": [
      "0.523525041519659"
     ]
    }
   ],
   "source": [
    "# Time steps\n",
    "\n",
    "for time in 1:endTime\n",
    "    delay = 250.\n",
    "    width = 400.\n",
    "    \n",
    "    ez_inc, hy_inc = sources.gaussian_source(50, time, delay, width)  \n",
    "    \n",
    "    #\n",
    "    # Magnetic\n",
    "    #\n",
    "        \n",
    "    # Interior update\n",
    "    update.update_magnetic_field!(ez, hy, mu);    \n",
    "    \n",
    "    # TFSF\n",
    "    hy[49] -= hy_inc \n",
    "    \n",
    "    #\n",
    "    # Electric\n",
    "    #\n",
    "    \n",
    "    # ABC\n",
    "    boundaries.trivial_abc!(ez, size);\n",
    "    boundaries.trivial_abc!(ez, 1, false);    \n",
    "    \n",
    "    # Interior update\n",
    "    update.update_electric_field!(ez, hy, eps);\n",
    "    \n",
    "    # TFSF\n",
    "    ez[50] += ez_inc \n",
    " \n",
    "    #Catch minimum E-Field\n",
    "    if time == sumtime\n",
    "            fieldsum = sum(ez.^2)\n",
    "            fieldsnap = copy(ez)\n",
    "    end\n",
    "    \n",
    "    #Snapshots for animation\n",
    "    if mod(time, snap_step) == 0\n",
    "        ez_snapshot[div(time,snap_step)] = (time, copy(ez))\n",
    "        hy_snapshot[div(time,snap_step)] = (time, copy(hy).*globals.imp0)        \n",
    "    end\n",
    "    \n",
    "end\n",
    "print(fieldsum)"
   ]
  },
  {
   "cell_type": "markdown",
   "metadata": {},
   "source": [
    "### Plot Animation"
   ]
  },
  {
   "cell_type": "code",
   "execution_count": 39,
   "metadata": {
    "collapsed": false
   },
   "outputs": [
    {
     "name": "stderr",
     "output_type": "stream",
     "text": [
      "INFO: Saved animation to /media/storage/Documents/Github/1d-fdtd/tasks/Task1/ABC-Bad-Trivial-ABC.gif\n"
     ]
    },
    {
     "data": {
      "text/html": [
       "<img src=\"Task1/ABC-Bad-Trivial-ABC.gif?0.8993405735118711>\" />"
      ],
      "text/plain": [
       "Plots.AnimatedGif(\"/media/storage/Documents/Github/1d-fdtd/tasks/Task1/ABC-Bad-Trivial-ABC.gif\")"
      ]
     },
     "execution_count": 39,
     "metadata": {},
     "output_type": "execute_result"
    }
   ],
   "source": [
    "anim = Animation()\n",
    "\n",
    "for i = 1:num_snaps\n",
    "    p = plot(1:size, ez_snapshot[i][2], lab=\"Ez\")\n",
    "    plot!(1:size-1, hy_snapshot[i][2], lab=\"Hy*imp0\")\n",
    "    \n",
    "    time = ez_snapshot[i][1]\n",
    "    plot!(ann=[(150, 1.5, \"time =$time\")])\n",
    "    plot!(ann=[(0, 1.1, \"ABC\")])\n",
    "    plot!(ann=[(180, 1.1, \"ABC\")])\n",
    "    \n",
    "    plot!(ann=[(80, 1.2, \"Eps = 1\")])\n",
    "    plot!(ann=[(100, 1.1, \"Eps = 9\")])    \n",
    "    plot!([100, 100], [-2, 2])\n",
    "    \n",
    "    plot!(xlims=(1, 200), ylims=(-2, 2))\n",
    "    frame(anim, p)\n",
    "end\n",
    "gif(anim, \"./Task1/ABC-Bad-Trivial-ABC.gif\", fps=15)"
   ]
  },
  {
   "cell_type": "markdown",
   "metadata": {},
   "source": [
    "### Plot field after reflection"
   ]
  },
  {
   "cell_type": "code",
   "execution_count": 65,
   "metadata": {
    "collapsed": false
   },
   "outputs": [
    {
     "data": {
      "image/svg+xml": [
       "<?xml version=\"1.0\" encoding=\"UTF-8\"?>\n",
       "<svg xmlns=\"http://www.w3.org/2000/svg\"\n",
       "     xmlns:xlink=\"http://www.w3.org/1999/xlink\"\n",
       "     xmlns:gadfly=\"http://www.gadflyjl.org/ns\"\n",
       "     version=\"1.2\"\n",
       "     width=\"158.73mm\" height=\"105.82mm\" viewBox=\"0 0 158.73 105.82\"\n",
       "     stroke=\"none\"\n",
       "     fill=\"#000000\"\n",
       "     stroke-width=\"0.3\"\n",
       "     font-size=\"3.88\"\n",
       ">\n",
       "<g stroke=\"#000000\" stroke-opacity=\"0.000\" fill=\"#FFFFFF\" id=\"img-07dda5ab-1\">\n",
       "  <rect x=\"0\" y=\"0\" width=\"158.73\" height=\"105.82\"/>\n",
       "</g>\n",
       "<g class=\"plotroot xscalable yscalable\" id=\"img-07dda5ab-2\">\n",
       "  <g class=\"guide xlabels\" font-size=\"2.82\" font-family=\"Helvetica\" fill=\"#000000\" id=\"img-07dda5ab-3\">\n",
       "    <text x=\"9.86\" y=\"101.19\" text-anchor=\"middle\" dy=\"0.6em\">0</text>\n",
       "    <text x=\"44.63\" y=\"101.19\" text-anchor=\"middle\" dy=\"0.6em\">50</text>\n",
       "    <text x=\"79.4\" y=\"101.19\" text-anchor=\"middle\" dy=\"0.6em\">100</text>\n",
       "    <text x=\"114.17\" y=\"101.19\" text-anchor=\"middle\" dy=\"0.6em\">150</text>\n",
       "    <text x=\"148.93\" y=\"101.19\" text-anchor=\"middle\" dy=\"0.6em\">200</text>\n",
       "  </g>\n",
       "  <g class=\"guide colorkey\" id=\"img-07dda5ab-4\">\n",
       "    <g fill=\"#000000\" font-size=\"2.82\" font-family=\"Helvetica\" id=\"img-07dda5ab-5\">\n",
       "      <text x=\"154.75\" y=\"50.59\" dy=\"0.35em\">y1</text>\n",
       "      <text x=\"154.75\" y=\"54.23\" dy=\"0.35em\">y2</text>\n",
       "    </g>\n",
       "    <g stroke=\"#000000\" stroke-opacity=\"0.000\" id=\"img-07dda5ab-6\">\n",
       "      <rect x=\"151.93\" y=\"49.69\" width=\"1.82\" height=\"1.82\" fill=\"#009AFA\"/>\n",
       "      <rect x=\"151.93\" y=\"53.32\" width=\"1.82\" height=\"1.82\" fill=\"#E36F47\"/>\n",
       "    </g>\n",
       "    <g fill=\"#000000\" font-size=\"3.88\" font-family=\"Helvetica\" stroke=\"#000000\" stroke-opacity=\"0.000\" id=\"img-07dda5ab-7\">\n",
       "      <text x=\"151.93\" y=\"46.77\"></text>\n",
       "    </g>\n",
       "  </g>\n",
       "<g clip-path=\"url(#img-07dda5ab-8)\">\n",
       "  <g id=\"img-07dda5ab-9\">\n",
       "    <g pointer-events=\"visible\" opacity=\"1\" fill=\"#000000\" fill-opacity=\"0.000\" stroke=\"#000000\" stroke-opacity=\"0.000\" class=\"guide background\" id=\"img-07dda5ab-10\">\n",
       "      <rect x=\"7.86\" y=\"1\" width=\"143.07\" height=\"99.19\"/>\n",
       "    </g>\n",
       "    <g class=\"guide ygridlines xfixed\" stroke-dasharray=\"0.5,0.5\" stroke-width=\"0.2\" stroke=\"#D0D0E0\" id=\"img-07dda5ab-11\">\n",
       "      <path fill=\"none\" d=\"M7.86,98.19 L 150.93 98.19\"/>\n",
       "      <path fill=\"none\" d=\"M7.86,82.32 L 150.93 82.32\"/>\n",
       "      <path fill=\"none\" d=\"M7.86,66.46 L 150.93 66.46\"/>\n",
       "      <path fill=\"none\" d=\"M7.86,50.59 L 150.93 50.59\"/>\n",
       "      <path fill=\"none\" d=\"M7.86,34.73 L 150.93 34.73\"/>\n",
       "      <path fill=\"none\" d=\"M7.86,18.86 L 150.93 18.86\"/>\n",
       "      <path fill=\"none\" d=\"M7.86,3 L 150.93 3\"/>\n",
       "    </g>\n",
       "    <g class=\"guide xgridlines yfixed\" stroke-dasharray=\"0.5,0.5\" stroke-width=\"0.2\" stroke=\"#D0D0E0\" id=\"img-07dda5ab-12\">\n",
       "      <path fill=\"none\" d=\"M9.86,1 L 9.86 100.19\"/>\n",
       "      <path fill=\"none\" d=\"M44.63,1 L 44.63 100.19\"/>\n",
       "      <path fill=\"none\" d=\"M79.4,1 L 79.4 100.19\"/>\n",
       "      <path fill=\"none\" d=\"M114.17,1 L 114.17 100.19\"/>\n",
       "      <path fill=\"none\" d=\"M148.93,1 L 148.93 100.19\"/>\n",
       "    </g>\n",
       "    <g class=\"plotpanel\" id=\"img-07dda5ab-13\">\n",
       "      <g stroke-width=\"0.26\" fill=\"#000000\" fill-opacity=\"0.000\" class=\"geometry\" stroke-dasharray=\"none\" stroke=\"#009AFA\" id=\"img-07dda5ab-14\">\n",
       "        <path fill=\"none\" d=\"M10.56,50.59 L 11.25 50.59 11.95 50.59 12.64 50.59 13.34 50.59 14.03 50.59 14.73 50.59 15.42 50.59 16.12 50.59 16.81 50.59 17.51 50.59 18.2 50.59 18.9 50.59 19.6 50.59 20.29 50.59 20.99 50.59 21.68 50.59 22.38 50.59 23.07 50.59 23.77 50.59 24.46 50.59 25.16 50.59 25.85 50.59 26.55 50.59 27.24 50.59 27.94 50.59 28.63 50.59 29.33 50.59 30.03 50.59 30.72 50.59 31.42 50.59 32.11 50.59 32.81 50.59 33.5 50.59 34.2 50.59 34.89 50.59 35.59 50.59 36.28 50.59 36.98 50.59 37.67 50.59 38.37 50.59 39.07 50.59 39.76 50.59 40.46 50.59 41.15 50.59 41.85 50.59 42.54 50.59 43.24 50.59 43.93 50.59 44.63 50.59 45.32 50.59 46.02 50.59 46.71 50.59 47.41 50.59 48.11 50.59 48.8 50.59 49.5 50.59 50.19 50.59 50.89 50.59 51.58 50.59 52.28 50.59 52.97 50.59 53.67 50.59 54.36 50.59 55.06 50.59 55.75 50.59 56.45 50.59 57.14 50.59 57.84 50.59 58.54 50.59 59.23 50.59 59.93 50.59 60.62 50.59 61.32 50.59 62.01 50.59 62.71 50.59 63.4 50.59 64.1 50.59 64.79 50.59 65.49 50.59 66.18 50.59 66.88 50.59 67.58 50.59 68.27 50.59 68.97 50.59 69.66 50.59 70.36 50.59 71.05 50.59 71.75 50.59 72.44 50.59 73.14 50.59 73.83 50.59 74.53 50.59 75.22 50.59 75.92 50.59 76.62 50.59 77.31 50.59 78.01 50.59 78.7 50.59 79.4 50.59 80.09 50.59 80.79 50.59 81.48 50.59 82.18 50.59 82.87 50.59 83.57 50.59 84.26 50.59 84.96 50.59 85.66 50.59 86.35 50.59 87.05 50.59 87.74 50.59 88.44 50.59 89.13 50.59 89.83 50.59 90.52 50.59 91.22 50.59 91.91 50.59 92.61 50.59 93.3 50.59 94 50.59 94.69 50.59 95.39 50.59 96.09 50.59 96.78 50.59 97.48 50.59 98.17 50.59 98.87 50.59 99.56 50.59 100.26 50.59 100.95 50.59 101.65 50.59 102.34 50.59 103.04 50.59 103.73 50.59 104.43 50.59 105.13 50.59 105.82 50.59 106.52 50.59 107.21 50.59 107.91 50.59 108.6 50.59 109.3 50.59 109.99 50.59 110.69 50.59 111.38 50.59 112.08 50.59 112.77 50.59 113.47 50.59 114.17 50.59 114.86 50.59 115.56 50.59 116.25 50.59 116.95 50.59 117.64 50.59 118.34 50.59 119.03 50.59 119.73 50.59 120.42 50.59 121.12 50.59 121.81 50.58 122.51 50.57 123.2 50.55 123.9 50.52 124.6 50.46 125.29 50.35 125.99 50.18 126.68 49.91 127.38 49.48 128.07 48.83 128.77 47.87 129.46 46.52 130.16 44.66 130.85 42.22 131.55 39.14 132.24 35.41 132.94 31.14 133.64 26.52 134.33 21.84 135.03 17.51 135.72 13.97 136.42 11.67 137.11 10.95 137.81 11.98 138.5 14.71 139.2 18.88 139.89 24.01 140.59 29.55 141.28 34.92 141.98 39.68 142.68 43.53 143.37 46.38 144.07 48.3 144.76 49.47 145.46 50.11 146.15 50.41 146.85 50.54 147.54 50.58 148.24 50.59 148.93 50.59\"/>\n",
       "      </g>\n",
       "      <g stroke-width=\"0.26\" fill=\"#000000\" fill-opacity=\"0.000\" class=\"geometry\" stroke-dasharray=\"none\" stroke=\"#E36F47\" id=\"img-07dda5ab-15\">\n",
       "        <path fill=\"none\" d=\"M79.4,90.24 L 79.4 10.95\"/>\n",
       "      </g>\n",
       "    </g>\n",
       "    <g class=\"geometry\" id=\"img-07dda5ab-16\">\n",
       "      <text x=\"135.03\" y=\"14.91\">ABC</text>\n",
       "    </g>\n",
       "    <g class=\"geometry\" id=\"img-07dda5ab-17\">\n",
       "      <text x=\"9.86\" y=\"14.91\">ABC</text>\n",
       "    </g>\n",
       "    <g class=\"geometry\" id=\"img-07dda5ab-18\">\n",
       "      <text x=\"79.4\" y=\"14.91\">Eps = 9</text>\n",
       "    </g>\n",
       "    <g class=\"geometry\" id=\"img-07dda5ab-19\">\n",
       "      <text x=\"65.49\" y=\"18.88\">Eps = 1</text>\n",
       "    </g>\n",
       "  </g>\n",
       "</g>\n",
       "  <g class=\"guide ylabels\" font-size=\"2.82\" font-family=\"Helvetica\" fill=\"#000000\" id=\"img-07dda5ab-20\">\n",
       "    <text x=\"6.86\" y=\"98.19\" text-anchor=\"end\" dy=\"0.35em\">-0.3</text>\n",
       "    <text x=\"6.86\" y=\"82.32\" text-anchor=\"end\" dy=\"0.35em\">-0.2</text>\n",
       "    <text x=\"6.86\" y=\"66.46\" text-anchor=\"end\" dy=\"0.35em\">-0.1</text>\n",
       "    <text x=\"6.86\" y=\"50.59\" text-anchor=\"end\" dy=\"0.35em\">0.0</text>\n",
       "    <text x=\"6.86\" y=\"34.73\" text-anchor=\"end\" dy=\"0.35em\">0.1</text>\n",
       "    <text x=\"6.86\" y=\"18.86\" text-anchor=\"end\" dy=\"0.35em\">0.2</text>\n",
       "    <text x=\"6.86\" y=\"3\" text-anchor=\"end\" dy=\"0.35em\">0.3</text>\n",
       "  </g>\n",
       "</g>\n",
       "<defs>\n",
       "  <clipPath id=\"img-07dda5ab-8\">\n",
       "  <path d=\"M7.86,1 L 150.93 1 150.93 100.19 7.86 100.19\" />\n",
       "</clipPath>\n",
       "</defs>\n",
       "</svg>\n"
      ],
      "text/html": [
       "<?xml version=\"1.0\" encoding=\"UTF-8\"?>\n",
       "<svg xmlns=\"http://www.w3.org/2000/svg\"\n",
       "     xmlns:xlink=\"http://www.w3.org/1999/xlink\"\n",
       "     xmlns:gadfly=\"http://www.gadflyjl.org/ns\"\n",
       "     version=\"1.2\"\n",
       "     width=\"158.73mm\" height=\"105.82mm\" viewBox=\"0 0 158.73 105.82\"\n",
       "     stroke=\"none\"\n",
       "     fill=\"#000000\"\n",
       "     stroke-width=\"0.3\"\n",
       "     font-size=\"3.88\"\n",
       ">\n",
       "<g stroke=\"#000000\" stroke-opacity=\"0.000\" fill=\"#FFFFFF\" id=\"img-07dda5ab-1\">\n",
       "  <rect x=\"0\" y=\"0\" width=\"158.73\" height=\"105.82\"/>\n",
       "</g>\n",
       "<g class=\"plotroot xscalable yscalable\" id=\"img-07dda5ab-2\">\n",
       "  <g class=\"guide xlabels\" font-size=\"2.82\" font-family=\"Helvetica\" fill=\"#000000\" id=\"img-07dda5ab-3\">\n",
       "    <text x=\"9.86\" y=\"101.19\" text-anchor=\"middle\" dy=\"0.6em\">0</text>\n",
       "    <text x=\"44.63\" y=\"101.19\" text-anchor=\"middle\" dy=\"0.6em\">50</text>\n",
       "    <text x=\"79.4\" y=\"101.19\" text-anchor=\"middle\" dy=\"0.6em\">100</text>\n",
       "    <text x=\"114.17\" y=\"101.19\" text-anchor=\"middle\" dy=\"0.6em\">150</text>\n",
       "    <text x=\"148.93\" y=\"101.19\" text-anchor=\"middle\" dy=\"0.6em\">200</text>\n",
       "  </g>\n",
       "  <g class=\"guide colorkey\" id=\"img-07dda5ab-4\">\n",
       "    <g fill=\"#000000\" font-size=\"2.82\" font-family=\"Helvetica\" id=\"img-07dda5ab-5\">\n",
       "      <text x=\"154.75\" y=\"50.59\" dy=\"0.35em\">y1</text>\n",
       "      <text x=\"154.75\" y=\"54.23\" dy=\"0.35em\">y2</text>\n",
       "    </g>\n",
       "    <g stroke=\"#000000\" stroke-opacity=\"0.000\" id=\"img-07dda5ab-6\">\n",
       "      <rect x=\"151.93\" y=\"49.69\" width=\"1.82\" height=\"1.82\" fill=\"#009AFA\"/>\n",
       "      <rect x=\"151.93\" y=\"53.32\" width=\"1.82\" height=\"1.82\" fill=\"#E36F47\"/>\n",
       "    </g>\n",
       "    <g fill=\"#000000\" font-size=\"3.88\" font-family=\"Helvetica\" stroke=\"#000000\" stroke-opacity=\"0.000\" id=\"img-07dda5ab-7\">\n",
       "      <text x=\"151.93\" y=\"46.77\"></text>\n",
       "    </g>\n",
       "  </g>\n",
       "<g clip-path=\"url(#img-07dda5ab-8)\">\n",
       "  <g id=\"img-07dda5ab-9\">\n",
       "    <g pointer-events=\"visible\" opacity=\"1\" fill=\"#000000\" fill-opacity=\"0.000\" stroke=\"#000000\" stroke-opacity=\"0.000\" class=\"guide background\" id=\"img-07dda5ab-10\">\n",
       "      <rect x=\"7.86\" y=\"1\" width=\"143.07\" height=\"99.19\"/>\n",
       "    </g>\n",
       "    <g class=\"guide ygridlines xfixed\" stroke-dasharray=\"0.5,0.5\" stroke-width=\"0.2\" stroke=\"#D0D0E0\" id=\"img-07dda5ab-11\">\n",
       "      <path fill=\"none\" d=\"M7.86,98.19 L 150.93 98.19\"/>\n",
       "      <path fill=\"none\" d=\"M7.86,82.32 L 150.93 82.32\"/>\n",
       "      <path fill=\"none\" d=\"M7.86,66.46 L 150.93 66.46\"/>\n",
       "      <path fill=\"none\" d=\"M7.86,50.59 L 150.93 50.59\"/>\n",
       "      <path fill=\"none\" d=\"M7.86,34.73 L 150.93 34.73\"/>\n",
       "      <path fill=\"none\" d=\"M7.86,18.86 L 150.93 18.86\"/>\n",
       "      <path fill=\"none\" d=\"M7.86,3 L 150.93 3\"/>\n",
       "    </g>\n",
       "    <g class=\"guide xgridlines yfixed\" stroke-dasharray=\"0.5,0.5\" stroke-width=\"0.2\" stroke=\"#D0D0E0\" id=\"img-07dda5ab-12\">\n",
       "      <path fill=\"none\" d=\"M9.86,1 L 9.86 100.19\"/>\n",
       "      <path fill=\"none\" d=\"M44.63,1 L 44.63 100.19\"/>\n",
       "      <path fill=\"none\" d=\"M79.4,1 L 79.4 100.19\"/>\n",
       "      <path fill=\"none\" d=\"M114.17,1 L 114.17 100.19\"/>\n",
       "      <path fill=\"none\" d=\"M148.93,1 L 148.93 100.19\"/>\n",
       "    </g>\n",
       "    <g class=\"plotpanel\" id=\"img-07dda5ab-13\">\n",
       "      <g stroke-width=\"0.26\" fill=\"#000000\" fill-opacity=\"0.000\" class=\"geometry\" stroke-dasharray=\"none\" stroke=\"#009AFA\" id=\"img-07dda5ab-14\">\n",
       "        <path fill=\"none\" d=\"M10.56,50.59 L 11.25 50.59 11.95 50.59 12.64 50.59 13.34 50.59 14.03 50.59 14.73 50.59 15.42 50.59 16.12 50.59 16.81 50.59 17.51 50.59 18.2 50.59 18.9 50.59 19.6 50.59 20.29 50.59 20.99 50.59 21.68 50.59 22.38 50.59 23.07 50.59 23.77 50.59 24.46 50.59 25.16 50.59 25.85 50.59 26.55 50.59 27.24 50.59 27.94 50.59 28.63 50.59 29.33 50.59 30.03 50.59 30.72 50.59 31.42 50.59 32.11 50.59 32.81 50.59 33.5 50.59 34.2 50.59 34.89 50.59 35.59 50.59 36.28 50.59 36.98 50.59 37.67 50.59 38.37 50.59 39.07 50.59 39.76 50.59 40.46 50.59 41.15 50.59 41.85 50.59 42.54 50.59 43.24 50.59 43.93 50.59 44.63 50.59 45.32 50.59 46.02 50.59 46.71 50.59 47.41 50.59 48.11 50.59 48.8 50.59 49.5 50.59 50.19 50.59 50.89 50.59 51.58 50.59 52.28 50.59 52.97 50.59 53.67 50.59 54.36 50.59 55.06 50.59 55.75 50.59 56.45 50.59 57.14 50.59 57.84 50.59 58.54 50.59 59.23 50.59 59.93 50.59 60.62 50.59 61.32 50.59 62.01 50.59 62.71 50.59 63.4 50.59 64.1 50.59 64.79 50.59 65.49 50.59 66.18 50.59 66.88 50.59 67.58 50.59 68.27 50.59 68.97 50.59 69.66 50.59 70.36 50.59 71.05 50.59 71.75 50.59 72.44 50.59 73.14 50.59 73.83 50.59 74.53 50.59 75.22 50.59 75.92 50.59 76.62 50.59 77.31 50.59 78.01 50.59 78.7 50.59 79.4 50.59 80.09 50.59 80.79 50.59 81.48 50.59 82.18 50.59 82.87 50.59 83.57 50.59 84.26 50.59 84.96 50.59 85.66 50.59 86.35 50.59 87.05 50.59 87.74 50.59 88.44 50.59 89.13 50.59 89.83 50.59 90.52 50.59 91.22 50.59 91.91 50.59 92.61 50.59 93.3 50.59 94 50.59 94.69 50.59 95.39 50.59 96.09 50.59 96.78 50.59 97.48 50.59 98.17 50.59 98.87 50.59 99.56 50.59 100.26 50.59 100.95 50.59 101.65 50.59 102.34 50.59 103.04 50.59 103.73 50.59 104.43 50.59 105.13 50.59 105.82 50.59 106.52 50.59 107.21 50.59 107.91 50.59 108.6 50.59 109.3 50.59 109.99 50.59 110.69 50.59 111.38 50.59 112.08 50.59 112.77 50.59 113.47 50.59 114.17 50.59 114.86 50.59 115.56 50.59 116.25 50.59 116.95 50.59 117.64 50.59 118.34 50.59 119.03 50.59 119.73 50.59 120.42 50.59 121.12 50.59 121.81 50.58 122.51 50.57 123.2 50.55 123.9 50.52 124.6 50.46 125.29 50.35 125.99 50.18 126.68 49.91 127.38 49.48 128.07 48.83 128.77 47.87 129.46 46.52 130.16 44.66 130.85 42.22 131.55 39.14 132.24 35.41 132.94 31.14 133.64 26.52 134.33 21.84 135.03 17.51 135.72 13.97 136.42 11.67 137.11 10.95 137.81 11.98 138.5 14.71 139.2 18.88 139.89 24.01 140.59 29.55 141.28 34.92 141.98 39.68 142.68 43.53 143.37 46.38 144.07 48.3 144.76 49.47 145.46 50.11 146.15 50.41 146.85 50.54 147.54 50.58 148.24 50.59 148.93 50.59\"/>\n",
       "      </g>\n",
       "      <g stroke-width=\"0.26\" fill=\"#000000\" fill-opacity=\"0.000\" class=\"geometry\" stroke-dasharray=\"none\" stroke=\"#E36F47\" id=\"img-07dda5ab-15\">\n",
       "        <path fill=\"none\" d=\"M79.4,90.24 L 79.4 10.95\"/>\n",
       "      </g>\n",
       "    </g>\n",
       "    <g class=\"geometry\" id=\"img-07dda5ab-16\">\n",
       "      <text x=\"135.03\" y=\"14.91\">ABC</text>\n",
       "    </g>\n",
       "    <g class=\"geometry\" id=\"img-07dda5ab-17\">\n",
       "      <text x=\"9.86\" y=\"14.91\">ABC</text>\n",
       "    </g>\n",
       "    <g class=\"geometry\" id=\"img-07dda5ab-18\">\n",
       "      <text x=\"79.4\" y=\"14.91\">Eps = 9</text>\n",
       "    </g>\n",
       "    <g class=\"geometry\" id=\"img-07dda5ab-19\">\n",
       "      <text x=\"65.49\" y=\"18.88\">Eps = 1</text>\n",
       "    </g>\n",
       "  </g>\n",
       "</g>\n",
       "  <g class=\"guide ylabels\" font-size=\"2.82\" font-family=\"Helvetica\" fill=\"#000000\" id=\"img-07dda5ab-20\">\n",
       "    <text x=\"6.86\" y=\"98.19\" text-anchor=\"end\" dy=\"0.35em\">-0.3</text>\n",
       "    <text x=\"6.86\" y=\"82.32\" text-anchor=\"end\" dy=\"0.35em\">-0.2</text>\n",
       "    <text x=\"6.86\" y=\"66.46\" text-anchor=\"end\" dy=\"0.35em\">-0.1</text>\n",
       "    <text x=\"6.86\" y=\"50.59\" text-anchor=\"end\" dy=\"0.35em\">0.0</text>\n",
       "    <text x=\"6.86\" y=\"34.73\" text-anchor=\"end\" dy=\"0.35em\">0.1</text>\n",
       "    <text x=\"6.86\" y=\"18.86\" text-anchor=\"end\" dy=\"0.35em\">0.2</text>\n",
       "    <text x=\"6.86\" y=\"3\" text-anchor=\"end\" dy=\"0.35em\">0.3</text>\n",
       "  </g>\n",
       "</g>\n",
       "<defs>\n",
       "  <clipPath id=\"img-07dda5ab-8\">\n",
       "  <path d=\"M7.86,1 L 150.93 1 150.93 100.19 7.86 100.19\" />\n",
       "</clipPath>\n",
       "</defs>\n",
       "</svg>\n"
      ],
      "text/plain": [
       "Compose.SVG(158.73015873015876mm,105.82010582010584mm,IOBuffer(data=UInt8[...], readable=true, writable=true, seekable=true, append=false, size=6965, maxsize=Inf, ptr=6966, mark=-1),nothing,\"img-07dda5ab\",0,Compose.SVGPropertyFrame[],Dict{Type{T},Union{Compose.Property{P<:Compose.PropertyPrimitive},Void}}(Compose.Property{Compose.FillPrimitive}=>nothing),Dict{Compose.ClipPrimitive{P<:NTuple{N,Measures.Measure}},ASCIIString}(Compose.ClipPrimitive{Tuple{Measures.Length{:mm,Float64},Measures.Length{:mm,Float64}}}([(7.860000000000014mm,1.0mm),(150.9334920634921mm,1.0mm),(150.9334920634921mm,100.18677248677251mm),(7.860000000000014mm,100.18677248677251mm)])=>\"img-07dda5ab-8\"),Tuple{Compose.FormPrimitive,ASCIIString}[],Set{AbstractString}(),true,false,nothing,true,\"img-07dda5ab-20\",false,20,AbstractString[\"/home/kryosugarra/.julia/v0.4/Gadfly/src/gadfly.js\"],Tuple{AbstractString,AbstractString}[(\"Snap.svg\",\"Snap\"),(\"Gadfly\",\"Gadfly\")],AbstractString[\"fig.select(\\\"#img-07dda5ab-4\\\")\\n   .drag(function() {}, function() {}, function() {});\",\"fig.select(\\\"#img-07dda5ab-9\\\")\\n   .init_gadfly();\"],false,:none)"
      ]
     },
     "metadata": {},
     "output_type": "display_data"
    },
    {
     "data": {
      "text/html": []
     },
     "execution_count": 65,
     "metadata": {},
     "output_type": "execute_result"
    }
   ],
   "source": [
    "plot(1:size, fieldsnap)\n",
    "plot!([100, 100], [-maximum(abs(fieldsnap)), maximum(abs(fieldsnap))])\n",
    "plot!(ann=[(80, 0.8*maximum(abs(fieldsnap)), \"Eps = 1\")])\n",
    "plot!(ann=[(100, 0.9*maximum(abs(fieldsnap)), \"Eps = 9\")])\n",
    "plot!(ann=[(0, 0.9*maximum(abs(fieldsnap)), \"ABC\")])\n",
    "plot!(ann=[(180, 0.9*maximum(abs(fieldsnap)), \"ABC\")])"
   ]
  },
  {
   "cell_type": "code",
   "execution_count": 41,
   "metadata": {
    "collapsed": false
   },
   "outputs": [
    {
     "name": "stdout",
     "output_type": "stream",
     "text": [
      "0.37112237808209564"
     ]
    }
   ],
   "source": [
    "print(fieldsum)"
   ]
  },
  {
   "cell_type": "markdown",
   "metadata": {},
   "source": [
    "# 2. Dielectric eps=9 with Mur ABC\n",
    "### Setup Grid"
   ]
  },
  {
   "cell_type": "code",
   "execution_count": 59,
   "metadata": {
    "collapsed": true
   },
   "outputs": [],
   "source": [
    "#Global parameters\n",
    "size = 200;\n",
    "endTime = 1000;\n",
    "num_snaps = 200;\n",
    "snap_step = div(endTime, num_snaps);\n",
    "\n",
    "eps1 = 9;\n",
    "eps0 = 1;\n",
    "\n",
    "#Grid\n",
    "\n",
    "# Magnetic\n",
    "hy = zeros(size-1);\n",
    "mu = ones(size-1);\n",
    "\n",
    "chyh = ones(size);\n",
    "chye = ones(size);\n",
    "\n",
    "\n",
    "# Electric\n",
    "ez = zeros(size);\n",
    "eps = ones(size);\n",
    "\n",
    "cezh = ones(size);\n",
    "ceze = ones(size);\n",
    "\n",
    "\n",
    "for i in 1:99\n",
    "    eps[i] = eps0;\n",
    "end\n",
    "for i in 100:size\n",
    "    eps[i] = eps1;\n",
    "end\n",
    "\n",
    "rightBound = boundaries.setup_first_order_abc(eps, mu, size, true)\n",
    "leftBound = boundaries.setup_first_order_abc(eps, mu, 1, false)\n",
    "\n",
    "# output params\n",
    "ez_snapshot = Array{Any}(num_snaps);\n",
    "hy_snapshot = Array{Any}(num_snaps);\n",
    "\n",
    "# \n",
    "fieldsum = 1;\n",
    "sumtime = 650;\n",
    "fieldsnap = zeros(size);"
   ]
  },
  {
   "cell_type": "markdown",
   "metadata": {},
   "source": [
    "### Run simulation"
   ]
  },
  {
   "cell_type": "code",
   "execution_count": 60,
   "metadata": {
    "collapsed": false
   },
   "outputs": [
    {
     "name": "stdout",
     "output_type": "stream",
     "text": [
      "1.0022636888954596e-5"
     ]
    }
   ],
   "source": [
    "# Time steps\n",
    "\n",
    "for time in 1:endTime\n",
    "    # Incident\n",
    "    # ez_inc, hy_inc = sources.gaussian_source(50, time);\n",
    "    delay = 250.\n",
    "    width = 400.\n",
    "    \n",
    "    ez_inc = exp(-(time + 0.5 - (-0.5) - delay) * (time + 0.5 - (-0.5) - delay) / width);\n",
    "    hy_inc = exp(-(time - delay) * (time - delay) / width) / globals.imp0;\n",
    "    \n",
    "    #\n",
    "    # Magnetic\n",
    "    #\n",
    "        \n",
    "    # Interior update\n",
    "    update.update_magnetic_field!(ez, hy, mu, chyh, chye);    \n",
    "    \n",
    "    # TFSF\n",
    "    hy[49] -= hy_inc \n",
    "    \n",
    "    #\n",
    "    # Electric\n",
    "    #\n",
    "       \n",
    "    # Interior update\n",
    "    update.update_electric_field!(ez, hy, eps, cezh, ceze);\n",
    "    \n",
    "    # ABC\n",
    "    boundaries.first_order_diff_abc!(ez, leftBound)\n",
    "    boundaries.first_order_diff_abc!(ez, rightBound)\n",
    "    \n",
    "    # TFSF\n",
    "    ez[50] += ez_inc \n",
    " \n",
    "    #Catch minimum E-Field\n",
    "    if time == sumtime\n",
    "            fieldsum = sum(ez.^2)\n",
    "            fieldsnap = copy(ez)\n",
    "    end\n",
    "    \n",
    "    #Snapshots for animation\n",
    "    if mod(time, snap_step) == 0\n",
    "        ez_snapshot[div(time,snap_step)] = (time, copy(ez))\n",
    "        hy_snapshot[div(time,snap_step)] = (time, copy(hy).*globals.imp0)        \n",
    "    end\n",
    "    \n",
    "end\n",
    "print(fieldsum)"
   ]
  },
  {
   "cell_type": "markdown",
   "metadata": {},
   "source": [
    "### Plot animation"
   ]
  },
  {
   "cell_type": "code",
   "execution_count": 62,
   "metadata": {
    "collapsed": false
   },
   "outputs": [
    {
     "name": "stderr",
     "output_type": "stream",
     "text": [
      "INFO: Saved animation to /media/storage/Documents/Github/1d-fdtd/tasks/Task1/Mur-ABC-Mur-ABC.gif\n"
     ]
    },
    {
     "data": {
      "text/html": [
       "<img src=\"Task1/Mur-ABC-Mur-ABC.gif?0.09053770509461456>\" />"
      ],
      "text/plain": [
       "Plots.AnimatedGif(\"/media/storage/Documents/Github/1d-fdtd/tasks/Task1/Mur-ABC-Mur-ABC.gif\")"
      ]
     },
     "execution_count": 62,
     "metadata": {},
     "output_type": "execute_result"
    }
   ],
   "source": [
    "anim = Animation()\n",
    "\n",
    "for i = 1:num_snaps\n",
    "    p = plot(1:size, ez_snapshot[i][2], lab=\"Ez\")\n",
    "    plot!(1:size-1, hy_snapshot[i][2], lab=\"Hy*imp0\")\n",
    "    \n",
    "    time = ez_snapshot[i][1]\n",
    "    plot!(ann=[(150, 1.5, \"time =$time\")])\n",
    "    plot!(ann=[(0, 1.1, \"ABC\")])\n",
    "    plot!(ann=[(180, 1.1, \"ABC\")])\n",
    "    \n",
    "    plot!(ann=[(80, 1.2, \"Eps = 1\")])\n",
    "    plot!(ann=[(100, 1.1, \"Eps = 9\")])    \n",
    "    plot!([100, 100], [-2, 2])\n",
    "    \n",
    "    plot!(xlims=(1, 200), ylims=(-2, 2))\n",
    "    frame(anim, p)\n",
    "end\n",
    "gif(anim, \"./Task1/Mur-ABC-Mur-ABC.gif\", fps=15)"
   ]
  },
  {
   "cell_type": "markdown",
   "metadata": {},
   "source": [
    "### Field after reflection"
   ]
  },
  {
   "cell_type": "code",
   "execution_count": 61,
   "metadata": {
    "collapsed": false
   },
   "outputs": [
    {
     "data": {
      "image/svg+xml": [
       "<?xml version=\"1.0\" encoding=\"UTF-8\"?>\n",
       "<svg xmlns=\"http://www.w3.org/2000/svg\"\n",
       "     xmlns:xlink=\"http://www.w3.org/1999/xlink\"\n",
       "     xmlns:gadfly=\"http://www.gadflyjl.org/ns\"\n",
       "     version=\"1.2\"\n",
       "     width=\"158.73mm\" height=\"105.82mm\" viewBox=\"0 0 158.73 105.82\"\n",
       "     stroke=\"none\"\n",
       "     fill=\"#000000\"\n",
       "     stroke-width=\"0.3\"\n",
       "     font-size=\"3.88\"\n",
       ">\n",
       "<g stroke=\"#000000\" stroke-opacity=\"0.000\" fill=\"#FFFFFF\" id=\"img-8431898b-1\">\n",
       "  <rect x=\"0\" y=\"0\" width=\"158.73\" height=\"105.82\"/>\n",
       "</g>\n",
       "<g class=\"plotroot xscalable yscalable\" id=\"img-8431898b-2\">\n",
       "  <g class=\"guide xlabels\" font-size=\"2.82\" font-family=\"Helvetica\" fill=\"#000000\" id=\"img-8431898b-3\">\n",
       "    <text x=\"12.99\" y=\"101.19\" text-anchor=\"middle\" dy=\"0.6em\">0</text>\n",
       "    <text x=\"46.98\" y=\"101.19\" text-anchor=\"middle\" dy=\"0.6em\">50</text>\n",
       "    <text x=\"80.96\" y=\"101.19\" text-anchor=\"middle\" dy=\"0.6em\">100</text>\n",
       "    <text x=\"114.95\" y=\"101.19\" text-anchor=\"middle\" dy=\"0.6em\">150</text>\n",
       "    <text x=\"148.93\" y=\"101.19\" text-anchor=\"middle\" dy=\"0.6em\">200</text>\n",
       "  </g>\n",
       "  <g class=\"guide colorkey\" id=\"img-8431898b-4\">\n",
       "    <g fill=\"#000000\" font-size=\"2.82\" font-family=\"Helvetica\" id=\"img-8431898b-5\">\n",
       "      <text x=\"154.75\" y=\"50.59\" dy=\"0.35em\">y1</text>\n",
       "      <text x=\"154.75\" y=\"54.23\" dy=\"0.35em\">y2</text>\n",
       "    </g>\n",
       "    <g stroke=\"#000000\" stroke-opacity=\"0.000\" id=\"img-8431898b-6\">\n",
       "      <rect x=\"151.93\" y=\"49.69\" width=\"1.82\" height=\"1.82\" fill=\"#009AFA\"/>\n",
       "      <rect x=\"151.93\" y=\"53.32\" width=\"1.82\" height=\"1.82\" fill=\"#E36F47\"/>\n",
       "    </g>\n",
       "    <g fill=\"#000000\" font-size=\"3.88\" font-family=\"Helvetica\" stroke=\"#000000\" stroke-opacity=\"0.000\" id=\"img-8431898b-7\">\n",
       "      <text x=\"151.93\" y=\"46.77\"></text>\n",
       "    </g>\n",
       "  </g>\n",
       "<g clip-path=\"url(#img-8431898b-8)\">\n",
       "  <g id=\"img-8431898b-9\">\n",
       "    <g pointer-events=\"visible\" opacity=\"1\" fill=\"#000000\" fill-opacity=\"0.000\" stroke=\"#000000\" stroke-opacity=\"0.000\" class=\"guide background\" id=\"img-8431898b-10\">\n",
       "      <rect x=\"10.99\" y=\"1\" width=\"139.94\" height=\"99.19\"/>\n",
       "    </g>\n",
       "    <g class=\"guide ygridlines xfixed\" stroke-dasharray=\"0.5,0.5\" stroke-width=\"0.2\" stroke=\"#D0D0E0\" id=\"img-8431898b-11\">\n",
       "      <path fill=\"none\" d=\"M10.99,98.19 L 150.93 98.19\"/>\n",
       "      <path fill=\"none\" d=\"M10.99,74.39 L 150.93 74.39\"/>\n",
       "      <path fill=\"none\" d=\"M10.99,50.59 L 150.93 50.59\"/>\n",
       "      <path fill=\"none\" d=\"M10.99,26.8 L 150.93 26.8\"/>\n",
       "      <path fill=\"none\" d=\"M10.99,3 L 150.93 3\"/>\n",
       "    </g>\n",
       "    <g class=\"guide xgridlines yfixed\" stroke-dasharray=\"0.5,0.5\" stroke-width=\"0.2\" stroke=\"#D0D0E0\" id=\"img-8431898b-12\">\n",
       "      <path fill=\"none\" d=\"M12.99,1 L 12.99 100.19\"/>\n",
       "      <path fill=\"none\" d=\"M46.98,1 L 46.98 100.19\"/>\n",
       "      <path fill=\"none\" d=\"M80.96,1 L 80.96 100.19\"/>\n",
       "      <path fill=\"none\" d=\"M114.95,1 L 114.95 100.19\"/>\n",
       "      <path fill=\"none\" d=\"M148.93,1 L 148.93 100.19\"/>\n",
       "    </g>\n",
       "    <g class=\"plotpanel\" id=\"img-8431898b-13\">\n",
       "      <g stroke-width=\"0.26\" fill=\"#000000\" fill-opacity=\"0.000\" class=\"geometry\" stroke-dasharray=\"none\" stroke=\"#009AFA\" id=\"img-8431898b-14\">\n",
       "        <path fill=\"none\" d=\"M13.67,50.59 L 14.35 50.59 15.03 50.59 15.71 50.59 16.39 50.59 17.07 50.59 17.75 50.59 18.43 50.59 19.11 50.59 19.79 50.59 20.47 50.59 21.15 50.59 21.83 50.59 22.51 50.59 23.19 50.59 23.87 50.59 24.55 50.59 25.23 50.59 25.91 50.59 26.59 50.59 27.27 50.59 27.95 50.59 28.63 50.59 29.31 50.59 29.99 50.59 30.67 50.59 31.35 50.59 32.02 50.59 32.7 50.59 33.38 50.59 34.06 50.59 34.74 50.59 35.42 50.59 36.1 50.59 36.78 50.59 37.46 50.59 38.14 50.59 38.82 50.59 39.5 50.59 40.18 50.59 40.86 50.59 41.54 50.59 42.22 50.59 42.9 50.59 43.58 50.59 44.26 50.59 44.94 50.59 45.62 50.59 46.3 50.59 46.98 50.59 47.66 50.59 48.34 50.59 49.02 50.59 49.7 50.59 50.38 50.59 51.06 50.59 51.74 50.59 52.42 50.59 53.1 50.59 53.78 50.59 54.46 50.59 55.13 50.59 55.81 50.59 56.49 50.59 57.17 50.59 57.85 50.59 58.53 50.59 59.21 50.59 59.89 50.59 60.57 50.59 61.25 50.59 61.93 50.59 62.61 50.59 63.29 50.59 63.97 50.59 64.65 50.59 65.33 50.59 66.01 50.59 66.69 50.59 67.37 50.59 68.05 50.59 68.73 50.59 69.41 50.59 70.09 50.59 70.77 50.59 71.45 50.59 72.13 50.59 72.81 50.59 73.49 50.59 74.17 50.59 74.85 50.59 75.53 50.59 76.21 50.59 76.89 50.59 77.56 50.59 78.24 50.59 78.92 50.59 79.6 50.59 80.28 50.59 80.96 50.59 81.64 50.59 82.32 50.59 83 50.59 83.68 50.59 84.36 50.59 85.04 50.59 85.72 50.59 86.4 50.59 87.08 50.59 87.76 50.59 88.44 50.59 89.12 50.59 89.8 50.59 90.48 50.59 91.16 50.59 91.84 50.59 92.52 50.59 93.2 50.59 93.88 50.59 94.56 50.59 95.24 50.59 95.92 50.59 96.6 50.59 97.28 50.59 97.96 50.59 98.64 50.59 99.32 50.59 100 50.59 100.67 50.59 101.35 50.59 102.03 50.59 102.71 50.59 103.39 50.59 104.07 50.59 104.75 50.59 105.43 50.59 106.11 50.59 106.79 50.59 107.47 50.59 108.15 50.59 108.83 50.59 109.51 50.59 110.19 50.59 110.87 50.59 111.55 50.59 112.23 50.59 112.91 50.59 113.59 50.59 114.27 50.59 114.95 50.59 115.63 50.59 116.31 50.59 116.99 50.59 117.67 50.59 118.35 50.59 119.03 50.6 119.71 50.6 120.39 50.61 121.07 50.62 121.75 50.64 122.43 50.67 123.1 50.74 123.78 50.84 124.46 51.02 125.14 51.29 125.82 51.71 126.5 52.32 127.18 53.16 127.86 54.27 128.54 55.66 129.22 57.25 129.9 58.92 130.58 60.4 131.26 61.34 131.94 61.31 132.62 59.85 133.3 56.63 133.98 51.55 134.66 44.87 135.34 37.29 136.02 29.93 136.7 24.14 137.38 21.19 138.06 21.94 138.74 26.56 139.42 34.36 140.1 43.9 140.78 53.38 141.46 61.09 142.14 65.88 142.82 67.41 143.5 66.16 144.18 63.12 144.86 59.46 145.53 56.09 146.21 53.55 146.89 51.92 147.57 51.08 148.25 50.68 148.93 49.95\"/>\n",
       "      </g>\n",
       "      <g stroke-width=\"0.26\" fill=\"#000000\" fill-opacity=\"0.000\" class=\"geometry\" stroke-dasharray=\"none\" stroke=\"#E36F47\" id=\"img-8431898b-15\">\n",
       "        <path fill=\"none\" d=\"M80.96,80 L 80.96 21.19\"/>\n",
       "      </g>\n",
       "    </g>\n",
       "    <g class=\"geometry\" id=\"img-8431898b-16\">\n",
       "      <text x=\"135.34\" y=\"24.13\">Mur ABC</text>\n",
       "    </g>\n",
       "    <g class=\"geometry\" id=\"img-8431898b-17\">\n",
       "      <text x=\"12.99\" y=\"24.13\">Mur ABC</text>\n",
       "    </g>\n",
       "    <g class=\"geometry\" id=\"img-8431898b-18\">\n",
       "      <text x=\"80.96\" y=\"24.13\">Eps = 9</text>\n",
       "    </g>\n",
       "    <g class=\"geometry\" id=\"img-8431898b-19\">\n",
       "      <text x=\"67.37\" y=\"27.07\">Eps = 1</text>\n",
       "    </g>\n",
       "  </g>\n",
       "</g>\n",
       "  <g class=\"guide ylabels\" font-size=\"2.82\" font-family=\"Helvetica\" fill=\"#000000\" id=\"img-8431898b-20\">\n",
       "    <text x=\"9.99\" y=\"98.19\" text-anchor=\"end\" dy=\"0.35em\">-0.002</text>\n",
       "    <text x=\"9.99\" y=\"74.39\" text-anchor=\"end\" dy=\"0.35em\">-0.001</text>\n",
       "    <text x=\"9.99\" y=\"50.59\" text-anchor=\"end\" dy=\"0.35em\">0.000</text>\n",
       "    <text x=\"9.99\" y=\"26.8\" text-anchor=\"end\" dy=\"0.35em\">0.001</text>\n",
       "    <text x=\"9.99\" y=\"3\" text-anchor=\"end\" dy=\"0.35em\">0.002</text>\n",
       "  </g>\n",
       "</g>\n",
       "<defs>\n",
       "  <clipPath id=\"img-8431898b-8\">\n",
       "  <path d=\"M10.99,1 L 150.93 1 150.93 100.19 10.99 100.19\" />\n",
       "</clipPath>\n",
       "</defs>\n",
       "</svg>\n"
      ],
      "text/html": [
       "<?xml version=\"1.0\" encoding=\"UTF-8\"?>\n",
       "<svg xmlns=\"http://www.w3.org/2000/svg\"\n",
       "     xmlns:xlink=\"http://www.w3.org/1999/xlink\"\n",
       "     xmlns:gadfly=\"http://www.gadflyjl.org/ns\"\n",
       "     version=\"1.2\"\n",
       "     width=\"158.73mm\" height=\"105.82mm\" viewBox=\"0 0 158.73 105.82\"\n",
       "     stroke=\"none\"\n",
       "     fill=\"#000000\"\n",
       "     stroke-width=\"0.3\"\n",
       "     font-size=\"3.88\"\n",
       ">\n",
       "<g stroke=\"#000000\" stroke-opacity=\"0.000\" fill=\"#FFFFFF\" id=\"img-8431898b-1\">\n",
       "  <rect x=\"0\" y=\"0\" width=\"158.73\" height=\"105.82\"/>\n",
       "</g>\n",
       "<g class=\"plotroot xscalable yscalable\" id=\"img-8431898b-2\">\n",
       "  <g class=\"guide xlabels\" font-size=\"2.82\" font-family=\"Helvetica\" fill=\"#000000\" id=\"img-8431898b-3\">\n",
       "    <text x=\"12.99\" y=\"101.19\" text-anchor=\"middle\" dy=\"0.6em\">0</text>\n",
       "    <text x=\"46.98\" y=\"101.19\" text-anchor=\"middle\" dy=\"0.6em\">50</text>\n",
       "    <text x=\"80.96\" y=\"101.19\" text-anchor=\"middle\" dy=\"0.6em\">100</text>\n",
       "    <text x=\"114.95\" y=\"101.19\" text-anchor=\"middle\" dy=\"0.6em\">150</text>\n",
       "    <text x=\"148.93\" y=\"101.19\" text-anchor=\"middle\" dy=\"0.6em\">200</text>\n",
       "  </g>\n",
       "  <g class=\"guide colorkey\" id=\"img-8431898b-4\">\n",
       "    <g fill=\"#000000\" font-size=\"2.82\" font-family=\"Helvetica\" id=\"img-8431898b-5\">\n",
       "      <text x=\"154.75\" y=\"50.59\" dy=\"0.35em\">y1</text>\n",
       "      <text x=\"154.75\" y=\"54.23\" dy=\"0.35em\">y2</text>\n",
       "    </g>\n",
       "    <g stroke=\"#000000\" stroke-opacity=\"0.000\" id=\"img-8431898b-6\">\n",
       "      <rect x=\"151.93\" y=\"49.69\" width=\"1.82\" height=\"1.82\" fill=\"#009AFA\"/>\n",
       "      <rect x=\"151.93\" y=\"53.32\" width=\"1.82\" height=\"1.82\" fill=\"#E36F47\"/>\n",
       "    </g>\n",
       "    <g fill=\"#000000\" font-size=\"3.88\" font-family=\"Helvetica\" stroke=\"#000000\" stroke-opacity=\"0.000\" id=\"img-8431898b-7\">\n",
       "      <text x=\"151.93\" y=\"46.77\"></text>\n",
       "    </g>\n",
       "  </g>\n",
       "<g clip-path=\"url(#img-8431898b-8)\">\n",
       "  <g id=\"img-8431898b-9\">\n",
       "    <g pointer-events=\"visible\" opacity=\"1\" fill=\"#000000\" fill-opacity=\"0.000\" stroke=\"#000000\" stroke-opacity=\"0.000\" class=\"guide background\" id=\"img-8431898b-10\">\n",
       "      <rect x=\"10.99\" y=\"1\" width=\"139.94\" height=\"99.19\"/>\n",
       "    </g>\n",
       "    <g class=\"guide ygridlines xfixed\" stroke-dasharray=\"0.5,0.5\" stroke-width=\"0.2\" stroke=\"#D0D0E0\" id=\"img-8431898b-11\">\n",
       "      <path fill=\"none\" d=\"M10.99,98.19 L 150.93 98.19\"/>\n",
       "      <path fill=\"none\" d=\"M10.99,74.39 L 150.93 74.39\"/>\n",
       "      <path fill=\"none\" d=\"M10.99,50.59 L 150.93 50.59\"/>\n",
       "      <path fill=\"none\" d=\"M10.99,26.8 L 150.93 26.8\"/>\n",
       "      <path fill=\"none\" d=\"M10.99,3 L 150.93 3\"/>\n",
       "    </g>\n",
       "    <g class=\"guide xgridlines yfixed\" stroke-dasharray=\"0.5,0.5\" stroke-width=\"0.2\" stroke=\"#D0D0E0\" id=\"img-8431898b-12\">\n",
       "      <path fill=\"none\" d=\"M12.99,1 L 12.99 100.19\"/>\n",
       "      <path fill=\"none\" d=\"M46.98,1 L 46.98 100.19\"/>\n",
       "      <path fill=\"none\" d=\"M80.96,1 L 80.96 100.19\"/>\n",
       "      <path fill=\"none\" d=\"M114.95,1 L 114.95 100.19\"/>\n",
       "      <path fill=\"none\" d=\"M148.93,1 L 148.93 100.19\"/>\n",
       "    </g>\n",
       "    <g class=\"plotpanel\" id=\"img-8431898b-13\">\n",
       "      <g stroke-width=\"0.26\" fill=\"#000000\" fill-opacity=\"0.000\" class=\"geometry\" stroke-dasharray=\"none\" stroke=\"#009AFA\" id=\"img-8431898b-14\">\n",
       "        <path fill=\"none\" d=\"M13.67,50.59 L 14.35 50.59 15.03 50.59 15.71 50.59 16.39 50.59 17.07 50.59 17.75 50.59 18.43 50.59 19.11 50.59 19.79 50.59 20.47 50.59 21.15 50.59 21.83 50.59 22.51 50.59 23.19 50.59 23.87 50.59 24.55 50.59 25.23 50.59 25.91 50.59 26.59 50.59 27.27 50.59 27.95 50.59 28.63 50.59 29.31 50.59 29.99 50.59 30.67 50.59 31.35 50.59 32.02 50.59 32.7 50.59 33.38 50.59 34.06 50.59 34.74 50.59 35.42 50.59 36.1 50.59 36.78 50.59 37.46 50.59 38.14 50.59 38.82 50.59 39.5 50.59 40.18 50.59 40.86 50.59 41.54 50.59 42.22 50.59 42.9 50.59 43.58 50.59 44.26 50.59 44.94 50.59 45.62 50.59 46.3 50.59 46.98 50.59 47.66 50.59 48.34 50.59 49.02 50.59 49.7 50.59 50.38 50.59 51.06 50.59 51.74 50.59 52.42 50.59 53.1 50.59 53.78 50.59 54.46 50.59 55.13 50.59 55.81 50.59 56.49 50.59 57.17 50.59 57.85 50.59 58.53 50.59 59.21 50.59 59.89 50.59 60.57 50.59 61.25 50.59 61.93 50.59 62.61 50.59 63.29 50.59 63.97 50.59 64.65 50.59 65.33 50.59 66.01 50.59 66.69 50.59 67.37 50.59 68.05 50.59 68.73 50.59 69.41 50.59 70.09 50.59 70.77 50.59 71.45 50.59 72.13 50.59 72.81 50.59 73.49 50.59 74.17 50.59 74.85 50.59 75.53 50.59 76.21 50.59 76.89 50.59 77.56 50.59 78.24 50.59 78.92 50.59 79.6 50.59 80.28 50.59 80.96 50.59 81.64 50.59 82.32 50.59 83 50.59 83.68 50.59 84.36 50.59 85.04 50.59 85.72 50.59 86.4 50.59 87.08 50.59 87.76 50.59 88.44 50.59 89.12 50.59 89.8 50.59 90.48 50.59 91.16 50.59 91.84 50.59 92.52 50.59 93.2 50.59 93.88 50.59 94.56 50.59 95.24 50.59 95.92 50.59 96.6 50.59 97.28 50.59 97.96 50.59 98.64 50.59 99.32 50.59 100 50.59 100.67 50.59 101.35 50.59 102.03 50.59 102.71 50.59 103.39 50.59 104.07 50.59 104.75 50.59 105.43 50.59 106.11 50.59 106.79 50.59 107.47 50.59 108.15 50.59 108.83 50.59 109.51 50.59 110.19 50.59 110.87 50.59 111.55 50.59 112.23 50.59 112.91 50.59 113.59 50.59 114.27 50.59 114.95 50.59 115.63 50.59 116.31 50.59 116.99 50.59 117.67 50.59 118.35 50.59 119.03 50.6 119.71 50.6 120.39 50.61 121.07 50.62 121.75 50.64 122.43 50.67 123.1 50.74 123.78 50.84 124.46 51.02 125.14 51.29 125.82 51.71 126.5 52.32 127.18 53.16 127.86 54.27 128.54 55.66 129.22 57.25 129.9 58.92 130.58 60.4 131.26 61.34 131.94 61.31 132.62 59.85 133.3 56.63 133.98 51.55 134.66 44.87 135.34 37.29 136.02 29.93 136.7 24.14 137.38 21.19 138.06 21.94 138.74 26.56 139.42 34.36 140.1 43.9 140.78 53.38 141.46 61.09 142.14 65.88 142.82 67.41 143.5 66.16 144.18 63.12 144.86 59.46 145.53 56.09 146.21 53.55 146.89 51.92 147.57 51.08 148.25 50.68 148.93 49.95\"/>\n",
       "      </g>\n",
       "      <g stroke-width=\"0.26\" fill=\"#000000\" fill-opacity=\"0.000\" class=\"geometry\" stroke-dasharray=\"none\" stroke=\"#E36F47\" id=\"img-8431898b-15\">\n",
       "        <path fill=\"none\" d=\"M80.96,80 L 80.96 21.19\"/>\n",
       "      </g>\n",
       "    </g>\n",
       "    <g class=\"geometry\" id=\"img-8431898b-16\">\n",
       "      <text x=\"135.34\" y=\"24.13\">Mur ABC</text>\n",
       "    </g>\n",
       "    <g class=\"geometry\" id=\"img-8431898b-17\">\n",
       "      <text x=\"12.99\" y=\"24.13\">Mur ABC</text>\n",
       "    </g>\n",
       "    <g class=\"geometry\" id=\"img-8431898b-18\">\n",
       "      <text x=\"80.96\" y=\"24.13\">Eps = 9</text>\n",
       "    </g>\n",
       "    <g class=\"geometry\" id=\"img-8431898b-19\">\n",
       "      <text x=\"67.37\" y=\"27.07\">Eps = 1</text>\n",
       "    </g>\n",
       "  </g>\n",
       "</g>\n",
       "  <g class=\"guide ylabels\" font-size=\"2.82\" font-family=\"Helvetica\" fill=\"#000000\" id=\"img-8431898b-20\">\n",
       "    <text x=\"9.99\" y=\"98.19\" text-anchor=\"end\" dy=\"0.35em\">-0.002</text>\n",
       "    <text x=\"9.99\" y=\"74.39\" text-anchor=\"end\" dy=\"0.35em\">-0.001</text>\n",
       "    <text x=\"9.99\" y=\"50.59\" text-anchor=\"end\" dy=\"0.35em\">0.000</text>\n",
       "    <text x=\"9.99\" y=\"26.8\" text-anchor=\"end\" dy=\"0.35em\">0.001</text>\n",
       "    <text x=\"9.99\" y=\"3\" text-anchor=\"end\" dy=\"0.35em\">0.002</text>\n",
       "  </g>\n",
       "</g>\n",
       "<defs>\n",
       "  <clipPath id=\"img-8431898b-8\">\n",
       "  <path d=\"M10.99,1 L 150.93 1 150.93 100.19 10.99 100.19\" />\n",
       "</clipPath>\n",
       "</defs>\n",
       "</svg>\n"
      ],
      "text/plain": [
       "Compose.SVG(158.73015873015876mm,105.82010582010584mm,IOBuffer(data=UInt8[...], readable=true, writable=true, seekable=true, append=false, size=6736, maxsize=Inf, ptr=6737, mark=-1),nothing,\"img-8431898b\",0,Compose.SVGPropertyFrame[],Dict{Type{T},Union{Compose.Property{P<:Compose.PropertyPrimitive},Void}}(Compose.Property{Compose.FillPrimitive}=>nothing),Dict{Compose.ClipPrimitive{P<:NTuple{N,Measures.Measure}},ASCIIString}(Compose.ClipPrimitive{Tuple{Measures.Length{:mm,Float64},Measures.Length{:mm,Float64}}}([(10.99333333333334mm,1.0mm),(150.9334920634921mm,1.0mm),(150.9334920634921mm,100.18677248677251mm),(10.99333333333334mm,100.18677248677251mm)])=>\"img-8431898b-8\"),Tuple{Compose.FormPrimitive,ASCIIString}[],Set{AbstractString}(),true,false,nothing,true,\"img-8431898b-20\",false,20,AbstractString[\"/home/kryosugarra/.julia/v0.4/Gadfly/src/gadfly.js\"],Tuple{AbstractString,AbstractString}[(\"Snap.svg\",\"Snap\"),(\"Gadfly\",\"Gadfly\")],AbstractString[\"fig.select(\\\"#img-8431898b-4\\\")\\n   .drag(function() {}, function() {}, function() {});\",\"fig.select(\\\"#img-8431898b-9\\\")\\n   .init_gadfly();\"],false,:none)"
      ]
     },
     "metadata": {},
     "output_type": "display_data"
    },
    {
     "data": {
      "text/html": []
     },
     "execution_count": 61,
     "metadata": {},
     "output_type": "execute_result"
    }
   ],
   "source": [
    "plot(1:size, fieldsnap)\n",
    "plot!([100, 100], [-maximum(abs(fieldsnap)), maximum(abs(fieldsnap))])\n",
    "plot!(ann=[(80, 0.8*maximum(abs(fieldsnap)), \"Eps = 1\")])\n",
    "plot!(ann=[(100, 0.9*maximum(abs(fieldsnap)), \"Eps = 9\")])\n",
    "plot!(ann=[(0, 0.9*maximum(abs(fieldsnap)), \"Mur ABC\")])\n",
    "plot!(ann=[(180, 0.9*maximum(abs(fieldsnap)), \"Mur ABC\")])"
   ]
  },
  {
   "cell_type": "code",
   "execution_count": 46,
   "metadata": {
    "collapsed": false
   },
   "outputs": [
    {
     "name": "stdout",
     "output_type": "stream",
     "text": [
      "2.903557638071835e-5"
     ]
    }
   ],
   "source": [
    "print(fieldsum)"
   ]
  },
  {
   "cell_type": "markdown",
   "metadata": {},
   "source": [
    "# 3. Dielectric eps=9 with 5 Cell CPML\n",
    "### Setup Grid"
   ]
  },
  {
   "cell_type": "code",
   "execution_count": 47,
   "metadata": {
    "collapsed": true
   },
   "outputs": [],
   "source": [
    "#Global parameters\n",
    "size = 200;\n",
    "endTime = 800;\n",
    "num_snaps = 200;\n",
    "snap_step = div(endTime, num_snaps);\n",
    "\n",
    "eps1 = 9;\n",
    "eps0 = 1;\n",
    "\n",
    "#Grid\n",
    "\n",
    "# Magnetic\n",
    "hy = zeros(size);\n",
    "mu = ones(size);\n",
    "\n",
    "chyh = ones(size);\n",
    "chye = ones(size);\n",
    "\n",
    "# Electric\n",
    "ez = zeros(size);\n",
    "eps = ones(size);\n",
    "\n",
    "cezh = ones(size);\n",
    "ceze = ones(size);\n",
    "\n",
    "\n",
    "for i in 1:99\n",
    "    eps[i] = eps0;\n",
    "end\n",
    "for i in 100:size\n",
    "    eps[i] = eps1;\n",
    "end\n",
    "\n",
    "# output params\n",
    "ez_snapshot = Array{Any}(num_snaps);\n",
    "hy_snapshot = Array{Any}(num_snaps);\n",
    "\n",
    "# \n",
    "fieldsum = 1;\n",
    "sumtime = 650;\n",
    "fieldsnap = zeros(size);\n"
   ]
  },
  {
   "cell_type": "markdown",
   "metadata": {},
   "source": [
    "### Setup CPML"
   ]
  },
  {
   "cell_type": "code",
   "execution_count": 48,
   "metadata": {
    "collapsed": false
   },
   "outputs": [],
   "source": [
    "#\n",
    "# setup CPML\n",
    "#\n",
    "\n",
    "# constants\n",
    "dx = 1.0;\n",
    "R0 = 1e-5;\n",
    "m = 2.85;\n",
    "pml_width = 5.0;\n",
    "\n",
    "# coeffs\n",
    "sigma_max = -(m+1)*log(R0)/2/globals.imp0/(pml_width*dx)\n",
    "sigma_x = zeros(size);\n",
    "sigma_m_x = zeros(size);\n",
    "\n",
    "for i in 1:round(Int,pml_width)\n",
    "    sigma_x[i+1] = sigma_max * real(Complex(((pml_width-(i-1)-0.5)/pml_width))^m)\n",
    "    sigma_m_x[i] = sigma_max * real(Complex(((pml_width-(i-1))/pml_width))^m)\n",
    "    \n",
    "    sigma_x[size-(i-1)] = sigma_max * real(Complex(((pml_width-i-0.5)/pml_width))^m)  \n",
    "    sigma_m_x[size-(i-1)] = sigma_max * real(Complex(((pml_width-i)/pml_width))^m)\n",
    "end\n",
    "\n",
    "aex = exp(-sigma_x .* globals.imp0)-1\n",
    "bex = exp(-sigma_x .* globals.imp0)\n",
    "\n",
    "ahx = exp(-sigma_m_x .* globals.imp0)-1\n",
    "bhx = exp(-sigma_m_x .* globals.imp0)\n",
    "\n",
    "# arrays\n",
    "p_hy = zeros(size);\n",
    "p_ez = zeros(size);"
   ]
  },
  {
   "cell_type": "markdown",
   "metadata": {},
   "source": [
    "### Run Simulation"
   ]
  },
  {
   "cell_type": "code",
   "execution_count": 49,
   "metadata": {
    "collapsed": false
   },
   "outputs": [
    {
     "name": "stdout",
     "output_type": "stream",
     "text": [
      "0.00027295405799045684"
     ]
    }
   ],
   "source": [
    "for time in 1:endTime\n",
    "    # Incident\n",
    "    # ez_inc, hy_inc = sources.gaussian_source(50, time);\n",
    "    delay = 150.\n",
    "    width = 200.\n",
    "    \n",
    "    ez_inc = exp(-(time + 0.5 - (-0.5) - delay) * (time + 0.5 - (-0.5) - delay) / width);\n",
    "    hy_inc = exp(-(time - delay) * (time - delay) / width);\n",
    "\n",
    "\n",
    "    #\n",
    "    # Magnetic\n",
    "    #\n",
    "\n",
    "    # CPML\n",
    "    for i in 1:size-1\n",
    "        p_hy[i] = bhx[i]*p_hy[i] + ahx[i]*(ez[i+1] - ez[i])\n",
    "    end\n",
    "           \n",
    "    # Interior update\n",
    "    for i = 1:size-1\n",
    "        hy[i] = chyh[i] * hy[i] + chye[i] * (ez[i+1] - ez[i]) / globals.imp0 / mu[i]\n",
    "    end\n",
    "       \n",
    "    # CPML\n",
    "    for i in 1:size-1\n",
    "        hy[i] += p_hy[i]/globals.imp0/mu[i]\n",
    "    end\n",
    "\n",
    "    # TFSF\n",
    "    hy[49] -= hy_inc / globals.imp0 / mu[49]\n",
    "    \n",
    "    #\n",
    "    # Electric\n",
    "    #\n",
    "    \n",
    "    # CPML\n",
    "    for i in 2:size\n",
    "        p_ez[i] = bex[i]*p_ez[i] + aex[i]*(hy[i] - hy[i-1])\n",
    "    end\n",
    "\n",
    "    # Interior update\n",
    "    for i = 2:size\n",
    "        ez[i] = ceze[i] * ez[i] + cezh[i] * (hy[i] - hy[i-1]) * globals.imp0 / eps[i]\n",
    "    end  \n",
    " \n",
    "    # CPML\n",
    "    for i in 2:size\n",
    "        ez[i] += p_ez[i]*globals.imp0/eps[i]\n",
    "    end\n",
    "    # TFSF\n",
    "    ez[50] += ez_inc / eps[50]\n",
    "\n",
    "\n",
    "    #Catch minimum E-Field\n",
    "    if time == sumtime\n",
    "            fieldsum = sum(ez.^2)\n",
    "            fieldsnap = copy(ez)\n",
    "    end\n",
    "    \n",
    "    #Snapshots for animation\n",
    "    if mod(time, snap_step) == 0\n",
    "        ez_snapshot[div(time,snap_step)] = (time, copy(ez))\n",
    "        hy_snapshot[div(time,snap_step)] = (time, copy(hy).*globals.imp0)        \n",
    "    end\n",
    "    \n",
    "end\n",
    "print(fieldsum)"
   ]
  },
  {
   "cell_type": "markdown",
   "metadata": {},
   "source": [
    "### Plot animation"
   ]
  },
  {
   "cell_type": "code",
   "execution_count": 50,
   "metadata": {
    "collapsed": false
   },
   "outputs": [
    {
     "name": "stderr",
     "output_type": "stream",
     "text": [
      "INFO: Saved animation to /media/storage/Documents/Github/1d-fdtd/tasks/Task1/ABC-5-CPML.gif\n"
     ]
    },
    {
     "data": {
      "text/html": [
       "<img src=\"Task1/ABC-5-CPML.gif?0.2520693742832527>\" />"
      ],
      "text/plain": [
       "Plots.AnimatedGif(\"/media/storage/Documents/Github/1d-fdtd/tasks/Task1/ABC-5-CPML.gif\")"
      ]
     },
     "execution_count": 50,
     "metadata": {},
     "output_type": "execute_result"
    }
   ],
   "source": [
    "anim = Animation()\n",
    "\n",
    "for i = 1:num_snaps\n",
    "    p = plot(1:size, ez_snapshot[i][2], lab=\"Ez\")\n",
    "    plot!(1:size, hy_snapshot[i][2], lab=\"Hy*imp0\")\n",
    "    \n",
    "    time = ez_snapshot[i][1]\n",
    "    plot!(ann=[(150, 1.5, \"time =$time\")])\n",
    "    plot!(ann=[(0, 1.1, \"CPML\")])\n",
    "    \n",
    "    plot!(ann=[(80, 1.2, \"Eps = 1\")])\n",
    "    plot!(ann=[(101, 1.1, \"Eps = 9\")])    \n",
    "    plot!([100, 100], [-2, 2])\n",
    "    \n",
    "    plot!(ann=[(180, 1.1, \"CPML\")])\n",
    "    \n",
    "    plot!(xlims=(1, 200), ylims=(-2, 2))\n",
    "    frame(anim, p)\n",
    "end\n",
    "gif(anim, \"./Task1/ABC-5-CPML.gif\", fps=15)"
   ]
  },
  {
   "cell_type": "markdown",
   "metadata": {},
   "source": [
    "### Field after reflection"
   ]
  },
  {
   "cell_type": "code",
   "execution_count": 51,
   "metadata": {
    "collapsed": false
   },
   "outputs": [
    {
     "data": {
      "image/svg+xml": [
       "<?xml version=\"1.0\" encoding=\"UTF-8\"?>\n",
       "<svg xmlns=\"http://www.w3.org/2000/svg\"\n",
       "     xmlns:xlink=\"http://www.w3.org/1999/xlink\"\n",
       "     xmlns:gadfly=\"http://www.gadflyjl.org/ns\"\n",
       "     version=\"1.2\"\n",
       "     width=\"158.73mm\" height=\"105.82mm\" viewBox=\"0 0 158.73 105.82\"\n",
       "     stroke=\"none\"\n",
       "     fill=\"#000000\"\n",
       "     stroke-width=\"0.3\"\n",
       "     font-size=\"3.88\"\n",
       ">\n",
       "<g stroke=\"#000000\" stroke-opacity=\"0.000\" fill=\"#FFFFFF\" id=\"img-2639c683-1\">\n",
       "  <rect x=\"0\" y=\"0\" width=\"158.73\" height=\"105.82\"/>\n",
       "</g>\n",
       "<g class=\"plotroot xscalable yscalable\" id=\"img-2639c683-2\">\n",
       "  <g class=\"guide xlabels\" font-size=\"2.82\" font-family=\"Helvetica\" fill=\"#000000\" id=\"img-2639c683-3\">\n",
       "    <text x=\"12.99\" y=\"101.19\" text-anchor=\"middle\" dy=\"0.6em\">0</text>\n",
       "    <text x=\"46.98\" y=\"101.19\" text-anchor=\"middle\" dy=\"0.6em\">50</text>\n",
       "    <text x=\"80.96\" y=\"101.19\" text-anchor=\"middle\" dy=\"0.6em\">100</text>\n",
       "    <text x=\"114.95\" y=\"101.19\" text-anchor=\"middle\" dy=\"0.6em\">150</text>\n",
       "    <text x=\"148.93\" y=\"101.19\" text-anchor=\"middle\" dy=\"0.6em\">200</text>\n",
       "  </g>\n",
       "  <g class=\"guide colorkey\" id=\"img-2639c683-4\">\n",
       "    <g fill=\"#000000\" font-size=\"2.82\" font-family=\"Helvetica\" id=\"img-2639c683-5\">\n",
       "      <text x=\"154.75\" y=\"50.59\" dy=\"0.35em\">y1</text>\n",
       "      <text x=\"154.75\" y=\"54.23\" dy=\"0.35em\">y2</text>\n",
       "    </g>\n",
       "    <g stroke=\"#000000\" stroke-opacity=\"0.000\" id=\"img-2639c683-6\">\n",
       "      <rect x=\"151.93\" y=\"49.69\" width=\"1.82\" height=\"1.82\" fill=\"#009AFA\"/>\n",
       "      <rect x=\"151.93\" y=\"53.32\" width=\"1.82\" height=\"1.82\" fill=\"#E36F47\"/>\n",
       "    </g>\n",
       "    <g fill=\"#000000\" font-size=\"3.88\" font-family=\"Helvetica\" stroke=\"#000000\" stroke-opacity=\"0.000\" id=\"img-2639c683-7\">\n",
       "      <text x=\"151.93\" y=\"46.77\"></text>\n",
       "    </g>\n",
       "  </g>\n",
       "<g clip-path=\"url(#img-2639c683-8)\">\n",
       "  <g id=\"img-2639c683-9\">\n",
       "    <g pointer-events=\"visible\" opacity=\"1\" fill=\"#000000\" fill-opacity=\"0.000\" stroke=\"#000000\" stroke-opacity=\"0.000\" class=\"guide background\" id=\"img-2639c683-10\">\n",
       "      <rect x=\"10.99\" y=\"1\" width=\"139.94\" height=\"99.19\"/>\n",
       "    </g>\n",
       "    <g class=\"guide ygridlines xfixed\" stroke-dasharray=\"0.5,0.5\" stroke-width=\"0.2\" stroke=\"#D0D0E0\" id=\"img-2639c683-11\">\n",
       "      <path fill=\"none\" d=\"M10.99,98.19 L 150.93 98.19\"/>\n",
       "      <path fill=\"none\" d=\"M10.99,82.32 L 150.93 82.32\"/>\n",
       "      <path fill=\"none\" d=\"M10.99,66.46 L 150.93 66.46\"/>\n",
       "      <path fill=\"none\" d=\"M10.99,50.59 L 150.93 50.59\"/>\n",
       "      <path fill=\"none\" d=\"M10.99,34.73 L 150.93 34.73\"/>\n",
       "      <path fill=\"none\" d=\"M10.99,18.86 L 150.93 18.86\"/>\n",
       "      <path fill=\"none\" d=\"M10.99,3 L 150.93 3\"/>\n",
       "    </g>\n",
       "    <g class=\"guide xgridlines yfixed\" stroke-dasharray=\"0.5,0.5\" stroke-width=\"0.2\" stroke=\"#D0D0E0\" id=\"img-2639c683-12\">\n",
       "      <path fill=\"none\" d=\"M12.99,1 L 12.99 100.19\"/>\n",
       "      <path fill=\"none\" d=\"M46.98,1 L 46.98 100.19\"/>\n",
       "      <path fill=\"none\" d=\"M80.96,1 L 80.96 100.19\"/>\n",
       "      <path fill=\"none\" d=\"M114.95,1 L 114.95 100.19\"/>\n",
       "      <path fill=\"none\" d=\"M148.93,1 L 148.93 100.19\"/>\n",
       "    </g>\n",
       "    <g class=\"plotpanel\" id=\"img-2639c683-13\">\n",
       "      <g stroke-width=\"0.26\" fill=\"#000000\" fill-opacity=\"0.000\" class=\"geometry\" stroke-dasharray=\"none\" stroke=\"#009AFA\" id=\"img-2639c683-14\">\n",
       "        <path fill=\"none\" d=\"M13.67,50.59 L 14.35 50.59 15.03 50.59 15.71 50.59 16.39 50.59 17.07 50.59 17.75 50.59 18.43 50.59 19.11 50.59 19.79 50.59 20.47 50.59 21.15 50.59 21.83 50.59 22.51 50.59 23.19 50.59 23.87 50.59 24.55 50.59 25.23 50.59 25.91 50.59 26.59 50.59 27.27 50.59 27.95 50.59 28.63 50.59 29.31 50.59 29.99 50.59 30.67 50.59 31.35 50.6 32.02 50.6 32.7 50.6 33.38 50.6 34.06 50.6 34.74 50.6 35.42 50.6 36.1 50.6 36.78 50.6 37.46 50.6 38.14 50.6 38.82 50.6 39.5 50.6 40.18 50.6 40.86 50.6 41.54 50.6 42.22 50.6 42.9 50.6 43.58 50.6 44.26 50.6 44.94 50.6 45.62 50.6 46.3 50.6 46.98 50.6 47.66 50.6 48.34 50.6 49.02 50.6 49.7 50.59 50.38 50.59 51.06 50.59 51.74 50.59 52.42 50.59 53.1 50.59 53.78 50.59 54.46 50.59 55.13 50.59 55.81 50.59 56.49 50.59 57.17 50.59 57.85 50.59 58.53 50.59 59.21 50.59 59.89 50.59 60.57 50.59 61.25 50.59 61.93 50.59 62.61 50.59 63.29 50.59 63.97 50.59 64.65 50.59 65.33 50.59 66.01 50.59 66.69 50.59 67.37 50.59 68.05 50.59 68.73 50.59 69.41 50.59 70.09 50.59 70.77 50.59 71.45 50.59 72.13 50.59 72.81 50.59 73.49 50.59 74.17 50.59 74.85 50.59 75.53 50.59 76.21 50.59 76.89 50.59 77.56 50.59 78.24 50.59 78.92 50.59 79.6 50.59 80.28 50.59 80.96 50.59 81.64 50.59 82.32 50.59 83 50.59 83.68 50.59 84.36 50.59 85.04 50.59 85.72 50.59 86.4 50.59 87.08 50.59 87.76 50.59 88.44 50.59 89.12 50.59 89.8 50.59 90.48 50.59 91.16 50.59 91.84 50.59 92.52 50.59 93.2 50.59 93.88 50.59 94.56 50.59 95.24 50.59 95.92 50.59 96.6 50.59 97.28 50.58 97.96 50.58 98.64 50.56 99.32 50.53 100 50.47 100.67 50.36 101.35 50.17 102.03 49.84 102.71 49.31 103.39 48.46 104.07 47.16 104.75 45.26 105.43 42.61 106.11 39.08 106.79 34.63 107.47 29.34 108.15 23.48 108.83 17.51 109.51 12.05 110.19 7.77 110.87 5.26 111.55 4.89 112.23 6.68 112.91 10.31 113.59 15.31 114.27 21.2 114.95 27.69 115.63 34.67 116.31 42 116.99 49.22 117.67 55.41 118.35 59.37 119.03 60.16 119.71 57.83 120.39 53.59 121.07 49.48 121.75 47.28 122.43 47.58 123.1 49.51 123.78 51.42 124.46 52.08 125.14 51.44 125.82 50.39 126.5 49.9 127.18 50.18 127.86 50.72 128.54 50.94 129.22 50.74 129.9 50.48 130.58 50.46 131.26 50.59 131.94 50.61 132.62 50.47 133.3 50.43 133.98 50.79 134.66 51.59 135.34 52.67 136.02 53.8 136.7 54.76 137.38 55.39 138.06 55.53 138.74 55.21 139.42 54.56 140.1 53.77 140.78 52.99 141.46 52.29 142.14 51.72 142.82 51.31 143.5 51.03 144.18 50.85 144.86 50.74 145.53 50.67 146.21 50.63 146.89 50.62 147.57 50.6 148.25 50.59 148.93 50.59\"/>\n",
       "      </g>\n",
       "      <g stroke-width=\"0.26\" fill=\"#000000\" fill-opacity=\"0.000\" class=\"geometry\" stroke-dasharray=\"none\" stroke=\"#E36F47\" id=\"img-2639c683-15\">\n",
       "        <path fill=\"none\" d=\"M80.96,96.3 L 80.96 4.89\"/>\n",
       "      </g>\n",
       "    </g>\n",
       "    <g class=\"geometry\" id=\"img-2639c683-16\">\n",
       "      <text x=\"125.14\" y=\"9.46\">5 Cell CPML</text>\n",
       "    </g>\n",
       "    <g class=\"geometry\" id=\"img-2639c683-17\">\n",
       "      <text x=\"12.99\" y=\"9.46\">5 Cell CPML</text>\n",
       "    </g>\n",
       "    <g class=\"geometry\" id=\"img-2639c683-18\">\n",
       "      <text x=\"80.96\" y=\"9.46\">Eps = 9</text>\n",
       "    </g>\n",
       "    <g class=\"geometry\" id=\"img-2639c683-19\">\n",
       "      <text x=\"67.37\" y=\"14.03\">Eps = 1</text>\n",
       "    </g>\n",
       "  </g>\n",
       "</g>\n",
       "  <g class=\"guide ylabels\" font-size=\"2.82\" font-family=\"Helvetica\" fill=\"#000000\" id=\"img-2639c683-20\">\n",
       "    <text x=\"9.99\" y=\"98.19\" text-anchor=\"end\" dy=\"0.35em\">-0.006</text>\n",
       "    <text x=\"9.99\" y=\"82.32\" text-anchor=\"end\" dy=\"0.35em\">-0.004</text>\n",
       "    <text x=\"9.99\" y=\"66.46\" text-anchor=\"end\" dy=\"0.35em\">-0.002</text>\n",
       "    <text x=\"9.99\" y=\"50.59\" text-anchor=\"end\" dy=\"0.35em\">0.000</text>\n",
       "    <text x=\"9.99\" y=\"34.73\" text-anchor=\"end\" dy=\"0.35em\">0.002</text>\n",
       "    <text x=\"9.99\" y=\"18.86\" text-anchor=\"end\" dy=\"0.35em\">0.004</text>\n",
       "    <text x=\"9.99\" y=\"3\" text-anchor=\"end\" dy=\"0.35em\">0.006</text>\n",
       "  </g>\n",
       "</g>\n",
       "<defs>\n",
       "  <clipPath id=\"img-2639c683-8\">\n",
       "  <path d=\"M10.99,1 L 150.93 1 150.93 100.19 10.99 100.19\" />\n",
       "</clipPath>\n",
       "</defs>\n",
       "</svg>\n"
      ],
      "text/html": [
       "<?xml version=\"1.0\" encoding=\"UTF-8\"?>\n",
       "<svg xmlns=\"http://www.w3.org/2000/svg\"\n",
       "     xmlns:xlink=\"http://www.w3.org/1999/xlink\"\n",
       "     xmlns:gadfly=\"http://www.gadflyjl.org/ns\"\n",
       "     version=\"1.2\"\n",
       "     width=\"158.73mm\" height=\"105.82mm\" viewBox=\"0 0 158.73 105.82\"\n",
       "     stroke=\"none\"\n",
       "     fill=\"#000000\"\n",
       "     stroke-width=\"0.3\"\n",
       "     font-size=\"3.88\"\n",
       ">\n",
       "<g stroke=\"#000000\" stroke-opacity=\"0.000\" fill=\"#FFFFFF\" id=\"img-2639c683-1\">\n",
       "  <rect x=\"0\" y=\"0\" width=\"158.73\" height=\"105.82\"/>\n",
       "</g>\n",
       "<g class=\"plotroot xscalable yscalable\" id=\"img-2639c683-2\">\n",
       "  <g class=\"guide xlabels\" font-size=\"2.82\" font-family=\"Helvetica\" fill=\"#000000\" id=\"img-2639c683-3\">\n",
       "    <text x=\"12.99\" y=\"101.19\" text-anchor=\"middle\" dy=\"0.6em\">0</text>\n",
       "    <text x=\"46.98\" y=\"101.19\" text-anchor=\"middle\" dy=\"0.6em\">50</text>\n",
       "    <text x=\"80.96\" y=\"101.19\" text-anchor=\"middle\" dy=\"0.6em\">100</text>\n",
       "    <text x=\"114.95\" y=\"101.19\" text-anchor=\"middle\" dy=\"0.6em\">150</text>\n",
       "    <text x=\"148.93\" y=\"101.19\" text-anchor=\"middle\" dy=\"0.6em\">200</text>\n",
       "  </g>\n",
       "  <g class=\"guide colorkey\" id=\"img-2639c683-4\">\n",
       "    <g fill=\"#000000\" font-size=\"2.82\" font-family=\"Helvetica\" id=\"img-2639c683-5\">\n",
       "      <text x=\"154.75\" y=\"50.59\" dy=\"0.35em\">y1</text>\n",
       "      <text x=\"154.75\" y=\"54.23\" dy=\"0.35em\">y2</text>\n",
       "    </g>\n",
       "    <g stroke=\"#000000\" stroke-opacity=\"0.000\" id=\"img-2639c683-6\">\n",
       "      <rect x=\"151.93\" y=\"49.69\" width=\"1.82\" height=\"1.82\" fill=\"#009AFA\"/>\n",
       "      <rect x=\"151.93\" y=\"53.32\" width=\"1.82\" height=\"1.82\" fill=\"#E36F47\"/>\n",
       "    </g>\n",
       "    <g fill=\"#000000\" font-size=\"3.88\" font-family=\"Helvetica\" stroke=\"#000000\" stroke-opacity=\"0.000\" id=\"img-2639c683-7\">\n",
       "      <text x=\"151.93\" y=\"46.77\"></text>\n",
       "    </g>\n",
       "  </g>\n",
       "<g clip-path=\"url(#img-2639c683-8)\">\n",
       "  <g id=\"img-2639c683-9\">\n",
       "    <g pointer-events=\"visible\" opacity=\"1\" fill=\"#000000\" fill-opacity=\"0.000\" stroke=\"#000000\" stroke-opacity=\"0.000\" class=\"guide background\" id=\"img-2639c683-10\">\n",
       "      <rect x=\"10.99\" y=\"1\" width=\"139.94\" height=\"99.19\"/>\n",
       "    </g>\n",
       "    <g class=\"guide ygridlines xfixed\" stroke-dasharray=\"0.5,0.5\" stroke-width=\"0.2\" stroke=\"#D0D0E0\" id=\"img-2639c683-11\">\n",
       "      <path fill=\"none\" d=\"M10.99,98.19 L 150.93 98.19\"/>\n",
       "      <path fill=\"none\" d=\"M10.99,82.32 L 150.93 82.32\"/>\n",
       "      <path fill=\"none\" d=\"M10.99,66.46 L 150.93 66.46\"/>\n",
       "      <path fill=\"none\" d=\"M10.99,50.59 L 150.93 50.59\"/>\n",
       "      <path fill=\"none\" d=\"M10.99,34.73 L 150.93 34.73\"/>\n",
       "      <path fill=\"none\" d=\"M10.99,18.86 L 150.93 18.86\"/>\n",
       "      <path fill=\"none\" d=\"M10.99,3 L 150.93 3\"/>\n",
       "    </g>\n",
       "    <g class=\"guide xgridlines yfixed\" stroke-dasharray=\"0.5,0.5\" stroke-width=\"0.2\" stroke=\"#D0D0E0\" id=\"img-2639c683-12\">\n",
       "      <path fill=\"none\" d=\"M12.99,1 L 12.99 100.19\"/>\n",
       "      <path fill=\"none\" d=\"M46.98,1 L 46.98 100.19\"/>\n",
       "      <path fill=\"none\" d=\"M80.96,1 L 80.96 100.19\"/>\n",
       "      <path fill=\"none\" d=\"M114.95,1 L 114.95 100.19\"/>\n",
       "      <path fill=\"none\" d=\"M148.93,1 L 148.93 100.19\"/>\n",
       "    </g>\n",
       "    <g class=\"plotpanel\" id=\"img-2639c683-13\">\n",
       "      <g stroke-width=\"0.26\" fill=\"#000000\" fill-opacity=\"0.000\" class=\"geometry\" stroke-dasharray=\"none\" stroke=\"#009AFA\" id=\"img-2639c683-14\">\n",
       "        <path fill=\"none\" d=\"M13.67,50.59 L 14.35 50.59 15.03 50.59 15.71 50.59 16.39 50.59 17.07 50.59 17.75 50.59 18.43 50.59 19.11 50.59 19.79 50.59 20.47 50.59 21.15 50.59 21.83 50.59 22.51 50.59 23.19 50.59 23.87 50.59 24.55 50.59 25.23 50.59 25.91 50.59 26.59 50.59 27.27 50.59 27.95 50.59 28.63 50.59 29.31 50.59 29.99 50.59 30.67 50.59 31.35 50.6 32.02 50.6 32.7 50.6 33.38 50.6 34.06 50.6 34.74 50.6 35.42 50.6 36.1 50.6 36.78 50.6 37.46 50.6 38.14 50.6 38.82 50.6 39.5 50.6 40.18 50.6 40.86 50.6 41.54 50.6 42.22 50.6 42.9 50.6 43.58 50.6 44.26 50.6 44.94 50.6 45.62 50.6 46.3 50.6 46.98 50.6 47.66 50.6 48.34 50.6 49.02 50.6 49.7 50.59 50.38 50.59 51.06 50.59 51.74 50.59 52.42 50.59 53.1 50.59 53.78 50.59 54.46 50.59 55.13 50.59 55.81 50.59 56.49 50.59 57.17 50.59 57.85 50.59 58.53 50.59 59.21 50.59 59.89 50.59 60.57 50.59 61.25 50.59 61.93 50.59 62.61 50.59 63.29 50.59 63.97 50.59 64.65 50.59 65.33 50.59 66.01 50.59 66.69 50.59 67.37 50.59 68.05 50.59 68.73 50.59 69.41 50.59 70.09 50.59 70.77 50.59 71.45 50.59 72.13 50.59 72.81 50.59 73.49 50.59 74.17 50.59 74.85 50.59 75.53 50.59 76.21 50.59 76.89 50.59 77.56 50.59 78.24 50.59 78.92 50.59 79.6 50.59 80.28 50.59 80.96 50.59 81.64 50.59 82.32 50.59 83 50.59 83.68 50.59 84.36 50.59 85.04 50.59 85.72 50.59 86.4 50.59 87.08 50.59 87.76 50.59 88.44 50.59 89.12 50.59 89.8 50.59 90.48 50.59 91.16 50.59 91.84 50.59 92.52 50.59 93.2 50.59 93.88 50.59 94.56 50.59 95.24 50.59 95.92 50.59 96.6 50.59 97.28 50.58 97.96 50.58 98.64 50.56 99.32 50.53 100 50.47 100.67 50.36 101.35 50.17 102.03 49.84 102.71 49.31 103.39 48.46 104.07 47.16 104.75 45.26 105.43 42.61 106.11 39.08 106.79 34.63 107.47 29.34 108.15 23.48 108.83 17.51 109.51 12.05 110.19 7.77 110.87 5.26 111.55 4.89 112.23 6.68 112.91 10.31 113.59 15.31 114.27 21.2 114.95 27.69 115.63 34.67 116.31 42 116.99 49.22 117.67 55.41 118.35 59.37 119.03 60.16 119.71 57.83 120.39 53.59 121.07 49.48 121.75 47.28 122.43 47.58 123.1 49.51 123.78 51.42 124.46 52.08 125.14 51.44 125.82 50.39 126.5 49.9 127.18 50.18 127.86 50.72 128.54 50.94 129.22 50.74 129.9 50.48 130.58 50.46 131.26 50.59 131.94 50.61 132.62 50.47 133.3 50.43 133.98 50.79 134.66 51.59 135.34 52.67 136.02 53.8 136.7 54.76 137.38 55.39 138.06 55.53 138.74 55.21 139.42 54.56 140.1 53.77 140.78 52.99 141.46 52.29 142.14 51.72 142.82 51.31 143.5 51.03 144.18 50.85 144.86 50.74 145.53 50.67 146.21 50.63 146.89 50.62 147.57 50.6 148.25 50.59 148.93 50.59\"/>\n",
       "      </g>\n",
       "      <g stroke-width=\"0.26\" fill=\"#000000\" fill-opacity=\"0.000\" class=\"geometry\" stroke-dasharray=\"none\" stroke=\"#E36F47\" id=\"img-2639c683-15\">\n",
       "        <path fill=\"none\" d=\"M80.96,96.3 L 80.96 4.89\"/>\n",
       "      </g>\n",
       "    </g>\n",
       "    <g class=\"geometry\" id=\"img-2639c683-16\">\n",
       "      <text x=\"125.14\" y=\"9.46\">5 Cell CPML</text>\n",
       "    </g>\n",
       "    <g class=\"geometry\" id=\"img-2639c683-17\">\n",
       "      <text x=\"12.99\" y=\"9.46\">5 Cell CPML</text>\n",
       "    </g>\n",
       "    <g class=\"geometry\" id=\"img-2639c683-18\">\n",
       "      <text x=\"80.96\" y=\"9.46\">Eps = 9</text>\n",
       "    </g>\n",
       "    <g class=\"geometry\" id=\"img-2639c683-19\">\n",
       "      <text x=\"67.37\" y=\"14.03\">Eps = 1</text>\n",
       "    </g>\n",
       "  </g>\n",
       "</g>\n",
       "  <g class=\"guide ylabels\" font-size=\"2.82\" font-family=\"Helvetica\" fill=\"#000000\" id=\"img-2639c683-20\">\n",
       "    <text x=\"9.99\" y=\"98.19\" text-anchor=\"end\" dy=\"0.35em\">-0.006</text>\n",
       "    <text x=\"9.99\" y=\"82.32\" text-anchor=\"end\" dy=\"0.35em\">-0.004</text>\n",
       "    <text x=\"9.99\" y=\"66.46\" text-anchor=\"end\" dy=\"0.35em\">-0.002</text>\n",
       "    <text x=\"9.99\" y=\"50.59\" text-anchor=\"end\" dy=\"0.35em\">0.000</text>\n",
       "    <text x=\"9.99\" y=\"34.73\" text-anchor=\"end\" dy=\"0.35em\">0.002</text>\n",
       "    <text x=\"9.99\" y=\"18.86\" text-anchor=\"end\" dy=\"0.35em\">0.004</text>\n",
       "    <text x=\"9.99\" y=\"3\" text-anchor=\"end\" dy=\"0.35em\">0.006</text>\n",
       "  </g>\n",
       "</g>\n",
       "<defs>\n",
       "  <clipPath id=\"img-2639c683-8\">\n",
       "  <path d=\"M10.99,1 L 150.93 1 150.93 100.19 10.99 100.19\" />\n",
       "</clipPath>\n",
       "</defs>\n",
       "</svg>\n"
      ],
      "text/plain": [
       "Compose.SVG(158.73015873015876mm,105.82010582010584mm,IOBuffer(data=UInt8[...], readable=true, writable=true, seekable=true, append=false, size=6972, maxsize=Inf, ptr=6973, mark=-1),nothing,\"img-2639c683\",0,Compose.SVGPropertyFrame[],Dict{Type{T},Union{Compose.Property{P<:Compose.PropertyPrimitive},Void}}(Compose.Property{Compose.FillPrimitive}=>nothing),Dict{Compose.ClipPrimitive{P<:NTuple{N,Measures.Measure}},ASCIIString}(Compose.ClipPrimitive{Tuple{Measures.Length{:mm,Float64},Measures.Length{:mm,Float64}}}([(10.99333333333334mm,1.0mm),(150.9334920634921mm,1.0mm),(150.9334920634921mm,100.18677248677251mm),(10.99333333333334mm,100.18677248677251mm)])=>\"img-2639c683-8\"),Tuple{Compose.FormPrimitive,ASCIIString}[],Set{AbstractString}(),true,false,nothing,true,\"img-2639c683-20\",false,20,AbstractString[\"/home/kryosugarra/.julia/v0.4/Gadfly/src/gadfly.js\"],Tuple{AbstractString,AbstractString}[(\"Snap.svg\",\"Snap\"),(\"Gadfly\",\"Gadfly\")],AbstractString[\"fig.select(\\\"#img-2639c683-4\\\")\\n   .drag(function() {}, function() {}, function() {});\",\"fig.select(\\\"#img-2639c683-9\\\")\\n   .init_gadfly();\"],false,:none)"
      ]
     },
     "metadata": {},
     "output_type": "display_data"
    },
    {
     "data": {
      "text/html": []
     },
     "execution_count": 51,
     "metadata": {},
     "output_type": "execute_result"
    }
   ],
   "source": [
    "plot(1:size, fieldsnap)\n",
    "plot!([100, 100], [-maximum(abs(fieldsnap)), maximum(abs(fieldsnap))])\n",
    "plot!(ann=[(80, 0.8*maximum(abs(fieldsnap)), \"Eps = 1\")])\n",
    "plot!(ann=[(100, 0.9*maximum(abs(fieldsnap)), \"Eps = 9\")])\n",
    "plot!(ann=[(0, 0.9*maximum(abs(fieldsnap)), \"5 Cell CPML\")])\n",
    "plot!(ann=[(165, 0.9*maximum(abs(fieldsnap)), \"5 Cell CPML\")])"
   ]
  },
  {
   "cell_type": "code",
   "execution_count": 52,
   "metadata": {
    "collapsed": false
   },
   "outputs": [
    {
     "name": "stdout",
     "output_type": "stream",
     "text": [
      "0.00027295405799045684"
     ]
    }
   ],
   "source": [
    "print(fieldsum)"
   ]
  },
  {
   "cell_type": "markdown",
   "metadata": {},
   "source": [
    "# 4. Dielectric eps=9 with 20 Cell CPML\n",
    "### Setup Grid"
   ]
  },
  {
   "cell_type": "code",
   "execution_count": 53,
   "metadata": {
    "collapsed": true
   },
   "outputs": [],
   "source": [
    "#Global parameters\n",
    "size = 200;\n",
    "endTime = 800;\n",
    "num_snaps = 200;\n",
    "snap_step = div(endTime, num_snaps);\n",
    "\n",
    "eps1 = 9;\n",
    "eps0 = 1;\n",
    "\n",
    "#Grid\n",
    "\n",
    "# Magnetic\n",
    "hy = zeros(size);\n",
    "mu = ones(size);\n",
    "\n",
    "chyh = ones(size);\n",
    "chye = ones(size);\n",
    "\n",
    "# Electric\n",
    "ez = zeros(size);\n",
    "eps = ones(size);\n",
    "\n",
    "cezh = ones(size);\n",
    "ceze = ones(size);\n",
    "\n",
    "\n",
    "for i in 1:99\n",
    "    eps[i] = eps0;\n",
    "end\n",
    "for i in 100:size\n",
    "    eps[i] = eps1;\n",
    "end\n",
    "\n",
    "# output params\n",
    "ez_snapshot = Array{Any}(num_snaps);\n",
    "hy_snapshot = Array{Any}(num_snaps);\n",
    "\n",
    "# \n",
    "fieldsum = 1;\n",
    "sumtime = 650;\n",
    "fieldsnap = zeros(size);\n"
   ]
  },
  {
   "cell_type": "markdown",
   "metadata": {},
   "source": [
    "### Setup CPML"
   ]
  },
  {
   "cell_type": "code",
   "execution_count": 54,
   "metadata": {
    "collapsed": false
   },
   "outputs": [],
   "source": [
    "#\n",
    "# setup CPML\n",
    "#\n",
    "\n",
    "# constants\n",
    "dx = 1.0;\n",
    "R0 = 1e-5;\n",
    "m = 2.85;\n",
    "pml_width = 20.0;\n",
    "\n",
    "# coeffs\n",
    "sigma_max = -(m+1)*log(R0)/2/globals.imp0/(pml_width*dx)\n",
    "sigma_x = zeros(size);\n",
    "sigma_m_x = zeros(size);\n",
    "\n",
    "for i in 1:round(Int,pml_width)\n",
    "    sigma_x[i+1] = sigma_max * real(Complex(((pml_width-(i-1)-0.5)/pml_width))^m)\n",
    "    sigma_m_x[i] = sigma_max * real(Complex(((pml_width-(i-1))/pml_width))^m)\n",
    "    \n",
    "    sigma_x[size-(i-1)] = sigma_max * real(Complex(((pml_width-(i)-0.5)/pml_width))^m)  \n",
    "    sigma_m_x[size-(i-1)] = sigma_max * real(Complex(((pml_width-(i))/pml_width))^m)\n",
    "end\n",
    "\n",
    "aex = exp(-sigma_x .* globals.imp0)-1\n",
    "bex = exp(-sigma_x .* globals.imp0)\n",
    "\n",
    "ahx = exp(-sigma_m_x .* globals.imp0)-1\n",
    "bhx = exp(-sigma_m_x .* globals.imp0)\n",
    "\n",
    "# arrays\n",
    "p_hy = zeros(size);\n",
    "p_ez = zeros(size);"
   ]
  },
  {
   "cell_type": "markdown",
   "metadata": {},
   "source": [
    "### Run Simulation"
   ]
  },
  {
   "cell_type": "code",
   "execution_count": 55,
   "metadata": {
    "collapsed": false
   },
   "outputs": [
    {
     "name": "stdout",
     "output_type": "stream",
     "text": [
      "3.1173442697269598e-9"
     ]
    }
   ],
   "source": [
    "for time in 1:endTime\n",
    "    # Incident\n",
    "    # ez_inc, hy_inc = sources.gaussian_source(50, time);\n",
    "    delay = 150.\n",
    "    width = 200.\n",
    "    \n",
    "    ez_inc = exp(-(time + 0.5 - (-0.5) - delay) * (time + 0.5 - (-0.5) - delay) / width);\n",
    "    hy_inc = exp(-(time - delay) * (time - delay) / width);\n",
    "\n",
    "\n",
    "    #\n",
    "    # Magnetic\n",
    "    #\n",
    "\n",
    "    # CPML\n",
    "    for i in 1:size-1\n",
    "        p_hy[i] = bhx[i]*p_hy[i] + ahx[i]*(ez[i+1] - ez[i])\n",
    "    end\n",
    "           \n",
    "    # Interior update\n",
    "    for i = 1:size-1\n",
    "        hy[i] = chyh[i] * hy[i] + chye[i] * (ez[i+1] - ez[i]) / globals.imp0 / mu[i]\n",
    "    end\n",
    "       \n",
    "    # CPML\n",
    "    for i in 1:size-1\n",
    "        hy[i] += p_hy[i]/globals.imp0/mu[i]\n",
    "    end\n",
    "\n",
    "    # TFSF\n",
    "    hy[49] -= hy_inc / globals.imp0 / mu[49]\n",
    "    \n",
    "    #\n",
    "    # Electric\n",
    "    #\n",
    "    \n",
    "    # CPML\n",
    "    for i in 2:size\n",
    "        p_ez[i] = bex[i]*p_ez[i] + aex[i]*(hy[i] - hy[i-1])\n",
    "    end\n",
    "\n",
    "    # Interior update\n",
    "    for i = 2:size\n",
    "        ez[i] = ceze[i] * ez[i] + cezh[i] * (hy[i] - hy[i-1]) * globals.imp0 / eps[i]\n",
    "    end  \n",
    " \n",
    "    # CPML\n",
    "    for i in 2:size\n",
    "        ez[i] += p_ez[i]*globals.imp0/eps[i]\n",
    "    end\n",
    "    # TFSF\n",
    "    ez[50] += ez_inc / eps[50]\n",
    "\n",
    "\n",
    "    #Catch minimum E-Field\n",
    "    if time == sumtime\n",
    "            fieldsum = sum(ez.^2)\n",
    "            fieldsnap = copy(ez)\n",
    "    end\n",
    "    \n",
    "    #Snapshots for animation\n",
    "    if mod(time, snap_step) == 0\n",
    "        ez_snapshot[div(time,snap_step)] = (time, copy(ez))\n",
    "        hy_snapshot[div(time,snap_step)] = (time, copy(hy).*globals.imp0)        \n",
    "    end\n",
    "    \n",
    "end\n",
    "print(fieldsum)"
   ]
  },
  {
   "cell_type": "markdown",
   "metadata": {},
   "source": [
    "### Plot animation"
   ]
  },
  {
   "cell_type": "code",
   "execution_count": 56,
   "metadata": {
    "collapsed": false
   },
   "outputs": [
    {
     "name": "stderr",
     "output_type": "stream",
     "text": [
      "INFO: Saved animation to /media/storage/Documents/Github/1d-fdtd/tasks/Task1/ABC-20-CPML.gif\n"
     ]
    },
    {
     "data": {
      "text/html": [
       "<img src=\"Task1/ABC-20-CPML.gif?0.036180266375622994>\" />"
      ],
      "text/plain": [
       "Plots.AnimatedGif(\"/media/storage/Documents/Github/1d-fdtd/tasks/Task1/ABC-20-CPML.gif\")"
      ]
     },
     "execution_count": 56,
     "metadata": {},
     "output_type": "execute_result"
    }
   ],
   "source": [
    "anim = Animation()\n",
    "\n",
    "for i = 1:num_snaps\n",
    "    p = plot(1:size, ez_snapshot[i][2], lab=\"Ez\")\n",
    "    plot!(1:size, hy_snapshot[i][2], lab=\"Hy*imp0\")\n",
    "    \n",
    "    time = ez_snapshot[i][1]\n",
    "    plot!(ann=[(150, 1.5, \"time =$time\")])\n",
    "    plot!(ann=[(0, 1.1, \"CPML\")])\n",
    "    \n",
    "    plot!(ann=[(80, 1.2, \"Eps = 1\")])\n",
    "    plot!(ann=[(101, 1.1, \"Eps = 9\")])    \n",
    "    plot!([100, 100], [-2, 2])\n",
    "    \n",
    "    plot!(ann=[(180, 1.1, \"CPML\")])\n",
    "    \n",
    "    plot!(xlims=(1, 200), ylims=(-2, 2))\n",
    "    frame(anim, p)\n",
    "end\n",
    "gif(anim, \"./Task1/ABC-20-CPML.gif\", fps=15)"
   ]
  },
  {
   "cell_type": "markdown",
   "metadata": {},
   "source": [
    "### Field after reflection"
   ]
  },
  {
   "cell_type": "code",
   "execution_count": 57,
   "metadata": {
    "collapsed": false
   },
   "outputs": [
    {
     "data": {
      "image/svg+xml": [
       "<?xml version=\"1.0\" encoding=\"UTF-8\"?>\n",
       "<svg xmlns=\"http://www.w3.org/2000/svg\"\n",
       "     xmlns:xlink=\"http://www.w3.org/1999/xlink\"\n",
       "     xmlns:gadfly=\"http://www.gadflyjl.org/ns\"\n",
       "     version=\"1.2\"\n",
       "     width=\"158.73mm\" height=\"105.82mm\" viewBox=\"0 0 158.73 105.82\"\n",
       "     stroke=\"none\"\n",
       "     fill=\"#000000\"\n",
       "     stroke-width=\"0.3\"\n",
       "     font-size=\"3.88\"\n",
       ">\n",
       "<g stroke=\"#000000\" stroke-opacity=\"0.000\" fill=\"#FFFFFF\" id=\"img-3e303e6f-1\">\n",
       "  <rect x=\"0\" y=\"0\" width=\"158.73\" height=\"105.82\"/>\n",
       "</g>\n",
       "<g class=\"plotroot xscalable yscalable\" id=\"img-3e303e6f-2\">\n",
       "  <g class=\"guide xlabels\" font-size=\"2.82\" font-family=\"Helvetica\" fill=\"#000000\" id=\"img-3e303e6f-3\">\n",
       "    <text x=\"16.13\" y=\"101.19\" text-anchor=\"middle\" dy=\"0.6em\">0</text>\n",
       "    <text x=\"49.33\" y=\"101.19\" text-anchor=\"middle\" dy=\"0.6em\">50</text>\n",
       "    <text x=\"82.53\" y=\"101.19\" text-anchor=\"middle\" dy=\"0.6em\">100</text>\n",
       "    <text x=\"115.73\" y=\"101.19\" text-anchor=\"middle\" dy=\"0.6em\">150</text>\n",
       "    <text x=\"148.93\" y=\"101.19\" text-anchor=\"middle\" dy=\"0.6em\">200</text>\n",
       "  </g>\n",
       "  <g class=\"guide colorkey\" id=\"img-3e303e6f-4\">\n",
       "    <g fill=\"#000000\" font-size=\"2.82\" font-family=\"Helvetica\" id=\"img-3e303e6f-5\">\n",
       "      <text x=\"154.75\" y=\"50.59\" dy=\"0.35em\">y1</text>\n",
       "      <text x=\"154.75\" y=\"54.23\" dy=\"0.35em\">y2</text>\n",
       "    </g>\n",
       "    <g stroke=\"#000000\" stroke-opacity=\"0.000\" id=\"img-3e303e6f-6\">\n",
       "      <rect x=\"151.93\" y=\"49.69\" width=\"1.82\" height=\"1.82\" fill=\"#009AFA\"/>\n",
       "      <rect x=\"151.93\" y=\"53.32\" width=\"1.82\" height=\"1.82\" fill=\"#E36F47\"/>\n",
       "    </g>\n",
       "    <g fill=\"#000000\" font-size=\"3.88\" font-family=\"Helvetica\" stroke=\"#000000\" stroke-opacity=\"0.000\" id=\"img-3e303e6f-7\">\n",
       "      <text x=\"151.93\" y=\"46.77\"></text>\n",
       "    </g>\n",
       "  </g>\n",
       "<g clip-path=\"url(#img-3e303e6f-8)\">\n",
       "  <g id=\"img-3e303e6f-9\">\n",
       "    <g pointer-events=\"visible\" opacity=\"1\" fill=\"#000000\" fill-opacity=\"0.000\" stroke=\"#000000\" stroke-opacity=\"0.000\" class=\"guide background\" id=\"img-3e303e6f-10\">\n",
       "      <rect x=\"14.13\" y=\"1\" width=\"136.81\" height=\"99.19\"/>\n",
       "    </g>\n",
       "    <g class=\"guide ygridlines xfixed\" stroke-dasharray=\"0.5,0.5\" stroke-width=\"0.2\" stroke=\"#D0D0E0\" id=\"img-3e303e6f-11\">\n",
       "      <path fill=\"none\" d=\"M14.13,98.19 L 150.93 98.19\"/>\n",
       "      <path fill=\"none\" d=\"M14.13,82.32 L 150.93 82.32\"/>\n",
       "      <path fill=\"none\" d=\"M14.13,66.46 L 150.93 66.46\"/>\n",
       "      <path fill=\"none\" d=\"M14.13,50.59 L 150.93 50.59\"/>\n",
       "      <path fill=\"none\" d=\"M14.13,34.73 L 150.93 34.73\"/>\n",
       "      <path fill=\"none\" d=\"M14.13,18.86 L 150.93 18.86\"/>\n",
       "      <path fill=\"none\" d=\"M14.13,3 L 150.93 3\"/>\n",
       "    </g>\n",
       "    <g class=\"guide xgridlines yfixed\" stroke-dasharray=\"0.5,0.5\" stroke-width=\"0.2\" stroke=\"#D0D0E0\" id=\"img-3e303e6f-12\">\n",
       "      <path fill=\"none\" d=\"M16.13,1 L 16.13 100.19\"/>\n",
       "      <path fill=\"none\" d=\"M49.33,1 L 49.33 100.19\"/>\n",
       "      <path fill=\"none\" d=\"M82.53,1 L 82.53 100.19\"/>\n",
       "      <path fill=\"none\" d=\"M115.73,1 L 115.73 100.19\"/>\n",
       "      <path fill=\"none\" d=\"M148.93,1 L 148.93 100.19\"/>\n",
       "    </g>\n",
       "    <g class=\"plotpanel\" id=\"img-3e303e6f-13\">\n",
       "      <g stroke-width=\"0.26\" fill=\"#000000\" fill-opacity=\"0.000\" class=\"geometry\" stroke-dasharray=\"none\" stroke=\"#009AFA\" id=\"img-3e303e6f-14\">\n",
       "        <path fill=\"none\" d=\"M16.79,50.59 L 17.45 50.59 18.12 50.59 18.78 50.59 19.45 50.59 20.11 50.59 20.77 50.59 21.44 50.59 22.1 50.59 22.77 50.59 23.43 50.59 24.1 50.59 24.76 50.59 25.42 50.59 26.09 50.59 26.75 50.59 27.42 50.59 28.08 50.59 28.74 50.59 29.41 50.59 30.07 50.59 30.74 50.59 31.4 50.59 32.06 50.59 32.73 50.59 33.39 50.59 34.06 50.59 34.72 50.59 35.38 50.59 36.05 50.59 36.71 50.59 37.38 50.59 38.04 50.59 38.7 50.59 39.37 50.59 40.03 50.59 40.7 50.59 41.36 50.59 42.02 50.59 42.69 50.59 43.35 50.59 44.02 50.59 44.68 50.59 45.34 50.59 46.01 50.59 46.67 50.59 47.34 50.59 48 50.59 48.66 50.59 49.33 50.59 49.99 50.59 50.66 50.59 51.32 50.59 51.98 50.59 52.65 50.59 53.31 50.59 53.98 50.59 54.64 50.59 55.3 50.59 55.97 50.59 56.63 50.59 57.3 50.59 57.96 50.59 58.62 50.59 59.29 50.59 59.95 50.59 60.62 50.59 61.28 50.59 61.95 50.59 62.61 50.59 63.27 50.59 63.94 50.59 64.6 50.59 65.27 50.59 65.93 50.59 66.59 50.59 67.26 50.59 67.92 50.59 68.59 50.59 69.25 50.59 69.91 50.59 70.58 50.59 71.24 50.58 71.91 50.58 72.57 50.58 73.23 50.57 73.9 50.56 74.56 50.56 75.23 50.55 75.89 50.53 76.55 50.52 77.22 50.5 77.88 50.48 78.55 50.45 79.21 50.41 79.87 50.37 80.54 50.32 81.2 50.25 81.87 50.17 82.53 50.08 83.19 49.82 83.86 49.33 84.52 48.54 85.19 47.31 85.85 45.52 86.51 43.02 87.18 39.74 87.84 35.66 88.51 30.94 89.17 25.93 89.83 21.21 90.5 17.51 91.16 15.63 91.83 16.23 92.49 19.57 93.15 25.39 93.82 32.83 94.48 40.58 95.15 47.23 95.81 51.73 96.47 53.68 97.14 53.49 97.8 52.12 98.47 50.66 99.13 49.83 99.79 49.82 100.46 50.28 101.12 50.73 101.79 50.89 102.45 50.76 103.12 50.56 103.78 50.47 104.44 50.53 105.11 50.62 105.77 50.65 106.44 50.61 107.1 50.57 107.76 50.57 108.43 50.59 109.09 50.61 109.76 50.6 110.42 50.59 111.08 50.59 111.75 50.6 112.41 50.6 113.08 50.59 113.74 50.59 114.4 50.59 115.07 50.59 115.73 50.59 116.4 50.59 117.06 50.59 117.72 50.59 118.39 50.59 119.05 50.59 119.72 50.59 120.38 50.59 121.04 50.59 121.71 50.59 122.37 50.59 123.04 50.59 123.7 50.59 124.36 50.59 125.03 50.59 125.69 50.59 126.36 50.59 127.02 50.6 127.68 50.59 128.35 50.59 129.01 50.6 129.68 50.59 130.34 50.59 131 50.6 131.67 50.59 132.33 50.6 133 50.6 133.66 50.58 134.32 50.6 134.99 50.59 135.65 50.57 136.32 50.6 136.98 50.59 137.64 50.55 138.31 50.6 138.97 50.61 139.64 50.54 140.3 50.61 140.97 50.61 141.63 50.53 142.29 50.6 142.96 50.63 143.62 50.62 144.29 50.63 144.95 50.62 145.61 50.6 146.28 50.6 146.94 50.59 147.61 50.59 148.27 50.59 148.93 50.59\"/>\n",
       "      </g>\n",
       "      <g stroke-width=\"0.26\" fill=\"#000000\" fill-opacity=\"0.000\" class=\"geometry\" stroke-dasharray=\"none\" stroke=\"#E36F47\" id=\"img-3e303e6f-15\">\n",
       "        <path fill=\"none\" d=\"M82.53,85.55 L 82.53 15.63\"/>\n",
       "      </g>\n",
       "    </g>\n",
       "    <g class=\"geometry\" id=\"img-3e303e6f-16\">\n",
       "      <text x=\"125.69\" y=\"19.13\">20 Cell CPML</text>\n",
       "    </g>\n",
       "    <g class=\"geometry\" id=\"img-3e303e6f-17\">\n",
       "      <text x=\"16.13\" y=\"19.13\">20 Cell CPML</text>\n",
       "    </g>\n",
       "    <g class=\"geometry\" id=\"img-3e303e6f-18\">\n",
       "      <text x=\"82.53\" y=\"19.13\">Eps = 9</text>\n",
       "    </g>\n",
       "    <g class=\"geometry\" id=\"img-3e303e6f-19\">\n",
       "      <text x=\"69.25\" y=\"22.62\">Eps = 1</text>\n",
       "    </g>\n",
       "  </g>\n",
       "</g>\n",
       "  <g class=\"guide ylabels\" font-size=\"2.82\" font-family=\"Helvetica\" fill=\"#000000\" id=\"img-3e303e6f-20\">\n",
       "    <text x=\"13.13\" y=\"98.19\" text-anchor=\"end\" dy=\"0.35em\">-0.00003</text>\n",
       "    <text x=\"13.13\" y=\"82.32\" text-anchor=\"end\" dy=\"0.35em\">-0.00002</text>\n",
       "    <text x=\"13.13\" y=\"66.46\" text-anchor=\"end\" dy=\"0.35em\">-0.00001</text>\n",
       "    <text x=\"13.13\" y=\"50.59\" text-anchor=\"end\" dy=\"0.35em\">0.00000</text>\n",
       "    <text x=\"13.13\" y=\"34.73\" text-anchor=\"end\" dy=\"0.35em\">0.00001</text>\n",
       "    <text x=\"13.13\" y=\"18.86\" text-anchor=\"end\" dy=\"0.35em\">0.00002</text>\n",
       "    <text x=\"13.13\" y=\"3\" text-anchor=\"end\" dy=\"0.35em\">0.00003</text>\n",
       "  </g>\n",
       "</g>\n",
       "<defs>\n",
       "  <clipPath id=\"img-3e303e6f-8\">\n",
       "  <path d=\"M14.13,1 L 150.93 1 150.93 100.19 14.13 100.19\" />\n",
       "</clipPath>\n",
       "</defs>\n",
       "</svg>\n"
      ],
      "text/html": [
       "<?xml version=\"1.0\" encoding=\"UTF-8\"?>\n",
       "<svg xmlns=\"http://www.w3.org/2000/svg\"\n",
       "     xmlns:xlink=\"http://www.w3.org/1999/xlink\"\n",
       "     xmlns:gadfly=\"http://www.gadflyjl.org/ns\"\n",
       "     version=\"1.2\"\n",
       "     width=\"158.73mm\" height=\"105.82mm\" viewBox=\"0 0 158.73 105.82\"\n",
       "     stroke=\"none\"\n",
       "     fill=\"#000000\"\n",
       "     stroke-width=\"0.3\"\n",
       "     font-size=\"3.88\"\n",
       ">\n",
       "<g stroke=\"#000000\" stroke-opacity=\"0.000\" fill=\"#FFFFFF\" id=\"img-3e303e6f-1\">\n",
       "  <rect x=\"0\" y=\"0\" width=\"158.73\" height=\"105.82\"/>\n",
       "</g>\n",
       "<g class=\"plotroot xscalable yscalable\" id=\"img-3e303e6f-2\">\n",
       "  <g class=\"guide xlabels\" font-size=\"2.82\" font-family=\"Helvetica\" fill=\"#000000\" id=\"img-3e303e6f-3\">\n",
       "    <text x=\"16.13\" y=\"101.19\" text-anchor=\"middle\" dy=\"0.6em\">0</text>\n",
       "    <text x=\"49.33\" y=\"101.19\" text-anchor=\"middle\" dy=\"0.6em\">50</text>\n",
       "    <text x=\"82.53\" y=\"101.19\" text-anchor=\"middle\" dy=\"0.6em\">100</text>\n",
       "    <text x=\"115.73\" y=\"101.19\" text-anchor=\"middle\" dy=\"0.6em\">150</text>\n",
       "    <text x=\"148.93\" y=\"101.19\" text-anchor=\"middle\" dy=\"0.6em\">200</text>\n",
       "  </g>\n",
       "  <g class=\"guide colorkey\" id=\"img-3e303e6f-4\">\n",
       "    <g fill=\"#000000\" font-size=\"2.82\" font-family=\"Helvetica\" id=\"img-3e303e6f-5\">\n",
       "      <text x=\"154.75\" y=\"50.59\" dy=\"0.35em\">y1</text>\n",
       "      <text x=\"154.75\" y=\"54.23\" dy=\"0.35em\">y2</text>\n",
       "    </g>\n",
       "    <g stroke=\"#000000\" stroke-opacity=\"0.000\" id=\"img-3e303e6f-6\">\n",
       "      <rect x=\"151.93\" y=\"49.69\" width=\"1.82\" height=\"1.82\" fill=\"#009AFA\"/>\n",
       "      <rect x=\"151.93\" y=\"53.32\" width=\"1.82\" height=\"1.82\" fill=\"#E36F47\"/>\n",
       "    </g>\n",
       "    <g fill=\"#000000\" font-size=\"3.88\" font-family=\"Helvetica\" stroke=\"#000000\" stroke-opacity=\"0.000\" id=\"img-3e303e6f-7\">\n",
       "      <text x=\"151.93\" y=\"46.77\"></text>\n",
       "    </g>\n",
       "  </g>\n",
       "<g clip-path=\"url(#img-3e303e6f-8)\">\n",
       "  <g id=\"img-3e303e6f-9\">\n",
       "    <g pointer-events=\"visible\" opacity=\"1\" fill=\"#000000\" fill-opacity=\"0.000\" stroke=\"#000000\" stroke-opacity=\"0.000\" class=\"guide background\" id=\"img-3e303e6f-10\">\n",
       "      <rect x=\"14.13\" y=\"1\" width=\"136.81\" height=\"99.19\"/>\n",
       "    </g>\n",
       "    <g class=\"guide ygridlines xfixed\" stroke-dasharray=\"0.5,0.5\" stroke-width=\"0.2\" stroke=\"#D0D0E0\" id=\"img-3e303e6f-11\">\n",
       "      <path fill=\"none\" d=\"M14.13,98.19 L 150.93 98.19\"/>\n",
       "      <path fill=\"none\" d=\"M14.13,82.32 L 150.93 82.32\"/>\n",
       "      <path fill=\"none\" d=\"M14.13,66.46 L 150.93 66.46\"/>\n",
       "      <path fill=\"none\" d=\"M14.13,50.59 L 150.93 50.59\"/>\n",
       "      <path fill=\"none\" d=\"M14.13,34.73 L 150.93 34.73\"/>\n",
       "      <path fill=\"none\" d=\"M14.13,18.86 L 150.93 18.86\"/>\n",
       "      <path fill=\"none\" d=\"M14.13,3 L 150.93 3\"/>\n",
       "    </g>\n",
       "    <g class=\"guide xgridlines yfixed\" stroke-dasharray=\"0.5,0.5\" stroke-width=\"0.2\" stroke=\"#D0D0E0\" id=\"img-3e303e6f-12\">\n",
       "      <path fill=\"none\" d=\"M16.13,1 L 16.13 100.19\"/>\n",
       "      <path fill=\"none\" d=\"M49.33,1 L 49.33 100.19\"/>\n",
       "      <path fill=\"none\" d=\"M82.53,1 L 82.53 100.19\"/>\n",
       "      <path fill=\"none\" d=\"M115.73,1 L 115.73 100.19\"/>\n",
       "      <path fill=\"none\" d=\"M148.93,1 L 148.93 100.19\"/>\n",
       "    </g>\n",
       "    <g class=\"plotpanel\" id=\"img-3e303e6f-13\">\n",
       "      <g stroke-width=\"0.26\" fill=\"#000000\" fill-opacity=\"0.000\" class=\"geometry\" stroke-dasharray=\"none\" stroke=\"#009AFA\" id=\"img-3e303e6f-14\">\n",
       "        <path fill=\"none\" d=\"M16.79,50.59 L 17.45 50.59 18.12 50.59 18.78 50.59 19.45 50.59 20.11 50.59 20.77 50.59 21.44 50.59 22.1 50.59 22.77 50.59 23.43 50.59 24.1 50.59 24.76 50.59 25.42 50.59 26.09 50.59 26.75 50.59 27.42 50.59 28.08 50.59 28.74 50.59 29.41 50.59 30.07 50.59 30.74 50.59 31.4 50.59 32.06 50.59 32.73 50.59 33.39 50.59 34.06 50.59 34.72 50.59 35.38 50.59 36.05 50.59 36.71 50.59 37.38 50.59 38.04 50.59 38.7 50.59 39.37 50.59 40.03 50.59 40.7 50.59 41.36 50.59 42.02 50.59 42.69 50.59 43.35 50.59 44.02 50.59 44.68 50.59 45.34 50.59 46.01 50.59 46.67 50.59 47.34 50.59 48 50.59 48.66 50.59 49.33 50.59 49.99 50.59 50.66 50.59 51.32 50.59 51.98 50.59 52.65 50.59 53.31 50.59 53.98 50.59 54.64 50.59 55.3 50.59 55.97 50.59 56.63 50.59 57.3 50.59 57.96 50.59 58.62 50.59 59.29 50.59 59.95 50.59 60.62 50.59 61.28 50.59 61.95 50.59 62.61 50.59 63.27 50.59 63.94 50.59 64.6 50.59 65.27 50.59 65.93 50.59 66.59 50.59 67.26 50.59 67.92 50.59 68.59 50.59 69.25 50.59 69.91 50.59 70.58 50.59 71.24 50.58 71.91 50.58 72.57 50.58 73.23 50.57 73.9 50.56 74.56 50.56 75.23 50.55 75.89 50.53 76.55 50.52 77.22 50.5 77.88 50.48 78.55 50.45 79.21 50.41 79.87 50.37 80.54 50.32 81.2 50.25 81.87 50.17 82.53 50.08 83.19 49.82 83.86 49.33 84.52 48.54 85.19 47.31 85.85 45.52 86.51 43.02 87.18 39.74 87.84 35.66 88.51 30.94 89.17 25.93 89.83 21.21 90.5 17.51 91.16 15.63 91.83 16.23 92.49 19.57 93.15 25.39 93.82 32.83 94.48 40.58 95.15 47.23 95.81 51.73 96.47 53.68 97.14 53.49 97.8 52.12 98.47 50.66 99.13 49.83 99.79 49.82 100.46 50.28 101.12 50.73 101.79 50.89 102.45 50.76 103.12 50.56 103.78 50.47 104.44 50.53 105.11 50.62 105.77 50.65 106.44 50.61 107.1 50.57 107.76 50.57 108.43 50.59 109.09 50.61 109.76 50.6 110.42 50.59 111.08 50.59 111.75 50.6 112.41 50.6 113.08 50.59 113.74 50.59 114.4 50.59 115.07 50.59 115.73 50.59 116.4 50.59 117.06 50.59 117.72 50.59 118.39 50.59 119.05 50.59 119.72 50.59 120.38 50.59 121.04 50.59 121.71 50.59 122.37 50.59 123.04 50.59 123.7 50.59 124.36 50.59 125.03 50.59 125.69 50.59 126.36 50.59 127.02 50.6 127.68 50.59 128.35 50.59 129.01 50.6 129.68 50.59 130.34 50.59 131 50.6 131.67 50.59 132.33 50.6 133 50.6 133.66 50.58 134.32 50.6 134.99 50.59 135.65 50.57 136.32 50.6 136.98 50.59 137.64 50.55 138.31 50.6 138.97 50.61 139.64 50.54 140.3 50.61 140.97 50.61 141.63 50.53 142.29 50.6 142.96 50.63 143.62 50.62 144.29 50.63 144.95 50.62 145.61 50.6 146.28 50.6 146.94 50.59 147.61 50.59 148.27 50.59 148.93 50.59\"/>\n",
       "      </g>\n",
       "      <g stroke-width=\"0.26\" fill=\"#000000\" fill-opacity=\"0.000\" class=\"geometry\" stroke-dasharray=\"none\" stroke=\"#E36F47\" id=\"img-3e303e6f-15\">\n",
       "        <path fill=\"none\" d=\"M82.53,85.55 L 82.53 15.63\"/>\n",
       "      </g>\n",
       "    </g>\n",
       "    <g class=\"geometry\" id=\"img-3e303e6f-16\">\n",
       "      <text x=\"125.69\" y=\"19.13\">20 Cell CPML</text>\n",
       "    </g>\n",
       "    <g class=\"geometry\" id=\"img-3e303e6f-17\">\n",
       "      <text x=\"16.13\" y=\"19.13\">20 Cell CPML</text>\n",
       "    </g>\n",
       "    <g class=\"geometry\" id=\"img-3e303e6f-18\">\n",
       "      <text x=\"82.53\" y=\"19.13\">Eps = 9</text>\n",
       "    </g>\n",
       "    <g class=\"geometry\" id=\"img-3e303e6f-19\">\n",
       "      <text x=\"69.25\" y=\"22.62\">Eps = 1</text>\n",
       "    </g>\n",
       "  </g>\n",
       "</g>\n",
       "  <g class=\"guide ylabels\" font-size=\"2.82\" font-family=\"Helvetica\" fill=\"#000000\" id=\"img-3e303e6f-20\">\n",
       "    <text x=\"13.13\" y=\"98.19\" text-anchor=\"end\" dy=\"0.35em\">-0.00003</text>\n",
       "    <text x=\"13.13\" y=\"82.32\" text-anchor=\"end\" dy=\"0.35em\">-0.00002</text>\n",
       "    <text x=\"13.13\" y=\"66.46\" text-anchor=\"end\" dy=\"0.35em\">-0.00001</text>\n",
       "    <text x=\"13.13\" y=\"50.59\" text-anchor=\"end\" dy=\"0.35em\">0.00000</text>\n",
       "    <text x=\"13.13\" y=\"34.73\" text-anchor=\"end\" dy=\"0.35em\">0.00001</text>\n",
       "    <text x=\"13.13\" y=\"18.86\" text-anchor=\"end\" dy=\"0.35em\">0.00002</text>\n",
       "    <text x=\"13.13\" y=\"3\" text-anchor=\"end\" dy=\"0.35em\">0.00003</text>\n",
       "  </g>\n",
       "</g>\n",
       "<defs>\n",
       "  <clipPath id=\"img-3e303e6f-8\">\n",
       "  <path d=\"M14.13,1 L 150.93 1 150.93 100.19 14.13 100.19\" />\n",
       "</clipPath>\n",
       "</defs>\n",
       "</svg>\n"
      ],
      "text/plain": [
       "Compose.SVG(158.73015873015876mm,105.82010582010584mm,IOBuffer(data=UInt8[...], readable=true, writable=true, seekable=true, append=false, size=7023, maxsize=Inf, ptr=7024, mark=-1),nothing,\"img-3e303e6f\",0,Compose.SVGPropertyFrame[],Dict{Type{T},Union{Compose.Property{P<:Compose.PropertyPrimitive},Void}}(Compose.Property{Compose.FillPrimitive}=>nothing),Dict{Compose.ClipPrimitive{P<:NTuple{N,Measures.Measure}},ASCIIString}(Compose.ClipPrimitive{Tuple{Measures.Length{:mm,Float64},Measures.Length{:mm,Float64}}}([(14.126666666666665mm,1.0mm),(150.9334920634921mm,1.0mm),(150.9334920634921mm,100.18677248677251mm),(14.126666666666665mm,100.18677248677251mm)])=>\"img-3e303e6f-8\"),Tuple{Compose.FormPrimitive,ASCIIString}[],Set{AbstractString}(),true,false,nothing,true,\"img-3e303e6f-20\",false,20,AbstractString[\"/home/kryosugarra/.julia/v0.4/Gadfly/src/gadfly.js\"],Tuple{AbstractString,AbstractString}[(\"Snap.svg\",\"Snap\"),(\"Gadfly\",\"Gadfly\")],AbstractString[\"fig.select(\\\"#img-3e303e6f-4\\\")\\n   .drag(function() {}, function() {}, function() {});\",\"fig.select(\\\"#img-3e303e6f-9\\\")\\n   .init_gadfly();\"],false,:none)"
      ]
     },
     "metadata": {},
     "output_type": "display_data"
    },
    {
     "data": {
      "text/html": []
     },
     "execution_count": 57,
     "metadata": {},
     "output_type": "execute_result"
    }
   ],
   "source": [
    "plot(1:size, fieldsnap)\n",
    "plot!([100, 100], [-maximum(abs(fieldsnap)), maximum(abs(fieldsnap))])\n",
    "plot!(ann=[(80, 0.8*maximum(abs(fieldsnap)), \"Eps = 1\")])\n",
    "plot!(ann=[(100, 0.9*maximum(abs(fieldsnap)), \"Eps = 9\")])\n",
    "plot!(ann=[(0, 0.9*maximum(abs(fieldsnap)), \"20 Cell CPML\")])\n",
    "plot!(ann=[(165, 0.9*maximum(abs(fieldsnap)), \"20 Cell CPML\")])"
   ]
  },
  {
   "cell_type": "code",
   "execution_count": 58,
   "metadata": {
    "collapsed": false
   },
   "outputs": [
    {
     "name": "stdout",
     "output_type": "stream",
     "text": [
      "3.1173442697269598e-9"
     ]
    }
   ],
   "source": [
    "print(fieldsum)"
   ]
  },
  {
   "cell_type": "code",
   "execution_count": null,
   "metadata": {
    "collapsed": true
   },
   "outputs": [],
   "source": []
  }
 ],
 "metadata": {
  "kernelspec": {
   "display_name": "Julia 0.4.5",
   "language": "julia",
   "name": "julia-0.4"
  },
  "language_info": {
   "file_extension": ".jl",
   "mimetype": "application/julia",
   "name": "julia",
   "version": "0.4.5"
  }
 },
 "nbformat": 4,
 "nbformat_minor": 0
}
